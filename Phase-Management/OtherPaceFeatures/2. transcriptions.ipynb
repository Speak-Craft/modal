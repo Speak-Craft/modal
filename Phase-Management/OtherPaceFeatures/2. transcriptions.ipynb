{
 "cells": [
  {
   "cell_type": "code",
   "execution_count": 2,
   "id": "79db255f",
   "metadata": {},
   "outputs": [
    {
     "name": "stderr",
     "output_type": "stream",
     "text": [
      "100%|███████████████████████████████████████| 139M/139M [00:38<00:00, 3.73MiB/s]\n"
     ]
    }
   ],
   "source": [
    "import whisper\n",
    "import os\n",
    "import pandas as pd\n",
    "import librosa\n",
    "\n",
    "model = whisper.load_model(\"base\")\n",
    "transcriptions = []\n",
    "\n",
    "for file in os.listdir(\"../WAVs\"):\n",
    "    if file.endswith(\".wav\"):\n",
    "        # Load audio with librosa (doesn't need ffmpeg)\n",
    "        audio_path = os.path.join(\"../WAVs\", file)\n",
    "        y, sr = librosa.load(audio_path, sr=16000)\n",
    "        \n",
    "        # Pass audio array to Whisper instead of file path\n",
    "        result = model.transcribe(y)\n",
    "        transcriptions.append({\"filename\": file, \"transcription\": result[\"text\"]})\n",
    "\n",
    "pd.DataFrame(transcriptions).to_csv(\"data.csv\", index=False)"
   ]
  },
  {
   "cell_type": "code",
   "execution_count": 2,
   "id": "be37bfd5",
   "metadata": {},
   "outputs": [
    {
     "name": "stdout",
     "output_type": "stream",
     "text": [
      "zsh:1: command not found: conda\n"
     ]
    }
   ],
   "source": [
    "!conda install -c conda-forge ffmpeg -y"
   ]
  },
  {
   "cell_type": "code",
   "execution_count": 3,
   "id": "49e879a1",
   "metadata": {},
   "outputs": [
    {
     "name": "stdout",
     "output_type": "stream",
     "text": [
      "zsh:1: command not found: pip\n"
     ]
    }
   ],
   "source": [
    "!pip install ffmpeg-python"
   ]
  },
  {
   "cell_type": "code",
   "execution_count": 5,
   "id": "0f0f436b",
   "metadata": {},
   "outputs": [
    {
     "ename": "SyntaxError",
     "evalue": "invalid syntax (1257492167.py, line 1)",
     "output_type": "error",
     "traceback": [
      "\u001b[0;36m  Cell \u001b[0;32mIn[5], line 1\u001b[0;36m\u001b[0m\n\u001b[0;31m    which ffmpeg\u001b[0m\n\u001b[0m          ^\u001b[0m\n\u001b[0;31mSyntaxError\u001b[0m\u001b[0;31m:\u001b[0m invalid syntax\n"
     ]
    }
   ],
   "source": [
    "which ffmpeg"
   ]
  }
 ],
 "metadata": {
  "kernelspec": {
   "display_name": "Python 3",
   "language": "python",
   "name": "python3"
  },
  "language_info": {
   "codemirror_mode": {
    "name": "ipython",
    "version": 3
   },
   "file_extension": ".py",
   "mimetype": "text/x-python",
   "name": "python",
   "nbconvert_exporter": "python",
   "pygments_lexer": "ipython3",
   "version": "3.9.6"
  }
 },
 "nbformat": 4,
 "nbformat_minor": 5
}
