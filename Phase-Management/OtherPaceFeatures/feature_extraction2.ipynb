{
 "cells": [
  {
   "cell_type": "code",
   "execution_count": 1,
   "id": "c6b1eb7a",
   "metadata": {},
   "outputs": [
    {
     "name": "stdout",
     "output_type": "stream",
     "text": [
      "🚀 Enhanced Speech Pace Management - Feature Extraction\n",
      "============================================================\n",
      "📊 Building enhanced dataset...\n",
      "Detected language: English\n"
     ]
    },
    {
     "name": "stderr",
     "output_type": "stream",
     "text": [
      "100%|██████████| 35243/35243 [01:39<00:00, 352.77frames/s]\n"
     ]
    },
    {
     "name": "stdout",
     "output_type": "stream",
     "text": [
      "Error extracting advanced features: Command requires more than the given 3 arguments: no value for argument \"Interpolation\".\n",
      "OK: ielts-listening-0092-cam14-test-3-part-4.wav\n",
      "Detected language: English\n"
     ]
    },
    {
     "name": "stderr",
     "output_type": "stream",
     "text": [
      "100%|██████████| 15477/15477 [00:44<00:00, 346.45frames/s]\n"
     ]
    },
    {
     "name": "stdout",
     "output_type": "stream",
     "text": [
      "Error extracting advanced features: Command requires more than the given 3 arguments: no value for argument \"Interpolation\".\n",
      "OK: short-stories-0207-209-sport-canada.wav\n",
      "Detected language: English\n"
     ]
    },
    {
     "name": "stderr",
     "output_type": "stream",
     "text": [
      "100%|██████████| 18661/18661 [00:59<00:00, 316.10frames/s]\n"
     ]
    },
    {
     "name": "stdout",
     "output_type": "stream",
     "text": [
      "Error extracting advanced features: Command requires more than the given 3 arguments: no value for argument \"Interpolation\".\n",
      "OK: short-stories-0264-267-etiquette.wav\n",
      "Detected language: English\n"
     ]
    },
    {
     "name": "stderr",
     "output_type": "stream",
     "text": [
      "100%|██████████| 17185/17185 [00:54<00:00, 315.13frames/s]\n"
     ]
    },
    {
     "name": "stdout",
     "output_type": "stream",
     "text": [
      "Error extracting advanced features: Command requires more than the given 3 arguments: no value for argument \"Interpolation\".\n",
      "OK: short-stories-0212-214-nike.wav\n",
      "Detected language: English\n"
     ]
    },
    {
     "name": "stderr",
     "output_type": "stream",
     "text": [
      "100%|██████████| 5025/5025 [00:14<00:00, 335.19frames/s]\n"
     ]
    },
    {
     "name": "stdout",
     "output_type": "stream",
     "text": [
      "Error extracting advanced features: Command requires more than the given 3 arguments: no value for argument \"Interpolation\".\n",
      "OK: toeic-0253-short-talk-123.wav\n",
      "Detected language: English\n"
     ]
    },
    {
     "name": "stderr",
     "output_type": "stream",
     "text": [
      "100%|██████████| 18168/18168 [00:54<00:00, 332.66frames/s]\n"
     ]
    },
    {
     "name": "stdout",
     "output_type": "stream",
     "text": [
      "Error extracting advanced features: Command requires more than the given 3 arguments: no value for argument \"Interpolation\".\n",
      "OK: short-stories-0250-253-julie-andrews.wav\n",
      "Detected language: English\n"
     ]
    },
    {
     "name": "stderr",
     "output_type": "stream",
     "text": [
      " 99%|█████████▉| 11422/11499 [00:35<00:00, 318.90frames/s]\n"
     ]
    },
    {
     "name": "stdout",
     "output_type": "stream",
     "text": [
      "Error extracting advanced features: Command requires more than the given 3 arguments: no value for argument \"Interpolation\".\n",
      "OK: short-stories-0159-160-a-small-town.wav\n",
      "Detected language: English\n"
     ]
    },
    {
     "name": "stderr",
     "output_type": "stream",
     "text": [
      "100%|██████████| 33777/33777 [01:43<00:00, 325.72frames/s]\n"
     ]
    },
    {
     "name": "stdout",
     "output_type": "stream",
     "text": [
      "Error extracting advanced features: Command requires more than the given 3 arguments: no value for argument \"Interpolation\".\n",
      "OK: ielts-listening-0220-cam6-test-3-part-4.wav\n",
      "Detected language: English\n"
     ]
    },
    {
     "name": "stderr",
     "output_type": "stream",
     "text": [
      "100%|██████████| 4419/4419 [00:13<00:00, 320.84frames/s]\n"
     ]
    },
    {
     "name": "stdout",
     "output_type": "stream",
     "text": [
      "Error extracting advanced features: Command requires more than the given 3 arguments: no value for argument \"Interpolation\".\n",
      "OK: toeic-0559-short-talk-279.wav\n",
      "Detected language: English\n"
     ]
    },
    {
     "name": "stderr",
     "output_type": "stream",
     "text": [
      "100%|██████████| 3094/3094 [00:13<00:00, 223.37frames/s]\n"
     ]
    },
    {
     "name": "stdout",
     "output_type": "stream",
     "text": [
      "Error extracting advanced features: Command requires more than the given 3 arguments: no value for argument \"Interpolation\".\n",
      "OK: toeic-0373-short-talk-183.wav\n",
      "Detected language: English\n"
     ]
    },
    {
     "name": "stderr",
     "output_type": "stream",
     "text": [
      "100%|██████████| 19239/19239 [00:54<00:00, 355.45frames/s]\n"
     ]
    },
    {
     "name": "stdout",
     "output_type": "stream",
     "text": [
      "Error extracting advanced features: Command requires more than the given 3 arguments: no value for argument \"Interpolation\".\n",
      "OK: short-stories-0185-186-the-earth-revolves-around-the-sun.wav\n",
      "Detected language: English\n"
     ]
    },
    {
     "name": "stderr",
     "output_type": "stream",
     "text": [
      "100%|██████████| 4338/4338 [00:14<00:00, 307.74frames/s]\n"
     ]
    },
    {
     "name": "stdout",
     "output_type": "stream",
     "text": [
      "Error extracting advanced features: Command requires more than the given 3 arguments: no value for argument \"Interpolation\".\n",
      "OK: toeic-0118-short-talk-58.wav\n",
      "Detected language: English\n"
     ]
    },
    {
     "name": "stderr",
     "output_type": "stream",
     "text": [
      "100%|██████████| 3273/3273 [00:13<00:00, 242.05frames/s]\n"
     ]
    },
    {
     "name": "stdout",
     "output_type": "stream",
     "text": [
      "Error extracting advanced features: Command requires more than the given 3 arguments: no value for argument \"Interpolation\".\n",
      "OK: toeic-0231-short-talk-111.wav\n",
      "Detected language: English\n"
     ]
    },
    {
     "name": "stderr",
     "output_type": "stream",
     "text": [
      "100%|██████████| 3741/3741 [00:13<00:00, 276.04frames/s]\n"
     ]
    },
    {
     "name": "stdout",
     "output_type": "stream",
     "text": [
      "Error extracting advanced features: Command requires more than the given 3 arguments: no value for argument \"Interpolation\".\n",
      "OK: toeic-0280-short-talk-140.wav\n",
      "Detected language: English\n"
     ]
    },
    {
     "name": "stderr",
     "output_type": "stream",
     "text": [
      "100%|██████████| 9007/9007 [00:31<00:00, 285.01frames/s]\n"
     ]
    },
    {
     "name": "stdout",
     "output_type": "stream",
     "text": [
      "Error extracting advanced features: Command requires more than the given 3 arguments: no value for argument \"Interpolation\".\n",
      "OK: short-stories-0085-85-a-baby.wav\n",
      "Detected language: English\n"
     ]
    },
    {
     "name": "stderr",
     "output_type": "stream",
     "text": [
      "100%|██████████| 26602/26602 [01:10<00:00, 377.79frames/s]\n"
     ]
    },
    {
     "name": "stdout",
     "output_type": "stream",
     "text": [
      "Error extracting advanced features: Command requires more than the given 3 arguments: no value for argument \"Interpolation\".\n",
      "OK: ielts-listening-0024-cam18-test-2-part-4.wav\n",
      "Detected language: English\n"
     ]
    },
    {
     "name": "stderr",
     "output_type": "stream",
     "text": [
      "100%|██████████| 34474/34474 [01:30<00:00, 379.65frames/s]\n"
     ]
    },
    {
     "name": "stdout",
     "output_type": "stream",
     "text": [
      "Error extracting advanced features: Command requires more than the given 3 arguments: no value for argument \"Interpolation\".\n",
      "OK: ielts-listening-0144-cam11-test-4-part-4.wav\n",
      "Detected language: English\n"
     ]
    },
    {
     "name": "stderr",
     "output_type": "stream",
     "text": [
      "100%|██████████| 3453/3453 [00:12<00:00, 269.25frames/s]\n"
     ]
    },
    {
     "name": "stdout",
     "output_type": "stream",
     "text": [
      "Error extracting advanced features: Command requires more than the given 3 arguments: no value for argument \"Interpolation\".\n",
      "OK: toeic-0497-short-talk-247.wav\n",
      "Detected language: English\n"
     ]
    },
    {
     "name": "stderr",
     "output_type": "stream",
     "text": [
      "100%|██████████| 7996/7996 [00:21<00:00, 366.72frames/s]\n"
     ]
    },
    {
     "name": "stdout",
     "output_type": "stream",
     "text": [
      "Error extracting advanced features: Command requires more than the given 3 arguments: no value for argument \"Interpolation\".\n",
      "OK: short-stories-0047-47-bugs.wav\n",
      "Detected language: English\n"
     ]
    },
    {
     "name": "stderr",
     "output_type": "stream",
     "text": [
      "100%|██████████| 27822/27822 [01:24<00:00, 328.72frames/s]\n"
     ]
    },
    {
     "name": "stdout",
     "output_type": "stream",
     "text": [
      "Error extracting advanced features: Command requires more than the given 3 arguments: no value for argument \"Interpolation\".\n",
      "OK: ielts-listening-0192-cam8-test-4-part-4.wav\n",
      "Detected language: English\n"
     ]
    },
    {
     "name": "stderr",
     "output_type": "stream",
     "text": [
      "100%|██████████| 11055/11055 [00:29<00:00, 372.44frames/s]\n"
     ]
    },
    {
     "name": "stdout",
     "output_type": "stream",
     "text": [
      "Error extracting advanced features: Command requires more than the given 3 arguments: no value for argument \"Interpolation\".\n",
      "OK: short-stories-0122-123-i-am-curious.wav\n",
      "Detected language: English\n"
     ]
    },
    {
     "name": "stderr",
     "output_type": "stream",
     "text": [
      "100%|██████████| 4725/4725 [00:13<00:00, 340.79frames/s]\n"
     ]
    },
    {
     "name": "stdout",
     "output_type": "stream",
     "text": [
      "Error extracting advanced features: Command requires more than the given 3 arguments: no value for argument \"Interpolation\".\n",
      "OK: toeic-0079-short-talk-39.wav\n",
      "Detected language: English\n"
     ]
    },
    {
     "name": "stderr",
     "output_type": "stream",
     "text": [
      "100%|██████████| 19202/19202 [00:50<00:00, 383.59frames/s]\n"
     ]
    },
    {
     "name": "stdout",
     "output_type": "stream",
     "text": [
      "Error extracting advanced features: Command requires more than the given 3 arguments: no value for argument \"Interpolation\".\n",
      "OK: short-stories-0171-172-chinese-people-in-north-america.wav\n",
      "Detected language: English\n"
     ]
    },
    {
     "name": "stderr",
     "output_type": "stream",
     "text": [
      "100%|██████████| 26268/26268 [01:10<00:00, 371.00frames/s]\n"
     ]
    },
    {
     "name": "stdout",
     "output_type": "stream",
     "text": [
      "Error extracting advanced features: Command requires more than the given 3 arguments: no value for argument \"Interpolation\".\n",
      "OK: ielts-listening-0082-cam14-test-1-part-2.wav\n",
      "Detected language: English\n"
     ]
    },
    {
     "name": "stderr",
     "output_type": "stream",
     "text": [
      "100%|██████████| 20534/20534 [01:02<00:00, 330.24frames/s]\n"
     ]
    },
    {
     "name": "stdout",
     "output_type": "stream",
     "text": [
      "Error extracting advanced features: Command requires more than the given 3 arguments: no value for argument \"Interpolation\".\n",
      "OK: short-stories-0259-262-conquering-lake-ontario.wav\n",
      "Detected language: English\n"
     ]
    },
    {
     "name": "stderr",
     "output_type": "stream",
     "text": [
      " 96%|█████████▌| 2998/3126 [00:09<00:00, 320.19frames/s]\n"
     ]
    },
    {
     "name": "stdout",
     "output_type": "stream",
     "text": [
      "Error extracting advanced features: Command requires more than the given 3 arguments: no value for argument \"Interpolation\".\n",
      "OK: toeic-0153-short-talk-73.wav\n",
      "Detected language: English\n"
     ]
    },
    {
     "name": "stderr",
     "output_type": "stream",
     "text": [
      "100%|██████████| 26178/26178 [01:10<00:00, 370.98frames/s]\n"
     ]
    },
    {
     "name": "stdout",
     "output_type": "stream",
     "text": [
      "Error extracting advanced features: Command requires more than the given 3 arguments: no value for argument \"Interpolation\".\n",
      "OK: ielts-listening-0018-cam18-test-1-part-2.wav\n",
      "Detected language: English\n"
     ]
    },
    {
     "name": "stderr",
     "output_type": "stream",
     "text": [
      "100%|██████████| 7040/7040 [00:22<00:00, 308.05frames/s]\n"
     ]
    },
    {
     "name": "stdout",
     "output_type": "stream",
     "text": [
      "Error extracting advanced features: Command requires more than the given 3 arguments: no value for argument \"Interpolation\".\n",
      "OK: short-stories-0055-55-the-restaurant.wav\n",
      "Detected language: English\n"
     ]
    },
    {
     "name": "stderr",
     "output_type": "stream",
     "text": [
      "100%|██████████| 4118/4118 [00:13<00:00, 315.99frames/s]\n"
     ]
    },
    {
     "name": "stdout",
     "output_type": "stream",
     "text": [
      "Error extracting advanced features: Command requires more than the given 3 arguments: no value for argument \"Interpolation\".\n",
      "OK: toeic-0032-short-talk-12.wav\n",
      "Detected language: English\n"
     ]
    },
    {
     "name": "stderr",
     "output_type": "stream",
     "text": [
      "100%|██████████| 4887/4887 [00:14<00:00, 345.56frames/s]\n"
     ]
    },
    {
     "name": "stdout",
     "output_type": "stream",
     "text": [
      "Error extracting advanced features: Command requires more than the given 3 arguments: no value for argument \"Interpolation\".\n",
      "OK: toeic-0212-short-talk-102.wav\n",
      "Detected language: English\n"
     ]
    },
    {
     "name": "stderr",
     "output_type": "stream",
     "text": [
      "100%|██████████| 25367/25367 [01:09<00:00, 366.80frames/s]\n"
     ]
    },
    {
     "name": "stdout",
     "output_type": "stream",
     "text": [
      "Error extracting advanced features: Command requires more than the given 3 arguments: no value for argument \"Interpolation\".\n",
      "OK: ielts-listening-0282-ielts-recent-actual-test-3-part-2.wav\n",
      "Detected language: English\n"
     ]
    },
    {
     "name": "stderr",
     "output_type": "stream",
     "text": [
      "100%|██████████| 4015/4015 [00:13<00:00, 291.81frames/s]\n"
     ]
    },
    {
     "name": "stdout",
     "output_type": "stream",
     "text": [
      "Error extracting advanced features: Command requires more than the given 3 arguments: no value for argument \"Interpolation\".\n",
      "OK: toeic-0518-short-talk-258.wav\n",
      "Detected language: English\n"
     ]
    },
    {
     "name": "stderr",
     "output_type": "stream",
     "text": [
      "100%|██████████| 4075/4075 [00:13<00:00, 309.85frames/s]\n"
     ]
    },
    {
     "name": "stdout",
     "output_type": "stream",
     "text": [
      "Error extracting advanced features: Command requires more than the given 3 arguments: no value for argument \"Interpolation\".\n",
      "OK: toeic-0539-short-talk-269.wav\n",
      "Detected language: English\n"
     ]
    },
    {
     "name": "stderr",
     "output_type": "stream",
     "text": [
      "100%|██████████| 30206/30206 [01:22<00:00, 367.50frames/s]\n"
     ]
    },
    {
     "name": "stdout",
     "output_type": "stream",
     "text": [
      "Error extracting advanced features: Command requires more than the given 3 arguments: no value for argument \"Interpolation\".\n",
      "OK: ielts-listening-0292-ielts-recent-actual-test-5-part-4.wav\n",
      "Detected language: English\n"
     ]
    },
    {
     "name": "stderr",
     "output_type": "stream",
     "text": [
      "100%|██████████| 3644/3644 [00:12<00:00, 280.93frames/s]\n"
     ]
    },
    {
     "name": "stdout",
     "output_type": "stream",
     "text": [
      "Error extracting advanced features: Command requires more than the given 3 arguments: no value for argument \"Interpolation\".\n",
      "OK: toeic-0139-short-talk-69.wav\n",
      "Detected language: English\n"
     ]
    },
    {
     "name": "stderr",
     "output_type": "stream",
     "text": [
      "100%|██████████| 3934/3934 [00:12<00:00, 308.60frames/s]\n"
     ]
    },
    {
     "name": "stdout",
     "output_type": "stream",
     "text": [
      "Error extracting advanced features: Command requires more than the given 3 arguments: no value for argument \"Interpolation\".\n",
      "OK: toeic-0454-short-talk-224.wav\n",
      "Detected language: English\n"
     ]
    },
    {
     "name": "stderr",
     "output_type": "stream",
     "text": [
      "100%|██████████| 20942/20942 [00:59<00:00, 353.06frames/s]\n"
     ]
    },
    {
     "name": "stdout",
     "output_type": "stream",
     "text": [
      "Error extracting advanced features: Command requires more than the given 3 arguments: no value for argument \"Interpolation\".\n",
      "OK: short-stories-0252-255-the-stratford-festival.wav\n",
      "Detected language: English\n"
     ]
    },
    {
     "name": "stderr",
     "output_type": "stream",
     "text": [
      "100%|██████████| 2578/2578 [00:07<00:00, 333.48frames/s]\n"
     ]
    },
    {
     "name": "stdout",
     "output_type": "stream",
     "text": [
      "Error extracting advanced features: Command requires more than the given 3 arguments: no value for argument \"Interpolation\".\n",
      "OK: toeic-0395-short-talk-195.wav\n",
      "Detected language: English\n"
     ]
    },
    {
     "name": "stderr",
     "output_type": "stream",
     "text": [
      "100%|██████████| 3476/3476 [00:12<00:00, 268.44frames/s]\n"
     ]
    },
    {
     "name": "stdout",
     "output_type": "stream",
     "text": [
      "Error extracting advanced features: Command requires more than the given 3 arguments: no value for argument \"Interpolation\".\n",
      "OK: toeic-0036-short-talk-16.wav\n",
      "Detected language: English\n"
     ]
    },
    {
     "name": "stderr",
     "output_type": "stream",
     "text": [
      "100%|██████████| 4767/4767 [00:13<00:00, 361.92frames/s]\n"
     ]
    },
    {
     "name": "stdout",
     "output_type": "stream",
     "text": [
      "Error extracting advanced features: Command requires more than the given 3 arguments: no value for argument \"Interpolation\".\n",
      "OK: toeic-0477-short-talk-237.wav\n",
      "Detected language: English\n"
     ]
    },
    {
     "name": "stderr",
     "output_type": "stream",
     "text": [
      "100%|██████████| 26127/26127 [01:19<00:00, 328.34frames/s]\n"
     ]
    },
    {
     "name": "stdout",
     "output_type": "stream",
     "text": [
      "Error extracting advanced features: Command requires more than the given 3 arguments: no value for argument \"Interpolation\".\n",
      "OK: ielts-listening-0276-ielts-recent-actual-test-1-part-4.wav\n",
      "Detected language: English\n"
     ]
    },
    {
     "name": "stderr",
     "output_type": "stream",
     "text": [
      "100%|██████████| 24418/24418 [01:12<00:00, 338.77frames/s]\n"
     ]
    },
    {
     "name": "stdout",
     "output_type": "stream",
     "text": [
      "Error extracting advanced features: Command requires more than the given 3 arguments: no value for argument \"Interpolation\".\n",
      "OK: ielts-listening-0256-cam4-test-4-part-4.wav\n",
      "Detected language: English\n"
     ]
    },
    {
     "name": "stderr",
     "output_type": "stream",
     "text": [
      "100%|██████████| 3505/3505 [00:12<00:00, 290.36frames/s]\n"
     ]
    },
    {
     "name": "stdout",
     "output_type": "stream",
     "text": [
      "Error extracting advanced features: Command requires more than the given 3 arguments: no value for argument \"Interpolation\".\n",
      "OK: toeic-0260-short-talk-130.wav\n",
      "Detected language: English\n"
     ]
    },
    {
     "name": "stderr",
     "output_type": "stream",
     "text": [
      "100%|██████████| 29560/29560 [01:21<00:00, 364.55frames/s]\n"
     ]
    },
    {
     "name": "stdout",
     "output_type": "stream",
     "text": [
      "Error extracting advanced features: Command requires more than the given 3 arguments: no value for argument \"Interpolation\".\n",
      "OK: ielts-listening-0122-cam12-test-3-part-2.wav\n",
      "Detected language: English\n"
     ]
    },
    {
     "name": "stderr",
     "output_type": "stream",
     "text": [
      "100%|██████████| 27525/27525 [01:18<00:00, 349.37frames/s]\n"
     ]
    },
    {
     "name": "stdout",
     "output_type": "stream",
     "text": [
      "Error extracting advanced features: Command requires more than the given 3 arguments: no value for argument \"Interpolation\".\n",
      "OK: short-stories-0228-230-paul-kane-frontier-artist.wav\n",
      "Detected language: English\n"
     ]
    },
    {
     "name": "stderr",
     "output_type": "stream",
     "text": [
      "100%|██████████| 11467/11467 [00:31<00:00, 360.17frames/s]\n"
     ]
    },
    {
     "name": "stdout",
     "output_type": "stream",
     "text": [
      "Error extracting advanced features: Command requires more than the given 3 arguments: no value for argument \"Interpolation\".\n",
      "OK: short-stories-0034-34-the-farm.wav\n",
      "Detected language: English\n"
     ]
    },
    {
     "name": "stderr",
     "output_type": "stream",
     "text": [
      "100%|██████████| 12789/12789 [00:32<00:00, 394.11frames/s]\n"
     ]
    },
    {
     "name": "stdout",
     "output_type": "stream",
     "text": [
      "Error extracting advanced features: Command requires more than the given 3 arguments: no value for argument \"Interpolation\".\n",
      "OK: short-stories-0151-152-hobbies.wav\n",
      "Detected language: English\n"
     ]
    },
    {
     "name": "stderr",
     "output_type": "stream",
     "text": [
      "100%|██████████| 4211/4211 [00:13<00:00, 316.06frames/s]\n"
     ]
    },
    {
     "name": "stdout",
     "output_type": "stream",
     "text": [
      "Error extracting advanced features: Command requires more than the given 3 arguments: no value for argument \"Interpolation\".\n",
      "OK: toeic-0157-short-talk-77.wav\n",
      "Detected language: English\n"
     ]
    },
    {
     "name": "stderr",
     "output_type": "stream",
     "text": [
      "100%|██████████| 11723/11723 [00:32<00:00, 366.15frames/s]\n"
     ]
    },
    {
     "name": "stdout",
     "output_type": "stream",
     "text": [
      "Error extracting advanced features: Command requires more than the given 3 arguments: no value for argument \"Interpolation\".\n",
      "OK: short-stories-0048-48-the-kitchen.wav\n",
      "Detected language: English\n"
     ]
    },
    {
     "name": "stderr",
     "output_type": "stream",
     "text": [
      "100%|██████████| 5344/5344 [00:15<00:00, 338.90frames/s]\n"
     ]
    },
    {
     "name": "stdout",
     "output_type": "stream",
     "text": [
      "Error extracting advanced features: Command requires more than the given 3 arguments: no value for argument \"Interpolation\".\n",
      "OK: toeic-0007-conversation-7.wav\n",
      "Detected language: English\n"
     ]
    },
    {
     "name": "stderr",
     "output_type": "stream",
     "text": [
      "100%|██████████| 2993/2993 [00:07<00:00, 390.67frames/s]\n"
     ]
    },
    {
     "name": "stdout",
     "output_type": "stream",
     "text": [
      "Error extracting advanced features: Command requires more than the given 3 arguments: no value for argument \"Interpolation\".\n",
      "OK: toeic-0415-short-talk-205.wav\n",
      "Detected language: English\n"
     ]
    },
    {
     "name": "stderr",
     "output_type": "stream",
     "text": [
      "100%|██████████| 6679/6679 [00:18<00:00, 352.14frames/s]\n"
     ]
    },
    {
     "name": "stdout",
     "output_type": "stream",
     "text": [
      "Error extracting advanced features: Command requires more than the given 3 arguments: no value for argument \"Interpolation\".\n",
      "OK: short-stories-0011-11-summer-vacation.wav\n",
      "Detected language: English\n"
     ]
    },
    {
     "name": "stderr",
     "output_type": "stream",
     "text": [
      "100%|██████████| 4385/4385 [00:13<00:00, 316.69frames/s]\n"
     ]
    },
    {
     "name": "stdout",
     "output_type": "stream",
     "text": [
      "Error extracting advanced features: Command requires more than the given 3 arguments: no value for argument \"Interpolation\".\n",
      "OK: toeic-0436-short-talk-216.wav\n",
      "Detected language: English\n"
     ]
    },
    {
     "name": "stderr",
     "output_type": "stream",
     "text": [
      "100%|██████████| 15626/15626 [00:50<00:00, 311.58frames/s]\n"
     ]
    },
    {
     "name": "stdout",
     "output_type": "stream",
     "text": [
      "Error extracting advanced features: Command requires more than the given 3 arguments: no value for argument \"Interpolation\".\n",
      "OK: short-stories-0210-212-the-olympic-games.wav\n",
      "Detected language: English\n"
     ]
    },
    {
     "name": "stderr",
     "output_type": "stream",
     "text": [
      "100%|██████████| 3866/3866 [00:15<00:00, 252.47frames/s]\n"
     ]
    },
    {
     "name": "stdout",
     "output_type": "stream",
     "text": [
      "Error extracting advanced features: Command requires more than the given 3 arguments: no value for argument \"Interpolation\".\n",
      "OK: toeic-0590-short-talk-299.wav\n",
      "Detected language: English\n"
     ]
    },
    {
     "name": "stderr",
     "output_type": "stream",
     "text": [
      "100%|██████████| 21229/21229 [01:07<00:00, 312.53frames/s]\n"
     ]
    },
    {
     "name": "stdout",
     "output_type": "stream",
     "text": [
      "Error extracting advanced features: Command requires more than the given 3 arguments: no value for argument \"Interpolation\".\n",
      "OK: short-stories-0230-252-pocahontas-and-john-smith.wav\n",
      "Detected language: English\n"
     ]
    },
    {
     "name": "stderr",
     "output_type": "stream",
     "text": [
      "100%|██████████| 11151/11151 [00:29<00:00, 378.64frames/s]\n"
     ]
    },
    {
     "name": "stdout",
     "output_type": "stream",
     "text": [
      "Error extracting advanced features: Command requires more than the given 3 arguments: no value for argument \"Interpolation\".\n",
      "OK: short-stories-0035-35-transportation.wav\n",
      "Detected language: English\n"
     ]
    },
    {
     "name": "stderr",
     "output_type": "stream",
     "text": [
      "100%|██████████| 29021/29021 [01:28<00:00, 328.78frames/s]\n"
     ]
    },
    {
     "name": "stdout",
     "output_type": "stream",
     "text": [
      "Error extracting advanced features: Command requires more than the given 3 arguments: no value for argument \"Interpolation\".\n",
      "OK: ielts-listening-0184-cam8-test-2-part-4.wav\n",
      "Detected language: English\n"
     ]
    },
    {
     "name": "stderr",
     "output_type": "stream",
     "text": [
      "100%|██████████| 19853/19853 [01:01<00:00, 323.75frames/s]\n"
     ]
    },
    {
     "name": "stdout",
     "output_type": "stream",
     "text": [
      "Error extracting advanced features: Command requires more than the given 3 arguments: no value for argument \"Interpolation\".\n",
      "OK: short-stories-0224-226-ireland.wav\n",
      "Detected language: English\n"
     ]
    },
    {
     "name": "stderr",
     "output_type": "stream",
     "text": [
      "100%|██████████| 4460/4460 [00:13<00:00, 327.13frames/s]\n"
     ]
    },
    {
     "name": "stdout",
     "output_type": "stream",
     "text": [
      "Error extracting advanced features: Command requires more than the given 3 arguments: no value for argument \"Interpolation\".\n",
      "OK: toeic-0196-short-talk-96.wav\n",
      "Detected language: English\n"
     ]
    },
    {
     "name": "stderr",
     "output_type": "stream",
     "text": [
      "100%|█████████▉| 11350/11394 [00:34<00:00, 333.52frames/s]\n"
     ]
    },
    {
     "name": "stdout",
     "output_type": "stream",
     "text": [
      "Error extracting advanced features: Command requires more than the given 3 arguments: no value for argument \"Interpolation\".\n",
      "OK: short-stories-0152-153-life-in-outer-space.wav\n",
      "Detected language: English\n"
     ]
    },
    {
     "name": "stderr",
     "output_type": "stream",
     "text": [
      "100%|██████████| 3965/3965 [00:14<00:00, 272.67frames/s]\n"
     ]
    },
    {
     "name": "stdout",
     "output_type": "stream",
     "text": [
      "Error extracting advanced features: Command requires more than the given 3 arguments: no value for argument \"Interpolation\".\n",
      "OK: toeic-0075-short-talk-35.wav\n",
      "Detected language: English\n"
     ]
    },
    {
     "name": "stderr",
     "output_type": "stream",
     "text": [
      "100%|██████████| 17123/17123 [00:56<00:00, 300.79frames/s]\n"
     ]
    },
    {
     "name": "stdout",
     "output_type": "stream",
     "text": [
      "Error extracting advanced features: Command requires more than the given 3 arguments: no value for argument \"Interpolation\".\n",
      "OK: short-stories-0232-234-gribbio.wav\n",
      "Detected language: English\n"
     ]
    },
    {
     "name": "stderr",
     "output_type": "stream",
     "text": [
      "100%|██████████| 5840/5840 [00:14<00:00, 405.10frames/s]\n"
     ]
    },
    {
     "name": "stdout",
     "output_type": "stream",
     "text": [
      "Error extracting advanced features: Command requires more than the given 3 arguments: no value for argument \"Interpolation\".\n",
      "OK: short-stories-0007-7-jennifer-the-firefighter.wav\n",
      "Detected language: English\n"
     ]
    },
    {
     "name": "stderr",
     "output_type": "stream",
     "text": [
      "100%|██████████| 35320/35320 [01:46<00:00, 330.99frames/s]\n"
     ]
    },
    {
     "name": "stdout",
     "output_type": "stream",
     "text": [
      "Error extracting advanced features: Command requires more than the given 3 arguments: no value for argument \"Interpolation\".\n",
      "OK: ielts-listening-0300-ielts-recent-actual-test-7-part-4.wav\n",
      "Detected language: English\n"
     ]
    },
    {
     "name": "stderr",
     "output_type": "stream",
     "text": [
      "100%|██████████| 3747/3747 [00:14<00:00, 256.72frames/s]\n"
     ]
    },
    {
     "name": "stdout",
     "output_type": "stream",
     "text": [
      "Error extracting advanced features: Command requires more than the given 3 arguments: no value for argument \"Interpolation\".\n",
      "OK: toeic-0131-short-talk-61.wav\n",
      "Detected language: English\n"
     ]
    },
    {
     "name": "stderr",
     "output_type": "stream",
     "text": [
      "100%|██████████| 3550/3550 [00:14<00:00, 253.00frames/s]\n"
     ]
    },
    {
     "name": "stdout",
     "output_type": "stream",
     "text": [
      "Error extracting advanced features: Command requires more than the given 3 arguments: no value for argument \"Interpolation\".\n",
      "OK: toeic-0458-short-talk-228.wav\n",
      "Detected language: English\n"
     ]
    },
    {
     "name": "stderr",
     "output_type": "stream",
     "text": [
      "100%|██████████| 3359/3359 [00:12<00:00, 260.32frames/s]\n"
     ]
    },
    {
     "name": "stdout",
     "output_type": "stream",
     "text": [
      "Error extracting advanced features: Command requires more than the given 3 arguments: no value for argument \"Interpolation\".\n",
      "OK: toeic-0399-short-talk-199.wav\n",
      "Detected language: English\n"
     ]
    },
    {
     "name": "stderr",
     "output_type": "stream",
     "text": [
      "100%|██████████| 2410/2410 [00:08<00:00, 279.60frames/s]\n"
     ]
    },
    {
     "name": "stdout",
     "output_type": "stream",
     "text": [
      "Error extracting advanced features: Command requires more than the given 3 arguments: no value for argument \"Interpolation\".\n",
      "OK: toeic-0352-short-talk-172.wav\n",
      "Detected language: English\n"
     ]
    },
    {
     "name": "stderr",
     "output_type": "stream",
     "text": [
      "100%|██████████| 34742/34742 [01:48<00:00, 319.67frames/s]\n"
     ]
    },
    {
     "name": "stdout",
     "output_type": "stream",
     "text": [
      "Error extracting advanced features: Command requires more than the given 3 arguments: no value for argument \"Interpolation\".\n",
      "OK: ielts-listening-0052-cam16-test-1-part-4.wav\n",
      "Detected language: English\n"
     ]
    },
    {
     "name": "stderr",
     "output_type": "stream",
     "text": [
      "100%|██████████| 4464/4464 [00:15<00:00, 296.85frames/s]\n"
     ]
    },
    {
     "name": "stdout",
     "output_type": "stream",
     "text": [
      "Error extracting advanced features: Command requires more than the given 3 arguments: no value for argument \"Interpolation\".\n",
      "OK: toeic-0114-short-talk-54.wav\n",
      "Detected language: English\n"
     ]
    },
    {
     "name": "stderr",
     "output_type": "stream",
     "text": [
      "100%|██████████| 17232/17232 [00:56<00:00, 303.60frames/s]\n"
     ]
    },
    {
     "name": "stdout",
     "output_type": "stream",
     "text": [
      "Error extracting advanced features: Command requires more than the given 3 arguments: no value for argument \"Interpolation\".\n",
      "OK: short-stories-0215-217-michael-jordan.wav\n",
      "Detected language: English\n"
     ]
    },
    {
     "name": "stderr",
     "output_type": "stream",
     "text": [
      "100%|██████████| 27737/27737 [01:22<00:00, 334.65frames/s]\n"
     ]
    },
    {
     "name": "stdout",
     "output_type": "stream",
     "text": [
      "Error extracting advanced features: Command requires more than the given 3 arguments: no value for argument \"Interpolation\".\n",
      "OK: ielts-listening-0004-cam19-test-1-part-4.wav\n",
      "Detected language: English\n"
     ]
    },
    {
     "name": "stderr",
     "output_type": "stream",
     "text": [
      "100%|██████████| 15905/15905 [00:48<00:00, 330.53frames/s]\n"
     ]
    },
    {
     "name": "stdout",
     "output_type": "stream",
     "text": [
      "Error extracting advanced features: Command requires more than the given 3 arguments: no value for argument \"Interpolation\".\n",
      "OK: short-stories-0192-193-the-protestant-reformation.wav\n",
      "Detected language: English\n"
     ]
    },
    {
     "name": "stderr",
     "output_type": "stream",
     "text": [
      "100%|██████████| 22308/22308 [01:11<00:00, 310.61frames/s]\n"
     ]
    },
    {
     "name": "stdout",
     "output_type": "stream",
     "text": [
      "Error extracting advanced features: Command requires more than the given 3 arguments: no value for argument \"Interpolation\".\n",
      "OK: short-stories-0258-261-casa-loma.wav\n",
      "Detected language: English\n"
     ]
    },
    {
     "name": "stderr",
     "output_type": "stream",
     "text": [
      "100%|██████████| 30607/30607 [01:20<00:00, 379.55frames/s]\n"
     ]
    },
    {
     "name": "stdout",
     "output_type": "stream",
     "text": [
      "Error extracting advanced features: Command requires more than the given 3 arguments: no value for argument \"Interpolation\".\n",
      "OK: Learn_English_Naturally.wav\n",
      "Detected language: English\n"
     ]
    },
    {
     "name": "stderr",
     "output_type": "stream",
     "text": [
      "100%|██████████| 25673/25673 [01:16<00:00, 337.35frames/s]\n"
     ]
    },
    {
     "name": "stdout",
     "output_type": "stream",
     "text": [
      "Error extracting advanced features: Command requires more than the given 3 arguments: no value for argument \"Interpolation\".\n",
      "OK: ielts-listening-0222-cam6-test-4-part-2.wav\n",
      "Detected language: English\n"
     ]
    },
    {
     "name": "stderr",
     "output_type": "stream",
     "text": [
      "100%|██████████| 10334/10334 [00:31<00:00, 323.07frames/s]\n"
     ]
    },
    {
     "name": "stdout",
     "output_type": "stream",
     "text": [
      "Error extracting advanced features: Command requires more than the given 3 arguments: no value for argument \"Interpolation\".\n",
      "OK: short-stories-0090-90-the-smart-paperboy.wav\n",
      "Detected language: English\n"
     ]
    },
    {
     "name": "stderr",
     "output_type": "stream",
     "text": [
      "100%|██████████| 25472/25472 [01:11<00:00, 356.46frames/s]\n"
     ]
    },
    {
     "name": "stdout",
     "output_type": "stream",
     "text": [
      "Error extracting advanced features: Command requires more than the given 3 arguments: no value for argument \"Interpolation\".\n",
      "OK: ielts-listening-0006-cam19-test-2-part-2.wav\n",
      "Detected language: English\n"
     ]
    },
    {
     "name": "stderr",
     "output_type": "stream",
     "text": [
      "100%|██████████| 3534/3534 [00:13<00:00, 271.80frames/s]\n"
     ]
    },
    {
     "name": "stdout",
     "output_type": "stream",
     "text": [
      "Error extracting advanced features: Command requires more than the given 3 arguments: no value for argument \"Interpolation\".\n",
      "OK: toeic-0093-short-talk-43.wav\n",
      "Detected language: English\n"
     ]
    },
    {
     "name": "stderr",
     "output_type": "stream",
     "text": [
      "100%|██████████| 4579/4579 [00:13<00:00, 338.10frames/s]\n"
     ]
    },
    {
     "name": "stdout",
     "output_type": "stream",
     "text": [
      "Error extracting advanced features: Command requires more than the given 3 arguments: no value for argument \"Interpolation\".\n",
      "OK: toeic-0176-short-talk-86.wav\n",
      "Detected language: English\n"
     ]
    },
    {
     "name": "stderr",
     "output_type": "stream",
     "text": [
      "100%|██████████| 2635/2635 [00:07<00:00, 346.24frames/s]\n"
     ]
    },
    {
     "name": "stdout",
     "output_type": "stream",
     "text": [
      "Error extracting advanced features: Command requires more than the given 3 arguments: no value for argument \"Interpolation\".\n",
      "OK: toeic-0419-short-talk-209.wav\n",
      "Detected language: English\n"
     ]
    },
    {
     "name": "stderr",
     "output_type": "stream",
     "text": [
      "100%|██████████| 3248/3248 [00:11<00:00, 283.96frames/s]\n"
     ]
    },
    {
     "name": "stdout",
     "output_type": "stream",
     "text": [
      "Error extracting advanced features: Command requires more than the given 3 arguments: no value for argument \"Interpolation\".\n",
      "OK: toeic-0332-short-talk-162.wav\n",
      "Detected language: English\n"
     ]
    },
    {
     "name": "stderr",
     "output_type": "stream",
     "text": [
      "100%|██████████| 2786/2786 [00:07<00:00, 356.45frames/s]\n"
     ]
    },
    {
     "name": "stdout",
     "output_type": "stream",
     "text": [
      "Error extracting advanced features: Command requires more than the given 3 arguments: no value for argument \"Interpolation\".\n",
      "OK: toeic-0313-short-talk-153.wav\n",
      "Detected language: English\n"
     ]
    },
    {
     "name": "stderr",
     "output_type": "stream",
     "text": [
      "100%|██████████| 25916/25916 [01:15<00:00, 341.89frames/s]\n"
     ]
    },
    {
     "name": "stdout",
     "output_type": "stream",
     "text": [
      "Error extracting advanced features: Command requires more than the given 3 arguments: no value for argument \"Interpolation\".\n",
      "OK: ielts-listening-0158-cam10-test-4-part-2.wav\n",
      "Detected language: English\n"
     ]
    },
    {
     "name": "stderr",
     "output_type": "stream",
     "text": [
      "100%|██████████| 25581/25581 [01:12<00:00, 352.60frames/s]\n"
     ]
    },
    {
     "name": "stdout",
     "output_type": "stream",
     "text": [
      "Error extracting advanced features: Command requires more than the given 3 arguments: no value for argument \"Interpolation\".\n",
      "OK: ielts-listening-0114-cam12-test-1-part-2.wav\n",
      "Detected language: English\n"
     ]
    },
    {
     "name": "stderr",
     "output_type": "stream",
     "text": [
      "100%|██████████| 8562/8562 [00:29<00:00, 291.84frames/s]\n"
     ]
    },
    {
     "name": "stdout",
     "output_type": "stream",
     "text": [
      "Error extracting advanced features: Command requires more than the given 3 arguments: no value for argument \"Interpolation\".\n",
      "OK: short-stories-0131-132-making-cookies.wav\n",
      "Detected language: English\n"
     ]
    },
    {
     "name": "stderr",
     "output_type": "stream",
     "text": [
      "100%|██████████| 23591/23591 [01:05<00:00, 357.86frames/s]\n"
     ]
    },
    {
     "name": "stdout",
     "output_type": "stream",
     "text": [
      "Error extracting advanced features: Command requires more than the given 3 arguments: no value for argument \"Interpolation\".\n",
      "OK: ielts-listening-0154-cam10-test-3-part-2.wav\n",
      "Detected language: English\n"
     ]
    },
    {
     "name": "stderr",
     "output_type": "stream",
     "text": [
      "100%|██████████| 30636/30636 [01:18<00:00, 392.25frames/s]\n"
     ]
    },
    {
     "name": "stdout",
     "output_type": "stream",
     "text": [
      "Error extracting advanced features: Command requires more than the given 3 arguments: no value for argument \"Interpolation\".\n",
      "OK: Ds_discoussion.wav\n",
      "Detected language: English\n"
     ]
    },
    {
     "name": "stderr",
     "output_type": "stream",
     "text": [
      "100%|██████████| 14558/14558 [00:39<00:00, 368.18frames/s]\n"
     ]
    },
    {
     "name": "stdout",
     "output_type": "stream",
     "text": [
      "Error extracting advanced features: Command requires more than the given 3 arguments: no value for argument \"Interpolation\".\n",
      "OK: short-stories-0036-36-holidays.wav\n",
      "Detected language: English\n"
     ]
    },
    {
     "name": "stderr",
     "output_type": "stream",
     "text": [
      "100%|██████████| 4025/4025 [00:12<00:00, 325.47frames/s]\n"
     ]
    },
    {
     "name": "stdout",
     "output_type": "stream",
     "text": [
      "Error extracting advanced features: Command requires more than the given 3 arguments: no value for argument \"Interpolation\".\n",
      "OK: toeic-0582-short-talk-291.wav\n",
      "Detected language: English\n"
     ]
    },
    {
     "name": "stderr",
     "output_type": "stream",
     "text": [
      "100%|██████████| 3001/3001 [00:11<00:00, 254.24frames/s]\n"
     ]
    },
    {
     "name": "stdout",
     "output_type": "stream",
     "text": [
      "Error extracting advanced features: Command requires more than the given 3 arguments: no value for argument \"Interpolation\".\n",
      "OK: toeic-0555-short-talk-275.wav\n",
      "Detected language: English\n"
     ]
    },
    {
     "name": "stderr",
     "output_type": "stream",
     "text": [
      "100%|██████████| 16928/16928 [00:41<00:00, 403.16frames/s]\n"
     ]
    },
    {
     "name": "stdout",
     "output_type": "stream",
     "text": [
      "Error extracting advanced features: Command requires more than the given 3 arguments: no value for argument \"Interpolation\".\n",
      "OK: sohan_hci_audio.wav\n",
      "Detected language: English\n"
     ]
    },
    {
     "name": "stderr",
     "output_type": "stream",
     "text": [
      " 98%|█████████▊| 46510/47302 [02:07<00:02, 365.02frames/s]\n"
     ]
    },
    {
     "name": "stdout",
     "output_type": "stream",
     "text": [
      "Error extracting advanced features: Command requires more than the given 3 arguments: no value for argument \"Interpolation\".\n",
      "OK: voice_mp3_01.wav\n",
      "Detected language: English\n"
     ]
    },
    {
     "name": "stderr",
     "output_type": "stream",
     "text": [
      "100%|██████████| 11094/11094 [00:28<00:00, 385.61frames/s]\n"
     ]
    },
    {
     "name": "stdout",
     "output_type": "stream",
     "text": [
      "Error extracting advanced features: Command requires more than the given 3 arguments: no value for argument \"Interpolation\".\n",
      "OK: short-stories-0161-162-the-middle-child.wav\n",
      "Detected language: English\n"
     ]
    },
    {
     "name": "stderr",
     "output_type": "stream",
     "text": [
      "100%|██████████| 10010/10010 [00:30<00:00, 324.99frames/s]\n"
     ]
    },
    {
     "name": "stdout",
     "output_type": "stream",
     "text": [
      "Error extracting advanced features: Command requires more than the given 3 arguments: no value for argument \"Interpolation\".\n",
      "OK: short-stories-0132-133-stars-in-the-midnight-sky.wav\n",
      "Detected language: English\n"
     ]
    },
    {
     "name": "stderr",
     "output_type": "stream",
     "text": [
      "100%|██████████| 9085/9085 [00:27<00:00, 333.03frames/s]\n"
     ]
    },
    {
     "name": "stdout",
     "output_type": "stream",
     "text": [
      "Error extracting advanced features: Command requires more than the given 3 arguments: no value for argument \"Interpolation\".\n",
      "OK: short-stories-0050-50-vegetables.wav\n",
      "Detected language: English\n"
     ]
    },
    {
     "name": "stderr",
     "output_type": "stream",
     "text": [
      "100%|██████████| 6747/6747 [00:18<00:00, 357.32frames/s]\n"
     ]
    },
    {
     "name": "stdout",
     "output_type": "stream",
     "text": [
      "Error extracting advanced features: Command requires more than the given 3 arguments: no value for argument \"Interpolation\".\n",
      "OK: AUDIO-2025-04-03-22-17-38 2.wav\n",
      "Detected language: English\n"
     ]
    },
    {
     "name": "stderr",
     "output_type": "stream",
     "text": [
      "100%|██████████| 4193/4193 [00:14<00:00, 294.03frames/s]\n"
     ]
    },
    {
     "name": "stdout",
     "output_type": "stream",
     "text": [
      "Error extracting advanced features: Command requires more than the given 3 arguments: no value for argument \"Interpolation\".\n",
      "OK: toeic-0097-short-talk-47.wav\n",
      "Detected language: English\n"
     ]
    },
    {
     "name": "stderr",
     "output_type": "stream",
     "text": [
      "100%|██████████| 3722/3722 [00:13<00:00, 270.34frames/s]\n"
     ]
    },
    {
     "name": "stdout",
     "output_type": "stream",
     "text": [
      "Error extracting advanced features: Command requires more than the given 3 arguments: no value for argument \"Interpolation\".\n",
      "OK: toeic-0172-short-talk-82.wav\n",
      "Detected language: English\n"
     ]
    },
    {
     "name": "stderr",
     "output_type": "stream",
     "text": [
      "100%|██████████| 6452/6452 [00:18<00:00, 348.14frames/s]\n"
     ]
    },
    {
     "name": "stdout",
     "output_type": "stream",
     "text": [
      "Error extracting advanced features: Command requires more than the given 3 arguments: no value for argument \"Interpolation\".\n",
      "OK: short-stories-0018-18-learning-how-to-drive.wav\n",
      "Detected language: English\n"
     ]
    },
    {
     "name": "stderr",
     "output_type": "stream",
     "text": [
      "100%|██████████| 3299/3299 [00:13<00:00, 247.41frames/s]\n"
     ]
    },
    {
     "name": "stdout",
     "output_type": "stream",
     "text": [
      "Error extracting advanced features: Command requires more than the given 3 arguments: no value for argument \"Interpolation\".\n",
      "OK: toeic-0192-short-talk-92.wav\n",
      "Detected language: English\n"
     ]
    },
    {
     "name": "stderr",
     "output_type": "stream",
     "text": [
      "100%|██████████| 9981/9981 [00:31<00:00, 317.47frames/s]\n"
     ]
    },
    {
     "name": "stdout",
     "output_type": "stream",
     "text": [
      "Error extracting advanced features: Command requires more than the given 3 arguments: no value for argument \"Interpolation\".\n",
      "OK: short-stories-0116-116-weather.wav\n",
      "Detected language: English\n"
     ]
    },
    {
     "name": "stderr",
     "output_type": "stream",
     "text": [
      "100%|██████████| 3401/3401 [00:12<00:00, 262.46frames/s]\n"
     ]
    },
    {
     "name": "stdout",
     "output_type": "stream",
     "text": [
      "Error extracting advanced features: Command requires more than the given 3 arguments: no value for argument \"Interpolation\".\n",
      "OK: toeic-0535-short-talk-265.wav\n",
      "Detected language: English\n"
     ]
    },
    {
     "name": "stderr",
     "output_type": "stream",
     "text": [
      "100%|██████████| 19620/19620 [00:56<00:00, 345.15frames/s]\n"
     ]
    },
    {
     "name": "stdout",
     "output_type": "stream",
     "text": [
      "Error extracting advanced features: Command requires more than the given 3 arguments: no value for argument \"Interpolation\".\n",
      "OK: short-stories-0235-237-texas.wav\n",
      "Detected language: English\n"
     ]
    },
    {
     "name": "stderr",
     "output_type": "stream",
     "text": [
      "100%|██████████| 3675/3675 [00:13<00:00, 269.12frames/s]\n"
     ]
    },
    {
     "name": "stdout",
     "output_type": "stream",
     "text": [
      "Error extracting advanced features: Command requires more than the given 3 arguments: no value for argument \"Interpolation\".\n",
      "OK: toeic-0514-short-talk-254.wav\n",
      "Detected language: English\n"
     ]
    },
    {
     "name": "stderr",
     "output_type": "stream",
     "text": [
      "100%|██████████| 26436/26436 [01:14<00:00, 353.91frames/s]\n"
     ]
    },
    {
     "name": "stdout",
     "output_type": "stream",
     "text": [
      "Error extracting advanced features: Command requires more than the given 3 arguments: no value for argument \"Interpolation\".\n",
      "OK: ielts-listening-0218-cam6-test-3-part-2.wav\n",
      "Detected language: English\n"
     ]
    },
    {
     "name": "stderr",
     "output_type": "stream",
     "text": [
      "100%|██████████| 31368/31368 [01:37<00:00, 320.51frames/s]\n"
     ]
    },
    {
     "name": "stdout",
     "output_type": "stream",
     "text": [
      "Error extracting advanced features: Command requires more than the given 3 arguments: no value for argument \"Interpolation\".\n",
      "OK: ielts-listening-0326-ielts-recent-actual-test-34-part-2.wav\n",
      "Detected language: English\n"
     ]
    },
    {
     "name": "stderr",
     "output_type": "stream",
     "text": [
      "100%|██████████| 94437/94437 [04:27<00:00, 352.87frames/s]\n"
     ]
    },
    {
     "name": "stdout",
     "output_type": "stream",
     "text": [
      "Error extracting advanced features: Command requires more than the given 3 arguments: no value for argument \"Interpolation\".\n",
      "OK: Lecture 1 Audio.wav\n",
      "Detected language: English\n"
     ]
    },
    {
     "name": "stderr",
     "output_type": "stream",
     "text": [
      "100%|██████████| 19338/19338 [01:02<00:00, 308.31frames/s]\n"
     ]
    },
    {
     "name": "stdout",
     "output_type": "stream",
     "text": [
      "Error extracting advanced features: Command requires more than the given 3 arguments: no value for argument \"Interpolation\".\n",
      "OK: short-stories-0276-280-the-florida-everglades.wav\n",
      "Detected language: English\n"
     ]
    },
    {
     "name": "stderr",
     "output_type": "stream",
     "text": [
      "100%|██████████| 5368/5368 [00:17<00:00, 313.30frames/s]\n"
     ]
    },
    {
     "name": "stdout",
     "output_type": "stream",
     "text": [
      "Error extracting advanced features: Command requires more than the given 3 arguments: no value for argument \"Interpolation\".\n",
      "OK: toeic-0135-short-talk-65.wav\n",
      "Detected language: English\n"
     ]
    },
    {
     "name": "stderr",
     "output_type": "stream",
     "text": [
      "100%|██████████| 4173/4173 [00:14<00:00, 296.41frames/s]\n"
     ]
    },
    {
     "name": "stdout",
     "output_type": "stream",
     "text": [
      "Error extracting advanced features: Command requires more than the given 3 arguments: no value for argument \"Interpolation\".\n",
      "OK: toeic-0071-short-talk-31.wav\n",
      "Detected language: English\n"
     ]
    },
    {
     "name": "stderr",
     "output_type": "stream",
     "text": [
      "100%|██████████| 2194/2194 [00:06<00:00, 326.96frames/s]\n"
     ]
    },
    {
     "name": "stdout",
     "output_type": "stream",
     "text": [
      "Error extracting advanced features: Command requires more than the given 3 arguments: no value for argument \"Interpolation\".\n",
      "OK: AUDIO-2025-04-03-22-17-28.wav\n",
      "Detected language: English\n"
     ]
    },
    {
     "name": "stderr",
     "output_type": "stream",
     "text": [
      "100%|██████████| 22276/22276 [01:12<00:00, 309.24frames/s]\n"
     ]
    },
    {
     "name": "stdout",
     "output_type": "stream",
     "text": [
      "Error extracting advanced features: Command requires more than the given 3 arguments: no value for argument \"Interpolation\".\n",
      "OK: rusith_hci_audio.wav\n",
      "Detected language: English\n"
     ]
    },
    {
     "name": "stderr",
     "output_type": "stream",
     "text": [
      "100%|██████████| 19192/19192 [00:52<00:00, 364.06frames/s]\n"
     ]
    },
    {
     "name": "stdout",
     "output_type": "stream",
     "text": [
      "Error extracting advanced features: Command requires more than the given 3 arguments: no value for argument \"Interpolation\".\n",
      "OK: short-stories-0253-256-the-two-cultures.wav\n",
      "Detected language: English\n"
     ]
    },
    {
     "name": "stderr",
     "output_type": "stream",
     "text": [
      "100%|██████████| 7591/7591 [00:27<00:00, 278.09frames/s]\n"
     ]
    },
    {
     "name": "stdout",
     "output_type": "stream",
     "text": [
      "Error extracting advanced features: Command requires more than the given 3 arguments: no value for argument \"Interpolation\".\n",
      "OK: short-stories-0079-79-emotions.wav\n",
      "Detected language: English\n"
     ]
    },
    {
     "name": "stderr",
     "output_type": "stream",
     "text": [
      "100%|██████████| 27003/27003 [01:24<00:00, 318.49frames/s]\n"
     ]
    },
    {
     "name": "stdout",
     "output_type": "stream",
     "text": [
      "Error extracting advanced features: Command requires more than the given 3 arguments: no value for argument \"Interpolation\".\n",
      "OK: ielts-listening-0034-cam17-test-1-part-2.wav\n",
      "Detected language: English\n"
     ]
    },
    {
     "name": "stderr",
     "output_type": "stream",
     "text": [
      "100%|██████████| 3105/3105 [00:12<00:00, 245.69frames/s]\n"
     ]
    },
    {
     "name": "stdout",
     "output_type": "stream",
     "text": [
      "Error extracting advanced features: Command requires more than the given 3 arguments: no value for argument \"Interpolation\".\n",
      "OK: toeic-0014-short-talk-4.wav\n",
      "Detected language: English\n"
     ]
    },
    {
     "name": "stderr",
     "output_type": "stream",
     "text": [
      "100%|██████████| 6594/6594 [00:20<00:00, 326.71frames/s]\n"
     ]
    },
    {
     "name": "stdout",
     "output_type": "stream",
     "text": [
      "Error extracting advanced features: Command requires more than the given 3 arguments: no value for argument \"Interpolation\".\n",
      "OK: AUDIO-2025-04-03-22-17-38.wav\n",
      "Detected language: English\n"
     ]
    },
    {
     "name": "stderr",
     "output_type": "stream",
     "text": [
      "100%|██████████| 4038/4038 [00:13<00:00, 303.76frames/s]\n"
     ]
    },
    {
     "name": "stdout",
     "output_type": "stream",
     "text": [
      "Error extracting advanced features: Command requires more than the given 3 arguments: no value for argument \"Interpolation\".\n",
      "OK: toeic-0474-short-talk-234.wav\n",
      "Detected language: English\n"
     ]
    },
    {
     "name": "stderr",
     "output_type": "stream",
     "text": [
      "100%|█████████▉| 24072/24074 [01:19<00:00, 301.69frames/s]\n"
     ]
    },
    {
     "name": "stdout",
     "output_type": "stream",
     "text": [
      "Error extracting advanced features: Command requires more than the given 3 arguments: no value for argument \"Interpolation\".\n",
      "OK: ielts-listening-0074-cam15-test-3-part-2.wav\n",
      "Detected language: English\n"
     ]
    },
    {
     "name": "stderr",
     "output_type": "stream",
     "text": [
      "100%|██████████| 26736/26736 [01:20<00:00, 332.62frames/s]\n"
     ]
    },
    {
     "name": "stdout",
     "output_type": "stream",
     "text": [
      "Error extracting advanced features: Command requires more than the given 3 arguments: no value for argument \"Interpolation\".\n",
      "OK: ielts-listening-0274-ielts-recent-actual-test-1-part-2.wav\n",
      "Detected language: English\n"
     ]
    },
    {
     "name": "stderr",
     "output_type": "stream",
     "text": [
      "100%|██████████| 24597/24597 [01:11<00:00, 343.02frames/s]\n"
     ]
    },
    {
     "name": "stdout",
     "output_type": "stream",
     "text": [
      "Error extracting advanced features: Command requires more than the given 3 arguments: no value for argument \"Interpolation\".\n",
      "OK: ielts-listening-0078-cam15-test-4-part-2.wav\n",
      "Detected language: English\n"
     ]
    },
    {
     "name": "stderr",
     "output_type": "stream",
     "text": [
      "100%|██████████| 3822/3822 [00:13<00:00, 286.47frames/s]\n"
     ]
    },
    {
     "name": "stdout",
     "output_type": "stream",
     "text": [
      "Error extracting advanced features: Command requires more than the given 3 arguments: no value for argument \"Interpolation\".\n",
      "OK: toeic-0360-short-talk-180.wav\n",
      "Detected language: English\n"
     ]
    },
    {
     "name": "stderr",
     "output_type": "stream",
     "text": [
      "100%|██████████| 4023/4023 [00:14<00:00, 284.94frames/s]\n"
     ]
    },
    {
     "name": "stdout",
     "output_type": "stream",
     "text": [
      "Error extracting advanced features: Command requires more than the given 3 arguments: no value for argument \"Interpolation\".\n",
      "OK: toeic-0240-short-talk-120.wav\n",
      "Detected language: English\n"
     ]
    },
    {
     "name": "stderr",
     "output_type": "stream",
     "text": [
      "100%|██████████| 7050/7050 [00:20<00:00, 342.67frames/s]\n"
     ]
    },
    {
     "name": "stdout",
     "output_type": "stream",
     "text": [
      "Error extracting advanced features: Command requires more than the given 3 arguments: no value for argument \"Interpolation\".\n",
      "OK: short-stories-0010-10-joes-first-car.wav\n",
      "Detected language: English\n"
     ]
    },
    {
     "name": "stderr",
     "output_type": "stream",
     "text": [
      "100%|██████████| 3544/3544 [00:14<00:00, 242.11frames/s]\n"
     ]
    },
    {
     "name": "stdout",
     "output_type": "stream",
     "text": [
      "Error extracting advanced features: Command requires more than the given 3 arguments: no value for argument \"Interpolation\".\n",
      "OK: toeic-0396-short-talk-196.wav\n",
      "Detected language: English\n"
     ]
    },
    {
     "name": "stderr",
     "output_type": "stream",
     "text": [
      "100%|██████████| 13753/13753 [00:39<00:00, 347.01frames/s]\n"
     ]
    },
    {
     "name": "stdout",
     "output_type": "stream",
     "text": [
      "Error extracting advanced features: Command requires more than the given 3 arguments: no value for argument \"Interpolation\".\n",
      "OK: short-stories-0092-92-the-library.wav\n",
      "Detected language: English\n"
     ]
    },
    {
     "name": "stderr",
     "output_type": "stream",
     "text": [
      "100%|██████████| 3751/3751 [00:13<00:00, 274.89frames/s]\n"
     ]
    },
    {
     "name": "stdout",
     "output_type": "stream",
     "text": [
      "Error extracting advanced features: Command requires more than the given 3 arguments: no value for argument \"Interpolation\".\n",
      "OK: toeic-0457-short-talk-227.wav\n",
      "Detected language: English\n"
     ]
    },
    {
     "name": "stderr",
     "output_type": "stream",
     "text": [
      "100%|██████████| 19738/19738 [01:05<00:00, 301.97frames/s]\n"
     ]
    },
    {
     "name": "stdout",
     "output_type": "stream",
     "text": [
      "Error extracting advanced features: Command requires more than the given 3 arguments: no value for argument \"Interpolation\".\n",
      "OK: short-stories-0267-270-hawaii.wav\n",
      "Detected language: English\n"
     ]
    },
    {
     "name": "stderr",
     "output_type": "stream",
     "text": [
      "100%|██████████| 4743/4743 [00:16<00:00, 279.36frames/s]\n"
     ]
    },
    {
     "name": "stdout",
     "output_type": "stream",
     "text": [
      "Error extracting advanced features: Command requires more than the given 3 arguments: no value for argument \"Interpolation\".\n",
      "OK: toeic-0435-short-talk-215.wav\n",
      "Detected language: English\n"
     ]
    },
    {
     "name": "stderr",
     "output_type": "stream",
     "text": [
      "100%|██████████| 35326/35326 [01:41<00:00, 346.48frames/s]\n"
     ]
    },
    {
     "name": "stdout",
     "output_type": "stream",
     "text": [
      "Error extracting advanced features: Command requires more than the given 3 arguments: no value for argument \"Interpolation\".\n",
      "OK: ielts-listening-0060-cam16-test-3-part-4.wav\n",
      "Detected language: English\n"
     ]
    },
    {
     "name": "stderr",
     "output_type": "stream",
     "text": [
      "100%|██████████| 3943/3943 [00:13<00:00, 281.67frames/s]\n"
     ]
    },
    {
     "name": "stdout",
     "output_type": "stream",
     "text": [
      "Error extracting advanced features: Command requires more than the given 3 arguments: no value for argument \"Interpolation\".\n",
      "OK: toeic-0156-short-talk-76.wav\n",
      "Detected language: English\n"
     ]
    },
    {
     "name": "stderr",
     "output_type": "stream",
     "text": [
      "100%|██████████| 11143/11143 [00:35<00:00, 316.90frames/s]\n"
     ]
    },
    {
     "name": "stdout",
     "output_type": "stream",
     "text": [
      "Error extracting advanced features: Command requires more than the given 3 arguments: no value for argument \"Interpolation\".\n",
      "OK: short-stories-0033-33-travel.wav\n",
      "Detected language: English\n"
     ]
    },
    {
     "name": "stderr",
     "output_type": "stream",
     "text": [
      "100%|██████████| 4613/4613 [00:16<00:00, 287.64frames/s]\n"
     ]
    },
    {
     "name": "stdout",
     "output_type": "stream",
     "text": [
      "Error extracting advanced features: Command requires more than the given 3 arguments: no value for argument \"Interpolation\".\n",
      "OK: toeic-0037-short-talk-17.wav\n",
      "Detected language: English\n"
     ]
    },
    {
     "name": "stderr",
     "output_type": "stream",
     "text": [
      "100%|██████████| 3079/3079 [00:14<00:00, 218.96frames/s]\n"
     ]
    },
    {
     "name": "stdout",
     "output_type": "stream",
     "text": [
      "Error extracting advanced features: Command requires more than the given 3 arguments: no value for argument \"Interpolation\".\n",
      "OK: toeic-0293-short-talk-143.wav\n",
      "Detected language: English\n"
     ]
    },
    {
     "name": "stderr",
     "output_type": "stream",
     "text": [
      "100%|██████████| 12849/12849 [00:42<00:00, 300.09frames/s]\n"
     ]
    },
    {
     "name": "stdout",
     "output_type": "stream",
     "text": [
      "Error extracting advanced features: Command requires more than the given 3 arguments: no value for argument \"Interpolation\".\n",
      "OK: short-stories-0127-128-home-alone.wav\n",
      "Detected language: English\n"
     ]
    },
    {
     "name": "stderr",
     "output_type": "stream",
     "text": [
      "100%|██████████| 15514/15514 [00:44<00:00, 346.88frames/s]\n"
     ]
    },
    {
     "name": "stdout",
     "output_type": "stream",
     "text": [
      "Error extracting advanced features: Command requires more than the given 3 arguments: no value for argument \"Interpolation\".\n",
      "OK: short-stories-0147-148-christmas.wav\n",
      "Detected language: English\n"
     ]
    },
    {
     "name": "stderr",
     "output_type": "stream",
     "text": [
      "100%|██████████| 6173/6173 [00:19<00:00, 320.66frames/s]\n"
     ]
    },
    {
     "name": "stdout",
     "output_type": "stream",
     "text": [
      "Error extracting advanced features: Command requires more than the given 3 arguments: no value for argument \"Interpolation\".\n",
      "OK: AUDIO-2025-04-03-22-01-07 2.wav\n",
      "Detected language: English\n"
     ]
    },
    {
     "name": "stderr",
     "output_type": "stream",
     "text": [
      "100%|██████████| 3448/3448 [00:12<00:00, 266.37frames/s]\n"
     ]
    },
    {
     "name": "stdout",
     "output_type": "stream",
     "text": [
      "Error extracting advanced features: Command requires more than the given 3 arguments: no value for argument \"Interpolation\".\n",
      "OK: toeic-0416-short-talk-206.wav\n",
      "Detected language: English\n"
     ]
    },
    {
     "name": "stderr",
     "output_type": "stream",
     "text": [
      "100%|██████████| 15600/15600 [00:44<00:00, 349.46frames/s]\n"
     ]
    },
    {
     "name": "stdout",
     "output_type": "stream",
     "text": [
      "Error extracting advanced features: Command requires more than the given 3 arguments: no value for argument \"Interpolation\".\n",
      "OK: short-stories-0031-31-flowers.wav\n",
      "Detected language: English\n"
     ]
    },
    {
     "name": "stderr",
     "output_type": "stream",
     "text": [
      "100%|██████████| 4214/4214 [00:14<00:00, 283.18frames/s]\n"
     ]
    },
    {
     "name": "stdout",
     "output_type": "stream",
     "text": [
      "Error extracting advanced features: Command requires more than the given 3 arguments: no value for argument \"Interpolation\".\n",
      "OK: toeic-0138-short-talk-68.wav\n",
      "Detected language: English\n"
     ]
    },
    {
     "name": "stderr",
     "output_type": "stream",
     "text": [
      "100%|██████████| 4516/4516 [00:13<00:00, 325.40frames/s]\n"
     ]
    },
    {
     "name": "stdout",
     "output_type": "stream",
     "text": [
      "Error extracting advanced features: Command requires more than the given 3 arguments: no value for argument \"Interpolation\".\n",
      "OK: toeic-0033-short-talk-13.wav\n",
      "Detected language: English\n"
     ]
    },
    {
     "name": "stderr",
     "output_type": "stream",
     "text": [
      "100%|██████████| 19782/19782 [01:04<00:00, 308.90frames/s]\n"
     ]
    },
    {
     "name": "stdout",
     "output_type": "stream",
     "text": [
      "Error extracting advanced features: Command requires more than the given 3 arguments: no value for argument \"Interpolation\".\n",
      "OK: short-stories-0280-284-alexander-graham-bell.wav\n",
      "Detected language: English\n"
     ]
    },
    {
     "name": "stderr",
     "output_type": "stream",
     "text": [
      "100%|██████████| 22227/22227 [01:07<00:00, 330.42frames/s]\n"
     ]
    },
    {
     "name": "stdout",
     "output_type": "stream",
     "text": [
      "Error extracting advanced features: Command requires more than the given 3 arguments: no value for argument \"Interpolation\".\n",
      "OK: Nuwin_audio.wav\n",
      "Detected language: English\n"
     ]
    },
    {
     "name": "stderr",
     "output_type": "stream",
     "text": [
      "100%|██████████| 40852/40852 [02:19<00:00, 293.77frames/s]\n"
     ]
    },
    {
     "name": "stdout",
     "output_type": "stream",
     "text": [
      "Error extracting advanced features: Command requires more than the given 3 arguments: no value for argument \"Interpolation\".\n",
      "OK: ielts-listening-0308-ielts-recent-actual-test-29-part-4.wav\n",
      "Detected language: English\n"
     ]
    },
    {
     "name": "stderr",
     "output_type": "stream",
     "text": [
      "100%|██████████| 5058/5058 [00:16<00:00, 298.88frames/s]\n"
     ]
    },
    {
     "name": "stdout",
     "output_type": "stream",
     "text": [
      "Error extracting advanced features: Command requires more than the given 3 arguments: no value for argument \"Interpolation\".\n",
      "OK: AUDIO-2025-04-03-22-01-07 3.wav\n",
      "Detected language: English\n"
     ]
    },
    {
     "name": "stderr",
     "output_type": "stream",
     "text": [
      "100%|██████████| 11280/11280 [00:36<00:00, 308.12frames/s]\n"
     ]
    },
    {
     "name": "stdout",
     "output_type": "stream",
     "text": [
      "Error extracting advanced features: Command requires more than the given 3 arguments: no value for argument \"Interpolation\".\n",
      "OK: ielts-listening-0010-cam19-test-3-part-1.wav\n",
      "Detected language: English\n"
     ]
    },
    {
     "name": "stderr",
     "output_type": "stream",
     "text": [
      "100%|██████████| 21271/21271 [01:01<00:00, 345.13frames/s]\n"
     ]
    },
    {
     "name": "stdout",
     "output_type": "stream",
     "text": [
      "Error extracting advanced features: Command requires more than the given 3 arguments: no value for argument \"Interpolation\".\n",
      "OK: short-stories-0266-269-gilbert-and-sullivan.wav\n",
      "Detected language: English\n"
     ]
    },
    {
     "name": "stderr",
     "output_type": "stream",
     "text": [
      "100%|██████████| 8131/8131 [00:22<00:00, 362.77frames/s]\n"
     ]
    },
    {
     "name": "stdout",
     "output_type": "stream",
     "text": [
      "Error extracting advanced features: Command requires more than the given 3 arguments: no value for argument \"Interpolation\".\n",
      "OK: short-stories-0056-56-traffic.wav\n",
      "Detected language: English\n"
     ]
    },
    {
     "name": "stderr",
     "output_type": "stream",
     "text": [
      "100%|██████████| 15213/15213 [00:46<00:00, 325.63frames/s]\n"
     ]
    },
    {
     "name": "stdout",
     "output_type": "stream",
     "text": [
      "Error extracting advanced features: Command requires more than the given 3 arguments: no value for argument \"Interpolation\".\n",
      "OK: short-stories-0204-205-great-lakes.wav\n",
      "Detected language: English\n"
     ]
    },
    {
     "name": "stderr",
     "output_type": "stream",
     "text": [
      "100%|██████████| 3612/3612 [00:13<00:00, 267.02frames/s]\n"
     ]
    },
    {
     "name": "stdout",
     "output_type": "stream",
     "text": [
      "Error extracting advanced features: Command requires more than the given 3 arguments: no value for argument \"Interpolation\".\n",
      "OK: toeic-0152-short-talk-72.wav\n",
      "Detected language: English\n"
     ]
    },
    {
     "name": "stderr",
     "output_type": "stream",
     "text": [
      "100%|██████████| 25486/25486 [01:22<00:00, 308.41frames/s]\n"
     ]
    },
    {
     "name": "stdout",
     "output_type": "stream",
     "text": [
      "Error extracting advanced features: Command requires more than the given 3 arguments: no value for argument \"Interpolation\".\n",
      "OK: ielts-listening-0110-cam13-test-4-part-2.wav\n",
      "Detected language: English\n"
     ]
    },
    {
     "name": "stderr",
     "output_type": "stream",
     "text": [
      "100%|██████████| 14096/14096 [00:32<00:00, 436.73frames/s]\n"
     ]
    },
    {
     "name": "stdout",
     "output_type": "stream",
     "text": [
      "Error extracting advanced features: Command requires more than the given 3 arguments: no value for argument \"Interpolation\".\n",
      "OK: hci_sandali_audio_03.wav\n",
      "Detected language: English\n"
     ]
    },
    {
     "name": "stderr",
     "output_type": "stream",
     "text": [
      "100%|██████████| 14192/14192 [00:41<00:00, 338.11frames/s]\n"
     ]
    },
    {
     "name": "stdout",
     "output_type": "stream",
     "text": [
      "Error extracting advanced features: Command requires more than the given 3 arguments: no value for argument \"Interpolation\".\n",
      "OK: short-stories-0145-146-learning-to-drive.wav\n",
      "Detected language: English\n"
     ]
    },
    {
     "name": "stderr",
     "output_type": "stream",
     "text": [
      "100%|██████████| 5600/5600 [00:19<00:00, 284.40frames/s]\n"
     ]
    },
    {
     "name": "stdout",
     "output_type": "stream",
     "text": [
      "Error extracting advanced features: Command requires more than the given 3 arguments: no value for argument \"Interpolation\".\n",
      "OK: toeic-0273-short-talk-133.wav\n",
      "Detected language: English\n"
     ]
    },
    {
     "name": "stderr",
     "output_type": "stream",
     "text": [
      "100%|██████████| 3385/3385 [00:13<00:00, 242.20frames/s]\n"
     ]
    },
    {
     "name": "stdout",
     "output_type": "stream",
     "text": [
      "Error extracting advanced features: Command requires more than the given 3 arguments: no value for argument \"Interpolation\".\n",
      "OK: toeic-0078-short-talk-38.wav\n",
      "Detected language: English\n"
     ]
    },
    {
     "name": "stderr",
     "output_type": "stream",
     "text": [
      "100%|██████████| 5481/5481 [00:14<00:00, 376.10frames/s]\n"
     ]
    },
    {
     "name": "stdout",
     "output_type": "stream",
     "text": [
      "Error extracting advanced features: Command requires more than the given 3 arguments: no value for argument \"Interpolation\".\n",
      "OK: toeic-0119-short-talk-59.wav\n",
      "Detected language: English\n"
     ]
    },
    {
     "name": "stderr",
     "output_type": "stream",
     "text": [
      "100%|██████████| 33048/33048 [01:47<00:00, 308.64frames/s]\n"
     ]
    },
    {
     "name": "stdout",
     "output_type": "stream",
     "text": [
      "Error extracting advanced features: Command requires more than the given 3 arguments: no value for argument \"Interpolation\".\n",
      "OK: ielts-listening-0316-ielts-recent-actual-test-31-part-4.wav\n",
      "Detected language: English\n"
     ]
    },
    {
     "name": "stderr",
     "output_type": "stream",
     "text": [
      "100%|██████████| 19043/19043 [00:58<00:00, 322.85frames/s]\n"
     ]
    },
    {
     "name": "stdout",
     "output_type": "stream",
     "text": [
      "Error extracting advanced features: Command requires more than the given 3 arguments: no value for argument \"Interpolation\".\n",
      "OK: short-stories-0270-273-las-vegas-nevada.wav\n",
      "Detected language: English\n"
     ]
    },
    {
     "name": "stderr",
     "output_type": "stream",
     "text": [
      "100%|██████████| 4421/4421 [00:14<00:00, 312.45frames/s]\n"
     ]
    },
    {
     "name": "stdout",
     "output_type": "stream",
     "text": [
      "Error extracting advanced features: Command requires more than the given 3 arguments: no value for argument \"Interpolation\".\n",
      "OK: toeic-0018-short-talk-8.wav\n",
      "Detected language: English\n"
     ]
    },
    {
     "name": "stderr",
     "output_type": "stream",
     "text": [
      "100%|██████████| 4228/4228 [00:13<00:00, 310.01frames/s]\n"
     ]
    },
    {
     "name": "stdout",
     "output_type": "stream",
     "text": [
      "Error extracting advanced features: Command requires more than the given 3 arguments: no value for argument \"Interpolation\".\n",
      "OK: toeic-0211-short-talk-101.wav\n",
      "Detected language: English\n"
     ]
    },
    {
     "name": "stderr",
     "output_type": "stream",
     "text": [
      "100%|██████████| 4206/4206 [00:14<00:00, 284.83frames/s]\n"
     ]
    },
    {
     "name": "stdout",
     "output_type": "stream",
     "text": [
      "Error extracting advanced features: Command requires more than the given 3 arguments: no value for argument \"Interpolation\".\n",
      "OK: toeic-0232-short-talk-112.wav\n",
      "Detected language: English\n"
     ]
    },
    {
     "name": "stderr",
     "output_type": "stream",
     "text": [
      "100%|██████████| 20098/20098 [00:58<00:00, 341.12frames/s]\n"
     ]
    },
    {
     "name": "stdout",
     "output_type": "stream",
     "text": [
      "Error extracting advanced features: Command requires more than the given 3 arguments: no value for argument \"Interpolation\".\n",
      "OK: short-stories-0236-238-the-ford-pinto-case.wav\n",
      "Detected language: English\n"
     ]
    },
    {
     "name": "stderr",
     "output_type": "stream",
     "text": [
      "100%|██████████| 3659/3659 [00:13<00:00, 263.37frames/s]\n"
     ]
    },
    {
     "name": "stdout",
     "output_type": "stream",
     "text": [
      "Error extracting advanced features: Command requires more than the given 3 arguments: no value for argument \"Interpolation\".\n",
      "OK: toeic-0494-short-talk-244.wav\n",
      "Detected language: English\n"
     ]
    },
    {
     "name": "stderr",
     "output_type": "stream",
     "text": [
      "100%|██████████| 8547/8547 [00:21<00:00, 390.36frames/s]\n"
     ]
    },
    {
     "name": "stdout",
     "output_type": "stream",
     "text": [
      "Error extracting advanced features: Command requires more than the given 3 arguments: no value for argument \"Interpolation\".\n",
      "OK: AUDIO-2025-04-03-22-17-39.wav\n",
      "Detected language: English\n"
     ]
    },
    {
     "name": "stderr",
     "output_type": "stream",
     "text": [
      "100%|██████████| 3785/3785 [00:14<00:00, 259.61frames/s]\n"
     ]
    },
    {
     "name": "stdout",
     "output_type": "stream",
     "text": [
      "Error extracting advanced features: Command requires more than the given 3 arguments: no value for argument \"Interpolation\".\n",
      "OK: toeic-0134-short-talk-64.wav\n",
      "Detected language: English\n"
     ]
    },
    {
     "name": "stderr",
     "output_type": "stream",
     "text": [
      "100%|██████████| 18802/18802 [00:52<00:00, 358.80frames/s]\n"
     ]
    },
    {
     "name": "stdout",
     "output_type": "stream",
     "text": [
      "Error extracting advanced features: Command requires more than the given 3 arguments: no value for argument \"Interpolation\".\n",
      "OK: short-stories-0196-197-the-mississippi-river.wav\n",
      "Detected language: English\n"
     ]
    },
    {
     "name": "stderr",
     "output_type": "stream",
     "text": [
      "100%|██████████| 9134/9134 [00:28<00:00, 324.53frames/s]\n"
     ]
    },
    {
     "name": "stdout",
     "output_type": "stream",
     "text": [
      "Error extracting advanced features: Command requires more than the given 3 arguments: no value for argument \"Interpolation\".\n",
      "OK: ielts-listening-0183-cam8-test-2-part-3.wav\n",
      "Detected language: English\n"
     ]
    },
    {
     "name": "stderr",
     "output_type": "stream",
     "text": [
      "100%|██████████| 10548/10548 [00:29<00:00, 363.49frames/s]\n"
     ]
    },
    {
     "name": "stdout",
     "output_type": "stream",
     "text": [
      "Error extracting advanced features: Command requires more than the given 3 arguments: no value for argument \"Interpolation\".\n",
      "OK: short-stories-0072-72-my-family.wav\n",
      "Detected language: English\n"
     ]
    },
    {
     "name": "stderr",
     "output_type": "stream",
     "text": [
      "100%|██████████| 5522/5522 [00:15<00:00, 351.19frames/s]\n"
     ]
    },
    {
     "name": "stdout",
     "output_type": "stream",
     "text": [
      "Error extracting advanced features: Command requires more than the given 3 arguments: no value for argument \"Interpolation\".\n",
      "OK: toeic-0111-short-talk-51.wav\n",
      "Detected language: English\n"
     ]
    },
    {
     "name": "stderr",
     "output_type": "stream",
     "text": [
      "100%|██████████| 4001/4001 [00:14<00:00, 279.76frames/s]\n"
     ]
    },
    {
     "name": "stdout",
     "output_type": "stream",
     "text": [
      "Error extracting advanced features: Command requires more than the given 3 arguments: no value for argument \"Interpolation\".\n",
      "OK: toeic-0556-short-talk-276.wav\n",
      "Detected language: English\n"
     ]
    },
    {
     "name": "stderr",
     "output_type": "stream",
     "text": [
      "100%|██████████| 3406/3406 [00:13<00:00, 249.71frames/s]\n"
     ]
    },
    {
     "name": "stdout",
     "output_type": "stream",
     "text": [
      "Error extracting advanced features: Command requires more than the given 3 arguments: no value for argument \"Interpolation\".\n",
      "OK: toeic-0193-short-talk-93.wav\n",
      "Detected language: English\n"
     ]
    },
    {
     "name": "stderr",
     "output_type": "stream",
     "text": [
      "100%|██████████| 35213/35213 [01:38<00:00, 355.76frames/s]\n"
     ]
    },
    {
     "name": "stdout",
     "output_type": "stream",
     "text": [
      "Error extracting advanced features: Command requires more than the given 3 arguments: no value for argument \"Interpolation\".\n",
      "OK: ielts-listening-0232-cam5-test-2-part-4.wav\n",
      "Detected language: English\n"
     ]
    },
    {
     "name": "stderr",
     "output_type": "stream",
     "text": [
      "100%|██████████| 2922/2922 [00:09<00:00, 308.10frames/s]\n"
     ]
    },
    {
     "name": "stdout",
     "output_type": "stream",
     "text": [
      "Error extracting advanced features: Command requires more than the given 3 arguments: no value for argument \"Interpolation\".\n",
      "OK: toeic-0173-short-talk-83.wav\n",
      "Detected language: English\n"
     ]
    },
    {
     "name": "stderr",
     "output_type": "stream",
     "text": [
      "100%|██████████| 4020/4020 [00:13<00:00, 302.54frames/s]\n"
     ]
    },
    {
     "name": "stdout",
     "output_type": "stream",
     "text": [
      "Error extracting advanced features: Command requires more than the given 3 arguments: no value for argument \"Interpolation\".\n",
      "OK: toeic-0096-short-talk-46.wav\n",
      "Detected language: English\n"
     ]
    },
    {
     "name": "stderr",
     "output_type": "stream",
     "text": [
      "100%|██████████| 4746/4746 [00:13<00:00, 344.25frames/s]\n"
     ]
    },
    {
     "name": "stdout",
     "output_type": "stream",
     "text": [
      "Error extracting advanced features: Command requires more than the given 3 arguments: no value for argument \"Interpolation\".\n",
      "OK: toeic-0498-short-talk-248.wav\n",
      "Detected language: English\n"
     ]
    },
    {
     "name": "stderr",
     "output_type": "stream",
     "text": [
      "100%|██████████| 5185/5185 [00:14<00:00, 351.80frames/s]\n"
     ]
    },
    {
     "name": "stdout",
     "output_type": "stream",
     "text": [
      "Error extracting advanced features: Command requires more than the given 3 arguments: no value for argument \"Interpolation\".\n",
      "OK: toeic-0040-short-talk-20.wav\n",
      "Detected language: English\n"
     ]
    },
    {
     "name": "stderr",
     "output_type": "stream",
     "text": [
      "100%|██████████| 30897/30897 [01:26<00:00, 356.14frames/s]\n"
     ]
    },
    {
     "name": "stdout",
     "output_type": "stream",
     "text": [
      "Error extracting advanced features: Command requires more than the given 3 arguments: no value for argument \"Interpolation\".\n",
      "OK: ielts-listening-0042-cam17-test-3-part-2.wav\n",
      "Detected language: English\n"
     ]
    },
    {
     "name": "stderr",
     "output_type": "stream",
     "text": [
      "100%|██████████| 3291/3291 [00:14<00:00, 235.03frames/s]\n"
     ]
    },
    {
     "name": "stdout",
     "output_type": "stream",
     "text": [
      "Error extracting advanced features: Command requires more than the given 3 arguments: no value for argument \"Interpolation\".\n",
      "OK: toeic-0536-short-talk-266.wav\n",
      "Detected language: English\n"
     ]
    },
    {
     "name": "stderr",
     "output_type": "stream",
     "text": [
      "100%|██████████| 11956/11956 [00:37<00:00, 320.95frames/s]\n"
     ]
    },
    {
     "name": "stdout",
     "output_type": "stream",
     "text": [
      "Error extracting advanced features: Command requires more than the given 3 arguments: no value for argument \"Interpolation\".\n",
      "OK: short-stories-0081-81-the-lie.wav\n",
      "Detected language: English\n"
     ]
    },
    {
     "name": "stderr",
     "output_type": "stream",
     "text": [
      "100%|██████████| 2510/2510 [00:07<00:00, 315.73frames/s]\n"
     ]
    },
    {
     "name": "stdout",
     "output_type": "stream",
     "text": [
      "Error extracting advanced features: Command requires more than the given 3 arguments: no value for argument \"Interpolation\".\n",
      "OK: toeic-0517-short-talk-257.wav\n",
      "Detected language: English\n"
     ]
    },
    {
     "name": "stderr",
     "output_type": "stream",
     "text": [
      "100%|██████████| 24448/24448 [01:12<00:00, 338.78frames/s]\n"
     ]
    },
    {
     "name": "stdout",
     "output_type": "stream",
     "text": [
      "Error extracting advanced features: Command requires more than the given 3 arguments: no value for argument \"Interpolation\".\n",
      "OK: short-stories-0256-259-anastasia-and-the-russian-revolution.wav\n",
      "Detected language: English\n"
     ]
    },
    {
     "name": "stderr",
     "output_type": "stream",
     "text": [
      "100%|██████████| 8322/8322 [00:21<00:00, 388.54frames/s]\n"
     ]
    },
    {
     "name": "stdout",
     "output_type": "stream",
     "text": [
      "Error extracting advanced features: Command requires more than the given 3 arguments: no value for argument \"Interpolation\".\n",
      "OK: short-stories-0016-16-christmas-eve.wav\n",
      "Detected language: English\n"
     ]
    },
    {
     "name": "stderr",
     "output_type": "stream",
     "text": [
      "100%|██████████| 22269/22269 [01:06<00:00, 333.72frames/s]\n"
     ]
    },
    {
     "name": "stdout",
     "output_type": "stream",
     "text": [
      "Error extracting advanced features: Command requires more than the given 3 arguments: no value for argument \"Interpolation\".\n",
      "OK: short-stories-0226-228-niagara-on-the-lake.wav\n",
      "Detected language: English\n"
     ]
    },
    {
     "name": "stderr",
     "output_type": "stream",
     "text": [
      "100%|██████████| 12734/12734 [00:37<00:00, 342.33frames/s]\n"
     ]
    },
    {
     "name": "stdout",
     "output_type": "stream",
     "text": [
      "Error extracting advanced features: Command requires more than the given 3 arguments: no value for argument \"Interpolation\".\n",
      "OK: short-stories-0158-159-visiting-the-doctor.wav\n",
      "Detected language: English\n"
     ]
    },
    {
     "name": "stderr",
     "output_type": "stream",
     "text": [
      "100%|██████████| 10326/10326 [00:30<00:00, 333.64frames/s]\n"
     ]
    },
    {
     "name": "stdout",
     "output_type": "stream",
     "text": [
      "Error extracting advanced features: Command requires more than the given 3 arguments: no value for argument \"Interpolation\".\n",
      "OK: short-stories-0089-89-opposites.wav\n",
      "Detected language: English\n"
     ]
    },
    {
     "name": "stderr",
     "output_type": "stream",
     "text": [
      "100%|██████████| 20542/20542 [01:04<00:00, 316.09frames/s]\n"
     ]
    },
    {
     "name": "stdout",
     "output_type": "stream",
     "text": [
      "Error extracting advanced features: Command requires more than the given 3 arguments: no value for argument \"Interpolation\".\n",
      "OK: short-stories-0239-241-the-niagara-parks-commission.wav\n",
      "Detected language: English\n"
     ]
    },
    {
     "name": "stderr",
     "output_type": "stream",
     "text": [
      "100%|██████████| 17410/17410 [00:56<00:00, 310.83frames/s]\n"
     ]
    },
    {
     "name": "stdout",
     "output_type": "stream",
     "text": [
      "Error extracting advanced features: Command requires more than the given 3 arguments: no value for argument \"Interpolation\".\n",
      "OK: short-stories-0277-281-the-great-walls-of-china.wav\n",
      "Detected language: English\n"
     ]
    },
    {
     "name": "stderr",
     "output_type": "stream",
     "text": [
      "100%|██████████| 2421/2421 [00:08<00:00, 288.00frames/s]\n"
     ]
    },
    {
     "name": "stdout",
     "output_type": "stream",
     "text": [
      "Error extracting advanced features: Command requires more than the given 3 arguments: no value for argument \"Interpolation\".\n",
      "OK: toeic-0300-short-talk-150.wav\n",
      "Detected language: English\n"
     ]
    },
    {
     "name": "stderr",
     "output_type": "stream",
     "text": [
      "100%|██████████| 12930/12930 [00:35<00:00, 366.88frames/s]\n"
     ]
    },
    {
     "name": "stdout",
     "output_type": "stream",
     "text": [
      "Error extracting advanced features: Command requires more than the given 3 arguments: no value for argument \"Interpolation\".\n",
      "OK: short-stories-0040-40-clothing.wav\n",
      "Detected language: English\n"
     ]
    },
    {
     "name": "stderr",
     "output_type": "stream",
     "text": [
      "100%|██████████| 12802/12802 [00:38<00:00, 336.50frames/s]\n"
     ]
    },
    {
     "name": "stdout",
     "output_type": "stream",
     "text": [
      "Error extracting advanced features: Command requires more than the given 3 arguments: no value for argument \"Interpolation\".\n",
      "OK: short-stories-0071-71-my-house-1.wav\n",
      "Detected language: English\n"
     ]
    },
    {
     "name": "stderr",
     "output_type": "stream",
     "text": [
      "100%|██████████| 6530/6530 [00:19<00:00, 334.84frames/s]\n"
     ]
    },
    {
     "name": "stdout",
     "output_type": "stream",
     "text": [
      "Error extracting advanced features: Command requires more than the given 3 arguments: no value for argument \"Interpolation\".\n",
      "OK: short-stories-0004-4-going-camping.wav\n",
      "Detected language: English\n"
     ]
    },
    {
     "name": "stderr",
     "output_type": "stream",
     "text": [
      "100%|██████████| 3164/3164 [00:12<00:00, 257.77frames/s]\n"
     ]
    },
    {
     "name": "stdout",
     "output_type": "stream",
     "text": [
      "Error extracting advanced features: Command requires more than the given 3 arguments: no value for argument \"Interpolation\".\n",
      "OK: toeic-0351-short-talk-171.wav\n",
      "Detected language: English\n"
     ]
    },
    {
     "name": "stderr",
     "output_type": "stream",
     "text": [
      "100%|██████████| 99264/99264 [04:38<00:00, 356.03frames/s]\n"
     ]
    },
    {
     "name": "stdout",
     "output_type": "stream",
     "text": [
      "Error extracting advanced features: Command requires more than the given 3 arguments: no value for argument \"Interpolation\".\n",
      "OK: 3 Common Scripts That Control Your Life And Your English Ep 804-e4f18c.wav\n",
      "Detected language: English\n"
     ]
    },
    {
     "name": "stderr",
     "output_type": "stream",
     "text": [
      "100%|██████████| 3237/3237 [00:12<00:00, 264.88frames/s]\n"
     ]
    },
    {
     "name": "stdout",
     "output_type": "stream",
     "text": [
      "Error extracting advanced features: Command requires more than the given 3 arguments: no value for argument \"Interpolation\".\n",
      "OK: toeic-0177-short-talk-87.wav\n",
      "Detected language: English\n"
     ]
    },
    {
     "name": "stderr",
     "output_type": "stream",
     "text": [
      " 53%|█████▎    | 2610/4905 [00:10<00:08, 260.10frames/s]\n"
     ]
    },
    {
     "name": "stdout",
     "output_type": "stream",
     "text": [
      "Error extracting advanced features: Command requires more than the given 3 arguments: no value for argument \"Interpolation\".\n",
      "OK: toeic-0092-short-talk-42.wav\n",
      "Detected language: English\n"
     ]
    },
    {
     "name": "stderr",
     "output_type": "stream",
     "text": [
      "100%|██████████| 25756/25756 [01:12<00:00, 354.59frames/s]\n"
     ]
    },
    {
     "name": "stdout",
     "output_type": "stream",
     "text": [
      "Error extracting advanced features: Command requires more than the given 3 arguments: no value for argument \"Interpolation\".\n",
      "OK: short-stories-0247-250-florence-nightingale.wav\n",
      "Detected language: English\n"
     ]
    },
    {
     "name": "stderr",
     "output_type": "stream",
     "text": [
      "100%|██████████| 4894/4894 [00:13<00:00, 360.52frames/s]\n"
     ]
    },
    {
     "name": "stdout",
     "output_type": "stream",
     "text": [
      "Error extracting advanced features: Command requires more than the given 3 arguments: no value for argument \"Interpolation\".\n",
      "OK: ielts-listening-0010-cam19-test-3-part-2.wav\n",
      "Detected language: English\n"
     ]
    },
    {
     "name": "stderr",
     "output_type": "stream",
     "text": [
      "100%|██████████| 32942/32942 [01:29<00:00, 366.40frames/s]\n"
     ]
    },
    {
     "name": "stdout",
     "output_type": "stream",
     "text": [
      "Error extracting advanced features: Command requires more than the given 3 arguments: no value for argument \"Interpolation\".\n",
      "OK: ielts-listening-0054-cam16-test-2-part-2.wav\n",
      "Detected language: English\n"
     ]
    },
    {
     "name": "stderr",
     "output_type": "stream",
     "text": [
      "100%|██████████| 34265/34265 [01:35<00:00, 360.03frames/s]\n"
     ]
    },
    {
     "name": "stdout",
     "output_type": "stream",
     "text": [
      "Error extracting advanced features: Command requires more than the given 3 arguments: no value for argument \"Interpolation\".\n",
      "OK: ielts-listening-0284-ielts-recent-actual-test-3-part-4.wav\n",
      "Detected language: English\n"
     ]
    },
    {
     "name": "stderr",
     "output_type": "stream",
     "text": [
      "100%|██████████| 5334/5334 [00:15<00:00, 345.78frames/s]\n"
     ]
    },
    {
     "name": "stdout",
     "output_type": "stream",
     "text": [
      "Error extracting advanced features: Command requires more than the given 3 arguments: no value for argument \"Interpolation\".\n",
      "OK: toeic-0478-short-talk-238.wav\n",
      "Detected language: English\n"
     ]
    },
    {
     "name": "stderr",
     "output_type": "stream",
     "text": [
      "100%|██████████| 3030/3030 [00:12<00:00, 243.19frames/s]\n"
     ]
    },
    {
     "name": "stdout",
     "output_type": "stream",
     "text": [
      "Error extracting advanced features: Command requires more than the given 3 arguments: no value for argument \"Interpolation\".\n",
      "OK: toeic-0331-short-talk-161.wav\n",
      "Detected language: English\n"
     ]
    },
    {
     "name": "stderr",
     "output_type": "stream",
     "text": [
      "100%|██████████| 5145/5145 [00:18<00:00, 271.35frames/s]\n"
     ]
    },
    {
     "name": "stdout",
     "output_type": "stream",
     "text": [
      "Error extracting advanced features: Command requires more than the given 3 arguments: no value for argument \"Interpolation\".\n",
      "OK: toeic-0115-short-talk-55.wav\n",
      "Detected language: English\n"
     ]
    },
    {
     "name": "stderr",
     "output_type": "stream",
     "text": [
      "100%|██████████| 3894/3894 [00:14<00:00, 273.30frames/s]\n"
     ]
    },
    {
     "name": "stdout",
     "output_type": "stream",
     "text": [
      "Error extracting advanced features: Command requires more than the given 3 arguments: no value for argument \"Interpolation\".\n",
      "OK: toeic-0592-short-talk-282.wav\n",
      "Detected language: English\n"
     ]
    },
    {
     "name": "stderr",
     "output_type": "stream",
     "text": [
      "100%|██████████| 3424/3424 [00:13<00:00, 261.67frames/s]\n"
     ]
    },
    {
     "name": "stdout",
     "output_type": "stream",
     "text": [
      "Error extracting advanced features: Command requires more than the given 3 arguments: no value for argument \"Interpolation\".\n",
      "OK: toeic-0074-short-talk-34.wav\n",
      "Detected language: English\n"
     ]
    },
    {
     "name": "stderr",
     "output_type": "stream",
     "text": [
      "100%|██████████| 3704/3704 [00:13<00:00, 282.05frames/s]\n"
     ]
    },
    {
     "name": "stdout",
     "output_type": "stream",
     "text": [
      "Error extracting advanced features: Command requires more than the given 3 arguments: no value for argument \"Interpolation\".\n",
      "OK: toeic-0197-short-talk-97.wav\n",
      "Detected language: English\n"
     ]
    },
    {
     "name": "stderr",
     "output_type": "stream",
     "text": [
      "100%|██████████| 14304/14304 [00:45<00:00, 312.06frames/s]\n"
     ]
    },
    {
     "name": "stdout",
     "output_type": "stream",
     "text": [
      "Error extracting advanced features: Command requires more than the given 3 arguments: no value for argument \"Interpolation\".\n",
      "OK: short-stories-0139-140-new-years.wav\n",
      "Detected language: English\n"
     ]
    },
    {
     "name": "stderr",
     "output_type": "stream",
     "text": [
      "100%|██████████| 11358/11358 [00:35<00:00, 319.22frames/s]\n"
     ]
    },
    {
     "name": "stdout",
     "output_type": "stream",
     "text": [
      "Error extracting advanced features: Command requires more than the given 3 arguments: no value for argument \"Interpolation\".\n",
      "OK: short-stories-0153-154-reading-the-newspapers.wav\n",
      "Detected language: English\n"
     ]
    },
    {
     "name": "stderr",
     "output_type": "stream",
     "text": [
      "100%|██████████| 17103/17103 [00:51<00:00, 330.06frames/s]\n"
     ]
    },
    {
     "name": "stdout",
     "output_type": "stream",
     "text": [
      "Error extracting advanced features: Command requires more than the given 3 arguments: no value for argument \"Interpolation\".\n",
      "OK: ielts-listening-0162-cam9-test-1-part-2.wav\n",
      "Detected language: English\n"
     ]
    },
    {
     "name": "stderr",
     "output_type": "stream",
     "text": [
      "100%|██████████| 4756/4756 [00:14<00:00, 321.58frames/s]\n"
     ]
    },
    {
     "name": "stdout",
     "output_type": "stream",
     "text": [
      "Error extracting advanced features: Command requires more than the given 3 arguments: no value for argument \"Interpolation\".\n",
      "OK: toeic-0439-short-talk-219.wav\n",
      "Detected language: English\n"
     ]
    },
    {
     "name": "stderr",
     "output_type": "stream",
     "text": [
      "100%|██████████| 13291/13291 [00:34<00:00, 382.72frames/s]\n"
     ]
    },
    {
     "name": "stdout",
     "output_type": "stream",
     "text": [
      "Error extracting advanced features: Command requires more than the given 3 arguments: no value for argument \"Interpolation\".\n",
      "OK: short-stories-0022-22-meals.wav\n",
      "Detected language: English\n"
     ]
    },
    {
     "name": "stderr",
     "output_type": "stream",
     "text": [
      "100%|██████████| 5723/5723 [00:16<00:00, 341.60frames/s]\n"
     ]
    },
    {
     "name": "stdout",
     "output_type": "stream",
     "text": [
      "Error extracting advanced features: Command requires more than the given 3 arguments: no value for argument \"Interpolation\".\n",
      "OK: short-stories-0054-54-differences.wav\n",
      "Detected language: English\n"
     ]
    },
    {
     "name": "stderr",
     "output_type": "stream",
     "text": [
      "100%|██████████| 2528/2528 [00:07<00:00, 329.34frames/s]\n"
     ]
    },
    {
     "name": "stdout",
     "output_type": "stream",
     "text": [
      "Error extracting advanced features: Command requires more than the given 3 arguments: no value for argument \"Interpolation\".\n",
      "OK: toeic-0112-short-talk-52.wav\n",
      "Detected language: English\n"
     ]
    },
    {
     "name": "stderr",
     "output_type": "stream",
     "text": [
      "100%|██████████| 3197/3197 [00:12<00:00, 256.99frames/s]\n"
     ]
    },
    {
     "name": "stdout",
     "output_type": "stream",
     "text": [
      "Error extracting advanced features: Command requires more than the given 3 arguments: no value for argument \"Interpolation\".\n",
      "OK: toeic-0073-short-talk-33.wav\n",
      "Detected language: English\n"
     ]
    },
    {
     "name": "stderr",
     "output_type": "stream",
     "text": [
      "100%|██████████| 4346/4346 [00:12<00:00, 337.92frames/s]\n"
     ]
    },
    {
     "name": "stdout",
     "output_type": "stream",
     "text": [
      "Error extracting advanced features: Command requires more than the given 3 arguments: no value for argument \"Interpolation\".\n",
      "OK: toeic-0137-short-talk-67.wav\n",
      "Detected language: English\n"
     ]
    },
    {
     "name": "stderr",
     "output_type": "stream",
     "text": [
      "100%|██████████| 19968/19968 [00:58<00:00, 341.02frames/s]\n"
     ]
    },
    {
     "name": "stdout",
     "output_type": "stream",
     "text": [
      "Error extracting advanced features: Command requires more than the given 3 arguments: no value for argument \"Interpolation\".\n",
      "OK: short-stories-0141-142-babies.wav\n",
      "Detected language: English\n"
     ]
    },
    {
     "name": "stderr",
     "output_type": "stream",
     "text": [
      "100%|██████████| 24789/24789 [01:11<00:00, 344.56frames/s]\n"
     ]
    },
    {
     "name": "stdout",
     "output_type": "stream",
     "text": [
      "Error extracting advanced features: Command requires more than the given 3 arguments: no value for argument \"Interpolation\".\n",
      "OK: ielts-listening-0182-cam8-test-2-part-2.wav\n",
      "Detected language: English\n"
     ]
    },
    {
     "name": "stderr",
     "output_type": "stream",
     "text": [
      "100%|██████████| 4519/4519 [00:15<00:00, 295.49frames/s]\n"
     ]
    },
    {
     "name": "stdout",
     "output_type": "stream",
     "text": [
      "Error extracting advanced features: Command requires more than the given 3 arguments: no value for argument \"Interpolation\".\n",
      "OK: toeic-0159-short-talk-79.wav\n",
      "Detected language: English\n"
     ]
    },
    {
     "name": "stderr",
     "output_type": "stream",
     "text": [
      "100%|█████████▉| 36458/36556 [01:33<00:00, 390.86frames/s]\n"
     ]
    },
    {
     "name": "stdout",
     "output_type": "stream",
     "text": [
      "Error extracting advanced features: Command requires more than the given 3 arguments: no value for argument \"Interpolation\".\n",
      "OK: ielts-listening-0072-cam15-test-2-part-4.wav\n",
      "Detected language: English\n"
     ]
    },
    {
     "name": "stderr",
     "output_type": "stream",
     "text": [
      "100%|██████████| 9383/9383 [00:30<00:00, 303.56frames/s]\n"
     ]
    },
    {
     "name": "stdout",
     "output_type": "stream",
     "text": [
      "Error extracting advanced features: Command requires more than the given 3 arguments: no value for argument \"Interpolation\".\n",
      "OK: short-stories-0086-86-a-wedding.wav\n",
      "Detected language: English\n"
     ]
    },
    {
     "name": "stderr",
     "output_type": "stream",
     "text": [
      "100%|██████████| 38482/38482 [01:35<00:00, 401.10frames/s]\n"
     ]
    },
    {
     "name": "stdout",
     "output_type": "stream",
     "text": [
      "Error extracting advanced features: Command requires more than the given 3 arguments: no value for argument \"Interpolation\".\n",
      "OK: ielts-listening-0120-cam12-test-2-part-4.wav\n",
      "Detected language: English\n"
     ]
    },
    {
     "name": "stderr",
     "output_type": "stream",
     "text": [
      "100%|██████████| 3602/3602 [00:13<00:00, 275.81frames/s]\n"
     ]
    },
    {
     "name": "stdout",
     "output_type": "stream",
     "text": [
      "Error extracting advanced features: Command requires more than the given 3 arguments: no value for argument \"Interpolation\".\n",
      "OK: toeic-0597-short-talk-287.wav\n",
      "Detected language: English\n"
     ]
    },
    {
     "name": "stderr",
     "output_type": "stream",
     "text": [
      "100%|██████████| 3350/3350 [00:12<00:00, 266.11frames/s]\n"
     ]
    },
    {
     "name": "stdout",
     "output_type": "stream",
     "text": [
      "Error extracting advanced features: Command requires more than the given 3 arguments: no value for argument \"Interpolation\".\n",
      "OK: toeic-0315-short-talk-155.wav\n",
      "Detected language: English\n"
     ]
    },
    {
     "name": "stderr",
     "output_type": "stream",
     "text": [
      "100%|██████████| 4690/4690 [00:12<00:00, 375.12frames/s]\n"
     ]
    },
    {
     "name": "stdout",
     "output_type": "stream",
     "text": [
      "Error extracting advanced features: Command requires more than the given 3 arguments: no value for argument \"Interpolation\".\n",
      "OK: toeic-0038-short-talk-18.wav\n",
      "Detected language: English\n"
     ]
    },
    {
     "name": "stderr",
     "output_type": "stream",
     "text": [
      "100%|██████████| 80359/80359 [03:40<00:00, 363.89frames/s]\n"
     ]
    },
    {
     "name": "stdout",
     "output_type": "stream",
     "text": [
      "Error extracting advanced features: Command requires more than the given 3 arguments: no value for argument \"Interpolation\".\n",
      "OK: Improve Your English with Positive News-French Clean Power Ep 800-69274d.wav\n",
      "Detected language: English\n"
     ]
    },
    {
     "name": "stderr",
     "output_type": "stream",
     "text": [
      "100%|██████████| 3150/3150 [00:14<00:00, 222.75frames/s]\n"
     ]
    },
    {
     "name": "stdout",
     "output_type": "stream",
     "text": [
      "Error extracting advanced features: Command requires more than the given 3 arguments: no value for argument \"Interpolation\".\n",
      "OK: toeic-0334-short-talk-164.wav\n",
      "Detected language: English\n"
     ]
    },
    {
     "name": "stderr",
     "output_type": "stream",
     "text": [
      "100%|██████████| 13403/13403 [00:39<00:00, 337.61frames/s]\n"
     ]
    },
    {
     "name": "stdout",
     "output_type": "stream",
     "text": [
      "Error extracting advanced features: Command requires more than the given 3 arguments: no value for argument \"Interpolation\".\n",
      "OK: short-stories-0138-139-halloween.wav\n",
      "Detected language: English\n"
     ]
    },
    {
     "name": "stderr",
     "output_type": "stream",
     "text": [
      "100%|██████████| 3557/3557 [00:13<00:00, 262.38frames/s]\n"
     ]
    },
    {
     "name": "stdout",
     "output_type": "stream",
     "text": [
      "Error extracting advanced features: Command requires more than the given 3 arguments: no value for argument \"Interpolation\".\n",
      "OK: toeic-0095-short-talk-45.wav\n",
      "Detected language: English\n"
     ]
    },
    {
     "name": "stderr",
     "output_type": "stream",
     "text": [
      "100%|██████████| 10812/10812 [00:27<00:00, 386.51frames/s]\n"
     ]
    },
    {
     "name": "stdout",
     "output_type": "stream",
     "text": [
      "Error extracting advanced features: Command requires more than the given 3 arguments: no value for argument \"Interpolation\".\n",
      "OK: short-stories-0002-2-jessicas-first-day-of-school.wav\n",
      "Detected language: English\n"
     ]
    },
    {
     "name": "stderr",
     "output_type": "stream",
     "text": [
      "100%|██████████| 28936/28936 [01:24<00:00, 343.48frames/s]\n"
     ]
    },
    {
     "name": "stdout",
     "output_type": "stream",
     "text": [
      "Error extracting advanced features: Command requires more than the given 3 arguments: no value for argument \"Interpolation\".\n",
      "OK: ielts-listening-0134-cam11-test-2-part-2.wav\n",
      "Detected language: English\n"
     ]
    },
    {
     "name": "stderr",
     "output_type": "stream",
     "text": [
      "100%|██████████| 2996/2996 [00:13<00:00, 220.28frames/s]\n"
     ]
    },
    {
     "name": "stdout",
     "output_type": "stream",
     "text": [
      "Error extracting advanced features: Command requires more than the given 3 arguments: no value for argument \"Interpolation\".\n",
      "OK: toeic-0354-short-talk-174.wav\n",
      "Detected language: English\n"
     ]
    },
    {
     "name": "stderr",
     "output_type": "stream",
     "text": [
      "100%|██████████| 25220/25220 [01:18<00:00, 320.50frames/s]\n"
     ]
    },
    {
     "name": "stdout",
     "output_type": "stream",
     "text": [
      "Error extracting advanced features: Command requires more than the given 3 arguments: no value for argument \"Interpolation\".\n",
      "OK: ielts-listening-0278-ielts-recent-actual-test-2-part-2.wav\n",
      "Detected language: English\n"
     ]
    },
    {
     "name": "stderr",
     "output_type": "stream",
     "text": [
      "100%|██████████| 6648/6648 [00:20<00:00, 318.25frames/s]\n"
     ]
    },
    {
     "name": "stdout",
     "output_type": "stream",
     "text": [
      "Error extracting advanced features: Command requires more than the given 3 arguments: no value for argument \"Interpolation\".\n",
      "OK: short-stories-0008-8-marks-big-game.wav\n",
      "Detected language: English\n"
     ]
    },
    {
     "name": "stderr",
     "output_type": "stream",
     "text": [
      "100%|██████████| 8292/8292 [00:20<00:00, 408.87frames/s]\n"
     ]
    },
    {
     "name": "stdout",
     "output_type": "stream",
     "text": [
      "Error extracting advanced features: Command requires more than the given 3 arguments: no value for argument \"Interpolation\".\n",
      "OK: sammani_speech_09.wav\n",
      "Detected language: English\n"
     ]
    },
    {
     "name": "stderr",
     "output_type": "stream",
     "text": [
      "100%|██████████| 9764/9764 [00:27<00:00, 360.62frames/s]\n"
     ]
    },
    {
     "name": "stdout",
     "output_type": "stream",
     "text": [
      "Error extracting advanced features: Command requires more than the given 3 arguments: no value for argument \"Interpolation\".\n",
      "OK: Sri Lanka Institute of Information Technology 7.wav\n",
      "Detected language: English\n"
     ]
    },
    {
     "name": "stderr",
     "output_type": "stream",
     "text": [
      "100%|██████████| 5520/5520 [00:14<00:00, 378.33frames/s]\n"
     ]
    },
    {
     "name": "stdout",
     "output_type": "stream",
     "text": [
      "Error extracting advanced features: Command requires more than the given 3 arguments: no value for argument \"Interpolation\".\n",
      "OK: sammani_speech_08.wav\n",
      "Detected language: English\n"
     ]
    },
    {
     "name": "stderr",
     "output_type": "stream",
     "text": [
      "100%|██████████| 20749/20749 [00:49<00:00, 419.97frames/s]\n"
     ]
    },
    {
     "name": "stdout",
     "output_type": "stream",
     "text": [
      "Error extracting advanced features: Command requires more than the given 3 arguments: no value for argument \"Interpolation\".\n",
      "OK: tharindu_hci_audio.wav\n",
      "Detected language: English\n"
     ]
    },
    {
     "name": "stderr",
     "output_type": "stream",
     "text": [
      "100%|██████████| 6470/6470 [00:18<00:00, 343.84frames/s]\n"
     ]
    },
    {
     "name": "stdout",
     "output_type": "stream",
     "text": [
      "Error extracting advanced features: Command requires more than the given 3 arguments: no value for argument \"Interpolation\".\n",
      "OK: short-stories-0006-6-my-first-pet.wav\n",
      "Detected language: English\n"
     ]
    },
    {
     "name": "stderr",
     "output_type": "stream",
     "text": [
      "100%|██████████| 5394/5394 [00:14<00:00, 374.48frames/s]\n"
     ]
    },
    {
     "name": "stdout",
     "output_type": "stream",
     "text": [
      "Error extracting advanced features: Command requires more than the given 3 arguments: no value for argument \"Interpolation\".\n",
      "OK: toeic-0091-short-talk-41.wav\n",
      "Detected language: English\n"
     ]
    },
    {
     "name": "stderr",
     "output_type": "stream",
     "text": [
      "100%|██████████| 3905/3905 [00:13<00:00, 286.30frames/s]\n"
     ]
    },
    {
     "name": "stdout",
     "output_type": "stream",
     "text": [
      "Error extracting advanced features: Command requires more than the given 3 arguments: no value for argument \"Interpolation\".\n",
      "OK: toeic-0174-short-talk-84.wav\n",
      "Detected language: English\n"
     ]
    },
    {
     "name": "stderr",
     "output_type": "stream",
     "text": [
      "100%|██████████| 4119/4119 [00:12<00:00, 332.18frames/s]\n"
     ]
    },
    {
     "name": "stdout",
     "output_type": "stream",
     "text": [
      "Error extracting advanced features: Command requires more than the given 3 arguments: no value for argument \"Interpolation\".\n",
      "OK: toeic-0218-short-talk-108.wav\n",
      "Detected language: English\n"
     ]
    },
    {
     "name": "stderr",
     "output_type": "stream",
     "text": [
      "100%|██████████| 3907/3907 [00:14<00:00, 263.83frames/s]\n"
     ]
    },
    {
     "name": "stdout",
     "output_type": "stream",
     "text": [
      "Error extracting advanced features: Command requires more than the given 3 arguments: no value for argument \"Interpolation\".\n",
      "OK: toeic-0512-short-talk-252.wav\n",
      "Detected language: English\n"
     ]
    },
    {
     "name": "stderr",
     "output_type": "stream",
     "text": [
      "100%|██████████| 10255/10255 [00:30<00:00, 340.46frames/s]\n"
     ]
    },
    {
     "name": "stdout",
     "output_type": "stream",
     "text": [
      "Error extracting advanced features: Command requires more than the given 3 arguments: no value for argument \"Interpolation\".\n",
      "OK: short-stories-0066-66-music-2.wav\n",
      "Detected language: English\n"
     ]
    },
    {
     "name": "stderr",
     "output_type": "stream",
     "text": [
      "100%|██████████| 4051/4051 [00:14<00:00, 279.45frames/s]\n"
     ]
    },
    {
     "name": "stdout",
     "output_type": "stream",
     "text": [
      "Error extracting advanced features: Command requires more than the given 3 arguments: no value for argument \"Interpolation\".\n",
      "OK: toeic-0533-short-talk-263.wav\n",
      "Detected language: English\n"
     ]
    },
    {
     "name": "stderr",
     "output_type": "stream",
     "text": [
      "100%|██████████| 30544/30544 [01:28<00:00, 344.20frames/s]\n"
     ]
    },
    {
     "name": "stdout",
     "output_type": "stream",
     "text": [
      "Error extracting advanced features: Command requires more than the given 3 arguments: no value for argument \"Interpolation\".\n",
      "OK: ielts-listening-0200-cam7-test-2-part-4.wav\n",
      "Detected language: English\n"
     ]
    },
    {
     "name": "stderr",
     "output_type": "stream",
     "text": [
      "100%|██████████| 10250/10250 [00:29<00:00, 348.47frames/s]\n"
     ]
    },
    {
     "name": "stdout",
     "output_type": "stream",
     "text": [
      "Error extracting advanced features: Command requires more than the given 3 arguments: no value for argument \"Interpolation\".\n",
      "OK: short-stories-0074-74-autumn.wav\n",
      "Detected language: English\n"
     ]
    },
    {
     "name": "stderr",
     "output_type": "stream",
     "text": [
      "100%|██████████| 4790/4790 [00:14<00:00, 332.59frames/s]\n"
     ]
    },
    {
     "name": "stdout",
     "output_type": "stream",
     "text": [
      "Error extracting advanced features: Command requires more than the given 3 arguments: no value for argument \"Interpolation\".\n",
      "OK: toeic-0133-short-talk-63.wav\n",
      "Detected language: English\n"
     ]
    },
    {
     "name": "stderr",
     "output_type": "stream",
     "text": [
      "100%|██████████| 3411/3411 [00:12<00:00, 284.13frames/s]\n"
     ]
    },
    {
     "name": "stdout",
     "output_type": "stream",
     "text": [
      "Error extracting advanced features: Command requires more than the given 3 arguments: no value for argument \"Interpolation\".\n",
      "OK: toeic-0077-short-talk-37.wav\n",
      "Detected language: English\n"
     ]
    },
    {
     "name": "stderr",
     "output_type": "stream",
     "text": [
      "100%|██████████| 15845/15845 [00:45<00:00, 348.81frames/s]\n"
     ]
    },
    {
     "name": "stdout",
     "output_type": "stream",
     "text": [
      "Error extracting advanced features: Command requires more than the given 3 arguments: no value for argument \"Interpolation\".\n",
      "OK: short-stories-0205-206-canadian-rocky-mountains.wav\n",
      "Detected language: English\n"
     ]
    },
    {
     "name": "stderr",
     "output_type": "stream",
     "text": [
      "100%|██████████| 21501/21501 [01:03<00:00, 336.36frames/s]\n"
     ]
    },
    {
     "name": "stdout",
     "output_type": "stream",
     "text": [
      "Error extracting advanced features: Command requires more than the given 3 arguments: no value for argument \"Interpolation\".\n",
      "OK: short-stories-0187-188-the-rights-of-the-accused.wav\n",
      "Detected language: English\n"
     ]
    },
    {
     "name": "stderr",
     "output_type": "stream",
     "text": [
      "100%|██████████| 22612/22612 [01:07<00:00, 337.01frames/s]\n"
     ]
    },
    {
     "name": "stdout",
     "output_type": "stream",
     "text": [
      "Error extracting advanced features: Command requires more than the given 3 arguments: no value for argument \"Interpolation\".\n",
      "OK: ielts-listening-0246-cam4-test-2-part-2.wav\n",
      "Detected language: English\n"
     ]
    },
    {
     "name": "stderr",
     "output_type": "stream",
     "text": [
      "100%|██████████| 3944/3944 [00:14<00:00, 280.78frames/s]\n"
     ]
    },
    {
     "name": "stdout",
     "output_type": "stream",
     "text": [
      "Error extracting advanced features: Command requires more than the given 3 arguments: no value for argument \"Interpolation\".\n",
      "OK: toeic-0259-short-talk-129.wav\n",
      "Detected language: English\n"
     ]
    },
    {
     "name": "stderr",
     "output_type": "stream",
     "text": [
      "100%|██████████| 25349/25349 [01:13<00:00, 343.94frames/s]\n"
     ]
    },
    {
     "name": "stdout",
     "output_type": "stream",
     "text": [
      "Error extracting advanced features: Command requires more than the given 3 arguments: no value for argument \"Interpolation\".\n",
      "OK: short-stories-0166-167-canada-provinces-and-territories.wav\n",
      "Detected language: English\n"
     ]
    },
    {
     "name": "stderr",
     "output_type": "stream",
     "text": [
      "100%|██████████| 32774/32774 [01:32<00:00, 355.84frames/s]\n"
     ]
    },
    {
     "name": "stdout",
     "output_type": "stream",
     "text": [
      "Error extracting advanced features: Command requires more than the given 3 arguments: no value for argument \"Interpolation\".\n",
      "OK: ielts-listening-0026-cam18-test-3-part-2.wav\n",
      "Detected language: English\n"
     ]
    },
    {
     "name": "stderr",
     "output_type": "stream",
     "text": [
      "100%|██████████| 4352/4352 [00:15<00:00, 289.29frames/s]\n"
     ]
    },
    {
     "name": "stdout",
     "output_type": "stream",
     "text": [
      "Error extracting advanced features: Command requires more than the given 3 arguments: no value for argument \"Interpolation\".\n",
      "OK: toeic-0553-short-talk-273.wav\n",
      "Detected language: English\n"
     ]
    },
    {
     "name": "stderr",
     "output_type": "stream",
     "text": [
      "100%|██████████| 26467/26467 [01:20<00:00, 330.57frames/s]\n"
     ]
    },
    {
     "name": "stdout",
     "output_type": "stream",
     "text": [
      "Error extracting advanced features: Command requires more than the given 3 arguments: no value for argument \"Interpolation\".\n",
      "OK: ielts-listening-0108-cam13-test-3-part-4.wav\n",
      "Detected language: English\n"
     ]
    },
    {
     "name": "stderr",
     "output_type": "stream",
     "text": [
      "100%|██████████| 3103/3103 [00:12<00:00, 240.98frames/s]\n"
     ]
    },
    {
     "name": "stdout",
     "output_type": "stream",
     "text": [
      "Error extracting advanced features: Command requires more than the given 3 arguments: no value for argument \"Interpolation\".\n",
      "OK: toeic-0116-short-talk-56.wav\n",
      "Detected language: English\n"
     ]
    },
    {
     "name": "stderr",
     "output_type": "stream",
     "text": [
      "100%|██████████| 37320/37320 [01:48<00:00, 345.37frames/s]\n"
     ]
    },
    {
     "name": "stdout",
     "output_type": "stream",
     "text": [
      "Error extracting advanced features: Command requires more than the given 3 arguments: no value for argument \"Interpolation\".\n",
      "OK: ielts-listening-0248-cam4-test-2-part-4.wav\n",
      "Detected language: English\n"
     ]
    },
    {
     "name": "stderr",
     "output_type": "stream",
     "text": [
      "100%|██████████| 3469/3469 [00:12<00:00, 273.55frames/s]\n"
     ]
    },
    {
     "name": "stdout",
     "output_type": "stream",
     "text": [
      "Error extracting advanced features: Command requires more than the given 3 arguments: no value for argument \"Interpolation\".\n",
      "OK: toeic-0379-short-talk-189.wav\n",
      "Detected language: English\n"
     ]
    },
    {
     "name": "stderr",
     "output_type": "stream",
     "text": [
      "100%|██████████| 19941/19941 [00:57<00:00, 345.74frames/s]\n"
     ]
    },
    {
     "name": "stdout",
     "output_type": "stream",
     "text": [
      "Error extracting advanced features: Command requires more than the given 3 arguments: no value for argument \"Interpolation\".\n",
      "OK: short-stories-0200-201-samuel-clemens-or-mark-twain.wav\n",
      "Detected language: English\n"
     ]
    },
    {
     "name": "stderr",
     "output_type": "stream",
     "text": [
      "100%|██████████| 18912/18912 [00:55<00:00, 338.12frames/s]\n"
     ]
    },
    {
     "name": "stdout",
     "output_type": "stream",
     "text": [
      "Error extracting advanced features: Command requires more than the given 3 arguments: no value for argument \"Interpolation\".\n",
      "OK: short-stories-0233-235-summertime.wav\n",
      "Detected language: English\n"
     ]
    },
    {
     "name": "stderr",
     "output_type": "stream",
     "text": [
      "100%|██████████| 4702/4702 [00:19<00:00, 236.65frames/s]\n"
     ]
    },
    {
     "name": "stdout",
     "output_type": "stream",
     "text": [
      "Error extracting advanced features: Command requires more than the given 3 arguments: no value for argument \"Interpolation\".\n",
      "OK: toeic-0194-short-talk-94.wav\n",
      "Detected language: English\n"
     ]
    },
    {
     "name": "stderr",
     "output_type": "stream",
     "text": [
      "100%|██████████| 2416/2416 [00:08<00:00, 296.29frames/s]\n"
     ]
    },
    {
     "name": "stdout",
     "output_type": "stream",
     "text": [
      "Error extracting advanced features: Command requires more than the given 3 arguments: no value for argument \"Interpolation\".\n",
      "OK: toeic-0420-short-talk-210.wav\n",
      "Detected language: English\n"
     ]
    },
    {
     "name": "stderr",
     "output_type": "stream",
     "text": [
      "100%|██████████| 4735/4735 [00:14<00:00, 331.07frames/s]\n"
     ]
    },
    {
     "name": "stdout",
     "output_type": "stream",
     "text": [
      "Error extracting advanced features: Command requires more than the given 3 arguments: no value for argument \"Interpolation\".\n",
      "OK: toeic-0491-short-talk-241.wav\n",
      "Detected language: English\n"
     ]
    },
    {
     "name": "stderr",
     "output_type": "stream",
     "text": [
      "100%|██████████| 38166/38166 [01:45<00:00, 360.25frames/s]\n"
     ]
    },
    {
     "name": "stdout",
     "output_type": "stream",
     "text": [
      "Error extracting advanced features: Command requires more than the given 3 arguments: no value for argument \"Interpolation\".\n",
      "OK: ielts-listening-0088-cam14-test-2-part-4.wav\n",
      "Detected language: English\n"
     ]
    },
    {
     "name": "stderr",
     "output_type": "stream",
     "text": [
      "100%|██████████| 8991/8991 [00:27<00:00, 324.38frames/s]\n"
     ]
    },
    {
     "name": "stdout",
     "output_type": "stream",
     "text": [
      "Error extracting advanced features: Command requires more than the given 3 arguments: no value for argument \"Interpolation\".\n",
      "OK: short-stories-0098-98-memories.wav\n",
      "Detected language: English\n"
     ]
    },
    {
     "name": "stderr",
     "output_type": "stream",
     "text": [
      "100%|██████████| 6269/6269 [00:21<00:00, 287.04frames/s]\n"
     ]
    },
    {
     "name": "stdout",
     "output_type": "stream",
     "text": [
      "Error extracting advanced features: Command requires more than the given 3 arguments: no value for argument \"Interpolation\".\n",
      "OK: short-stories-0061-61-money.wav\n",
      "Detected language: English\n"
     ]
    },
    {
     "name": "stderr",
     "output_type": "stream",
     "text": [
      "100%|██████████| 5176/5176 [00:15<00:00, 326.41frames/s]\n"
     ]
    },
    {
     "name": "stdout",
     "output_type": "stream",
     "text": [
      "Error extracting advanced features: Command requires more than the given 3 arguments: no value for argument \"Interpolation\".\n",
      "OK: toeic-0237-short-talk-117.wav\n",
      "Detected language: English\n"
     ]
    },
    {
     "name": "stderr",
     "output_type": "stream",
     "text": [
      "100%|██████████| 23218/23218 [01:10<00:00, 330.11frames/s]\n"
     ]
    },
    {
     "name": "stdout",
     "output_type": "stream",
     "text": [
      "Error extracting advanced features: Command requires more than the given 3 arguments: no value for argument \"Interpolation\".\n",
      "OK: ielts-listening-0252-cam4-test-3-part-4.wav\n",
      "Detected language: English\n"
     ]
    },
    {
     "name": "stderr",
     "output_type": "stream",
     "text": [
      "100%|██████████| 7285/7285 [00:22<00:00, 328.13frames/s]\n"
     ]
    },
    {
     "name": "stdout",
     "output_type": "stream",
     "text": [
      "Error extracting advanced features: Command requires more than the given 3 arguments: no value for argument \"Interpolation\".\n",
      "OK: short-stories-0058-58-who-what-where-and-why.wav\n",
      "Detected language: English\n"
     ]
    },
    {
     "name": "stderr",
     "output_type": "stream",
     "text": [
      "100%|██████████| 4092/4092 [00:14<00:00, 275.26frames/s]\n"
     ]
    },
    {
     "name": "stdout",
     "output_type": "stream",
     "text": [
      "Error extracting advanced features: Command requires more than the given 3 arguments: no value for argument \"Interpolation\".\n",
      "OK: toeic-0214-short-talk-104.wav\n",
      "Detected language: English\n"
     ]
    },
    {
     "name": "stderr",
     "output_type": "stream",
     "text": [
      "100%|██████████| 20790/20790 [01:07<00:00, 307.41frames/s]\n"
     ]
    },
    {
     "name": "stdout",
     "output_type": "stream",
     "text": [
      "Error extracting advanced features: Command requires more than the given 3 arguments: no value for argument \"Interpolation\".\n",
      "OK: short-stories-0240-242-the-welland-canal.wav\n",
      "Detected language: English\n"
     ]
    },
    {
     "name": "stderr",
     "output_type": "stream",
     "text": [
      "100%|██████████| 35319/35319 [01:42<00:00, 345.65frames/s]\n"
     ]
    },
    {
     "name": "stdout",
     "output_type": "stream",
     "text": [
      "Error extracting advanced features: Command requires more than the given 3 arguments: no value for argument \"Interpolation\".\n",
      "OK: ielts-listening-0140-cam11-test-3-part-4.wav\n",
      "Detected language: English\n"
     ]
    },
    {
     "name": "stderr",
     "output_type": "stream",
     "text": [
      "100%|██████████| 28496/28496 [01:19<00:00, 357.02frames/s]\n"
     ]
    },
    {
     "name": "stdout",
     "output_type": "stream",
     "text": [
      "Error extracting advanced features: Command requires more than the given 3 arguments: no value for argument \"Interpolation\".\n",
      "OK: ielts-listening-0100-cam13-test-1-part-4.wav\n",
      "Detected language: English\n"
     ]
    },
    {
     "name": "stderr",
     "output_type": "stream",
     "text": [
      "100%|██████████| 2163/2163 [00:07<00:00, 305.76frames/s]\n"
     ]
    },
    {
     "name": "stdout",
     "output_type": "stream",
     "text": [
      "Error extracting advanced features: Command requires more than the given 3 arguments: no value for argument \"Interpolation\".\n",
      "OK: dileeka_02_audio.wav\n",
      "Detected language: English\n"
     ]
    },
    {
     "name": "stderr",
     "output_type": "stream",
     "text": [
      "100%|██████████| 3296/3296 [00:13<00:00, 239.10frames/s]\n"
     ]
    },
    {
     "name": "stdout",
     "output_type": "stream",
     "text": [
      "Error extracting advanced features: Command requires more than the given 3 arguments: no value for argument \"Interpolation\".\n",
      "OK: toeic-0099-short-talk-49.wav\n",
      "Detected language: English\n"
     ]
    },
    {
     "name": "stderr",
     "output_type": "stream",
     "text": [
      "100%|██████████| 11713/11713 [00:34<00:00, 340.16frames/s]\n"
     ]
    },
    {
     "name": "stdout",
     "output_type": "stream",
     "text": [
      "Error extracting advanced features: Command requires more than the given 3 arguments: no value for argument \"Interpolation\".\n",
      "OK: short-stories-0029-29-interests-and-hobbies.wav\n",
      "Detected language: English\n"
     ]
    },
    {
     "name": "stderr",
     "output_type": "stream",
     "text": [
      "100%|██████████| 28946/28946 [01:23<00:00, 345.40frames/s]\n"
     ]
    },
    {
     "name": "stdout",
     "output_type": "stream",
     "text": [
      "Error extracting advanced features: Command requires more than the given 3 arguments: no value for argument \"Interpolation\".\n",
      "OK: ielts-listening-0102-cam13-test-2-part-2.wav\n",
      "Detected language: English\n"
     ]
    },
    {
     "name": "stderr",
     "output_type": "stream",
     "text": [
      "100%|██████████| 4108/4108 [00:13<00:00, 304.09frames/s]\n"
     ]
    },
    {
     "name": "stdout",
     "output_type": "stream",
     "text": [
      "Error extracting advanced features: Command requires more than the given 3 arguments: no value for argument \"Interpolation\".\n",
      "OK: toeic-0034-short-talk-14.wav\n",
      "Detected language: English\n"
     ]
    },
    {
     "name": "stderr",
     "output_type": "stream",
     "text": [
      "100%|██████████| 17674/17674 [00:51<00:00, 343.61frames/s]\n"
     ]
    },
    {
     "name": "stdout",
     "output_type": "stream",
     "text": [
      "Error extracting advanced features: Command requires more than the given 3 arguments: no value for argument \"Interpolation\".\n",
      "OK: short-stories-0198-199-chicago.wav\n",
      "Detected language: English\n"
     ]
    },
    {
     "name": "stderr",
     "output_type": "stream",
     "text": [
      "100%|██████████| 33794/33794 [01:40<00:00, 337.57frames/s]\n"
     ]
    },
    {
     "name": "stdout",
     "output_type": "stream",
     "text": [
      "Error extracting advanced features: Command requires more than the given 3 arguments: no value for argument \"Interpolation\".\n",
      "OK: ielts-listening-0032-cam18-test-4-part-4.wav\n",
      "Detected language: English\n"
     ]
    },
    {
     "name": "stderr",
     "output_type": "stream",
     "text": [
      "100%|██████████| 19111/19111 [00:53<00:00, 357.83frames/s]\n"
     ]
    },
    {
     "name": "stdout",
     "output_type": "stream",
     "text": [
      "Error extracting advanced features: Command requires more than the given 3 arguments: no value for argument \"Interpolation\".\n",
      "OK: short-stories-0176-177-the-inuit.wav\n",
      "Detected language: English\n"
     ]
    },
    {
     "name": "stderr",
     "output_type": "stream",
     "text": [
      "100%|██████████| 4197/4197 [00:14<00:00, 297.48frames/s]\n"
     ]
    },
    {
     "name": "stdout",
     "output_type": "stream",
     "text": [
      "Error extracting advanced features: Command requires more than the given 3 arguments: no value for argument \"Interpolation\".\n",
      "OK: toeic-0276-short-talk-136.wav\n",
      "Detected language: English\n"
     ]
    },
    {
     "name": "stderr",
     "output_type": "stream",
     "text": [
      "100%|██████████| 4705/4705 [00:15<00:00, 304.97frames/s]\n"
     ]
    },
    {
     "name": "stdout",
     "output_type": "stream",
     "text": [
      "Error extracting advanced features: Command requires more than the given 3 arguments: no value for argument \"Interpolation\".\n",
      "OK: toeic-0155-short-talk-75.wav\n",
      "Detected language: English\n"
     ]
    },
    {
     "name": "stderr",
     "output_type": "stream",
     "text": [
      "100%|██████████| 18528/18528 [00:58<00:00, 316.14frames/s]\n"
     ]
    },
    {
     "name": "stdout",
     "output_type": "stream",
     "text": [
      "Error extracting advanced features: Command requires more than the given 3 arguments: no value for argument \"Interpolation\".\n",
      "OK: short-stories-0273-276-sunday-morning-at-church.wav\n",
      "Detected language: English\n"
     ]
    },
    {
     "name": "stderr",
     "output_type": "stream",
     "text": [
      "100%|██████████| 3731/3731 [00:16<00:00, 231.78frames/s]\n"
     ]
    },
    {
     "name": "stdout",
     "output_type": "stream",
     "text": [
      "Error extracting advanced features: Command requires more than the given 3 arguments: no value for argument \"Interpolation\".\n",
      "OK: toeic-0255-short-talk-125.wav\n",
      "Detected language: English\n"
     ]
    },
    {
     "name": "stderr",
     "output_type": "stream",
     "text": [
      "100%|██████████| 3278/3278 [00:13<00:00, 234.65frames/s]\n"
     ]
    },
    {
     "name": "stdout",
     "output_type": "stream",
     "text": [
      "Error extracting advanced features: Command requires more than the given 3 arguments: no value for argument \"Interpolation\".\n",
      "OK: toeic-0375-short-talk-185.wav\n",
      "Detected language: English\n"
     ]
    },
    {
     "name": "stderr",
     "output_type": "stream",
     "text": [
      "100%|██████████| 42264/42264 [02:00<00:00, 350.52frames/s]\n"
     ]
    },
    {
     "name": "stdout",
     "output_type": "stream",
     "text": [
      "Error extracting advanced features: Command requires more than the given 3 arguments: no value for argument \"Interpolation\".\n",
      "OK: ielts-listening-0096-cam14-test-4-part-4.wav\n",
      "Detected language: English\n"
     ]
    },
    {
     "name": "stderr",
     "output_type": "stream",
     "text": [
      "100%|██████████| 16719/16719 [00:48<00:00, 347.65frames/s]\n"
     ]
    },
    {
     "name": "stdout",
     "output_type": "stream",
     "text": [
      "Error extracting advanced features: Command requires more than the given 3 arguments: no value for argument \"Interpolation\".\n",
      "OK: Sammani_audio.wav\n",
      "Detected language: English\n"
     ]
    },
    {
     "name": "stderr",
     "output_type": "stream",
     "text": [
      "100%|██████████| 40767/40767 [01:59<00:00, 339.91frames/s]\n"
     ]
    },
    {
     "name": "stdout",
     "output_type": "stream",
     "text": [
      "Error extracting advanced features: Command requires more than the given 3 arguments: no value for argument \"Interpolation\".\n",
      "OK: ielts-listening-0312-ielts-recent-actual-test-30-part-4.wav\n",
      "Detected language: English\n"
     ]
    },
    {
     "name": "stderr",
     "output_type": "stream",
     "text": [
      "100%|██████████| 7079/7079 [00:20<00:00, 340.84frames/s]\n"
     ]
    },
    {
     "name": "stdout",
     "output_type": "stream",
     "text": [
      "Error extracting advanced features: Command requires more than the given 3 arguments: no value for argument \"Interpolation\".\n",
      "OK: short-stories-0009-9-the-easter-egg-hunt.wav\n",
      "Detected language: English\n"
     ]
    },
    {
     "name": "stderr",
     "output_type": "stream",
     "text": [
      "100%|██████████| 2946/2946 [00:08<00:00, 362.84frames/s]\n"
     ]
    },
    {
     "name": "stdout",
     "output_type": "stream",
     "text": [
      "Error extracting advanced features: Command requires more than the given 3 arguments: no value for argument \"Interpolation\".\n",
      "OK: toeic-0413-short-talk-203.wav\n",
      "Detected language: English\n"
     ]
    },
    {
     "name": "stderr",
     "output_type": "stream",
     "text": [
      "100%|██████████| 28324/28324 [01:24<00:00, 333.52frames/s]\n"
     ]
    },
    {
     "name": "stdout",
     "output_type": "stream",
     "text": [
      "Error extracting advanced features: Command requires more than the given 3 arguments: no value for argument \"Interpolation\".\n",
      "OK: ielts-listening-0230-cam5-test-2-part-2.wav\n",
      "Detected language: English\n"
     ]
    },
    {
     "name": "stderr",
     "output_type": "stream",
     "text": [
      "100%|██████████| 24458/24458 [01:15<00:00, 322.17frames/s]\n"
     ]
    },
    {
     "name": "stdout",
     "output_type": "stream",
     "text": [
      "Error extracting advanced features: Command requires more than the given 3 arguments: no value for argument \"Interpolation\".\n",
      "OK: ielts-listening-0224-cam6-test-4-part-4.wav\n",
      "Detected language: English\n"
     ]
    },
    {
     "name": "stderr",
     "output_type": "stream",
     "text": [
      "100%|██████████| 3125/3125 [00:12<00:00, 255.41frames/s]\n"
     ]
    },
    {
     "name": "stdout",
     "output_type": "stream",
     "text": [
      "Error extracting advanced features: Command requires more than the given 3 arguments: no value for argument \"Interpolation\".\n",
      "OK: toeic-0338-short-talk-168.wav\n",
      "Detected language: English\n"
     ]
    },
    {
     "name": "stderr",
     "output_type": "stream",
     "text": [
      "100%|██████████| 3840/3840 [00:13<00:00, 290.30frames/s]\n"
     ]
    },
    {
     "name": "stdout",
     "output_type": "stream",
     "text": [
      "Error extracting advanced features: Command requires more than the given 3 arguments: no value for argument \"Interpolation\".\n",
      "OK: toeic-0151-short-talk-71.wav\n",
      "Detected language: English\n"
     ]
    },
    {
     "name": "stderr",
     "output_type": "stream",
     "text": [
      "100%|██████████| 3991/3991 [00:17<00:00, 224.26frames/s]\n"
     ]
    },
    {
     "name": "stdout",
     "output_type": "stream",
     "text": [
      "Error extracting advanced features: Command requires more than the given 3 arguments: no value for argument \"Interpolation\".\n",
      "OK: toeic-0198-short-talk-98.wav\n",
      "Detected language: English\n"
     ]
    },
    {
     "name": "stderr",
     "output_type": "stream",
     "text": [
      "100%|██████████| 3470/3470 [00:13<00:00, 264.58frames/s]\n"
     ]
    },
    {
     "name": "stdout",
     "output_type": "stream",
     "text": [
      "Error extracting advanced features: Command requires more than the given 3 arguments: no value for argument \"Interpolation\".\n",
      "OK: toeic-0319-short-talk-159.wav\n",
      "Detected language: English\n"
     ]
    },
    {
     "name": "stderr",
     "output_type": "stream",
     "text": [
      "100%|██████████| 23484/23484 [01:07<00:00, 347.44frames/s]\n"
     ]
    },
    {
     "name": "stdout",
     "output_type": "stream",
     "text": [
      "Error extracting advanced features: Command requires more than the given 3 arguments: no value for argument \"Interpolation\".\n",
      "OK: short-stories-0231-233-remember-the-alamo.wav\n",
      "Detected language: English\n"
     ]
    },
    {
     "name": "stderr",
     "output_type": "stream",
     "text": [
      "100%|██████████| 7123/7123 [00:18<00:00, 380.38frames/s]\n"
     ]
    },
    {
     "name": "stdout",
     "output_type": "stream",
     "text": [
      "Error extracting advanced features: Command requires more than the given 3 arguments: no value for argument \"Interpolation\".\n",
      "OK: AUDIO-2025-04-03-22-01-07.wav\n",
      "Detected language: English\n"
     ]
    },
    {
     "name": "stderr",
     "output_type": "stream",
     "text": [
      "100%|██████████| 4306/4306 [00:13<00:00, 321.04frames/s]\n"
     ]
    },
    {
     "name": "stdout",
     "output_type": "stream",
     "text": [
      "Error extracting advanced features: Command requires more than the given 3 arguments: no value for argument \"Interpolation\".\n",
      "OK: toeic-0296-short-talk-146.wav\n",
      "Detected language: English\n"
     ]
    },
    {
     "name": "stderr",
     "output_type": "stream",
     "text": [
      "100%|██████████| 23245/23245 [01:12<00:00, 319.29frames/s]\n"
     ]
    },
    {
     "name": "stdout",
     "output_type": "stream",
     "text": [
      "Error extracting advanced features: Command requires more than the given 3 arguments: no value for argument \"Interpolation\".\n",
      "OK: ielts-listening-0304-ielts-recent-actual-test-8-part-4.wav\n",
      "Detected language: English\n"
     ]
    },
    {
     "name": "stderr",
     "output_type": "stream",
     "text": [
      "100%|█████████▉| 21423/21441 [01:05<00:00, 326.32frames/s]\n"
     ]
    },
    {
     "name": "stdout",
     "output_type": "stream",
     "text": [
      "Error extracting advanced features: Command requires more than the given 3 arguments: no value for argument \"Interpolation\".\n",
      "OK: short-stories-0223-225-handels-messiah.wav\n",
      "Detected language: English\n"
     ]
    },
    {
     "name": "stderr",
     "output_type": "stream",
     "text": [
      "100%|██████████| 36984/36984 [01:39<00:00, 372.55frames/s]\n"
     ]
    },
    {
     "name": "stdout",
     "output_type": "stream",
     "text": [
      "Error extracting advanced features: Command requires more than the given 3 arguments: no value for argument \"Interpolation\".\n",
      "OK: ielts-listening-0068-cam15-test-1-part-4.wav\n",
      "Detected language: English\n"
     ]
    },
    {
     "name": "stderr",
     "output_type": "stream",
     "text": [
      "100%|██████████| 9414/9414 [00:28<00:00, 326.50frames/s]\n"
     ]
    },
    {
     "name": "stdout",
     "output_type": "stream",
     "text": [
      "Error extracting advanced features: Command requires more than the given 3 arguments: no value for argument \"Interpolation\".\n",
      "OK: short-stories-0104-104-new-years-day.wav\n",
      "Detected language: English\n"
     ]
    },
    {
     "name": "stderr",
     "output_type": "stream",
     "text": [
      "100%|██████████| 27096/27096 [01:28<00:00, 304.64frames/s]\n"
     ]
    },
    {
     "name": "stdout",
     "output_type": "stream",
     "text": [
      "Error extracting advanced features: Command requires more than the given 3 arguments: no value for argument \"Interpolation\".\n",
      "OK: short-stories-0263-266-ebenezer-scrooge.wav\n",
      "Detected language: English\n"
     ]
    },
    {
     "name": "stderr",
     "output_type": "stream",
     "text": [
      "100%|██████████| 16471/16471 [00:50<00:00, 328.78frames/s]\n"
     ]
    },
    {
     "name": "stdout",
     "output_type": "stream",
     "text": [
      "Error extracting advanced features: Command requires more than the given 3 arguments: no value for argument \"Interpolation\".\n",
      "OK: short-stories-0234-236-telephone-systems.wav\n",
      "Detected language: English\n"
     ]
    },
    {
     "name": "stderr",
     "output_type": "stream",
     "text": [
      "100%|██████████| 4474/4474 [00:13<00:00, 321.75frames/s]\n"
     ]
    },
    {
     "name": "stdout",
     "output_type": "stream",
     "text": [
      "Error extracting advanced features: Command requires more than the given 3 arguments: no value for argument \"Interpolation\".\n",
      "OK: toeic-0452-short-talk-222.wav\n",
      "Detected language: English\n"
     ]
    },
    {
     "name": "stderr",
     "output_type": "stream",
     "text": [
      "100%|██████████| 2452/2452 [00:07<00:00, 320.42frames/s]\n"
     ]
    },
    {
     "name": "stdout",
     "output_type": "stream",
     "text": [
      "Error extracting advanced features: Command requires more than the given 3 arguments: no value for argument \"Interpolation\".\n",
      "OK: toeic-0393-short-talk-193.wav\n",
      "Detected language: English\n"
     ]
    },
    {
     "name": "stderr",
     "output_type": "stream",
     "text": [
      "100%|██████████| 3437/3437 [00:13<00:00, 261.21frames/s]\n"
     ]
    },
    {
     "name": "stdout",
     "output_type": "stream",
     "text": [
      "Error extracting advanced features: Command requires more than the given 3 arguments: no value for argument \"Interpolation\".\n",
      "OK: toeic-0358-short-talk-178.wav\n",
      "Detected language: English\n"
     ]
    },
    {
     "name": "stderr",
     "output_type": "stream",
     "text": [
      "100%|██████████| 22352/22352 [01:04<00:00, 345.34frames/s]\n"
     ]
    },
    {
     "name": "stdout",
     "output_type": "stream",
     "text": [
      "Error extracting advanced features: Command requires more than the given 3 arguments: no value for argument \"Interpolation\".\n",
      "OK: short-stories-0222-224-george-w-bush-jr.wav\n",
      "Detected language: English\n"
     ]
    },
    {
     "name": "stderr",
     "output_type": "stream",
     "text": [
      "100%|██████████| 22180/22180 [01:11<00:00, 311.72frames/s]\n"
     ]
    },
    {
     "name": "stdout",
     "output_type": "stream",
     "text": [
      "Error extracting advanced features: Command requires more than the given 3 arguments: no value for argument \"Interpolation\".\n",
      "OK: ielts-listening-0126-cam12-test-4-part-2.wav\n",
      "Detected language: English\n"
     ]
    },
    {
     "name": "stderr",
     "output_type": "stream",
     "text": [
      "100%|██████████| 14469/14469 [00:54<00:00, 265.75frames/s]\n"
     ]
    },
    {
     "name": "stdout",
     "output_type": "stream",
     "text": [
      "Error extracting advanced features: Command requires more than the given 3 arguments: no value for argument \"Interpolation\".\n",
      "OK: short-stories-0112-112-learning-to-dance.wav\n",
      "Detected language: English\n"
     ]
    },
    {
     "name": "stderr",
     "output_type": "stream",
     "text": [
      "100%|██████████| 4166/4166 [00:13<00:00, 318.58frames/s]\n"
     ]
    },
    {
     "name": "stdout",
     "output_type": "stream",
     "text": [
      "Error extracting advanced features: Command requires more than the given 3 arguments: no value for argument \"Interpolation\".\n",
      "OK: toeic-0471-short-talk-231.wav\n",
      "Detected language: English\n"
     ]
    },
    {
     "name": "stderr",
     "output_type": "stream",
     "text": [
      "100%|██████████| 4464/4464 [00:13<00:00, 331.56frames/s]\n"
     ]
    },
    {
     "name": "stdout",
     "output_type": "stream",
     "text": [
      "Error extracting advanced features: Command requires more than the given 3 arguments: no value for argument \"Interpolation\".\n",
      "OK: toeic-0178-short-talk-88.wav\n",
      "Detected language: English\n"
     ]
    },
    {
     "name": "stderr",
     "output_type": "stream",
     "text": [
      "100%|██████████| 19265/19265 [00:54<00:00, 352.41frames/s]\n"
     ]
    },
    {
     "name": "stdout",
     "output_type": "stream",
     "text": [
      "Error extracting advanced features: Command requires more than the given 3 arguments: no value for argument \"Interpolation\".\n",
      "OK: short-stories-0175-176-benjamin-franklin.wav\n",
      "Detected language: English\n"
     ]
    },
    {
     "name": "stderr",
     "output_type": "stream",
     "text": [
      "100%|██████████| 4231/4231 [00:12<00:00, 326.78frames/s]\n"
     ]
    },
    {
     "name": "stdout",
     "output_type": "stream",
     "text": [
      "Error extracting advanced features: Command requires more than the given 3 arguments: no value for argument \"Interpolation\".\n",
      "OK: toeic-0195-short-talk-95.wav\n",
      "Detected language: English\n"
     ]
    },
    {
     "name": "stderr",
     "output_type": "stream",
     "text": [
      "100%|██████████| 21367/21367 [00:59<00:00, 358.45frames/s]\n"
     ]
    },
    {
     "name": "stdout",
     "output_type": "stream",
     "text": [
      "Error extracting advanced features: Command requires more than the given 3 arguments: no value for argument \"Interpolation\".\n",
      "OK: Sammani_hci_audio.wav\n",
      "Detected language: English\n"
     ]
    },
    {
     "name": "stderr",
     "output_type": "stream",
     "text": [
      "100%|██████████| 6023/6023 [00:20<00:00, 290.41frames/s]\n"
     ]
    },
    {
     "name": "stdout",
     "output_type": "stream",
     "text": [
      "Error extracting advanced features: Command requires more than the given 3 arguments: no value for argument \"Interpolation\".\n",
      "OK: toeic-0238-short-talk-118.wav\n",
      "Detected language: English\n"
     ]
    },
    {
     "name": "stderr",
     "output_type": "stream",
     "text": [
      "100%|██████████| 3646/3646 [00:13<00:00, 273.82frames/s]\n"
     ]
    },
    {
     "name": "stdout",
     "output_type": "stream",
     "text": [
      "Error extracting advanced features: Command requires more than the given 3 arguments: no value for argument \"Interpolation\".\n",
      "OK: toeic-0015-short-talk-5.wav\n",
      "Detected language: English\n"
     ]
    },
    {
     "name": "stderr",
     "output_type": "stream",
     "text": [
      "100%|██████████| 20487/20487 [01:03<00:00, 322.51frames/s]\n"
     ]
    },
    {
     "name": "stdout",
     "output_type": "stream",
     "text": [
      "Error extracting advanced features: Command requires more than the given 3 arguments: no value for argument \"Interpolation\".\n",
      "OK: short-stories-0284-288-garage-sales-and-yard-sales.wav\n",
      "Detected language: English\n"
     ]
    },
    {
     "name": "stderr",
     "output_type": "stream",
     "text": [
      "100%|██████████| 7042/7042 [00:19<00:00, 366.26frames/s]\n"
     ]
    },
    {
     "name": "stdout",
     "output_type": "stream",
     "text": [
      "Error extracting advanced features: Command requires more than the given 3 arguments: no value for argument \"Interpolation\".\n",
      "OK: short-stories-0041-41-colors.wav\n",
      "Detected language: English\n"
     ]
    },
    {
     "name": "stderr",
     "output_type": "stream",
     "text": [
      "100%|██████████| 31288/31288 [01:33<00:00, 333.58frames/s]\n"
     ]
    },
    {
     "name": "stdout",
     "output_type": "stream",
     "text": [
      "Error extracting advanced features: Command requires more than the given 3 arguments: no value for argument \"Interpolation\".\n",
      "OK: ielts-listening-0318-ielts-recent-actual-test-32-part-2.wav\n",
      "Detected language: English\n"
     ]
    },
    {
     "name": "stderr",
     "output_type": "stream",
     "text": [
      "100%|██████████| 4247/4247 [00:13<00:00, 317.56frames/s]\n"
     ]
    },
    {
     "name": "stdout",
     "output_type": "stream",
     "text": [
      "Error extracting advanced features: Command requires more than the given 3 arguments: no value for argument \"Interpolation\".\n",
      "OK: toeic-0117-short-talk-57.wav\n",
      "Detected language: English\n"
     ]
    },
    {
     "name": "stderr",
     "output_type": "stream",
     "text": [
      "100%|██████████| 29554/29554 [01:28<00:00, 335.07frames/s]\n"
     ]
    },
    {
     "name": "stdout",
     "output_type": "stream",
     "text": [
      "Error extracting advanced features: Command requires more than the given 3 arguments: no value for argument \"Interpolation\".\n",
      "OK: short-stories-0245-248-medical-missionary.wav\n",
      "Detected language: English\n"
     ]
    },
    {
     "name": "stderr",
     "output_type": "stream",
     "text": [
      "100%|██████████| 4895/4895 [00:14<00:00, 332.84frames/s]\n"
     ]
    },
    {
     "name": "stdout",
     "output_type": "stream",
     "text": [
      "Error extracting advanced features: Command requires more than the given 3 arguments: no value for argument \"Interpolation\".\n",
      "OK: toeic-0511-short-talk-251.wav\n",
      "Detected language: English\n"
     ]
    },
    {
     "name": "stderr",
     "output_type": "stream",
     "text": [
      "100%|██████████| 19685/19685 [00:57<00:00, 339.69frames/s]\n"
     ]
    },
    {
     "name": "stdout",
     "output_type": "stream",
     "text": [
      "Error extracting advanced features: Command requires more than the given 3 arguments: no value for argument \"Interpolation\".\n",
      "OK: short-stories-0220-222-niagara-falls.wav\n",
      "Detected language: English\n"
     ]
    },
    {
     "name": "stderr",
     "output_type": "stream",
     "text": [
      "100%|██████████| 2870/2870 [00:11<00:00, 240.02frames/s]\n"
     ]
    },
    {
     "name": "stdout",
     "output_type": "stream",
     "text": [
      "Error extracting advanced features: Command requires more than the given 3 arguments: no value for argument \"Interpolation\".\n",
      "OK: toeic-0132-short-talk-62.wav\n",
      "Detected language: English\n"
     ]
    },
    {
     "name": "stderr",
     "output_type": "stream",
     "text": [
      "100%|██████████| 33314/33314 [01:30<00:00, 368.28frames/s]\n"
     ]
    },
    {
     "name": "stdout",
     "output_type": "stream",
     "text": [
      "Error extracting advanced features: Command requires more than the given 3 arguments: no value for argument \"Interpolation\".\n",
      "OK: ielts-listening-0046-cam17-test-4-part-2.wav\n",
      "Detected language: English\n"
     ]
    },
    {
     "name": "stderr",
     "output_type": "stream",
     "text": [
      "100%|██████████| 3255/3255 [00:12<00:00, 262.23frames/s]\n"
     ]
    },
    {
     "name": "stdout",
     "output_type": "stream",
     "text": [
      "Error extracting advanced features: Command requires more than the given 3 arguments: no value for argument \"Interpolation\".\n",
      "OK: toeic-0076-short-talk-36.wav\n",
      "Detected language: English\n"
     ]
    },
    {
     "name": "stderr",
     "output_type": "stream",
     "text": [
      "100%|██████████| 14759/14759 [00:45<00:00, 323.67frames/s]\n"
     ]
    },
    {
     "name": "stdout",
     "output_type": "stream",
     "text": [
      "Error extracting advanced features: Command requires more than the given 3 arguments: no value for argument \"Interpolation\".\n",
      "OK: short-stories-0261-264-death-valley-california.wav\n",
      "Detected language: English\n"
     ]
    },
    {
     "name": "stderr",
     "output_type": "stream",
     "text": [
      "100%|██████████| 12752/12752 [00:32<00:00, 388.44frames/s]\n"
     ]
    },
    {
     "name": "stdout",
     "output_type": "stream",
     "text": [
      "Error extracting advanced features: Command requires more than the given 3 arguments: no value for argument \"Interpolation\".\n",
      "OK: short-stories-0039-39-my-body.wav\n",
      "Detected language: English\n"
     ]
    },
    {
     "name": "stderr",
     "output_type": "stream",
     "text": [
      "100%|██████████| 4456/4456 [00:14<00:00, 316.73frames/s]\n"
     ]
    },
    {
     "name": "stdout",
     "output_type": "stream",
     "text": [
      "Error extracting advanced features: Command requires more than the given 3 arguments: no value for argument \"Interpolation\".\n",
      "OK: toeic-0279-short-talk-139.wav\n",
      "Detected language: English\n"
     ]
    },
    {
     "name": "stderr",
     "output_type": "stream",
     "text": [
      "100%|██████████| 5374/5374 [00:15<00:00, 352.82frames/s]\n"
     ]
    },
    {
     "name": "stdout",
     "output_type": "stream",
     "text": [
      "Error extracting advanced features: Command requires more than the given 3 arguments: no value for argument \"Interpolation\".\n",
      "OK: toeic-0011-short-talk-1.wav\n",
      "Detected language: English\n"
     ]
    },
    {
     "name": "stderr",
     "output_type": "stream",
     "text": [
      "100%|██████████| 3996/3996 [00:13<00:00, 290.16frames/s]\n"
     ]
    },
    {
     "name": "stdout",
     "output_type": "stream",
     "text": [
      "Error extracting advanced features: Command requires more than the given 3 arguments: no value for argument \"Interpolation\".\n",
      "OK: toeic-0600-short-talk-290.wav\n",
      "Detected language: English\n"
     ]
    },
    {
     "name": "stderr",
     "output_type": "stream",
     "text": [
      "100%|██████████| 15717/15717 [00:45<00:00, 342.83frames/s]\n"
     ]
    },
    {
     "name": "stdout",
     "output_type": "stream",
     "text": [
      "Error extracting advanced features: Command requires more than the given 3 arguments: no value for argument \"Interpolation\".\n",
      "OK: short-stories-0203-204-how-the-first-world-war-started.wav\n",
      "Detected language: English\n"
     ]
    },
    {
     "name": "stderr",
     "output_type": "stream",
     "text": [
      "100%|██████████| 9072/9072 [00:31<00:00, 291.56frames/s]\n"
     ]
    },
    {
     "name": "stdout",
     "output_type": "stream",
     "text": [
      "Error extracting advanced features: Command requires more than the given 3 arguments: no value for argument \"Interpolation\".\n",
      "OK: short-stories-0109-109-if-i-were-a-giant.wav\n",
      "Detected language: English\n"
     ]
    },
    {
     "name": "stderr",
     "output_type": "stream",
     "text": [
      "100%|██████████| 28695/28695 [01:24<00:00, 338.98frames/s]\n"
     ]
    },
    {
     "name": "stdout",
     "output_type": "stream",
     "text": [
      "Error extracting advanced features: Command requires more than the given 3 arguments: no value for argument \"Interpolation\".\n",
      "OK: ielts-listening-0302-ielts-recent-actual-test-8-part-2.wav\n",
      "Detected language: English\n"
     ]
    },
    {
     "name": "stderr",
     "output_type": "stream",
     "text": [
      "100%|██████████| 4999/4999 [00:14<00:00, 348.45frames/s]\n"
     ]
    },
    {
     "name": "stdout",
     "output_type": "stream",
     "text": [
      "Error extracting advanced features: Command requires more than the given 3 arguments: no value for argument \"Interpolation\".\n",
      "OK: toeic-0175-short-talk-85.wav\n",
      "Detected language: English\n"
     ]
    },
    {
     "name": "stderr",
     "output_type": "stream",
     "text": [
      " 98%|█████████▊| 26558/27179 [01:16<00:01, 347.91frames/s]\n"
     ]
    },
    {
     "name": "stdout",
     "output_type": "stream",
     "text": [
      "Error extracting advanced features: Command requires more than the given 3 arguments: no value for argument \"Interpolation\".\n",
      "OK: ielts-listening-0228-cam5-test-1-part-4.wav\n",
      "Detected language: English\n"
     ]
    },
    {
     "name": "stderr",
     "output_type": "stream",
     "text": [
      "100%|██████████| 16522/16522 [00:51<00:00, 322.68frames/s]\n"
     ]
    },
    {
     "name": "stdout",
     "output_type": "stream",
     "text": [
      "Error extracting advanced features: Command requires more than the given 3 arguments: no value for argument \"Interpolation\".\n",
      "OK: ielts-listening-0226-cam5-test-1-part-2.wav\n",
      "Detected language: English\n"
     ]
    },
    {
     "name": "stderr",
     "output_type": "stream",
     "text": [
      "100%|██████████| 8724/8724 [00:25<00:00, 344.30frames/s]\n"
     ]
    },
    {
     "name": "stdout",
     "output_type": "stream",
     "text": [
      "Error extracting advanced features: Command requires more than the given 3 arguments: no value for argument \"Interpolation\".\n",
      "OK: short-stories-0027-27-subjects.wav\n",
      "Detected language: English\n"
     ]
    },
    {
     "name": "stderr",
     "output_type": "stream",
     "text": [
      "100%|██████████| 12003/12003 [00:33<00:00, 356.09frames/s]\n"
     ]
    },
    {
     "name": "stdout",
     "output_type": "stream",
     "text": [
      "Error extracting advanced features: Command requires more than the given 3 arguments: no value for argument \"Interpolation\".\n",
      "OK: short-stories-0113-113-super-heroes.wav\n",
      "Detected language: English\n"
     ]
    },
    {
     "name": "stderr",
     "output_type": "stream",
     "text": [
      "100%|██████████| 9362/9362 [00:28<00:00, 328.59frames/s]\n"
     ]
    },
    {
     "name": "stdout",
     "output_type": "stream",
     "text": [
      "Error extracting advanced features: Command requires more than the given 3 arguments: no value for argument \"Interpolation\".\n",
      "OK: short-stories-0052-52-parties.wav\n",
      "Detected language: English\n"
     ]
    },
    {
     "name": "stderr",
     "output_type": "stream",
     "text": [
      "100%|██████████| 9119/9119 [00:27<00:00, 326.84frames/s]\n"
     ]
    },
    {
     "name": "stdout",
     "output_type": "stream",
     "text": [
      "Error extracting advanced features: Command requires more than the given 3 arguments: no value for argument \"Interpolation\".\n",
      "OK: short-stories-0068-68-the-birthday-party.wav\n",
      "Detected language: English\n"
     ]
    },
    {
     "name": "stderr",
     "output_type": "stream",
     "text": [
      "100%|██████████| 3738/3738 [00:13<00:00, 272.95frames/s]\n"
     ]
    },
    {
     "name": "stdout",
     "output_type": "stream",
     "text": [
      "Error extracting advanced features: Command requires more than the given 3 arguments: no value for argument \"Interpolation\".\n",
      "OK: toeic-0520-short-talk-260.wav\n",
      "Detected language: English\n"
     ]
    },
    {
     "name": "stderr",
     "output_type": "stream",
     "text": [
      "100%|██████████| 2504/2504 [00:08<00:00, 307.93frames/s]\n"
     ]
    },
    {
     "name": "stdout",
     "output_type": "stream",
     "text": [
      "Error extracting advanced features: Command requires more than the given 3 arguments: no value for argument \"Interpolation\".\n",
      "OK: toeic-0316-short-talk-156.wav\n",
      "Detected language: English\n"
     ]
    },
    {
     "name": "stderr",
     "output_type": "stream",
     "text": [
      "100%|██████████| 2778/2778 [00:12<00:00, 226.71frames/s]\n"
     ]
    },
    {
     "name": "stdout",
     "output_type": "stream",
     "text": [
      "Error extracting advanced features: Command requires more than the given 3 arguments: no value for argument \"Interpolation\".\n",
      "OK: toeic-0337-short-talk-167.wav\n",
      "Detected language: English\n"
     ]
    },
    {
     "name": "stderr",
     "output_type": "stream",
     "text": [
      "100%|██████████| 37447/37447 [01:38<00:00, 381.71frames/s]\n"
     ]
    },
    {
     "name": "stdout",
     "output_type": "stream",
     "text": [
      "Error extracting advanced features: Command requires more than the given 3 arguments: no value for argument \"Interpolation\".\n",
      "OK: mihara_audio.wav\n",
      "Detected language: English\n"
     ]
    },
    {
     "name": "stderr",
     "output_type": "stream",
     "text": [
      "100%|██████████| 4325/4325 [00:13<00:00, 321.64frames/s]\n"
     ]
    },
    {
     "name": "stdout",
     "output_type": "stream",
     "text": [
      "Error extracting advanced features: Command requires more than the given 3 arguments: no value for argument \"Interpolation\".\n",
      "OK: toeic-0594-short-talk-284.wav\n",
      "Detected language: English\n"
     ]
    },
    {
     "name": "stderr",
     "output_type": "stream",
     "text": [
      "100%|██████████| 18437/18437 [00:52<00:00, 353.75frames/s]\n"
     ]
    },
    {
     "name": "stdout",
     "output_type": "stream",
     "text": [
      "Error extracting advanced features: Command requires more than the given 3 arguments: no value for argument \"Interpolation\".\n",
      "OK: short-stories-0173-174-african-slavery-in-the-america.wav\n",
      "Detected language: English\n"
     ]
    },
    {
     "name": "stderr",
     "output_type": "stream",
     "text": [
      "100%|██████████| 3275/3275 [00:13<00:00, 245.14frames/s]\n"
     ]
    },
    {
     "name": "stdout",
     "output_type": "stream",
     "text": [
      "Error extracting advanced features: Command requires more than the given 3 arguments: no value for argument \"Interpolation\".\n",
      "OK: toeic-0171-short-talk-81.wav\n",
      "Detected language: English\n"
     ]
    },
    {
     "name": "stderr",
     "output_type": "stream",
     "text": [
      "100%|██████████| 3876/3876 [00:12<00:00, 299.12frames/s]\n"
     ]
    },
    {
     "name": "stdout",
     "output_type": "stream",
     "text": [
      "Error extracting advanced features: Command requires more than the given 3 arguments: no value for argument \"Interpolation\".\n",
      "OK: toeic-0094-short-talk-44.wav\n",
      "Detected language: English\n"
     ]
    },
    {
     "name": "stderr",
     "output_type": "stream",
     "text": [
      "100%|██████████| 9056/9056 [00:26<00:00, 338.79frames/s]\n"
     ]
    },
    {
     "name": "stdout",
     "output_type": "stream",
     "text": [
      "Error extracting advanced features: Command requires more than the given 3 arguments: no value for argument \"Interpolation\".\n",
      "OK: short-stories-0100-100-bathroom.wav\n",
      "Detected language: English\n"
     ]
    },
    {
     "name": "stderr",
     "output_type": "stream",
     "text": [
      "100%|██████████| 13035/13035 [00:34<00:00, 375.70frames/s]\n"
     ]
    },
    {
     "name": "stdout",
     "output_type": "stream",
     "text": [
      "Error extracting advanced features: Command requires more than the given 3 arguments: no value for argument \"Interpolation\".\n",
      "OK: short-stories-0038-38-jobs.wav\n",
      "Detected language: English\n"
     ]
    },
    {
     "name": "stderr",
     "output_type": "stream",
     "text": [
      "100%|██████████| 10360/10360 [00:27<00:00, 373.26frames/s]\n"
     ]
    },
    {
     "name": "stdout",
     "output_type": "stream",
     "text": [
      "Error extracting advanced features: Command requires more than the given 3 arguments: no value for argument \"Interpolation\".\n",
      "OK: short-stories-0129-130-the-wedding.wav\n",
      "Detected language: English\n"
     ]
    },
    {
     "name": "stderr",
     "output_type": "stream",
     "text": [
      "100%|██████████| 5843/5843 [00:18<00:00, 311.36frames/s]\n"
     ]
    },
    {
     "name": "stdout",
     "output_type": "stream",
     "text": [
      "Error extracting advanced features: Command requires more than the given 3 arguments: no value for argument \"Interpolation\".\n",
      "OK: toeic-0299-short-talk-149.wav\n",
      "Detected language: English\n"
     ]
    },
    {
     "name": "stderr",
     "output_type": "stream",
     "text": [
      "100%|██████████| 4216/4216 [00:15<00:00, 274.20frames/s]\n"
     ]
    },
    {
     "name": "stdout",
     "output_type": "stream",
     "text": [
      "Error extracting advanced features: Command requires more than the given 3 arguments: no value for argument \"Interpolation\".\n",
      "OK: toeic-0540-short-talk-270.wav\n",
      "Detected language: English\n"
     ]
    },
    {
     "name": "stderr",
     "output_type": "stream",
     "text": [
      "100%|██████████| 11828/11828 [00:36<00:00, 321.28frames/s]\n"
     ]
    },
    {
     "name": "stdout",
     "output_type": "stream",
     "text": [
      "Error extracting advanced features: Command requires more than the given 3 arguments: no value for argument \"Interpolation\".\n",
      "OK: short-stories-0102-102-i-want-to-dye-my-hair-green.wav\n",
      "Detected language: English\n"
     ]
    },
    {
     "name": "stderr",
     "output_type": "stream",
     "text": [
      "100%|██████████| 35018/35018 [01:36<00:00, 361.74frames/s]\n"
     ]
    },
    {
     "name": "stdout",
     "output_type": "stream",
     "text": [
      "Error extracting advanced features: Command requires more than the given 3 arguments: no value for argument \"Interpolation\".\n",
      "OK: ielts-listening-0132-cam11-test-1-part-4.wav\n",
      "Detected language: English\n"
     ]
    },
    {
     "name": "stderr",
     "output_type": "stream",
     "text": [
      "100%|██████████| 13264/13264 [00:36<00:00, 368.27frames/s]\n"
     ]
    },
    {
     "name": "stdout",
     "output_type": "stream",
     "text": [
      "Error extracting advanced features: Command requires more than the given 3 arguments: no value for argument \"Interpolation\".\n",
      "OK: short-stories-0128-129-working-in-my-yard.wav\n",
      "Detected language: English\n"
     ]
    },
    {
     "name": "stderr",
     "output_type": "stream",
     "text": [
      "100%|██████████| 17922/17922 [00:47<00:00, 381.18frames/s]\n"
     ]
    },
    {
     "name": "stdout",
     "output_type": "stream",
     "text": [
      "Error extracting advanced features: Command requires more than the given 3 arguments: no value for argument \"Interpolation\".\n",
      "OK: short-stories-0123-124-creative-people.wav\n",
      "Detected language: English\n"
     ]
    },
    {
     "name": "stderr",
     "output_type": "stream",
     "text": [
      "100%|██████████| 29341/29341 [01:21<00:00, 359.08frames/s]\n"
     ]
    },
    {
     "name": "stdout",
     "output_type": "stream",
     "text": [
      "Error extracting advanced features: Command requires more than the given 3 arguments: no value for argument \"Interpolation\".\n",
      "OK: ielts-listening-0286-ielts-recent-actual-test-4-part-2.wav\n",
      "Detected language: English\n"
     ]
    },
    {
     "name": "stderr",
     "output_type": "stream",
     "text": [
      "100%|██████████| 3702/3702 [00:13<00:00, 275.17frames/s]\n"
     ]
    },
    {
     "name": "stdout",
     "output_type": "stream",
     "text": [
      "Error extracting advanced features: Command requires more than the given 3 arguments: no value for argument \"Interpolation\".\n",
      "OK: toeic-0039-short-talk-19.wav\n",
      "Detected language: English\n"
     ]
    },
    {
     "name": "stderr",
     "output_type": "stream",
     "text": [
      "100%|██████████| 3364/3364 [00:14<00:00, 239.63frames/s]\n"
     ]
    },
    {
     "name": "stdout",
     "output_type": "stream",
     "text": [
      "Error extracting advanced features: Command requires more than the given 3 arguments: no value for argument \"Interpolation\".\n",
      "OK: toeic-0357-short-talk-177.wav\n",
      "Detected language: English\n"
     ]
    },
    {
     "name": "stderr",
     "output_type": "stream",
     "text": [
      "100%|██████████| 4339/4339 [00:14<00:00, 301.87frames/s]\n"
     ]
    },
    {
     "name": "stdout",
     "output_type": "stream",
     "text": [
      "Error extracting advanced features: Command requires more than the given 3 arguments: no value for argument \"Interpolation\".\n",
      "OK: toeic-0191-short-talk-91.wav\n",
      "Detected language: English\n"
     ]
    },
    {
     "name": "stderr",
     "output_type": "stream",
     "text": [
      "100%|██████████| 4736/4736 [00:14<00:00, 328.28frames/s]\n"
     ]
    },
    {
     "name": "stdout",
     "output_type": "stream",
     "text": [
      "Error extracting advanced features: Command requires more than the given 3 arguments: no value for argument \"Interpolation\".\n",
      "OK: toeic-0158-short-talk-78.wav\n",
      "Detected language: English\n"
     ]
    },
    {
     "name": "stderr",
     "output_type": "stream",
     "text": [
      "100%|██████████| 25283/25283 [01:08<00:00, 371.69frames/s]\n"
     ]
    },
    {
     "name": "stdout",
     "output_type": "stream",
     "text": [
      "Error extracting advanced features: Command requires more than the given 3 arguments: no value for argument \"Interpolation\".\n",
      "OK: ielts-listening-0148-cam10-test-1-part-4.wav\n",
      "Detected language: English\n"
     ]
    },
    {
     "name": "stderr",
     "output_type": "stream",
     "text": [
      "100%|██████████| 3110/3110 [00:13<00:00, 238.02frames/s]\n"
     ]
    },
    {
     "name": "stdout",
     "output_type": "stream",
     "text": [
      "Error extracting advanced features: Command requires more than the given 3 arguments: no value for argument \"Interpolation\".\n",
      "OK: toeic-0019-short-talk-9.wav\n",
      "Detected language: English\n"
     ]
    },
    {
     "name": "stderr",
     "output_type": "stream",
     "text": [
      "100%|██████████| 9751/9751 [00:28<00:00, 345.04frames/s]\n"
     ]
    },
    {
     "name": "stdout",
     "output_type": "stream",
     "text": [
      "Error extracting advanced features: Command requires more than the given 3 arguments: no value for argument \"Interpolation\".\n",
      "OK: short-stories-0097-97-time.wav\n",
      "Detected language: English\n"
     ]
    },
    {
     "name": "stderr",
     "output_type": "stream",
     "text": [
      " 99%|█████████▉| 16478/16603 [00:50<00:00, 325.98frames/s]\n"
     ]
    },
    {
     "name": "stdout",
     "output_type": "stream",
     "text": [
      "Error extracting advanced features: Command requires more than the given 3 arguments: no value for argument \"Interpolation\".\n",
      "OK: short-stories-0165-166-corruption.wav\n",
      "Detected language: English\n"
     ]
    },
    {
     "name": "stderr",
     "output_type": "stream",
     "text": [
      "100%|██████████| 4161/4161 [00:14<00:00, 285.88frames/s]\n"
     ]
    },
    {
     "name": "stdout",
     "output_type": "stream",
     "text": [
      "Error extracting advanced features: Command requires more than the given 3 arguments: no value for argument \"Interpolation\".\n",
      "OK: toeic-0072-short-talk-32.wav\n",
      "Detected language: English\n"
     ]
    },
    {
     "name": "stderr",
     "output_type": "stream",
     "text": [
      "100%|██████████| 10104/10104 [00:31<00:00, 325.01frames/s]\n"
     ]
    },
    {
     "name": "stdout",
     "output_type": "stream",
     "text": [
      "Error extracting advanced features: Command requires more than the given 3 arguments: no value for argument \"Interpolation\".\n",
      "OK: short-stories-0078-78-the-school-play.wav\n",
      "Detected language: English\n"
     ]
    },
    {
     "name": "stderr",
     "output_type": "stream",
     "text": [
      "100%|██████████| 4291/4291 [00:14<00:00, 292.35frames/s]\n"
     ]
    },
    {
     "name": "stdout",
     "output_type": "stream",
     "text": [
      "Error extracting advanced features: Command requires more than the given 3 arguments: no value for argument \"Interpolation\".\n",
      "OK: toeic-0136-short-talk-66.wav\n",
      "Detected language: English\n"
     ]
    },
    {
     "name": "stderr",
     "output_type": "stream",
     "text": [
      "100%|██████████| 34041/34041 [01:25<00:00, 399.10frames/s]\n"
     ]
    },
    {
     "name": "stdout",
     "output_type": "stream",
     "text": [
      "Error extracting advanced features: Command requires more than the given 3 arguments: no value for argument \"Interpolation\".\n",
      "OK: yasintha_audio.wav\n",
      "Detected language: English\n"
     ]
    },
    {
     "name": "stderr",
     "output_type": "stream",
     "text": [
      "100%|██████████| 18667/18667 [00:57<00:00, 324.67frames/s]\n"
     ]
    },
    {
     "name": "stdout",
     "output_type": "stream",
     "text": [
      "Error extracting advanced features: Command requires more than the given 3 arguments: no value for argument \"Interpolation\".\n",
      "OK: short-stories-0174-175-the-history-of-trial-by-jury.wav\n",
      "Detected language: English\n"
     ]
    },
    {
     "name": "stderr",
     "output_type": "stream",
     "text": [
      "100%|██████████| 4241/4241 [00:14<00:00, 291.17frames/s]\n"
     ]
    },
    {
     "name": "stdout",
     "output_type": "stream",
     "text": [
      "Error extracting advanced features: Command requires more than the given 3 arguments: no value for argument \"Interpolation\".\n",
      "OK: toeic-0113-short-talk-53.wav\n",
      "Detected language: English\n"
     ]
    },
    {
     "name": "stderr",
     "output_type": "stream",
     "text": [
      "100%|██████████| 28123/28123 [01:21<00:00, 345.03frames/s]\n"
     ]
    },
    {
     "name": "stdout",
     "output_type": "stream",
     "text": [
      "Error extracting advanced features: Command requires more than the given 3 arguments: no value for argument \"Interpolation\".\n",
      "OK: ielts-listening-0014-cam19-test-4-part-2.wav\n",
      "Detected language: English\n"
     ]
    },
    {
     "name": "stderr",
     "output_type": "stream",
     "text": [
      "100%|██████████| 10195/10195 [00:31<00:00, 320.64frames/s]\n"
     ]
    },
    {
     "name": "stdout",
     "output_type": "stream",
     "text": [
      "Error extracting advanced features: Command requires more than the given 3 arguments: no value for argument \"Interpolation\".\n",
      "OK: short-stories-0115-115-if-my-fish-could-talk.wav\n",
      "Detected language: English\n"
     ]
    },
    {
     "name": "stderr",
     "output_type": "stream",
     "text": [
      "100%|██████████| 4835/4835 [00:17<00:00, 273.15frames/s]\n"
     ]
    },
    {
     "name": "stdout",
     "output_type": "stream",
     "text": [
      "Error extracting advanced features: Command requires more than the given 3 arguments: no value for argument \"Interpolation\".\n",
      "OK: toeic-0179-short-talk-89.wav\n",
      "Detected language: English\n"
     ]
    },
    {
     "name": "stderr",
     "output_type": "stream",
     "text": [
      "100%|██████████| 4449/4449 [00:13<00:00, 321.32frames/s]\n"
     ]
    },
    {
     "name": "stdout",
     "output_type": "stream",
     "text": [
      "Error extracting advanced features: Command requires more than the given 3 arguments: no value for argument \"Interpolation\".\n",
      "OK: toeic-0295-short-talk-145.wav\n",
      "Detected language: English\n"
     ]
    },
    {
     "name": "stderr",
     "output_type": "stream",
     "text": [
      "100%|██████████| 4370/4370 [00:14<00:00, 307.75frames/s]\n"
     ]
    },
    {
     "name": "stdout",
     "output_type": "stream",
     "text": [
      "Error extracting advanced features: Command requires more than the given 3 arguments: no value for argument \"Interpolation\".\n",
      "OK: toeic-0433-short-talk-213.wav\n",
      "Detected language: English\n"
     ]
    },
    {
     "name": "stderr",
     "output_type": "stream",
     "text": [
      "100%|██████████| 39310/39310 [01:47<00:00, 364.16frames/s]\n"
     ]
    },
    {
     "name": "stdout",
     "output_type": "stream",
     "text": [
      "Error extracting advanced features: Command requires more than the given 3 arguments: no value for argument \"Interpolation\".\n",
      "OK: ielts-listening-0064-cam16-test-4-part-4.wav\n",
      "Detected language: English\n"
     ]
    },
    {
     "name": "stderr",
     "output_type": "stream",
     "text": [
      "100%|██████████| 26507/26507 [01:19<00:00, 333.49frames/s]\n"
     ]
    },
    {
     "name": "stdout",
     "output_type": "stream",
     "text": [
      "Error extracting advanced features: Command requires more than the given 3 arguments: no value for argument \"Interpolation\".\n",
      "OK: ielts-listening-0164-cam9-test-1-part-4.wav\n",
      "Detected language: English\n"
     ]
    },
    {
     "name": "stderr",
     "output_type": "stream",
     "text": [
      "100%|██████████| 4963/4963 [00:14<00:00, 346.44frames/s]\n"
     ]
    },
    {
     "name": "stdout",
     "output_type": "stream",
     "text": [
      "Error extracting advanced features: Command requires more than the given 3 arguments: no value for argument \"Interpolation\".\n",
      "OK: toeic-0584-short-talk-293.wav\n",
      "Detected language: English\n"
     ]
    },
    {
     "name": "stderr",
     "output_type": "stream",
     "text": [
      "100%|██████████| 8865/8865 [00:24<00:00, 356.43frames/s]\n"
     ]
    },
    {
     "name": "stdout",
     "output_type": "stream",
     "text": [
      "Error extracting advanced features: Command requires more than the given 3 arguments: no value for argument \"Interpolation\".\n",
      "OK: Pos-virtual-discount-audio-normal.wav\n",
      "Detected language: English\n"
     ]
    },
    {
     "name": "stderr",
     "output_type": "stream",
     "text": [
      "100%|██████████| 3079/3079 [00:13<00:00, 232.09frames/s]\n"
     ]
    },
    {
     "name": "stdout",
     "output_type": "stream",
     "text": [
      "Error extracting advanced features: Command requires more than the given 3 arguments: no value for argument \"Interpolation\".\n",
      "OK: toeic-0180-short-talk-90-2.wav\n",
      "Detected language: English\n"
     ]
    },
    {
     "name": "stderr",
     "output_type": "stream",
     "text": [
      "100%|██████████| 7808/7808 [00:22<00:00, 347.29frames/s]\n"
     ]
    },
    {
     "name": "stdout",
     "output_type": "stream",
     "text": [
      "Error extracting advanced features: Command requires more than the given 3 arguments: no value for argument \"Interpolation\".\n",
      "OK: AUDIO-2025-04-04-12-48-36.wav\n",
      "Detected language: English\n"
     ]
    },
    {
     "name": "stderr",
     "output_type": "stream",
     "text": [
      "100%|██████████| 21790/21790 [01:07<00:00, 322.55frames/s]\n"
     ]
    },
    {
     "name": "stdout",
     "output_type": "stream",
     "text": [
      "Error extracting advanced features: Command requires more than the given 3 arguments: no value for argument \"Interpolation\".\n",
      "OK: ielts-listening-0212-cam6-test-1-part-4.wav\n",
      "Detected language: English\n"
     ]
    },
    {
     "name": "stderr",
     "output_type": "stream",
     "text": [
      "100%|██████████| 10020/10020 [00:31<00:00, 322.19frames/s]\n"
     ]
    },
    {
     "name": "stdout",
     "output_type": "stream",
     "text": [
      "Error extracting advanced features: Command requires more than the given 3 arguments: no value for argument \"Interpolation\".\n",
      "OK: short-stories-0080-80-my-first-job.wav\n",
      "Detected language: English\n"
     ]
    },
    {
     "name": "stderr",
     "output_type": "stream",
     "text": [
      "100%|██████████| 9905/9905 [00:33<00:00, 299.56frames/s]\n"
     ]
    },
    {
     "name": "stdout",
     "output_type": "stream",
     "text": [
      "Error extracting advanced features: Command requires more than the given 3 arguments: no value for argument \"Interpolation\".\n",
      "OK: short-stories-0133-134-music.wav\n",
      "Detected language: English\n"
     ]
    },
    {
     "name": "stderr",
     "output_type": "stream",
     "text": [
      "100%|██████████| 3889/3889 [00:13<00:00, 293.84frames/s]\n"
     ]
    },
    {
     "name": "stdout",
     "output_type": "stream",
     "text": [
      "Error extracting advanced features: Command requires more than the given 3 arguments: no value for argument \"Interpolation\".\n",
      "OK: toeic-0472-short-talk-232.wav\n",
      "Detected language: English\n"
     ]
    },
    {
     "name": "stderr",
     "output_type": "stream",
     "text": [
      "100%|██████████| 17658/17658 [00:53<00:00, 328.38frames/s]\n"
     ]
    },
    {
     "name": "stdout",
     "output_type": "stream",
     "text": [
      "Error extracting advanced features: Command requires more than the given 3 arguments: no value for argument \"Interpolation\".\n",
      "OK: short-stories-0208-210-the-national-hockey-league.wav\n",
      "Detected language: English\n"
     ]
    },
    {
     "name": "stderr",
     "output_type": "stream",
     "text": [
      "100%|██████████| 28189/28189 [01:19<00:00, 353.84frames/s]\n"
     ]
    },
    {
     "name": "stdout",
     "output_type": "stream",
     "text": [
      "Error extracting advanced features: Command requires more than the given 3 arguments: no value for argument \"Interpolation\".\n",
      "OK: ielts-listening-0152-cam10-test-2-part-4.wav\n",
      "Detected language: English\n"
     ]
    },
    {
     "name": "stderr",
     "output_type": "stream",
     "text": [
      "100%|██████████| 13520/13520 [00:39<00:00, 344.37frames/s]\n"
     ]
    },
    {
     "name": "stdout",
     "output_type": "stream",
     "text": [
      "Error extracting advanced features: Command requires more than the given 3 arguments: no value for argument \"Interpolation\".\n",
      "OK: short-stories-0026-26-school.wav\n",
      "Detected language: English\n"
     ]
    },
    {
     "name": "stderr",
     "output_type": "stream",
     "text": [
      "100%|██████████| 5206/5206 [00:15<00:00, 345.03frames/s]\n"
     ]
    },
    {
     "name": "stdout",
     "output_type": "stream",
     "text": [
      "Error extracting advanced features: Command requires more than the given 3 arguments: no value for argument \"Interpolation\".\n",
      "OK: toeic-0571-short-talk-281.wav\n",
      "Detected language: English\n"
     ]
    },
    {
     "name": "stderr",
     "output_type": "stream",
     "text": [
      "100%|██████████| 2068/2068 [00:09<00:00, 207.42frames/s]\n"
     ]
    },
    {
     "name": "stdout",
     "output_type": "stream",
     "text": [
      "Error extracting advanced features: Command requires more than the given 3 arguments: no value for argument \"Interpolation\".\n",
      "OK: heshani_01_audio.wav\n",
      "Detected language: English\n"
     ]
    },
    {
     "name": "stderr",
     "output_type": "stream",
     "text": [
      "100%|██████████| 3617/3617 [00:13<00:00, 270.65frames/s]\n"
     ]
    },
    {
     "name": "stdout",
     "output_type": "stream",
     "text": [
      "Error extracting advanced features: Command requires more than the given 3 arguments: no value for argument \"Interpolation\".\n",
      "OK: toeic-0031-short-talk-11.wav\n",
      "Detected language: English\n"
     ]
    },
    {
     "name": "stderr",
     "output_type": "stream",
     "text": [
      "100%|██████████| 3356/3356 [00:13<00:00, 249.37frames/s]\n"
     ]
    },
    {
     "name": "stdout",
     "output_type": "stream",
     "text": [
      "Error extracting advanced features: Command requires more than the given 3 arguments: no value for argument \"Interpolation\".\n",
      "OK: toeic-0451-short-talk-221.wav\n",
      "Detected language: English\n"
     ]
    },
    {
     "name": "stderr",
     "output_type": "stream",
     "text": [
      "100%|██████████| 20563/20563 [00:58<00:00, 351.31frames/s]\n"
     ]
    },
    {
     "name": "stdout",
     "output_type": "stream",
     "text": [
      "Error extracting advanced features: Command requires more than the given 3 arguments: no value for argument \"Interpolation\".\n",
      "OK: short-stories-0219-221-hiroshima.wav\n",
      "Detected language: English\n"
     ]
    },
    {
     "name": "stderr",
     "output_type": "stream",
     "text": [
      "100%|██████████| 20414/20414 [00:58<00:00, 346.21frames/s]\n"
     ]
    },
    {
     "name": "stdout",
     "output_type": "stream",
     "text": [
      "Error extracting advanced features: Command requires more than the given 3 arguments: no value for argument \"Interpolation\".\n",
      "OK: ielts-listening-0266-cam3-test-3-part-2.wav\n",
      "Detected language: English\n"
     ]
    },
    {
     "name": "stderr",
     "output_type": "stream",
     "text": [
      "100%|██████████| 12180/12180 [00:32<00:00, 371.09frames/s]\n"
     ]
    },
    {
     "name": "stdout",
     "output_type": "stream",
     "text": [
      "Error extracting advanced features: Command requires more than the given 3 arguments: no value for argument \"Interpolation\".\n",
      "OK: short-stories-0024-24-weather.wav\n",
      "Detected language: English\n"
     ]
    },
    {
     "name": "stderr",
     "output_type": "stream",
     "text": [
      "100%|██████████| 13763/13763 [00:40<00:00, 335.82frames/s]\n"
     ]
    },
    {
     "name": "stdout",
     "output_type": "stream",
     "text": [
      "Error extracting advanced features: Command requires more than the given 3 arguments: no value for argument \"Interpolation\".\n",
      "OK: short-stories-0083-83-christmas.wav\n",
      "Detected language: English\n"
     ]
    },
    {
     "name": "stderr",
     "output_type": "stream",
     "text": [
      "100%|██████████| 3599/3599 [00:13<00:00, 269.81frames/s]\n"
     ]
    },
    {
     "name": "stdout",
     "output_type": "stream",
     "text": [
      "Error extracting advanced features: Command requires more than the given 3 arguments: no value for argument \"Interpolation\".\n",
      "OK: toeic-0199-short-talk-99.wav\n",
      "Detected language: English\n"
     ]
    },
    {
     "name": "stderr",
     "output_type": "stream",
     "text": [
      "100%|██████████| 30029/30029 [01:16<00:00, 394.95frames/s]\n"
     ]
    },
    {
     "name": "stdout",
     "output_type": "stream",
     "text": [
      "Error extracting advanced features: Command requires more than the given 3 arguments: no value for argument \"Interpolation\".\n",
      "OK: sandali_hci_02_audio.wav\n",
      "Detected language: English\n"
     ]
    },
    {
     "name": "stderr",
     "output_type": "stream",
     "text": [
      "100%|██████████| 2993/2993 [00:13<00:00, 225.97frames/s]\n"
     ]
    },
    {
     "name": "stdout",
     "output_type": "stream",
     "text": [
      "Error extracting advanced features: Command requires more than the given 3 arguments: no value for argument \"Interpolation\".\n",
      "OK: toeic-0217-short-talk-107.wav\n",
      "Detected language: English\n"
     ]
    },
    {
     "name": "stderr",
     "output_type": "stream",
     "text": [
      "100%|██████████| 4636/4636 [00:13<00:00, 332.58frames/s]\n"
     ]
    },
    {
     "name": "stdout",
     "output_type": "stream",
     "text": [
      "Error extracting advanced features: Command requires more than the given 3 arguments: no value for argument \"Interpolation\".\n",
      "OK: toeic-0587-short-talk-296.wav\n",
      "Detected language: English\n"
     ]
    },
    {
     "name": "stderr",
     "output_type": "stream",
     "text": [
      "100%|██████████| 16668/16668 [00:49<00:00, 334.98frames/s]\n"
     ]
    },
    {
     "name": "stdout",
     "output_type": "stream",
     "text": [
      "Error extracting advanced features: Command requires more than the given 3 arguments: no value for argument \"Interpolation\".\n",
      "OK: short-stories-0155-156-eating-out.wav\n",
      "Detected language: English\n"
     ]
    },
    {
     "name": "stderr",
     "output_type": "stream",
     "text": [
      "100%|██████████| 2685/2685 [00:08<00:00, 318.05frames/s]\n"
     ]
    },
    {
     "name": "stdout",
     "output_type": "stream",
     "text": [
      "Error extracting advanced features: Command requires more than the given 3 arguments: no value for argument \"Interpolation\".\n",
      "OK: toeic-0400-short-talk-200.wav\n",
      "Detected language: English\n"
     ]
    },
    {
     "name": "stderr",
     "output_type": "stream",
     "text": [
      "100%|██████████| 11339/11339 [00:32<00:00, 352.72frames/s]\n"
     ]
    },
    {
     "name": "stdout",
     "output_type": "stream",
     "text": [
      "Error extracting advanced features: Command requires more than the given 3 arguments: no value for argument \"Interpolation\".\n",
      "OK: short-stories-0136-137-school-dance.wav\n",
      "Detected language: English\n"
     ]
    },
    {
     "name": "stderr",
     "output_type": "stream",
     "text": [
      "100%|██████████| 4351/4351 [00:14<00:00, 300.50frames/s]\n"
     ]
    },
    {
     "name": "stdout",
     "output_type": "stream",
     "text": [
      "Error extracting advanced features: Command requires more than the given 3 arguments: no value for argument \"Interpolation\".\n",
      "OK: toeic-0154-short-talk-74.wav\n",
      "Detected language: English\n"
     ]
    },
    {
     "name": "stderr",
     "output_type": "stream",
     "text": [
      "100%|██████████| 10488/10488 [00:30<00:00, 349.44frames/s]\n"
     ]
    },
    {
     "name": "stdout",
     "output_type": "stream",
     "text": [
      "Error extracting advanced features: Command requires more than the given 3 arguments: no value for argument \"Interpolation\".\n",
      "OK: short-stories-0093-93-when-i-grow-up.wav\n",
      "Detected language: English\n"
     ]
    },
    {
     "name": "stderr",
     "output_type": "stream",
     "text": [
      "100%|██████████| 22089/22089 [00:58<00:00, 379.41frames/s]\n"
     ]
    },
    {
     "name": "stdout",
     "output_type": "stream",
     "text": [
      "Error extracting advanced features: Command requires more than the given 3 arguments: no value for argument \"Interpolation\".\n",
      "OK: rashmika_audio.wav\n",
      "Detected language: English\n"
     ]
    },
    {
     "name": "stderr",
     "output_type": "stream",
     "text": [
      "100%|██████████| 3252/3252 [00:12<00:00, 263.10frames/s]\n"
     ]
    },
    {
     "name": "stdout",
     "output_type": "stream",
     "text": [
      "Error extracting advanced features: Command requires more than the given 3 arguments: no value for argument \"Interpolation\".\n",
      "OK: toeic-0492-short-talk-242.wav\n",
      "Detected language: English\n"
     ]
    },
    {
     "name": "stderr",
     "output_type": "stream",
     "text": [
      "100%|██████████| 4618/4618 [00:14<00:00, 309.88frames/s]\n"
     ]
    },
    {
     "name": "stdout",
     "output_type": "stream",
     "text": [
      "Error extracting advanced features: Command requires more than the given 3 arguments: no value for argument \"Interpolation\".\n",
      "OK: toeic-0035-short-talk-15.wav\n",
      "Detected language: English\n"
     ]
    },
    {
     "name": "stderr",
     "output_type": "stream",
     "text": [
      "100%|██████████| 12886/12886 [00:35<00:00, 364.65frames/s]\n"
     ]
    },
    {
     "name": "stdout",
     "output_type": "stream",
     "text": [
      "Error extracting advanced features: Command requires more than the given 3 arguments: no value for argument \"Interpolation\".\n",
      "OK: short-stories-0091-91-niagara-falls.wav\n",
      "Detected language: English\n"
     ]
    },
    {
     "name": "stderr",
     "output_type": "stream",
     "text": [
      "100%|██████████| 3077/3077 [00:12<00:00, 251.51frames/s]\n"
     ]
    },
    {
     "name": "stdout",
     "output_type": "stream",
     "text": [
      "Error extracting advanced features: Command requires more than the given 3 arguments: no value for argument \"Interpolation\".\n",
      "OK: toeic-0234-short-talk-114.wav\n",
      "Detected language: English\n"
     ]
    },
    {
     "name": "stderr",
     "output_type": "stream",
     "text": [
      "100%|██████████| 3374/3374 [00:13<00:00, 251.89frames/s]\n"
     ]
    },
    {
     "name": "stdout",
     "output_type": "stream",
     "text": [
      "Error extracting advanced features: Command requires more than the given 3 arguments: no value for argument \"Interpolation\".\n",
      "OK: toeic-0376-short-talk-186.wav\n",
      "Detected language: English\n"
     ]
    },
    {
     "name": "stderr",
     "output_type": "stream",
     "text": [
      "100%|██████████| 27228/27228 [01:18<00:00, 348.71frames/s]\n"
     ]
    },
    {
     "name": "stdout",
     "output_type": "stream",
     "text": [
      "Error extracting advanced features: Command requires more than the given 3 arguments: no value for argument \"Interpolation\".\n",
      "OK: ielts-listening-0040-cam17-test-2-part-4.wav\n",
      "Detected language: English\n"
     ]
    },
    {
     "name": "stderr",
     "output_type": "stream",
     "text": [
      "100%|██████████| 18359/18359 [00:48<00:00, 380.80frames/s]\n"
     ]
    },
    {
     "name": "stdout",
     "output_type": "stream",
     "text": [
      "Error extracting advanced features: Command requires more than the given 3 arguments: no value for argument \"Interpolation\".\n",
      "OK: ielts-listening-0198-cam7-test-2-part-2.wav\n",
      "Detected language: English\n"
     ]
    },
    {
     "name": "stderr",
     "output_type": "stream",
     "text": [
      "100%|██████████| 12658/12658 [00:41<00:00, 301.59frames/s]\n"
     ]
    },
    {
     "name": "stdout",
     "output_type": "stream",
     "text": [
      "Error extracting advanced features: Command requires more than the given 3 arguments: no value for argument \"Interpolation\".\n",
      "OK: short-stories-0117-118-how-to-avoid-catching-a-cold.wav\n",
      "Detected language: English\n"
     ]
    },
    {
     "name": "stderr",
     "output_type": "stream",
     "text": [
      "100%|██████████| 6926/6926 [00:20<00:00, 332.68frames/s]\n"
     ]
    },
    {
     "name": "stdout",
     "output_type": "stream",
     "text": [
      "Error extracting advanced features: Command requires more than the given 3 arguments: no value for argument \"Interpolation\".\n",
      "OK: AUDIO-2025-04-04-12-48-37.wav\n",
      "Detected language: English\n"
     ]
    },
    {
     "name": "stderr",
     "output_type": "stream",
     "text": [
      "100%|██████████| 3375/3375 [00:12<00:00, 266.74frames/s]\n"
     ]
    },
    {
     "name": "stdout",
     "output_type": "stream",
     "text": [
      "Error extracting advanced features: Command requires more than the given 3 arguments: no value for argument \"Interpolation\".\n",
      "OK: toeic-0256-short-talk-126.wav\n",
      "Detected language: English\n"
     ]
    },
    {
     "name": "stderr",
     "output_type": "stream",
     "text": [
      "100%|██████████| 2783/2783 [00:12<00:00, 215.74frames/s]\n"
     ]
    },
    {
     "name": "stdout",
     "output_type": "stream",
     "text": [
      "Error extracting advanced features: Command requires more than the given 3 arguments: no value for argument \"Interpolation\".\n",
      "OK: toeic-0380-short-talk-190.wav\n",
      "Detected language: English\n"
     ]
    },
    {
     "name": "stderr",
     "output_type": "stream",
     "text": [
      "100%|██████████| 14942/14942 [00:44<00:00, 333.52frames/s]\n"
     ]
    },
    {
     "name": "stdout",
     "output_type": "stream",
     "text": [
      "Error extracting advanced features: Command requires more than the given 3 arguments: no value for argument \"Interpolation\".\n",
      "OK: short-stories-0191-192-london.wav\n",
      "Detected language: English\n"
     ]
    },
    {
     "name": "stderr",
     "output_type": "stream",
     "text": [
      "100%|██████████| 3860/3860 [00:13<00:00, 282.39frames/s]\n"
     ]
    },
    {
     "name": "stdout",
     "output_type": "stream",
     "text": [
      "Error extracting advanced features: Command requires more than the given 3 arguments: no value for argument \"Interpolation\".\n",
      "OK: toeic-0098-short-talk-48.wav\n",
      "Detected language: English\n"
     ]
    },
    {
     "name": "stderr",
     "output_type": "stream",
     "text": [
      "100%|██████████| 10699/10699 [00:31<00:00, 339.27frames/s]\n"
     ]
    },
    {
     "name": "stdout",
     "output_type": "stream",
     "text": [
      "Error extracting advanced features: Command requires more than the given 3 arguments: no value for argument \"Interpolation\".\n",
      "OK: short-stories-0025-25-house.wav\n",
      "Detected language: English\n"
     ]
    },
    {
     "name": "stderr",
     "output_type": "stream",
     "text": [
      "100%|██████████| 4310/4310 [00:13<00:00, 319.76frames/s]\n"
     ]
    },
    {
     "name": "stdout",
     "output_type": "stream",
     "text": [
      "Error extracting advanced features: Command requires more than the given 3 arguments: no value for argument \"Interpolation\".\n",
      "OK: toeic-0275-short-talk-135.wav\n",
      "Detected language: English\n"
     ]
    },
    {
     "name": "stderr",
     "output_type": "stream",
     "text": [
      "100%|██████████| 14892/14892 [00:47<00:00, 315.64frames/s]\n"
     ]
    },
    {
     "name": "stdout",
     "output_type": "stream",
     "text": [
      "Error extracting advanced features: Command requires more than the given 3 arguments: no value for argument \"Interpolation\".\n",
      "OK: short-stories-0170-171-ice-hockey.wav\n",
      "Detected language: English\n"
     ]
    },
    {
     "name": "stderr",
     "output_type": "stream",
     "text": [
      "100%|██████████| 18886/18886 [00:52<00:00, 358.56frames/s]\n"
     ]
    },
    {
     "name": "stdout",
     "output_type": "stream",
     "text": [
      "Error extracting advanced features: Command requires more than the given 3 arguments: no value for argument \"Interpolation\".\n",
      "OK: short-stories-0189-190-california.wav\n",
      "Detected language: English\n"
     ]
    },
    {
     "name": "stderr",
     "output_type": "stream",
     "text": [
      "100%|██████████| 18910/18910 [00:56<00:00, 335.64frames/s]\n"
     ]
    },
    {
     "name": "stdout",
     "output_type": "stream",
     "text": [
      "Error extracting advanced features: Command requires more than the given 3 arguments: no value for argument \"Interpolation\".\n",
      "OK: short-stories-0244-247-coffee-and-donuts.wav\n",
      "Detected language: English\n"
     ]
    },
    {
     "name": "stderr",
     "output_type": "stream",
     "text": [
      "100%|██████████| 11392/11392 [00:34<00:00, 328.47frames/s]\n"
     ]
    },
    {
     "name": "stdout",
     "output_type": "stream",
     "text": [
      "Error extracting advanced features: Command requires more than the given 3 arguments: no value for argument \"Interpolation\".\n",
      "OK: short-stories-0154-155-summer-jobs.wav\n",
      "Detected language: English\n"
     ]
    },
    {
     "name": "stderr",
     "output_type": "stream",
     "text": [
      "100%|██████████| 30252/30252 [01:22<00:00, 367.80frames/s]\n"
     ]
    },
    {
     "name": "stdout",
     "output_type": "stream",
     "text": [
      "Error extracting advanced features: Command requires more than the given 3 arguments: no value for argument \"Interpolation\".\n",
      "OK: pos_demo.wav\n",
      "Detected language: English\n"
     ]
    },
    {
     "name": "stderr",
     "output_type": "stream",
     "text": [
      "100%|██████████| 4080/4080 [00:13<00:00, 303.48frames/s]\n"
     ]
    },
    {
     "name": "stdout",
     "output_type": "stream",
     "text": [
      "Error extracting advanced features: Command requires more than the given 3 arguments: no value for argument \"Interpolation\".\n",
      "OK: toeic-0586-short-talk-295.wav\n",
      "Detected language: English\n"
     ]
    },
    {
     "name": "stderr",
     "output_type": "stream",
     "text": [
      "100%|██████████| 5130/5130 [00:15<00:00, 334.79frames/s]\n"
     ]
    },
    {
     "name": "stdout",
     "output_type": "stream",
     "text": [
      "Error extracting advanced features: Command requires more than the given 3 arguments: no value for argument \"Interpolation\".\n",
      "OK: toeic-0551-short-talk-271.wav\n",
      "Detected language: English\n"
     ]
    },
    {
     "name": "stderr",
     "output_type": "stream",
     "text": [
      "100%|██████████| 25996/25996 [01:17<00:00, 333.99frames/s]\n"
     ]
    },
    {
     "name": "stdout",
     "output_type": "stream",
     "text": [
      "Error extracting advanced features: Command requires more than the given 3 arguments: no value for argument \"Interpolation\".\n",
      "OK: ielts-listening-0130-cam11-test-1-part-2.wav\n",
      "Detected language: English\n"
     ]
    },
    {
     "name": "stderr",
     "output_type": "stream",
     "text": [
      "100%|██████████| 42779/42779 [02:00<00:00, 353.61frames/s]\n"
     ]
    },
    {
     "name": "stdout",
     "output_type": "stream",
     "text": [
      "Error extracting advanced features: Command requires more than the given 3 arguments: no value for argument \"Interpolation\".\n",
      "OK: ielts-listening-0016-cam19-test-4-part-4.wav\n",
      "Detected language: English\n"
     ]
    },
    {
     "name": "stderr",
     "output_type": "stream",
     "text": [
      "100%|██████████| 10872/10872 [00:29<00:00, 371.20frames/s]\n"
     ]
    },
    {
     "name": "stdout",
     "output_type": "stream",
     "text": [
      "Error extracting advanced features: Command requires more than the given 3 arguments: no value for argument \"Interpolation\".\n",
      "OK: short-stories-0094-94-favorite-colors.wav\n",
      "Detected language: English\n"
     ]
    },
    {
     "name": "stderr",
     "output_type": "stream",
     "text": [
      "100%|██████████| 3828/3828 [00:12<00:00, 302.89frames/s]\n"
     ]
    },
    {
     "name": "stdout",
     "output_type": "stream",
     "text": [
      "Error extracting advanced features: Command requires more than the given 3 arguments: no value for argument \"Interpolation\".\n",
      "OK: toeic-0052-short-talk-22.wav\n",
      "Detected language: English\n"
     ]
    },
    {
     "name": "stderr",
     "output_type": "stream",
     "text": [
      "100%|██████████| 4787/4787 [00:15<00:00, 315.42frames/s]\n"
     ]
    },
    {
     "name": "stdout",
     "output_type": "stream",
     "text": [
      "Error extracting advanced features: Command requires more than the given 3 arguments: no value for argument \"Interpolation\".\n",
      "OK: toeic-0278-short-talk-138.wav\n",
      "Detected language: English\n"
     ]
    },
    {
     "name": "stderr",
     "output_type": "stream",
     "text": [
      "100%|██████████| 9678/9678 [00:31<00:00, 304.37frames/s]\n"
     ]
    },
    {
     "name": "stdout",
     "output_type": "stream",
     "text": [
      "Error extracting advanced features: Command requires more than the given 3 arguments: no value for argument \"Interpolation\".\n",
      "OK: short-stories-0114-114-divorce.wav\n",
      "Detected language: English\n"
     ]
    },
    {
     "name": "stderr",
     "output_type": "stream",
     "text": [
      "100%|██████████| 8946/8946 [00:29<00:00, 300.18frames/s]\n"
     ]
    },
    {
     "name": "stdout",
     "output_type": "stream",
     "text": [
      "Error extracting advanced features: Command requires more than the given 3 arguments: no value for argument \"Interpolation\".\n",
      "OK: short-stories-0065-65-my-cat.wav\n",
      "Detected language: English\n"
     ]
    },
    {
     "name": "stderr",
     "output_type": "stream",
     "text": [
      "100%|██████████| 33504/33504 [01:36<00:00, 347.58frames/s]\n"
     ]
    },
    {
     "name": "stdout",
     "output_type": "stream",
     "text": [
      "Error extracting advanced features: Command requires more than the given 3 arguments: no value for argument \"Interpolation\".\n",
      "OK: ielts-listening-0008-cam19-test-2-part-4.wav\n",
      "Detected language: English\n"
     ]
    },
    {
     "name": "stderr",
     "output_type": "stream",
     "text": [
      "100%|██████████| 11049/11049 [00:33<00:00, 326.66frames/s]\n"
     ]
    },
    {
     "name": "stdout",
     "output_type": "stream",
     "text": [
      "Error extracting advanced features: Command requires more than the given 3 arguments: no value for argument \"Interpolation\".\n",
      "OK: short-stories-0107-107-a-trip-to-the-hospital.wav\n",
      "Detected language: English\n"
     ]
    },
    {
     "name": "stderr",
     "output_type": "stream",
     "text": [
      "100%|██████████| 26026/26026 [01:20<00:00, 321.43frames/s]\n"
     ]
    },
    {
     "name": "stdout",
     "output_type": "stream",
     "text": [
      "Error extracting advanced features: Command requires more than the given 3 arguments: no value for argument \"Interpolation\".\n",
      "OK: ielts-listening-0202-cam7-test-3-part-2.wav\n",
      "Detected language: English\n"
     ]
    },
    {
     "name": "stderr",
     "output_type": "stream",
     "text": [
      "100%|██████████| 3210/3210 [00:13<00:00, 245.47frames/s]\n"
     ]
    },
    {
     "name": "stdout",
     "output_type": "stream",
     "text": [
      "Error extracting advanced features: Command requires more than the given 3 arguments: no value for argument \"Interpolation\".\n",
      "OK: toeic-0531-short-talk-261.wav\n",
      "Detected language: English\n"
     ]
    },
    {
     "name": "stderr",
     "output_type": "stream",
     "text": [
      "100%|██████████| 12115/12115 [00:36<00:00, 332.10frames/s]\n"
     ]
    },
    {
     "name": "stdout",
     "output_type": "stream",
     "text": [
      "Error extracting advanced features: Command requires more than the given 3 arguments: no value for argument \"Interpolation\".\n",
      "OK: short-stories-0053-53-grocery-shopping.wav\n",
      "Detected language: English\n"
     ]
    },
    {
     "name": "stderr",
     "output_type": "stream",
     "text": [
      "100%|██████████| 4911/4911 [00:14<00:00, 336.10frames/s]\n"
     ]
    },
    {
     "name": "stdout",
     "output_type": "stream",
     "text": [
      "Error extracting advanced features: Command requires more than the given 3 arguments: no value for argument \"Interpolation\".\n",
      "OK: toeic-0239-short-talk-119.wav\n",
      "Detected language: English\n"
     ]
    },
    {
     "name": "stderr",
     "output_type": "stream",
     "text": [
      "100%|██████████| 24311/24311 [01:15<00:00, 322.86frames/s]\n"
     ]
    },
    {
     "name": "stdout",
     "output_type": "stream",
     "text": [
      "Error extracting advanced features: Command requires more than the given 3 arguments: no value for argument \"Interpolation\".\n",
      "OK: ielts-listening-0242-cam4-test-1-part-2.wav\n",
      "Detected language: English\n"
     ]
    },
    {
     "name": "stderr",
     "output_type": "stream",
     "text": [
      "100%|██████████| 9127/9127 [00:30<00:00, 295.33frames/s]\n"
     ]
    },
    {
     "name": "stdout",
     "output_type": "stream",
     "text": [
      "Error extracting advanced features: Command requires more than the given 3 arguments: no value for argument \"Interpolation\".\n",
      "OK: short-stories-0087-87-a-surprise.wav\n",
      "Detected language: English\n"
     ]
    },
    {
     "name": "stderr",
     "output_type": "stream",
     "text": [
      "100%|██████████| 31618/31618 [01:32<00:00, 341.15frames/s]\n"
     ]
    },
    {
     "name": "stdout",
     "output_type": "stream",
     "text": [
      "Error extracting advanced features: Command requires more than the given 3 arguments: no value for argument \"Interpolation\".\n",
      "OK: ielts-listening-0118-cam12-test-2-part-2.wav\n",
      "Detected language: English\n"
     ]
    },
    {
     "name": "stderr",
     "output_type": "stream",
     "text": [
      "100%|██████████| 4205/4205 [00:13<00:00, 320.30frames/s]\n"
     ]
    },
    {
     "name": "stdout",
     "output_type": "stream",
     "text": [
      "Error extracting advanced features: Command requires more than the given 3 arguments: no value for argument \"Interpolation\".\n",
      "OK: AUDIO-2025-04-04-10-10-11.wav\n",
      "Detected language: English\n"
     ]
    },
    {
     "name": "stderr",
     "output_type": "stream",
     "text": [
      "100%|██████████| 29710/29710 [01:27<00:00, 340.89frames/s]\n"
     ]
    },
    {
     "name": "stdout",
     "output_type": "stream",
     "text": [
      "Error extracting advanced features: Command requires more than the given 3 arguments: no value for argument \"Interpolation\".\n",
      "OK: ielts-listening-0280-ielts-recent-actual-test-2-part-4.wav\n",
      "Detected language: English\n"
     ]
    },
    {
     "name": "stderr",
     "output_type": "stream",
     "text": [
      "100%|██████████| 13260/13260 [00:35<00:00, 369.68frames/s]\n"
     ]
    },
    {
     "name": "stdout",
     "output_type": "stream",
     "text": [
      "Error extracting advanced features: Command requires more than the given 3 arguments: no value for argument \"Interpolation\".\n",
      "OK: sammani_speech_01.wav\n",
      "Detected language: English\n"
     ]
    },
    {
     "name": "stderr",
     "output_type": "stream",
     "text": [
      "100%|██████████| 12173/12173 [00:34<00:00, 351.26frames/s]\n"
     ]
    },
    {
     "name": "stdout",
     "output_type": "stream",
     "text": [
      "Error extracting advanced features: Command requires more than the given 3 arguments: no value for argument \"Interpolation\".\n",
      "OK: short-stories-0148-149-thanksgiving.wav\n",
      "Detected language: English\n"
     ]
    },
    {
     "name": "stderr",
     "output_type": "stream",
     "text": [
      "100%|██████████| 15506/15506 [00:47<00:00, 329.75frames/s]\n"
     ]
    },
    {
     "name": "stdout",
     "output_type": "stream",
     "text": [
      "Error extracting advanced features: Command requires more than the given 3 arguments: no value for argument \"Interpolation\".\n",
      "OK: short-stories-0124-125-career-choices.wav\n",
      "Detected language: English\n"
     ]
    },
    {
     "name": "stderr",
     "output_type": "stream",
     "text": [
      "100%|██████████| 10511/10511 [00:31<00:00, 334.35frames/s]\n"
     ]
    },
    {
     "name": "stdout",
     "output_type": "stream",
     "text": [
      "Error extracting advanced features: Command requires more than the given 3 arguments: no value for argument \"Interpolation\".\n",
      "OK: short-stories-0096-96-getting-old.wav\n",
      "Detected language: English\n"
     ]
    },
    {
     "name": "stderr",
     "output_type": "stream",
     "text": [
      "100%|██████████| 3172/3172 [00:14<00:00, 221.56frames/s]\n"
     ]
    },
    {
     "name": "stdout",
     "output_type": "stream",
     "text": [
      "Error extracting advanced features: Command requires more than the given 3 arguments: no value for argument \"Interpolation\".\n",
      "OK: toeic-0356-short-talk-176.wav\n",
      "Detected language: English\n"
     ]
    },
    {
     "name": "stderr",
     "output_type": "stream",
     "text": [
      "100%|██████████| 6887/6887 [00:18<00:00, 371.40frames/s]\n"
     ]
    },
    {
     "name": "stdout",
     "output_type": "stream",
     "text": [
      "Error extracting advanced features: Command requires more than the given 3 arguments: no value for argument \"Interpolation\".\n",
      "OK: AUDIO-2025-04-04-10-10-12 2.wav\n",
      "Detected language: English\n"
     ]
    },
    {
     "name": "stderr",
     "output_type": "stream",
     "text": [
      "100%|██████████| 19403/19403 [01:00<00:00, 318.80frames/s]\n"
     ]
    },
    {
     "name": "stdout",
     "output_type": "stream",
     "text": [
      "Error extracting advanced features: Command requires more than the given 3 arguments: no value for argument \"Interpolation\".\n",
      "OK: short-stories-0193-194-modern-engineering-wonders.wav\n",
      "Detected language: English\n"
     ]
    },
    {
     "name": "stderr",
     "output_type": "stream",
     "text": [
      "100%|██████████| 23834/23834 [01:06<00:00, 357.58frames/s]\n"
     ]
    },
    {
     "name": "stdout",
     "output_type": "stream",
     "text": [
      "Error extracting advanced features: Command requires more than the given 3 arguments: no value for argument \"Interpolation\".\n",
      "OK: short-stories-0227-229-newspapers.wav\n",
      "Detected language: English\n"
     ]
    },
    {
     "name": "stderr",
     "output_type": "stream",
     "text": [
      "100%|██████████| 13155/13155 [00:36<00:00, 362.67frames/s]\n"
     ]
    },
    {
     "name": "stdout",
     "output_type": "stream",
     "text": [
      "Error extracting advanced features: Command requires more than the given 3 arguments: no value for argument \"Interpolation\".\n",
      "OK: short-stories-0156-157-radio-stations.wav\n",
      "Detected language: English\n"
     ]
    },
    {
     "name": "stderr",
     "output_type": "stream",
     "text": [
      "100%|██████████| 19853/19853 [01:02<00:00, 318.39frames/s]\n"
     ]
    },
    {
     "name": "stdout",
     "output_type": "stream",
     "text": [
      "Error extracting advanced features: Command requires more than the given 3 arguments: no value for argument \"Interpolation\".\n",
      "OK: short-stories-0238-240-the-grand-canyon.wav\n",
      "Detected language: English\n"
     ]
    },
    {
     "name": "stderr",
     "output_type": "stream",
     "text": [
      "100%|██████████| 12980/12980 [00:37<00:00, 350.13frames/s]\n"
     ]
    },
    {
     "name": "stdout",
     "output_type": "stream",
     "text": [
      "Error extracting advanced features: Command requires more than the given 3 arguments: no value for argument \"Interpolation\".\n",
      "OK: short-stories-0134-135-first-date.wav\n",
      "Detected language: English\n"
     ]
    },
    {
     "name": "stderr",
     "output_type": "stream",
     "text": [
      "100%|██████████| 29993/29993 [01:35<00:00, 313.83frames/s]\n"
     ]
    },
    {
     "name": "stdout",
     "output_type": "stream",
     "text": [
      "Error extracting advanced features: Command requires more than the given 3 arguments: no value for argument \"Interpolation\".\n",
      "OK: ielts-listening-0306-ielts-recent-actual-test-29-part-2.wav\n",
      "Detected language: English\n"
     ]
    },
    {
     "name": "stderr",
     "output_type": "stream",
     "text": [
      "100%|██████████| 4420/4420 [00:13<00:00, 320.01frames/s]\n"
     ]
    },
    {
     "name": "stdout",
     "output_type": "stream",
     "text": [
      "Error extracting advanced features: Command requires more than the given 3 arguments: no value for argument \"Interpolation\".\n",
      "OK: toeic-0298-short-talk-148.wav\n",
      "Detected language: English\n"
     ]
    },
    {
     "name": "stderr",
     "output_type": "stream",
     "text": [
      "100%|██████████| 4054/4054 [00:13<00:00, 292.69frames/s]\n"
     ]
    },
    {
     "name": "stdout",
     "output_type": "stream",
     "text": [
      "Error extracting advanced features: Command requires more than the given 3 arguments: no value for argument \"Interpolation\".\n",
      "OK: toeic-0500-short-talk-250.wav\n",
      "Detected language: English\n"
     ]
    },
    {
     "name": "stderr",
     "output_type": "stream",
     "text": [
      "100%|██████████| 4845/4845 [00:14<00:00, 343.01frames/s]\n"
     ]
    },
    {
     "name": "stdout",
     "output_type": "stream",
     "text": [
      "Error extracting advanced features: Command requires more than the given 3 arguments: no value for argument \"Interpolation\".\n",
      "OK: toeic-0080-short-talk-40.wav\n",
      "Detected language: English\n"
     ]
    },
    {
     "name": "stderr",
     "output_type": "stream",
     "text": [
      "100%|██████████| 25364/25364 [01:26<00:00, 292.91frames/s]\n"
     ]
    },
    {
     "name": "stdout",
     "output_type": "stream",
     "text": [
      "Error extracting advanced features: Command requires more than the given 3 arguments: no value for argument \"Interpolation\".\n",
      "OK: kaveeja_hci_audio.wav\n",
      "Detected language: English\n"
     ]
    },
    {
     "name": "stderr",
     "output_type": "stream",
     "text": [
      "100%|██████████| 2784/2784 [00:08<00:00, 321.53frames/s]\n"
     ]
    },
    {
     "name": "stdout",
     "output_type": "stream",
     "text": [
      "Error extracting advanced features: Command requires more than the given 3 arguments: no value for argument \"Interpolation\".\n",
      "OK: toeic-0056-short-talk-26.wav\n",
      "Detected language: English\n"
     ]
    },
    {
     "name": "stderr",
     "output_type": "stream",
     "text": [
      "100%|██████████| 2459/2459 [00:07<00:00, 338.04frames/s]\n"
     ]
    },
    {
     "name": "stdout",
     "output_type": "stream",
     "text": [
      "Error extracting advanced features: Command requires more than the given 3 arguments: no value for argument \"Interpolation\".\n",
      "OK: toeic-0336-short-talk-166.wav\n",
      "Detected language: English\n"
     ]
    },
    {
     "name": "stderr",
     "output_type": "stream",
     "text": [
      "100%|██████████| 2796/2796 [00:07<00:00, 353.88frames/s]\n"
     ]
    },
    {
     "name": "stdout",
     "output_type": "stream",
     "text": [
      "Error extracting advanced features: Command requires more than the given 3 arguments: no value for argument \"Interpolation\".\n",
      "OK: toeic-0317-short-talk-157.wav\n",
      "Detected language: English\n"
     ]
    },
    {
     "name": "stderr",
     "output_type": "stream",
     "text": [
      "100%|██████████| 4835/4835 [00:13<00:00, 357.15frames/s]\n"
     ]
    },
    {
     "name": "stdout",
     "output_type": "stream",
     "text": [
      "Error extracting advanced features: Command requires more than the given 3 arguments: no value for argument \"Interpolation\".\n",
      "OK: toeic-0595-short-talk-285.wav\n",
      "Detected language: English\n"
     ]
    },
    {
     "name": "stderr",
     "output_type": "stream",
     "text": [
      "100%|██████████| 2199/2199 [00:08<00:00, 273.18frames/s]\n"
     ]
    },
    {
     "name": "stdout",
     "output_type": "stream",
     "text": [
      "Error extracting advanced features: Command requires more than the given 3 arguments: no value for argument \"Interpolation\".\n",
      "OK: toeic-0391-short-talk-191.wav\n",
      "Detected language: English\n"
     ]
    },
    {
     "name": "stderr",
     "output_type": "stream",
     "text": [
      "100%|██████████| 8509/8509 [00:24<00:00, 351.03frames/s]\n"
     ]
    },
    {
     "name": "stdout",
     "output_type": "stream",
     "text": [
      "Error extracting advanced features: Command requires more than the given 3 arguments: no value for argument \"Interpolation\".\n",
      "OK: AUDIO-2025-04-03-22-01-08 2.wav\n",
      "Detected language: English\n"
     ]
    },
    {
     "name": "stderr",
     "output_type": "stream",
     "text": [
      "100%|██████████| 28725/28725 [01:26<00:00, 332.16frames/s]\n"
     ]
    },
    {
     "name": "stdout",
     "output_type": "stream",
     "text": [
      "Error extracting advanced features: Command requires more than the given 3 arguments: no value for argument \"Interpolation\".\n",
      "OK: ielts-listening-0196-cam7-test-1-part-4.wav\n",
      "Detected language: English\n"
     ]
    },
    {
     "name": "stderr",
     "output_type": "stream",
     "text": [
      "100%|██████████| 18202/18202 [00:51<00:00, 350.93frames/s]\n"
     ]
    },
    {
     "name": "stdout",
     "output_type": "stream",
     "text": [
      "Error extracting advanced features: Command requires more than the given 3 arguments: no value for argument \"Interpolation\".\n",
      "OK: short-stories-0178-179-alcohol.wav\n",
      "Detected language: English\n"
     ]
    },
    {
     "name": "stderr",
     "output_type": "stream",
     "text": [
      "100%|██████████| 10326/10326 [15:33<00:00, 11.06frames/s]\n"
     ]
    },
    {
     "name": "stdout",
     "output_type": "stream",
     "text": [
      "Error extracting advanced features: Command requires more than the given 3 arguments: no value for argument \"Interpolation\".\n",
      "OK: short-stories-0130-131-the-dentist-appointment.wav\n",
      "Detected language: English\n"
     ]
    },
    {
     "name": "stderr",
     "output_type": "stream",
     "text": [
      "100%|██████████| 8737/8737 [00:37<00:00, 234.71frames/s]\n"
     ]
    },
    {
     "name": "stdout",
     "output_type": "stream",
     "text": [
      "Error extracting advanced features: Command requires more than the given 3 arguments: no value for argument \"Interpolation\".\n",
      "OK: short-stories-0088-88-rhyming-words.wav\n",
      "Detected language: English\n"
     ]
    },
    {
     "name": "stderr",
     "output_type": "stream",
     "text": [
      "100%|██████████| 19134/19134 [16:43<00:00, 19.07frames/s] \n"
     ]
    },
    {
     "name": "stdout",
     "output_type": "stream",
     "text": [
      "Error extracting advanced features: Command requires more than the given 3 arguments: no value for argument \"Interpolation\".\n",
      "OK: short-stories-0188-189-new-york-city.wav\n",
      "Detected language: English\n"
     ]
    },
    {
     "name": "stderr",
     "output_type": "stream",
     "text": [
      "100%|██████████| 25372/25372 [01:26<00:00, 294.92frames/s]\n"
     ]
    },
    {
     "name": "stdout",
     "output_type": "stream",
     "text": [
      "Error extracting advanced features: Command requires more than the given 3 arguments: no value for argument \"Interpolation\".\n",
      "OK: kavithi_audio.wav\n",
      "Detected language: English\n"
     ]
    },
    {
     "name": "stderr",
     "output_type": "stream",
     "text": [
      "100%|██████████| 18087/18087 [17:00<00:00, 17.73frames/s] \n"
     ]
    },
    {
     "name": "stdout",
     "output_type": "stream",
     "text": [
      "Error extracting advanced features: Command requires more than the given 3 arguments: no value for argument \"Interpolation\".\n",
      "OK: short-stories-0032-32-the-shopping-mall.wav\n",
      "Detected language: English\n"
     ]
    },
    {
     "name": "stderr",
     "output_type": "stream",
     "text": [
      "100%|██████████| 6319/6319 [00:18<00:00, 337.25frames/s]\n"
     ]
    },
    {
     "name": "stdout",
     "output_type": "stream",
     "text": [
      "Error extracting advanced features: Command requires more than the given 3 arguments: no value for argument \"Interpolation\".\n",
      "OK: short-stories-0020-20-working-outside.wav\n",
      "Detected language: English\n"
     ]
    },
    {
     "name": "stderr",
     "output_type": "stream",
     "text": [
      "100%|██████████| 15109/15109 [00:49<00:00, 304.82frames/s]\n"
     ]
    },
    {
     "name": "stdout",
     "output_type": "stream",
     "text": [
      "Error extracting advanced features: Command requires more than the given 3 arguments: no value for argument \"Interpolation\".\n",
      "OK: short-stories-0206-208-banff-national-park.wav\n",
      "Detected language: English\n"
     ]
    },
    {
     "name": "stderr",
     "output_type": "stream",
     "text": [
      "100%|██████████| 3795/3795 [00:17<00:00, 211.11frames/s]\n"
     ]
    },
    {
     "name": "stdout",
     "output_type": "stream",
     "text": [
      "Error extracting advanced features: Command requires more than the given 3 arguments: no value for argument \"Interpolation\".\n",
      "OK: toeic-0473-short-talk-233.wav\n",
      "Detected language: English\n"
     ]
    },
    {
     "name": "stderr",
     "output_type": "stream",
     "text": [
      "100%|██████████| 9189/9189 [00:42<00:00, 215.16frames/s]\n"
     ]
    },
    {
     "name": "stdout",
     "output_type": "stream",
     "text": [
      "Error extracting advanced features: Command requires more than the given 3 arguments: no value for argument \"Interpolation\".\n",
      "OK: short-stories-0160-162-personal-computers.wav\n",
      "Detected language: English\n"
     ]
    },
    {
     "name": "stderr",
     "output_type": "stream",
     "text": [
      "100%|██████████| 3278/3278 [00:28<00:00, 116.10frames/s]\n"
     ]
    },
    {
     "name": "stdout",
     "output_type": "stream",
     "text": [
      "Error extracting advanced features: Command requires more than the given 3 arguments: no value for argument \"Interpolation\".\n",
      "OK: toeic-0411-short-talk-201.wav\n",
      "Detected language: English\n"
     ]
    },
    {
     "name": "stderr",
     "output_type": "stream",
     "text": [
      "100%|██████████| 18081/18081 [16:58<00:00, 17.75frames/s]\n"
     ]
    },
    {
     "name": "stdout",
     "output_type": "stream",
     "text": [
      "Error extracting advanced features: Command requires more than the given 3 arguments: no value for argument \"Interpolation\".\n",
      "OK: short-stories-0190-191-scotland.wav\n",
      "Detected language: English\n"
     ]
    },
    {
     "name": "stderr",
     "output_type": "stream",
     "text": [
      "100%|██████████| 4271/4271 [00:14<00:00, 301.48frames/s]\n"
     ]
    },
    {
     "name": "stdout",
     "output_type": "stream",
     "text": [
      "Error extracting advanced features: Command requires more than the given 3 arguments: no value for argument \"Interpolation\".\n",
      "OK: toeic-0599-short-talk-289.wav\n",
      "Detected language: English\n"
     ]
    },
    {
     "name": "stderr",
     "output_type": "stream",
     "text": [
      "100%|██████████| 23507/23507 [01:45<00:00, 222.64frames/s]\n"
     ]
    },
    {
     "name": "stdout",
     "output_type": "stream",
     "text": [
      "Error extracting advanced features: Command requires more than the given 3 arguments: no value for argument \"Interpolation\".\n",
      "OK: short-stories-0272-275-stephen-foster---american-songwriter.wav\n",
      "Detected language: English\n"
     ]
    },
    {
     "name": "stderr",
     "output_type": "stream",
     "text": [
      "100%|██████████| 11193/11193 [16:38<00:00, 11.21frames/s]\n"
     ]
    },
    {
     "name": "stdout",
     "output_type": "stream",
     "text": [
      "Error extracting advanced features: Command requires more than the given 3 arguments: no value for argument \"Interpolation\".\n",
      "OK: short-stories-0028-28-international-students.wav\n",
      "Detected language: English\n"
     ]
    },
    {
     "name": "stderr",
     "output_type": "stream",
     "text": [
      "100%|██████████| 11250/11250 [00:32<00:00, 347.58frames/s]\n"
     ]
    },
    {
     "name": "stdout",
     "output_type": "stream",
     "text": [
      "Error extracting advanced features: Command requires more than the given 3 arguments: no value for argument \"Interpolation\".\n",
      "OK: short-stories-0120-121-moving-to-another-country.wav\n",
      "Detected language: English\n"
     ]
    },
    {
     "name": "stderr",
     "output_type": "stream",
     "text": [
      "100%|██████████| 41689/41689 [17:03<00:00, 40.73frames/s] \n"
     ]
    },
    {
     "name": "stdout",
     "output_type": "stream",
     "text": [
      "Error extracting advanced features: Command requires more than the given 3 arguments: no value for argument \"Interpolation\".\n",
      "OK: ielts-listening-0104-cam13-test-2-part-4.wav\n",
      "Detected language: English\n"
     ]
    },
    {
     "name": "stderr",
     "output_type": "stream",
     "text": [
      "100%|██████████| 4244/4244 [00:21<00:00, 199.28frames/s]\n"
     ]
    },
    {
     "name": "stdout",
     "output_type": "stream",
     "text": [
      "Error extracting advanced features: Command requires more than the given 3 arguments: no value for argument \"Interpolation\".\n",
      "OK: toeic-0294-short-talk-144.wav\n",
      "Detected language: English\n"
     ]
    },
    {
     "name": "stderr",
     "output_type": "stream",
     "text": [
      "100%|██████████| 4804/4804 [00:21<00:00, 223.89frames/s]\n"
     ]
    },
    {
     "name": "stdout",
     "output_type": "stream",
     "text": [
      "Error extracting advanced features: Command requires more than the given 3 arguments: no value for argument \"Interpolation\".\n",
      "OK: AUDIO-2025-04-03-22-17-33 2.wav\n",
      "Detected language: English\n"
     ]
    },
    {
     "name": "stderr",
     "output_type": "stream",
     "text": [
      "100%|██████████| 7524/7524 [00:38<00:00, 193.39frames/s]\n"
     ]
    },
    {
     "name": "stdout",
     "output_type": "stream",
     "text": [
      "Error extracting advanced features: Command requires more than the given 3 arguments: no value for argument \"Interpolation\".\n",
      "OK: sammani_speech_03.wav\n",
      "Detected language: English\n"
     ]
    },
    {
     "name": "stderr",
     "output_type": "stream",
     "text": [
      "100%|██████████| 4446/4446 [00:25<00:00, 174.47frames/s]\n"
     ]
    },
    {
     "name": "stdout",
     "output_type": "stream",
     "text": [
      "Error extracting advanced features: Command requires more than the given 3 arguments: no value for argument \"Interpolation\".\n",
      "OK: toeic-0432-short-talk-212.wav\n",
      "Detected language: English\n"
     ]
    },
    {
     "name": "stderr",
     "output_type": "stream",
     "text": [
      "100%|██████████| 14936/14936 [04:50<00:00, 51.45frames/s]\n"
     ]
    },
    {
     "name": "stdout",
     "output_type": "stream",
     "text": [
      "Error extracting advanced features: Command requires more than the given 3 arguments: no value for argument \"Interpolation\".\n",
      "OK: short-stories-0279-283-the-planetarium.wav\n",
      "Detected language: English\n"
     ]
    },
    {
     "name": "stderr",
     "output_type": "stream",
     "text": [
      "100%|██████████| 22530/22530 [16:12<00:00, 23.16frames/s]\n"
     ]
    },
    {
     "name": "stdout",
     "output_type": "stream",
     "text": [
      "Error extracting advanced features: Command requires more than the given 3 arguments: no value for argument \"Interpolation\".\n",
      "OK: ielts-listening-0150-cam10-test-2-part-2.wav\n",
      "Detected language: English\n"
     ]
    },
    {
     "name": "stderr",
     "output_type": "stream",
     "text": [
      "100%|██████████| 25952/25952 [01:53<00:00, 229.61frames/s]\n"
     ]
    },
    {
     "name": "stdout",
     "output_type": "stream",
     "text": [
      "Error extracting advanced features: Command requires more than the given 3 arguments: no value for argument \"Interpolation\".\n",
      "OK: short-stories-0255-258-north-american-death-and-burial.wav\n",
      "Detected language: English\n"
     ]
    },
    {
     "name": "stderr",
     "output_type": "stream",
     "text": [
      "100%|██████████| 4527/4527 [00:24<00:00, 182.57frames/s]\n"
     ]
    },
    {
     "name": "stdout",
     "output_type": "stream",
     "text": [
      "Error extracting advanced features: Command requires more than the given 3 arguments: no value for argument \"Interpolation\".\n",
      "OK: AUDIO-2025-04-04-10-10-12.wav\n",
      "Detected language: English\n"
     ]
    },
    {
     "name": "stderr",
     "output_type": "stream",
     "text": [
      "100%|██████████| 19743/19743 [17:07<00:00, 19.21frames/s]\n"
     ]
    },
    {
     "name": "stdout",
     "output_type": "stream",
     "text": [
      "Error extracting advanced features: Command requires more than the given 3 arguments: no value for argument \"Interpolation\".\n",
      "OK: short-stories-0167-168-two-great-artists-leonardo-and-michelangelo.wav\n",
      "Detected language: English\n"
     ]
    },
    {
     "name": "stderr",
     "output_type": "stream",
     "text": [
      "100%|██████████| 9922/9922 [00:28<00:00, 342.50frames/s]\n"
     ]
    },
    {
     "name": "stdout",
     "output_type": "stream",
     "text": [
      "Error extracting advanced features: Command requires more than the given 3 arguments: no value for argument \"Interpolation\".\n",
      "OK: sammani_speech_02.wav\n",
      "Detected language: English\n"
     ]
    },
    {
     "name": "stderr",
     "output_type": "stream",
     "text": [
      "100%|██████████| 14921/14921 [00:59<00:00, 251.29frames/s]\n"
     ]
    },
    {
     "name": "stdout",
     "output_type": "stream",
     "text": [
      "Error extracting advanced features: Command requires more than the given 3 arguments: no value for argument \"Interpolation\".\n",
      "OK: short-stories-0149-150-halloween.wav\n",
      "Detected language: English\n"
     ]
    },
    {
     "name": "stderr",
     "output_type": "stream",
     "text": [
      "100%|██████████| 6768/6768 [00:34<00:00, 197.77frames/s]\n"
     ]
    },
    {
     "name": "stdout",
     "output_type": "stream",
     "text": [
      "Error extracting advanced features: Command requires more than the given 3 arguments: no value for argument \"Interpolation\".\n",
      "OK: short-stories-0017-17-thanksgiving.wav\n",
      "Detected language: English\n"
     ]
    },
    {
     "name": "stderr",
     "output_type": "stream",
     "text": [
      "100%|██████████| 28731/28731 [17:43<00:00, 27.02frames/s] \n"
     ]
    },
    {
     "name": "stdout",
     "output_type": "stream",
     "text": [
      "Error extracting advanced features: Command requires more than the given 3 arguments: no value for argument \"Interpolation\".\n",
      "OK: ielts-listening-0117-cam12-test-2-part-1.wav\n",
      "Detected language: English\n"
     ]
    },
    {
     "name": "stderr",
     "output_type": "stream",
     "text": [
      "100%|██████████| 7319/7319 [00:27<00:00, 269.91frames/s]\n"
     ]
    },
    {
     "name": "stdout",
     "output_type": "stream",
     "text": [
      "Error extracting advanced features: Command requires more than the given 3 arguments: no value for argument \"Interpolation\".\n",
      "OK: short-stories-0099-99-places-to-live.wav\n",
      "Detected language: English\n"
     ]
    },
    {
     "name": "stderr",
     "output_type": "stream",
     "text": [
      "100%|██████████| 25485/25485 [02:51<00:00, 148.65frames/s]\n"
     ]
    },
    {
     "name": "stdout",
     "output_type": "stream",
     "text": [
      "Error extracting advanced features: Command requires more than the given 3 arguments: no value for argument \"Interpolation\".\n",
      "OK: short-stories-0285-289-helen-keller.wav\n",
      "Detected language: English\n"
     ]
    },
    {
     "name": "stderr",
     "output_type": "stream",
     "text": [
      "100%|██████████| 33678/33678 [32:59<00:00, 17.01frames/s] \n"
     ]
    },
    {
     "name": "stdout",
     "output_type": "stream",
     "text": [
      "Error extracting advanced features: Command requires more than the given 3 arguments: no value for argument \"Interpolation\".\n",
      "OK: avishka_hci_audio.wav\n",
      "Detected language: English\n"
     ]
    },
    {
     "name": "stderr",
     "output_type": "stream",
     "text": [
      "100%|██████████| 5956/5956 [00:17<00:00, 336.48frames/s]\n"
     ]
    },
    {
     "name": "stdout",
     "output_type": "stream",
     "text": [
      "Error extracting advanced features: Command requires more than the given 3 arguments: no value for argument \"Interpolation\".\n",
      "OK: AUDIO-2025-04-03-21-02-43.wav\n",
      "Detected language: English\n"
     ]
    },
    {
     "name": "stderr",
     "output_type": "stream",
     "text": [
      "100%|██████████| 3866/3866 [00:13<00:00, 278.45frames/s]\n"
     ]
    },
    {
     "name": "stdout",
     "output_type": "stream",
     "text": [
      "Error extracting advanced features: Command requires more than the given 3 arguments: no value for argument \"Interpolation\".\n",
      "OK: toeic-0274-short-talk-134.wav\n",
      "Detected language: English\n"
     ]
    },
    {
     "name": "stderr",
     "output_type": "stream",
     "text": [
      "100%|██████████| 3678/3678 [00:13<00:00, 273.53frames/s]\n"
     ]
    },
    {
     "name": "stdout",
     "output_type": "stream",
     "text": [
      "Error extracting advanced features: Command requires more than the given 3 arguments: no value for argument \"Interpolation\".\n",
      "OK: toeic-0377-short-talk-187.wav\n",
      "Detected language: English\n"
     ]
    },
    {
     "name": "stderr",
     "output_type": "stream",
     "text": [
      "100%|██████████| 4176/4176 [00:15<00:00, 266.31frames/s]\n"
     ]
    },
    {
     "name": "stdout",
     "output_type": "stream",
     "text": [
      "Error extracting advanced features: Command requires more than the given 3 arguments: no value for argument \"Interpolation\".\n",
      "OK: toeic-0257-short-talk-127.wav\n",
      "Detected language: English\n"
     ]
    },
    {
     "name": "stderr",
     "output_type": "stream",
     "text": [
      "100%|██████████| 26352/26352 [02:00<00:00, 219.56frames/s]\n"
     ]
    },
    {
     "name": "stdout",
     "output_type": "stream",
     "text": [
      "Error extracting advanced features: Command requires more than the given 3 arguments: no value for argument \"Interpolation\".\n",
      "OK: short-stories-0237-239-the-golden-man-el-dorado.wav\n",
      "Detected language: English\n"
     ]
    },
    {
     "name": "stderr",
     "output_type": "stream",
     "text": [
      "100%|██████████| 20571/20571 [02:40<00:00, 128.31frames/s]\n"
     ]
    },
    {
     "name": "stdout",
     "output_type": "stream",
     "text": [
      "Error extracting advanced features: Command requires more than the given 3 arguments: no value for argument \"Interpolation\".\n",
      "OK: short-stories-0202-203-north-american-indians.wav\n",
      "Detected language: English\n"
     ]
    },
    {
     "name": "stderr",
     "output_type": "stream",
     "text": [
      "100%|██████████| 3675/3675 [15:55<00:00,  3.84frames/s]\n"
     ]
    },
    {
     "name": "stdout",
     "output_type": "stream",
     "text": [
      "Error extracting advanced features: Command requires more than the given 3 arguments: no value for argument \"Interpolation\".\n",
      "OK: toeic-0560-short-talk-280.wav\n",
      "Detected language: English\n"
     ]
    },
    {
     "name": "stderr",
     "output_type": "stream",
     "text": [
      "100%|██████████| 26863/26863 [01:22<00:00, 324.21frames/s]\n"
     ]
    },
    {
     "name": "stdout",
     "output_type": "stream",
     "text": [
      "Error extracting advanced features: Command requires more than the given 3 arguments: no value for argument \"Interpolation\".\n",
      "OK: ielts-listening-0310-ielts-recent-actual-test-30-part-2.wav\n",
      "Detected language: English\n"
     ]
    },
    {
     "name": "stderr",
     "output_type": "stream",
     "text": [
      "100%|██████████| 14696/14696 [01:18<00:00, 187.44frames/s]\n"
     ]
    },
    {
     "name": "stdout",
     "output_type": "stream",
     "text": [
      "Error extracting advanced features: Command requires more than the given 3 arguments: no value for argument \"Interpolation\".\n",
      "OK: short-stories-0214-216-babe-didrikson.wav\n",
      "Detected language: English\n"
     ]
    },
    {
     "name": "stderr",
     "output_type": "stream",
     "text": [
      "100%|██████████| 3474/3474 [00:27<00:00, 126.66frames/s]\n"
     ]
    },
    {
     "name": "stdout",
     "output_type": "stream",
     "text": [
      "Error extracting advanced features: Command requires more than the given 3 arguments: no value for argument \"Interpolation\".\n",
      "OK: toeic-0440-short-talk-220.wav\n",
      "Detected language: English\n"
     ]
    },
    {
     "name": "stderr",
     "output_type": "stream",
     "text": [
      "100%|██████████| 14637/14637 [04:18<00:00, 56.71frames/s]\n"
     ]
    },
    {
     "name": "stdout",
     "output_type": "stream",
     "text": [
      "Error extracting advanced features: Command requires more than the given 3 arguments: no value for argument \"Interpolation\".\n",
      "OK: short-stories-0286-911.wav\n",
      "Detected language: English\n"
     ]
    },
    {
     "name": "stderr",
     "output_type": "stream",
     "text": [
      "100%|██████████| 3860/3860 [00:15<00:00, 244.22frames/s]\n"
     ]
    },
    {
     "name": "stdout",
     "output_type": "stream",
     "text": [
      "Error extracting advanced features: Command requires more than the given 3 arguments: no value for argument \"Interpolation\".\n",
      "OK: toeic-0493-short-talk-243.wav\n",
      "Detected language: English\n"
     ]
    },
    {
     "name": "stderr",
     "output_type": "stream",
     "text": [
      "100%|██████████| 15871/15871 [15:43<00:00, 16.83frames/s] \n"
     ]
    },
    {
     "name": "stdout",
     "output_type": "stream",
     "text": [
      "Error extracting advanced features: Command requires more than the given 3 arguments: no value for argument \"Interpolation\".\n",
      "OK: dishal_audio.wav\n",
      "Detected language: English\n"
     ]
    },
    {
     "name": "stderr",
     "output_type": "stream",
     "text": [
      "100%|██████████| 3283/3283 [02:44<00:00, 19.96frames/s]\n"
     ]
    },
    {
     "name": "stdout",
     "output_type": "stream",
     "text": [
      "Error extracting advanced features: Command requires more than the given 3 arguments: no value for argument \"Interpolation\".\n",
      "OK: toeic-0235-short-talk-115.wav\n",
      "Detected language: English\n"
     ]
    },
    {
     "name": "stderr",
     "output_type": "stream",
     "text": [
      "100%|██████████| 17995/17995 [00:53<00:00, 333.67frames/s]\n"
     ]
    },
    {
     "name": "stdout",
     "output_type": "stream",
     "text": [
      "Error extracting advanced features: Command requires more than the given 3 arguments: no value for argument \"Interpolation\".\n",
      "OK: short-stories-0143-144-a-summer-sunday.wav\n",
      "Detected language: English\n"
     ]
    },
    {
     "name": "stderr",
     "output_type": "stream",
     "text": [
      "100%|██████████| 4610/4610 [00:16<00:00, 279.10frames/s]\n"
     ]
    },
    {
     "name": "stdout",
     "output_type": "stream",
     "text": [
      "Error extracting advanced features: Command requires more than the given 3 arguments: no value for argument \"Interpolation\".\n",
      "OK: toeic-0140-short-talk-70.wav\n",
      "Detected language: English\n"
     ]
    },
    {
     "name": "stderr",
     "output_type": "stream",
     "text": [
      "100%|██████████| 3761/3761 [00:13<00:00, 270.88frames/s]\n"
     ]
    },
    {
     "name": "stdout",
     "output_type": "stream",
     "text": [
      "Error extracting advanced features: Command requires more than the given 3 arguments: no value for argument \"Interpolation\".\n",
      "OK: toeic-0216-short-talk-106.wav\n",
      "Detected language: English\n"
     ]
    },
    {
     "name": "stderr",
     "output_type": "stream",
     "text": [
      "100%|██████████| 22243/22243 [01:05<00:00, 337.44frames/s]\n"
     ]
    },
    {
     "name": "stdout",
     "output_type": "stream",
     "text": [
      "Error extracting advanced features: Command requires more than the given 3 arguments: no value for argument \"Interpolation\".\n",
      "OK: short-stories-0288-291-business-ethics.wav\n",
      "Detected language: English\n"
     ]
    },
    {
     "name": "stderr",
     "output_type": "stream",
     "text": [
      "100%|██████████| 18113/18113 [00:54<00:00, 334.55frames/s]\n"
     ]
    },
    {
     "name": "stdout",
     "output_type": "stream",
     "text": [
      "Error extracting advanced features: Command requires more than the given 3 arguments: no value for argument \"Interpolation\".\n",
      "OK: short-stories-0211-213-tiger-woods.wav\n",
      "Detected language: English\n"
     ]
    },
    {
     "name": "stderr",
     "output_type": "stream",
     "text": [
      "100%|██████████| 12230/12230 [00:37<00:00, 327.98frames/s]\n"
     ]
    },
    {
     "name": "stdout",
     "output_type": "stream",
     "text": [
      "Error extracting advanced features: Command requires more than the given 3 arguments: no value for argument \"Interpolation\".\n",
      "OK: short-stories-0162-163-advice-to-a-student-from-a-foreign-country.wav\n",
      "Detected language: English\n"
     ]
    },
    {
     "name": "stderr",
     "output_type": "stream",
     "text": [
      "100%|██████████| 3933/3933 [00:14<00:00, 272.45frames/s]\n"
     ]
    },
    {
     "name": "stdout",
     "output_type": "stream",
     "text": [
      "Error extracting advanced features: Command requires more than the given 3 arguments: no value for argument \"Interpolation\".\n",
      "OK: toeic-0057-short-talk-27.wav\n",
      "Detected language: English\n"
     ]
    },
    {
     "name": "stderr",
     "output_type": "stream",
     "text": [
      "100%|██████████| 18732/18732 [00:54<00:00, 345.14frames/s]\n"
     ]
    },
    {
     "name": "stdout",
     "output_type": "stream",
     "text": [
      "Error extracting advanced features: Command requires more than the given 3 arguments: no value for argument \"Interpolation\".\n",
      "OK: short-stories-0216-218-new-zealand.wav\n",
      "Detected language: English\n"
     ]
    },
    {
     "name": "stderr",
     "output_type": "stream",
     "text": [
      "100%|██████████| 25623/25623 [01:18<00:00, 325.42frames/s]\n"
     ]
    },
    {
     "name": "stdout",
     "output_type": "stream",
     "text": [
      "Error extracting advanced features: Command requires more than the given 3 arguments: no value for argument \"Interpolation\".\n",
      "OK: ielts-listening-0098-cam13-test-1-part-2.wav\n",
      "Detected language: English\n"
     ]
    },
    {
     "name": "stderr",
     "output_type": "stream",
     "text": [
      "100%|██████████| 2993/2993 [00:12<00:00, 246.22frames/s]\n"
     ]
    },
    {
     "name": "stdout",
     "output_type": "stream",
     "text": [
      "Error extracting advanced features: Command requires more than the given 3 arguments: no value for argument \"Interpolation\".\n",
      "OK: toeic-0355-short-talk-175.wav\n",
      "Detected language: English\n"
     ]
    },
    {
     "name": "stderr",
     "output_type": "stream",
     "text": [
      "100%|██████████| 4017/4017 [00:13<00:00, 298.05frames/s]\n"
     ]
    },
    {
     "name": "stdout",
     "output_type": "stream",
     "text": [
      "Error extracting advanced features: Command requires more than the given 3 arguments: no value for argument \"Interpolation\".\n",
      "OK: toeic-0016-short-talk-6.wav\n",
      "Detected language: English\n"
     ]
    },
    {
     "name": "stderr",
     "output_type": "stream",
     "text": [
      "100%|██████████| 24756/24756 [01:12<00:00, 343.40frames/s]\n"
     ]
    },
    {
     "name": "stdout",
     "output_type": "stream",
     "text": [
      "Error extracting advanced features: Command requires more than the given 3 arguments: no value for argument \"Interpolation\".\n",
      "OK: short-stories-0283-287-christmas-holidays.wav\n",
      "Detected language: English\n"
     ]
    },
    {
     "name": "stderr",
     "output_type": "stream",
     "text": [
      "100%|██████████| 24745/24745 [01:03<00:00, 392.59frames/s]\n"
     ]
    },
    {
     "name": "stdout",
     "output_type": "stream",
     "text": [
      "Error extracting advanced features: Command requires more than the given 3 arguments: no value for argument \"Interpolation\".\n",
      "OK: chathura_hci_audio.wav\n",
      "Detected language: English\n"
     ]
    },
    {
     "name": "stderr",
     "output_type": "stream",
     "text": [
      "100%|██████████| 20399/20399 [01:00<00:00, 339.62frames/s]\n"
     ]
    },
    {
     "name": "stdout",
     "output_type": "stream",
     "text": [
      "Error extracting advanced features: Command requires more than the given 3 arguments: no value for argument \"Interpolation\".\n",
      "OK: short-stories-0260-263-currier-and-ives.wav\n",
      "Detected language: English\n"
     ]
    },
    {
     "name": "stderr",
     "output_type": "stream",
     "text": [
      "100%|██████████| 12734/12734 [00:36<00:00, 348.09frames/s]\n"
     ]
    },
    {
     "name": "stdout",
     "output_type": "stream",
     "text": [
      "Error extracting advanced features: Command requires more than the given 3 arguments: no value for argument \"Interpolation\".\n",
      "OK: short-stories-0209-211-participaction.wav\n",
      "Detected language: English\n"
     ]
    },
    {
     "name": "stderr",
     "output_type": "stream",
     "text": [
      "100%|██████████| 5018/5018 [00:14<00:00, 334.76frames/s]\n"
     ]
    },
    {
     "name": "stdout",
     "output_type": "stream",
     "text": [
      "Error extracting advanced features: Command requires more than the given 3 arguments: no value for argument \"Interpolation\".\n",
      "OK: toeic-0596-short-talk-286.wav\n",
      "Detected language: English\n"
     ]
    },
    {
     "name": "stderr",
     "output_type": "stream",
     "text": [
      "100%|██████████| 3867/3867 [00:13<00:00, 281.15frames/s]\n"
     ]
    },
    {
     "name": "stdout",
     "output_type": "stream",
     "text": [
      "Error extracting advanced features: Command requires more than the given 3 arguments: no value for argument \"Interpolation\".\n",
      "OK: toeic-0335-short-talk-165.wav\n",
      "Detected language: English\n"
     ]
    },
    {
     "name": "stderr",
     "output_type": "stream",
     "text": [
      "100%|██████████| 3577/3577 [00:12<00:00, 283.69frames/s]\n"
     ]
    },
    {
     "name": "stdout",
     "output_type": "stream",
     "text": [
      "Error extracting advanced features: Command requires more than the given 3 arguments: no value for argument \"Interpolation\".\n",
      "OK: toeic-0314-short-talk-154.wav\n",
      "Detected language: English\n"
     ]
    },
    {
     "name": "stderr",
     "output_type": "stream",
     "text": [
      "100%|██████████| 4408/4408 [00:14<00:00, 301.39frames/s]\n"
     ]
    },
    {
     "name": "stdout",
     "output_type": "stream",
     "text": [
      "Error extracting advanced features: Command requires more than the given 3 arguments: no value for argument \"Interpolation\".\n",
      "OK: toeic-0012-short-talk-2.wav\n",
      "Detected language: English\n"
     ]
    },
    {
     "name": "stderr",
     "output_type": "stream",
     "text": [
      "100%|██████████| 24570/24570 [01:15<00:00, 325.62frames/s]\n"
     ]
    },
    {
     "name": "stdout",
     "output_type": "stream",
     "text": [
      "Error extracting advanced features: Command requires more than the given 3 arguments: no value for argument \"Interpolation\".\n",
      "OK: ielts-listening-0115-cam12-test-1-part-3.wav\n",
      "Detected language: English\n"
     ]
    },
    {
     "name": "stderr",
     "output_type": "stream",
     "text": [
      "100%|██████████| 22671/22671 [01:08<00:00, 330.16frames/s]\n"
     ]
    },
    {
     "name": "stdout",
     "output_type": "stream",
     "text": [
      "Error extracting advanced features: Command requires more than the given 3 arguments: no value for argument \"Interpolation\".\n",
      "OK: ielts-listening-0178-cam8-test-1-part-2.wav\n",
      "Detected language: English\n"
     ]
    },
    {
     "name": "stderr",
     "output_type": "stream",
     "text": [
      "100%|██████████| 22123/22123 [01:17<00:00, 283.97frames/s]\n"
     ]
    },
    {
     "name": "stdout",
     "output_type": "stream",
     "text": [
      "Error extracting advanced features: Command requires more than the given 3 arguments: no value for argument \"Interpolation\".\n",
      "OK: short-stories-0274-277-thanksgiving-day.wav\n",
      "Detected language: English\n"
     ]
    },
    {
     "name": "stderr",
     "output_type": "stream",
     "text": [
      "100%|██████████| 7938/7938 [00:21<00:00, 364.96frames/s]\n"
     ]
    },
    {
     "name": "stdout",
     "output_type": "stream",
     "text": [
      "Error extracting advanced features: Command requires more than the given 3 arguments: no value for argument \"Interpolation\".\n",
      "OK: Sri Lanka Institute of Information Technology 8.wav\n",
      "Detected language: English\n"
     ]
    },
    {
     "name": "stderr",
     "output_type": "stream",
     "text": [
      "100%|██████████| 13418/13418 [00:38<00:00, 348.18frames/s]\n"
     ]
    },
    {
     "name": "stdout",
     "output_type": "stream",
     "text": [
      "Error extracting advanced features: Command requires more than the given 3 arguments: no value for argument \"Interpolation\".\n",
      "OK: sammani_speech_06.wav\n",
      "Detected language: English\n"
     ]
    },
    {
     "name": "stderr",
     "output_type": "stream",
     "text": [
      "100%|██████████| 10783/10783 [00:28<00:00, 374.16frames/s]\n"
     ]
    },
    {
     "name": "stdout",
     "output_type": "stream",
     "text": [
      "Error extracting advanced features: Command requires more than the given 3 arguments: no value for argument \"Interpolation\".\n",
      "OK: sammani_speech_07.wav\n",
      "Detected language: English\n"
     ]
    },
    {
     "name": "stderr",
     "output_type": "stream",
     "text": [
      "100%|██████████| 12181/12181 [00:37<00:00, 327.11frames/s]\n"
     ]
    },
    {
     "name": "stdout",
     "output_type": "stream",
     "text": [
      "Error extracting advanced features: Command requires more than the given 3 arguments: no value for argument \"Interpolation\".\n",
      "OK: Sri Lanka Institute of Information Technology 9.wav\n",
      "Detected language: English\n"
     ]
    },
    {
     "name": "stderr",
     "output_type": "stream",
     "text": [
      "100%|██████████| 25101/25101 [01:13<00:00, 342.29frames/s]\n"
     ]
    },
    {
     "name": "stdout",
     "output_type": "stream",
     "text": [
      "Error extracting advanced features: Command requires more than the given 3 arguments: no value for argument \"Interpolation\".\n",
      "OK: short-stories-0282-286-charlotte-church.wav\n",
      "Detected language: Latin\n"
     ]
    },
    {
     "name": "stderr",
     "output_type": "stream",
     "text": [
      "100%|██████████| 21529/21529 [01:19<00:00, 271.31frames/s]\n"
     ]
    },
    {
     "name": "stdout",
     "output_type": "stream",
     "text": [
      "Error extracting advanced features: Command requires more than the given 3 arguments: no value for argument \"Interpolation\".\n",
      "OK: ushan_hci_audio.wav\n",
      "Detected language: English\n"
     ]
    },
    {
     "name": "stderr",
     "output_type": "stream",
     "text": [
      "100%|██████████| 19314/19314 [00:58<00:00, 332.05frames/s]\n"
     ]
    },
    {
     "name": "stdout",
     "output_type": "stream",
     "text": [
      "Error extracting advanced features: Command requires more than the given 3 arguments: no value for argument \"Interpolation\".\n",
      "OK: short-stories-0197-198-doctors-without-borders.wav\n",
      "Detected language: English\n"
     ]
    },
    {
     "name": "stderr",
     "output_type": "stream",
     "text": [
      "100%|██████████| 9513/9513 [00:29<00:00, 320.71frames/s]\n"
     ]
    },
    {
     "name": "stdout",
     "output_type": "stream",
     "text": [
      "Error extracting advanced features: Command requires more than the given 3 arguments: no value for argument \"Interpolation\".\n",
      "OK: short-stories-0077-77-the-dentist.wav\n",
      "Detected language: English\n"
     ]
    },
    {
     "name": "stderr",
     "output_type": "stream",
     "text": [
      "100%|██████████| 20509/20509 [00:57<00:00, 356.47frames/s]\n"
     ]
    },
    {
     "name": "stdout",
     "output_type": "stream",
     "text": [
      "Error extracting advanced features: Command requires more than the given 3 arguments: no value for argument \"Interpolation\".\n",
      "OK: short-stories-0180-181-hawaii.wav\n",
      "Detected language: English\n"
     ]
    },
    {
     "name": "stderr",
     "output_type": "stream",
     "text": [
      "100%|██████████| 28961/28961 [01:20<00:00, 361.06frames/s]\n"
     ]
    },
    {
     "name": "stdout",
     "output_type": "stream",
     "text": [
      "Error extracting advanced features: Command requires more than the given 3 arguments: no value for argument \"Interpolation\".\n",
      "OK: ielts-listening-0136-cam11-test-2-part-4.wav\n",
      "Detected language: English\n"
     ]
    },
    {
     "name": "stderr",
     "output_type": "stream",
     "text": [
      "100%|██████████| 4464/4464 [00:14<00:00, 314.58frames/s]\n"
     ]
    },
    {
     "name": "stdout",
     "output_type": "stream",
     "text": [
      "Error extracting advanced features: Command requires more than the given 3 arguments: no value for argument \"Interpolation\".\n",
      "OK: toeic-0258-short-talk-128.wav\n",
      "Detected language: English\n"
     ]
    },
    {
     "name": "stderr",
     "output_type": "stream",
     "text": [
      "100%|██████████| 20769/20769 [01:00<00:00, 342.33frames/s]\n"
     ]
    },
    {
     "name": "stdout",
     "output_type": "stream",
     "text": [
      "Error extracting advanced features: Command requires more than the given 3 arguments: no value for argument \"Interpolation\".\n",
      "OK: short-stories-0195-196-the-automobile-or-car.wav\n",
      "Detected language: English\n"
     ]
    },
    {
     "name": "stderr",
     "output_type": "stream",
     "text": [
      "100%|██████████| 2738/2738 [00:08<00:00, 326.91frames/s]\n"
     ]
    },
    {
     "name": "stdout",
     "output_type": "stream",
     "text": [
      "Error extracting advanced features: Command requires more than the given 3 arguments: no value for argument \"Interpolation\".\n",
      "OK: toeic-0378-short-talk-188.wav\n",
      "Detected language: English\n"
     ]
    },
    {
     "name": "stderr",
     "output_type": "stream",
     "text": [
      "100%|██████████| 4359/4359 [00:14<00:00, 306.74frames/s]\n"
     ]
    },
    {
     "name": "stdout",
     "output_type": "stream",
     "text": [
      "Error extracting advanced features: Command requires more than the given 3 arguments: no value for argument \"Interpolation\".\n",
      "OK: toeic-0552-short-talk-272.wav\n",
      "Detected language: English\n"
     ]
    },
    {
     "name": "stderr",
     "output_type": "stream",
     "text": [
      "100%|██████████| 2224/2224 [00:07<00:00, 281.41frames/s]\n"
     ]
    },
    {
     "name": "stdout",
     "output_type": "stream",
     "text": [
      "Error extracting advanced features: Command requires more than the given 3 arguments: no value for argument \"Interpolation\".\n",
      "OK: AUDIO-2025-04-03-22-17-37 2.wav\n",
      "Detected language: English\n"
     ]
    },
    {
     "name": "stderr",
     "output_type": "stream",
     "text": [
      "100%|█████████▉| 35286/35339 [01:50<00:00, 318.07frames/s]\n"
     ]
    },
    {
     "name": "stdout",
     "output_type": "stream",
     "text": [
      "Error extracting advanced features: Command requires more than the given 3 arguments: no value for argument \"Interpolation\".\n",
      "OK: ielts-listening-0324-ielts-recent-actual-test-33-part-4.wav\n",
      "Detected language: English\n"
     ]
    },
    {
     "name": "stderr",
     "output_type": "stream",
     "text": [
      "100%|██████████| 4900/4900 [00:14<00:00, 336.83frames/s]\n"
     ]
    },
    {
     "name": "stdout",
     "output_type": "stream",
     "text": [
      "Error extracting advanced features: Command requires more than the given 3 arguments: no value for argument \"Interpolation\".\n",
      "OK: toeic-0160-short-talk-80.wav\n",
      "Detected language: English\n"
     ]
    },
    {
     "name": "stderr",
     "output_type": "stream",
     "text": [
      "100%|██████████| 5548/5548 [00:16<00:00, 327.74frames/s]\n"
     ]
    },
    {
     "name": "stdout",
     "output_type": "stream",
     "text": [
      "Error extracting advanced features: Command requires more than the given 3 arguments: no value for argument \"Interpolation\".\n",
      "OK: AUDIO-2025-04-03-21-02-44 copy.wav\n",
      "Detected language: English\n"
     ]
    },
    {
     "name": "stderr",
     "output_type": "stream",
     "text": [
      " 99%|█████████▉| 19190/19348 [00:59<00:00, 322.72frames/s]\n"
     ]
    },
    {
     "name": "stdout",
     "output_type": "stream",
     "text": [
      "Error extracting advanced features: Command requires more than the given 3 arguments: no value for argument \"Interpolation\".\n",
      "OK: short-stories-0249-252-hernias-repaired-here.wav\n",
      "Detected language: English\n"
     ]
    },
    {
     "name": "stderr",
     "output_type": "stream",
     "text": [
      "100%|██████████| 17248/17248 [00:48<00:00, 353.88frames/s]\n"
     ]
    },
    {
     "name": "stdout",
     "output_type": "stream",
     "text": [
      "Error extracting advanced features: Command requires more than the given 3 arguments: no value for argument \"Interpolation\".\n",
      "OK: dileeka_hci_audio.wav\n",
      "Detected language: English\n"
     ]
    },
    {
     "name": "stderr",
     "output_type": "stream",
     "text": [
      "100%|██████████| 5245/5245 [00:22<00:00, 234.06frames/s]\n"
     ]
    },
    {
     "name": "stdout",
     "output_type": "stream",
     "text": [
      "Error extracting advanced features: Command requires more than the given 3 arguments: no value for argument \"Interpolation\".\n",
      "OK: toeic-0053-short-talk-23.wav\n",
      "Detected language: English\n"
     ]
    },
    {
     "name": "stderr",
     "output_type": "stream",
     "text": [
      "100%|██████████| 21702/21702 [01:06<00:00, 327.92frames/s]\n"
     ]
    },
    {
     "name": "stdout",
     "output_type": "stream",
     "text": [
      "Error extracting advanced features: Command requires more than the given 3 arguments: no value for argument \"Interpolation\".\n",
      "OK: short-stories-0221-223-cowboys.wav\n",
      "Detected language: English\n"
     ]
    },
    {
     "name": "stderr",
     "output_type": "stream",
     "text": [
      "100%|██████████| 6266/6266 [00:22<00:00, 282.64frames/s]\n"
     ]
    },
    {
     "name": "stdout",
     "output_type": "stream",
     "text": [
      "Error extracting advanced features: Command requires more than the given 3 arguments: no value for argument \"Interpolation\".\n",
      "OK: short-stories-0059-59-which-direction.wav\n",
      "Detected language: English\n"
     ]
    },
    {
     "name": "stderr",
     "output_type": "stream",
     "text": [
      "100%|██████████| 20260/20260 [01:01<00:00, 328.16frames/s]\n"
     ]
    },
    {
     "name": "stdout",
     "output_type": "stream",
     "text": [
      "Error extracting advanced features: Command requires more than the given 3 arguments: no value for argument \"Interpolation\".\n",
      "OK: short-stories-0181-182-charles-darwin.wav\n",
      "Detected language: English\n"
     ]
    },
    {
     "name": "stderr",
     "output_type": "stream",
     "text": [
      "100%|██████████| 23251/23251 [01:13<00:00, 316.83frames/s]\n"
     ]
    },
    {
     "name": "stdout",
     "output_type": "stream",
     "text": [
      "Error extracting advanced features: Command requires more than the given 3 arguments: no value for argument \"Interpolation\".\n",
      "OK: short-stories-0254-257-the-war-that-both-sides-won.wav\n",
      "Detected language: English\n"
     ]
    },
    {
     "name": "stderr",
     "output_type": "stream",
     "text": [
      "100%|██████████| 3895/3895 [00:14<00:00, 260.71frames/s]\n"
     ]
    },
    {
     "name": "stdout",
     "output_type": "stream",
     "text": [
      "Error extracting advanced features: Command requires more than the given 3 arguments: no value for argument \"Interpolation\".\n",
      "OK: toeic-0219-short-talk-109.wav\n",
      "Detected language: English\n"
     ]
    },
    {
     "name": "stderr",
     "output_type": "stream",
     "text": [
      "100%|██████████| 3873/3873 [00:13<00:00, 288.86frames/s]\n"
     ]
    },
    {
     "name": "stdout",
     "output_type": "stream",
     "text": [
      "Error extracting advanced features: Command requires more than the given 3 arguments: no value for argument \"Interpolation\".\n",
      "OK: toeic-0589-short-talk-298.wav\n",
      "Detected language: English\n"
     ]
    },
    {
     "name": "stderr",
     "output_type": "stream",
     "text": [
      "100%|██████████| 26773/26773 [01:12<00:00, 368.79frames/s]\n"
     ]
    },
    {
     "name": "stdout",
     "output_type": "stream",
     "text": [
      "Error extracting advanced features: Command requires more than the given 3 arguments: no value for argument \"Interpolation\".\n",
      "OK: ielts-listening-0070-cam15-test-2-part-2.wav\n",
      "Detected language: English\n"
     ]
    },
    {
     "name": "stderr",
     "output_type": "stream",
     "text": [
      "100%|██████████| 4665/4665 [00:14<00:00, 317.35frames/s]\n"
     ]
    },
    {
     "name": "stdout",
     "output_type": "stream",
     "text": [
      "Error extracting advanced features: Command requires more than the given 3 arguments: no value for argument \"Interpolation\".\n",
      "OK: toeic-0532-short-talk-262.wav\n",
      "Detected language: English\n"
     ]
    },
    {
     "name": "stderr",
     "output_type": "stream",
     "text": [
      "100%|██████████| 3968/3968 [00:14<00:00, 272.92frames/s]\n"
     ]
    },
    {
     "name": "stdout",
     "output_type": "stream",
     "text": [
      "Error extracting advanced features: Command requires more than the given 3 arguments: no value for argument \"Interpolation\".\n",
      "OK: toeic-0513-short-talk-253.wav\n",
      "Detected language: English\n"
     ]
    },
    {
     "name": "stderr",
     "output_type": "stream",
     "text": [
      "100%|██████████| 4524/4524 [00:14<00:00, 309.38frames/s]\n"
     ]
    },
    {
     "name": "stdout",
     "output_type": "stream",
     "text": [
      "Error extracting advanced features: Command requires more than the given 3 arguments: no value for argument \"Interpolation\".\n",
      "OK: toeic-0254-short-talk-124.wav\n",
      "Detected language: English\n"
     ]
    },
    {
     "name": "stderr",
     "output_type": "stream",
     "text": [
      "100%|██████████| 30912/30912 [01:27<00:00, 353.61frames/s]\n"
     ]
    },
    {
     "name": "stdout",
     "output_type": "stream",
     "text": [
      "Error extracting advanced features: Command requires more than the given 3 arguments: no value for argument \"Interpolation\".\n",
      "OK: ielts-listening-0038-cam17-test-2-part-2.wav\n",
      "Detected language: English\n"
     ]
    },
    {
     "name": "stderr",
     "output_type": "stream",
     "text": [
      "100%|██████████| 2918/2918 [00:13<00:00, 208.67frames/s]\n"
     ]
    },
    {
     "name": "stdout",
     "output_type": "stream",
     "text": [
      "Error extracting advanced features: Command requires more than the given 3 arguments: no value for argument \"Interpolation\".\n",
      "OK: toeic-0374-short-talk-184.wav\n",
      "Detected language: English\n"
     ]
    },
    {
     "name": "stderr",
     "output_type": "stream",
     "text": [
      "100%|██████████| 3145/3145 [00:13<00:00, 228.85frames/s]\n"
     ]
    },
    {
     "name": "stdout",
     "output_type": "stream",
     "text": [
      "Error extracting advanced features: Command requires more than the given 3 arguments: no value for argument \"Interpolation\".\n",
      "OK: toeic-0020-short-talk-10.wav\n",
      "Detected language: English\n"
     ]
    },
    {
     "name": "stderr",
     "output_type": "stream",
     "text": [
      "100%|██████████| 30391/30391 [01:28<00:00, 343.30frames/s]\n"
     ]
    },
    {
     "name": "stdout",
     "output_type": "stream",
     "text": [
      "Error extracting advanced features: Command requires more than the given 3 arguments: no value for argument \"Interpolation\".\n",
      "OK: ielts-listening-0236-cam5-test-3-part-4.wav\n",
      "Detected language: English\n"
     ]
    },
    {
     "name": "stderr",
     "output_type": "stream",
     "text": [
      "100%|██████████| 19782/19782 [00:57<00:00, 341.81frames/s]\n"
     ]
    },
    {
     "name": "stdout",
     "output_type": "stream",
     "text": [
      "Error extracting advanced features: Command requires more than the given 3 arguments: no value for argument \"Interpolation\".\n",
      "OK: short-stories-0275-278-the-calgary-stampede.wav\n",
      "Detected language: English\n"
     ]
    },
    {
     "name": "stderr",
     "output_type": "stream",
     "text": [
      "100%|██████████| 29231/29231 [01:31<00:00, 321.08frames/s]\n"
     ]
    },
    {
     "name": "stdout",
     "output_type": "stream",
     "text": [
      "Error extracting advanced features: Command requires more than the given 3 arguments: no value for argument \"Interpolation\".\n",
      "OK: ielts-listening-0272-cam3-test-4-part-4.wav\n",
      "Detected language: English\n"
     ]
    },
    {
     "name": "stderr",
     "output_type": "stream",
     "text": [
      "100%|██████████| 3100/3100 [00:16<00:00, 182.70frames/s]\n"
     ]
    },
    {
     "name": "stdout",
     "output_type": "stream",
     "text": [
      "Error extracting advanced features: Command requires more than the given 3 arguments: no value for argument \"Interpolation\".\n",
      "OK: toeic-0460-short-talk-230.wav\n",
      "Detected language: English\n"
     ]
    },
    {
     "name": "stderr",
     "output_type": "stream",
     "text": [
      "100%|██████████| 22726/22726 [01:20<00:00, 281.38frames/s]\n"
     ]
    },
    {
     "name": "stdout",
     "output_type": "stream",
     "text": [
      "Error extracting advanced features: Command requires more than the given 3 arguments: no value for argument \"Interpolation\".\n",
      "OK: ielts-listening-0176-cam9-test-4-part-4.wav\n",
      "Detected language: English\n"
     ]
    },
    {
     "name": "stderr",
     "output_type": "stream",
     "text": [
      "100%|██████████| 4064/4064 [00:14<00:00, 287.60frames/s]\n"
     ]
    },
    {
     "name": "stdout",
     "output_type": "stream",
     "text": [
      "Error extracting advanced features: Command requires more than the given 3 arguments: no value for argument \"Interpolation\".\n",
      "OK: toeic-0277-short-talk-137.wav\n",
      "Detected language: English\n"
     ]
    },
    {
     "name": "stderr",
     "output_type": "stream",
     "text": [
      "100%|██████████| 6162/6162 [00:18<00:00, 329.70frames/s]\n"
     ]
    },
    {
     "name": "stdout",
     "output_type": "stream",
     "text": [
      "Error extracting advanced features: Command requires more than the given 3 arguments: no value for argument \"Interpolation\".\n",
      "OK: short-stories-0013-13-susans-wedding-day.wav\n",
      "Detected language: English\n"
     ]
    },
    {
     "name": "stderr",
     "output_type": "stream",
     "text": [
      "100%|██████████| 11018/11018 [00:31<00:00, 347.70frames/s]\n"
     ]
    },
    {
     "name": "stdout",
     "output_type": "stream",
     "text": [
      "Error extracting advanced features: Command requires more than the given 3 arguments: no value for argument \"Interpolation\".\n",
      "OK: short-stories-0137-138-health.wav\n",
      "Detected language: English\n"
     ]
    },
    {
     "name": "stderr",
     "output_type": "stream",
     "text": [
      "100%|██████████| 5245/5245 [00:14<00:00, 363.04frames/s]\n"
     ]
    },
    {
     "name": "stdout",
     "output_type": "stream",
     "text": [
      "Error extracting advanced features: Command requires more than the given 3 arguments: no value for argument \"Interpolation\".\n",
      "OK: toeic-0215-short-talk-105.wav\n",
      "Detected language: English\n"
     ]
    },
    {
     "name": "stderr",
     "output_type": "stream",
     "text": [
      "100%|██████████| 23066/23066 [01:06<00:00, 347.86frames/s]\n"
     ]
    },
    {
     "name": "stdout",
     "output_type": "stream",
     "text": [
      "Error extracting advanced features: Command requires more than the given 3 arguments: no value for argument \"Interpolation\".\n",
      "OK: short-stories-0248-251-harriet-tubman.wav\n",
      "Detected language: English\n"
     ]
    },
    {
     "name": "stderr",
     "output_type": "stream",
     "text": [
      "100%|██████████| 4004/4004 [00:13<00:00, 288.38frames/s]\n"
     ]
    },
    {
     "name": "stdout",
     "output_type": "stream",
     "text": [
      "Error extracting advanced features: Command requires more than the given 3 arguments: no value for argument \"Interpolation\".\n",
      "OK: toeic-0585-short-talk-294.wav\n",
      "Detected language: English\n"
     ]
    },
    {
     "name": "stderr",
     "output_type": "stream",
     "text": [
      "100%|██████████| 7951/7951 [00:21<00:00, 368.63frames/s]\n"
     ]
    },
    {
     "name": "stdout",
     "output_type": "stream",
     "text": [
      "Error extracting advanced features: Command requires more than the given 3 arguments: no value for argument \"Interpolation\".\n",
      "OK: short-stories-0044-44-days-of-the-week.wav\n",
      "Detected language: English\n"
     ]
    },
    {
     "name": "stderr",
     "output_type": "stream",
     "text": [
      "100%|██████████| 24081/24081 [01:10<00:00, 340.73frames/s]\n"
     ]
    },
    {
     "name": "stdout",
     "output_type": "stream",
     "text": [
      "Error extracting advanced features: Command requires more than the given 3 arguments: no value for argument \"Interpolation\".\n",
      "OK: ielts-listening-0062-cam16-test-4-part-2.wav\n",
      "Detected language: English\n"
     ]
    },
    {
     "name": "stderr",
     "output_type": "stream",
     "text": [
      "100%|██████████| 11791/11791 [00:34<00:00, 346.54frames/s]\n"
     ]
    },
    {
     "name": "stdout",
     "output_type": "stream",
     "text": [
      "Error extracting advanced features: Command requires more than the given 3 arguments: no value for argument \"Interpolation\".\n",
      "OK: short-stories-0135-136-university.wav\n",
      "Detected language: Bengali\n"
     ]
    },
    {
     "name": "stderr",
     "output_type": "stream",
     "text": [
      "100%|██████████| 6186/6186 [00:46<00:00, 134.27frames/s]\n"
     ]
    },
    {
     "name": "stdout",
     "output_type": "stream",
     "text": [
      "Error extracting advanced features: Command requires more than the given 3 arguments: no value for argument \"Interpolation\".\n",
      "OK: AUDIO-2025-04-03-21-02-44.wav\n",
      "Detected language: English\n"
     ]
    },
    {
     "name": "stderr",
     "output_type": "stream",
     "text": [
      "100%|██████████| 20801/20801 [00:56<00:00, 365.20frames/s]\n"
     ]
    },
    {
     "name": "stdout",
     "output_type": "stream",
     "text": [
      "Error extracting advanced features: Command requires more than the given 3 arguments: no value for argument \"Interpolation\".\n",
      "OK: short-stories-0177-178-kings-and-queens-of-england.wav\n",
      "Detected language: English\n"
     ]
    },
    {
     "name": "stderr",
     "output_type": "stream",
     "text": [
      "100%|██████████| 3768/3768 [00:12<00:00, 299.88frames/s]\n"
     ]
    },
    {
     "name": "stdout",
     "output_type": "stream",
     "text": [
      "Error extracting advanced features: Command requires more than the given 3 arguments: no value for argument \"Interpolation\".\n",
      "OK: toeic-0236-short-talk-116.wav\n",
      "Detected language: English\n"
     ]
    },
    {
     "name": "stderr",
     "output_type": "stream",
     "text": [
      "100%|██████████| 12390/12390 [00:28<00:00, 437.44frames/s]\n"
     ]
    },
    {
     "name": "stdout",
     "output_type": "stream",
     "text": [
      "Error extracting advanced features: Command requires more than the given 3 arguments: no value for argument \"Interpolation\".\n",
      "OK: sammani_speech_05.wav\n",
      "Detected language: English\n"
     ]
    },
    {
     "name": "stderr",
     "output_type": "stream",
     "text": [
      "100%|██████████| 7918/7918 [00:17<00:00, 445.80frames/s]\n"
     ]
    },
    {
     "name": "stdout",
     "output_type": "stream",
     "text": [
      "Error extracting advanced features: Command requires more than the given 3 arguments: no value for argument \"Interpolation\".\n",
      "OK: sammani_speech_11.wav\n",
      "Detected language: English\n"
     ]
    },
    {
     "name": "stderr",
     "output_type": "stream",
     "text": [
      "100%|██████████| 23026/23026 [01:06<00:00, 345.52frames/s]\n"
     ]
    },
    {
     "name": "stdout",
     "output_type": "stream",
     "text": [
      "Error extracting advanced features: Command requires more than the given 3 arguments: no value for argument \"Interpolation\".\n",
      "OK: short-stories-0225-227-louisa-may-alcott.wav\n",
      "Detected language: English\n"
     ]
    },
    {
     "name": "stderr",
     "output_type": "stream",
     "text": [
      "100%|██████████| 36520/36520 [08:33<00:00, 71.16frames/s] \n"
     ]
    },
    {
     "name": "stdout",
     "output_type": "stream",
     "text": [
      "Error extracting advanced features: Command requires more than the given 3 arguments: no value for argument \"Interpolation\".\n",
      "OK: ielts-listening-0328-ielts-recent-actual-test-34-part-4.wav\n",
      "Detected language: English\n"
     ]
    },
    {
     "name": "stderr",
     "output_type": "stream",
     "text": [
      "100%|██████████| 23501/23501 [01:12<00:00, 323.89frames/s]\n"
     ]
    },
    {
     "name": "stdout",
     "output_type": "stream",
     "text": [
      "Error extracting advanced features: Command requires more than the given 3 arguments: no value for argument \"Interpolation\".\n",
      "OK: ielts-listening-0322-ielts-recent-actual-test-33-part-2.wav\n",
      "Detected language: English\n"
     ]
    },
    {
     "name": "stderr",
     "output_type": "stream",
     "text": [
      "100%|██████████| 8007/8007 [00:19<00:00, 401.78frames/s]\n"
     ]
    },
    {
     "name": "stdout",
     "output_type": "stream",
     "text": [
      "Error extracting advanced features: Command requires more than the given 3 arguments: no value for argument \"Interpolation\".\n",
      "OK: sammani_speech_10.wav\n",
      "Detected language: English\n"
     ]
    },
    {
     "name": "stderr",
     "output_type": "stream",
     "text": [
      "100%|██████████| 8837/8837 [01:01<00:00, 143.04frames/s]\n"
     ]
    },
    {
     "name": "stdout",
     "output_type": "stream",
     "text": [
      "Error extracting advanced features: Command requires more than the given 3 arguments: no value for argument \"Interpolation\".\n",
      "OK: short-stories-0057-57-music-1.wav\n",
      "Detected language: English\n"
     ]
    },
    {
     "name": "stderr",
     "output_type": "stream",
     "text": [
      "100%|██████████| 22091/22091 [01:10<00:00, 314.25frames/s]\n"
     ]
    },
    {
     "name": "stdout",
     "output_type": "stream",
     "text": [
      "Error extracting advanced features: Command requires more than the given 3 arguments: no value for argument \"Interpolation\".\n",
      "OK: ielts-listening-0264-cam3-test-2-part-4.wav\n",
      "Detected language: English\n"
     ]
    },
    {
     "name": "stderr",
     "output_type": "stream",
     "text": [
      "100%|██████████| 6030/6030 [00:23<00:00, 260.68frames/s]\n"
     ]
    },
    {
     "name": "stdout",
     "output_type": "stream",
     "text": [
      "Error extracting advanced features: Command requires more than the given 3 arguments: no value for argument \"Interpolation\".\n",
      "OK: sammani_speech_04.wav\n",
      "Detected language: English\n"
     ]
    },
    {
     "name": "stderr",
     "output_type": "stream",
     "text": [
      "100%|██████████| 30191/30191 [01:31<00:00, 331.56frames/s]\n"
     ]
    },
    {
     "name": "stdout",
     "output_type": "stream",
     "text": [
      "Error extracting advanced features: Command requires more than the given 3 arguments: no value for argument \"Interpolation\".\n",
      "OK: ielts-listening-0030-cam18-test-4-part-2.wav\n",
      "Detected language: English\n"
     ]
    },
    {
     "name": "stderr",
     "output_type": "stream",
     "text": [
      " 99%|█████████▉| 10820/10934 [00:34<00:00, 309.81frames/s]\n"
     ]
    },
    {
     "name": "stdout",
     "output_type": "stream",
     "text": [
      "Error extracting advanced features: Command requires more than the given 3 arguments: no value for argument \"Interpolation\".\n",
      "OK: short-stories-0125-126-i-need-glasses.wav\n",
      "Detected language: English\n"
     ]
    },
    {
     "name": "stderr",
     "output_type": "stream",
     "text": [
      "100%|██████████| 9733/9733 [00:31<00:00, 306.64frames/s]\n"
     ]
    },
    {
     "name": "stdout",
     "output_type": "stream",
     "text": [
      "Error extracting advanced features: Command requires more than the given 3 arguments: no value for argument \"Interpolation\".\n",
      "OK: short-stories-0126-127-i-am-clumsy.wav\n",
      "Detected language: English\n"
     ]
    },
    {
     "name": "stderr",
     "output_type": "stream",
     "text": [
      "100%|██████████| 9195/9195 [00:28<00:00, 320.12frames/s]\n"
     ]
    },
    {
     "name": "stdout",
     "output_type": "stream",
     "text": [
      "Error extracting advanced features: Command requires more than the given 3 arguments: no value for argument \"Interpolation\".\n",
      "OK: short-stories-0067-67-spring.wav\n",
      "Detected language: English\n"
     ]
    },
    {
     "name": "stderr",
     "output_type": "stream",
     "text": [
      "100%|██████████| 29117/29117 [01:26<00:00, 336.49frames/s]\n"
     ]
    },
    {
     "name": "stdout",
     "output_type": "stream",
     "text": [
      "Error extracting advanced features: Command requires more than the given 3 arguments: no value for argument \"Interpolation\".\n",
      "OK: ielts-listening-0216-cam6-test-2-part-4.wav\n",
      "Detected language: English\n"
     ]
    },
    {
     "name": "stderr",
     "output_type": "stream",
     "text": [
      "100%|██████████| 5932/5932 [00:18<00:00, 316.41frames/s]\n"
     ]
    },
    {
     "name": "stdout",
     "output_type": "stream",
     "text": [
      "Error extracting advanced features: Command requires more than the given 3 arguments: no value for argument \"Interpolation\".\n",
      "OK: AUDIO-2025-04-03-22-01-08.wav\n",
      "Detected language: English\n"
     ]
    },
    {
     "name": "stderr",
     "output_type": "stream",
     "text": [
      "100%|██████████| 3957/3957 [00:14<00:00, 265.88frames/s]\n"
     ]
    },
    {
     "name": "stdout",
     "output_type": "stream",
     "text": [
      "Error extracting advanced features: Command requires more than the given 3 arguments: no value for argument \"Interpolation\".\n",
      "OK: toeic-0453-short-talk-223.wav\n",
      "Detected language: English\n"
     ]
    },
    {
     "name": "stderr",
     "output_type": "stream",
     "text": [
      "100%|██████████| 3444/3444 [00:12<00:00, 282.12frames/s]\n"
     ]
    },
    {
     "name": "stdout",
     "output_type": "stream",
     "text": [
      "Error extracting advanced features: Command requires more than the given 3 arguments: no value for argument \"Interpolation\".\n",
      "OK: toeic-0359-short-talk-179.wav\n",
      "Detected language: English\n"
     ]
    },
    {
     "name": "stderr",
     "output_type": "stream",
     "text": [
      "100%|██████████| 1969/1969 [00:07<00:00, 250.40frames/s]\n"
     ]
    },
    {
     "name": "stdout",
     "output_type": "stream",
     "text": [
      "Error extracting advanced features: Command requires more than the given 3 arguments: no value for argument \"Interpolation\".\n",
      "OK: toeic-0392-short-talk-192.wav\n",
      "Detected language: English\n"
     ]
    },
    {
     "name": "stderr",
     "output_type": "stream",
     "text": [
      "100%|██████████| 29162/29162 [01:26<00:00, 337.13frames/s]\n"
     ]
    },
    {
     "name": "stdout",
     "output_type": "stream",
     "text": [
      "Error extracting advanced features: Command requires more than the given 3 arguments: no value for argument \"Interpolation\".\n",
      "OK: ielts-listening-0094-cam14-test-4-part-2.wav\n",
      "Detected language: English\n"
     ]
    },
    {
     "name": "stderr",
     "output_type": "stream",
     "text": [
      "100%|██████████| 5720/5720 [00:14<00:00, 389.89frames/s]\n"
     ]
    },
    {
     "name": "stdout",
     "output_type": "stream",
     "text": [
      "Error extracting advanced features: Command requires more than the given 3 arguments: no value for argument \"Interpolation\".\n",
      "OK: short-stories-0003-3-my-flower-garden.wav\n",
      "Detected language: English\n"
     ]
    },
    {
     "name": "stderr",
     "output_type": "stream",
     "text": [
      "100%|██████████| 18870/18870 [00:53<00:00, 355.12frames/s]\n"
     ]
    },
    {
     "name": "stdout",
     "output_type": "stream",
     "text": [
      "Error extracting advanced features: Command requires more than the given 3 arguments: no value for argument \"Interpolation\".\n",
      "OK: short-stories-0186-187-george-washington-carver.wav\n",
      "Detected language: English\n"
     ]
    },
    {
     "name": "stderr",
     "output_type": "stream",
     "text": [
      "100%|██████████| 5438/5438 [00:19<00:00, 278.27frames/s]\n"
     ]
    },
    {
     "name": "stdout",
     "output_type": "stream",
     "text": [
      "Error extracting advanced features: Command requires more than the given 3 arguments: no value for argument \"Interpolation\".\n",
      "OK: toeic-0297-short-talk-147.wav\n",
      "Detected language: English\n"
     ]
    },
    {
     "name": "stderr",
     "output_type": "stream",
     "text": [
      "100%|██████████| 11245/11245 [00:35<00:00, 312.82frames/s]\n"
     ]
    },
    {
     "name": "stdout",
     "output_type": "stream",
     "text": [
      "Error extracting advanced features: Command requires more than the given 3 arguments: no value for argument \"Interpolation\".\n",
      "OK: short-stories-0073-73-winter.wav\n",
      "Detected language: English\n"
     ]
    },
    {
     "name": "stderr",
     "output_type": "stream",
     "text": [
      "100%|██████████| 17686/17686 [00:56<00:00, 310.75frames/s]\n"
     ]
    },
    {
     "name": "stdout",
     "output_type": "stream",
     "text": [
      "Error extracting advanced features: Command requires more than the given 3 arguments: no value for argument \"Interpolation\".\n",
      "OK: short-stories-0194-195-anne-sullivan-and-helen-keller.wav\n",
      "Detected language: English\n"
     ]
    },
    {
     "name": "stderr",
     "output_type": "stream",
     "text": [
      "100%|██████████| 35257/35257 [01:26<00:00, 405.33frames/s]\n"
     ]
    },
    {
     "name": "stdout",
     "output_type": "stream",
     "text": [
      "Error extracting advanced features: Command requires more than the given 3 arguments: no value for argument \"Interpolation\".\n",
      "OK: Presentations-3_Effective-Presentations_Business-English-Script1.wav\n",
      "Detected language: English\n"
     ]
    },
    {
     "name": "stderr",
     "output_type": "stream",
     "text": [
      "100%|██████████| 3414/3414 [00:14<00:00, 230.89frames/s]\n"
     ]
    },
    {
     "name": "stdout",
     "output_type": "stream",
     "text": [
      "Error extracting advanced features: Command requires more than the given 3 arguments: no value for argument \"Interpolation\".\n",
      "OK: toeic-0431-short-talk-211.wav\n",
      "Detected language: English\n"
     ]
    },
    {
     "name": "stderr",
     "output_type": "stream",
     "text": [
      "100%|██████████| 3983/3983 [00:14<00:00, 270.20frames/s]\n"
     ]
    },
    {
     "name": "stdout",
     "output_type": "stream",
     "text": [
      "Error extracting advanced features: Command requires more than the given 3 arguments: no value for argument \"Interpolation\".\n",
      "OK: toeic-0480-short-talk-240.wav\n",
      "Detected language: English\n"
     ]
    },
    {
     "name": "stderr",
     "output_type": "stream",
     "text": [
      "100%|██████████| 1870/1870 [00:04<00:00, 389.79frames/s]\n"
     ]
    },
    {
     "name": "stdout",
     "output_type": "stream",
     "text": [
      "Error extracting advanced features: Command requires more than the given 3 arguments: no value for argument \"Interpolation\".\n",
      "OK: Lecture 5 Audio.wav\n",
      "Detected language: English\n"
     ]
    },
    {
     "name": "stderr",
     "output_type": "stream",
     "text": [
      "100%|██████████| 7074/7074 [00:18<00:00, 376.46frames/s]\n"
     ]
    },
    {
     "name": "stdout",
     "output_type": "stream",
     "text": [
      "Error extracting advanced features: Command requires more than the given 3 arguments: no value for argument \"Interpolation\".\n",
      "OK: AUDIO-2025-04-03-21-02-43 2.wav\n",
      "Detected language: English\n"
     ]
    },
    {
     "name": "stderr",
     "output_type": "stream",
     "text": [
      "100%|██████████| 3304/3304 [00:13<00:00, 241.74frames/s]\n"
     ]
    },
    {
     "name": "stdout",
     "output_type": "stream",
     "text": [
      "Error extracting advanced features: Command requires more than the given 3 arguments: no value for argument \"Interpolation\".\n",
      "OK: toeic-0412-short-talk-202.wav\n",
      "Detected language: English\n"
     ]
    },
    {
     "name": "stderr",
     "output_type": "stream",
     "text": [
      "100%|██████████| 3786/3786 [00:13<00:00, 285.10frames/s]\n"
     ]
    },
    {
     "name": "stdout",
     "output_type": "stream",
     "text": [
      "Error extracting advanced features: Command requires more than the given 3 arguments: no value for argument \"Interpolation\".\n",
      "OK: toeic-0318-short-talk-158.wav\n",
      "Detected language: English\n"
     ]
    },
    {
     "name": "stderr",
     "output_type": "stream",
     "text": [
      "100%|██████████| 4726/4726 [00:13<00:00, 346.37frames/s]\n"
     ]
    },
    {
     "name": "stdout",
     "output_type": "stream",
     "text": [
      "Error extracting advanced features: Command requires more than the given 3 arguments: no value for argument \"Interpolation\".\n",
      "OK: toeic-0339-short-talk-169.wav\n",
      "Detected language: English\n"
     ]
    },
    {
     "name": "stderr",
     "output_type": "stream",
     "text": [
      "100%|██████████| 35356/35356 [01:40<00:00, 352.05frames/s]\n"
     ]
    },
    {
     "name": "stdout",
     "output_type": "stream",
     "text": [
      "Error extracting advanced features: Command requires more than the given 3 arguments: no value for argument \"Interpolation\".\n",
      "OK: ielts-listening-0084-cam14-test-1-part-4.wav\n",
      "Detected language: English\n"
     ]
    },
    {
     "name": "stderr",
     "output_type": "stream",
     "text": [
      "100%|██████████| 34055/34055 [01:35<00:00, 355.11frames/s]\n"
     ]
    },
    {
     "name": "stdout",
     "output_type": "stream",
     "text": [
      "Error extracting advanced features: Command requires more than the given 3 arguments: no value for argument \"Interpolation\".\n",
      "OK: ielts-listening-0188-cam8-test-3-part-4.wav\n",
      "Detected language: English\n"
     ]
    },
    {
     "name": "stderr",
     "output_type": "stream",
     "text": [
      "100%|██████████| 17674/17674 [00:52<00:00, 335.52frames/s]\n"
     ]
    },
    {
     "name": "stdout",
     "output_type": "stream",
     "text": [
      "Error extracting advanced features: Command requires more than the given 3 arguments: no value for argument \"Interpolation\".\n",
      "OK: short-stories-0217-219-thomas-edison.wav\n",
      "Detected language: English\n"
     ]
    },
    {
     "name": "stderr",
     "output_type": "stream",
     "text": [
      "100%|██████████| 2547/2547 [00:07<00:00, 334.11frames/s]\n"
     ]
    },
    {
     "name": "stdout",
     "output_type": "stream",
     "text": [
      "Error extracting advanced features: Command requires more than the given 3 arguments: no value for argument \"Interpolation\".\n",
      "OK: AUDIO-2025-04-03-22-17-37.wav\n",
      "Detected language: English\n"
     ]
    },
    {
     "name": "stderr",
     "output_type": "stream",
     "text": [
      "100%|██████████| 4422/4422 [00:15<00:00, 289.86frames/s]\n"
     ]
    },
    {
     "name": "stdout",
     "output_type": "stream",
     "text": [
      "Error extracting advanced features: Command requires more than the given 3 arguments: no value for argument \"Interpolation\".\n",
      "OK: toeic-0200-short-talk-100.wav\n",
      "Detected language: English\n"
     ]
    },
    {
     "name": "stderr",
     "output_type": "stream",
     "text": [
      "100%|██████████| 21226/21226 [01:20<00:00, 265.03frames/s]\n"
     ]
    },
    {
     "name": "stdout",
     "output_type": "stream",
     "text": [
      "Error extracting advanced features: Command requires more than the given 3 arguments: no value for argument \"Interpolation\".\n",
      "OK: ielts-listening-0186-cam8-test-3-part-2.wav\n",
      "Detected language: English\n"
     ]
    },
    {
     "name": "stderr",
     "output_type": "stream",
     "text": [
      "100%|██████████| 3847/3847 [00:16<00:00, 239.64frames/s]\n"
     ]
    },
    {
     "name": "stdout",
     "output_type": "stream",
     "text": [
      "Error extracting advanced features: Command requires more than the given 3 arguments: no value for argument \"Interpolation\".\n",
      "OK: toeic-0591-short-talk-300.wav\n",
      "Detected language: English\n"
     ]
    },
    {
     "name": "stderr",
     "output_type": "stream",
     "text": [
      "100%|██████████| 11883/11883 [00:41<00:00, 288.88frames/s]\n"
     ]
    },
    {
     "name": "stdout",
     "output_type": "stream",
     "text": [
      "Error extracting advanced features: Command requires more than the given 3 arguments: no value for argument \"Interpolation\".\n",
      "OK: short-stories-0106-106-advice.wav\n",
      "Detected language: English\n"
     ]
    },
    {
     "name": "stderr",
     "output_type": "stream",
     "text": [
      "100%|██████████| 29338/29338 [01:34<00:00, 310.31frames/s]\n"
     ]
    },
    {
     "name": "stdout",
     "output_type": "stream",
     "text": [
      "Error extracting advanced features: Command requires more than the given 3 arguments: no value for argument \"Interpolation\".\n",
      "OK: ielts-listening-0086-cam14-test-2-part-2.wav\n",
      "Detected language: English\n"
     ]
    },
    {
     "name": "stderr",
     "output_type": "stream",
     "text": [
      "100%|██████████| 19158/19158 [01:04<00:00, 296.69frames/s]\n"
     ]
    },
    {
     "name": "stdout",
     "output_type": "stream",
     "text": [
      "Error extracting advanced features: Command requires more than the given 3 arguments: no value for argument \"Interpolation\".\n",
      "OK: short-stories-0278-282-the-internet.wav\n",
      "Detected language: English\n"
     ]
    },
    {
     "name": "stderr",
     "output_type": "stream",
     "text": [
      "100%|██████████| 11567/11567 [00:37<00:00, 311.28frames/s]\n"
     ]
    },
    {
     "name": "stdout",
     "output_type": "stream",
     "text": [
      "Error extracting advanced features: Command requires more than the given 3 arguments: no value for argument \"Interpolation\".\n",
      "OK: short-stories-0051-51-pets.wav\n",
      "Detected language: English\n"
     ]
    },
    {
     "name": "stderr",
     "output_type": "stream",
     "text": [
      "100%|██████████| 3061/3061 [00:14<00:00, 218.36frames/s]\n"
     ]
    },
    {
     "name": "stdout",
     "output_type": "stream",
     "text": [
      "Error extracting advanced features: Command requires more than the given 3 arguments: no value for argument \"Interpolation\".\n",
      "OK: toeic-0417-short-talk-207.wav\n",
      "Detected language: English\n"
     ]
    },
    {
     "name": "stderr",
     "output_type": "stream",
     "text": [
      "100%|██████████| 11311/11311 [00:36<00:00, 313.88frames/s]\n"
     ]
    },
    {
     "name": "stdout",
     "output_type": "stream",
     "text": [
      "Error extracting advanced features: Command requires more than the given 3 arguments: no value for argument \"Interpolation\".\n",
      "OK: short-stories-0064-64-me.wav\n",
      "Detected language: English\n"
     ]
    },
    {
     "name": "stderr",
     "output_type": "stream",
     "text": [
      "100%|██████████| 10391/10391 [00:28<00:00, 360.05frames/s]\n"
     ]
    },
    {
     "name": "stdout",
     "output_type": "stream",
     "text": [
      "Error extracting advanced features: Command requires more than the given 3 arguments: no value for argument \"Interpolation\".\n",
      "OK: short-stories-0037-37-diseases.wav\n",
      "Detected language: English\n"
     ]
    },
    {
     "name": "stderr",
     "output_type": "stream",
     "text": [
      "100%|██████████| 3820/3820 [00:13<00:00, 275.01frames/s]\n"
     ]
    },
    {
     "name": "stdout",
     "output_type": "stream",
     "text": [
      "Error extracting advanced features: Command requires more than the given 3 arguments: no value for argument \"Interpolation\".\n",
      "OK: toeic-0434-short-talk-214.wav\n",
      "Detected language: English\n"
     ]
    },
    {
     "name": "stderr",
     "output_type": "stream",
     "text": [
      "100%|██████████| 12820/12820 [00:41<00:00, 311.05frames/s]\n"
     ]
    },
    {
     "name": "stdout",
     "output_type": "stream",
     "text": [
      "Error extracting advanced features: Command requires more than the given 3 arguments: no value for argument \"Interpolation\".\n",
      "OK: short-stories-0075-75-summer.wav\n",
      "Detected language: English\n"
     ]
    },
    {
     "name": "stderr",
     "output_type": "stream",
     "text": [
      "100%|██████████| 30520/30520 [01:28<00:00, 344.24frames/s]\n"
     ]
    },
    {
     "name": "stdout",
     "output_type": "stream",
     "text": [
      "Error extracting advanced features: Command requires more than the given 3 arguments: no value for argument \"Interpolation\".\n",
      "OK: ielts-listening-0022-cam18-test-2-part-2.wav\n",
      "Detected language: English\n"
     ]
    },
    {
     "name": "stderr",
     "output_type": "stream",
     "text": [
      "100%|██████████| 22442/22442 [01:14<00:00, 300.60frames/s]\n"
     ]
    },
    {
     "name": "stdout",
     "output_type": "stream",
     "text": [
      "Error extracting advanced features: Command requires more than the given 3 arguments: no value for argument \"Interpolation\".\n",
      "OK: ielts-listening-0142-cam11-test-4-part-2.wav\n",
      "Detected language: English\n"
     ]
    },
    {
     "name": "stderr",
     "output_type": "stream",
     "text": [
      "100%|██████████| 18408/18408 [01:00<00:00, 303.41frames/s]\n"
     ]
    },
    {
     "name": "stdout",
     "output_type": "stream",
     "text": [
      "Error extracting advanced features: Command requires more than the given 3 arguments: no value for argument \"Interpolation\".\n",
      "OK: short-stories-0242-245-student-newspapers.wav\n",
      "Detected language: English\n"
     ]
    },
    {
     "name": "stderr",
     "output_type": "stream",
     "text": [
      "100%|██████████| 13881/13881 [00:47<00:00, 294.34frames/s]\n"
     ]
    },
    {
     "name": "stdout",
     "output_type": "stream",
     "text": [
      "Error extracting advanced features: Command requires more than the given 3 arguments: no value for argument \"Interpolation\".\n",
      "OK: short-stories-0271-274-shopping-at-the-mall.wav\n",
      "Detected language: English\n"
     ]
    },
    {
     "name": "stderr",
     "output_type": "stream",
     "text": [
      "100%|██████████| 85732/85732 [04:25<00:00, 322.53frames/s]\n"
     ]
    },
    {
     "name": "stdout",
     "output_type": "stream",
     "text": [
      "Error extracting advanced features: Command requires more than the given 3 arguments: no value for argument \"Interpolation\".\n",
      "OK: The Surprising Benefits Of Saunas And Better English Too Ep 801-1a696a.wav\n",
      "Detected language: English\n"
     ]
    },
    {
     "name": "stderr",
     "output_type": "stream",
     "text": [
      "100%|██████████| 36501/36501 [16:49<00:00, 36.17frames/s] \n"
     ]
    },
    {
     "name": "stdout",
     "output_type": "stream",
     "text": [
      "Error extracting advanced features: Command requires more than the given 3 arguments: no value for argument \"Interpolation\".\n",
      "OK: ielts-listening-0020-cam18-test-1-part-4.wav\n",
      "Detected language: English\n"
     ]
    },
    {
     "name": "stderr",
     "output_type": "stream",
     "text": [
      "100%|██████████| 8087/8087 [00:25<00:00, 315.56frames/s]\n"
     ]
    },
    {
     "name": "stdout",
     "output_type": "stream",
     "text": [
      "Error extracting advanced features: Command requires more than the given 3 arguments: no value for argument \"Interpolation\".\n",
      "OK: short-stories-0076-76-the-doctor.wav\n",
      "Detected language: English\n"
     ]
    },
    {
     "name": "stderr",
     "output_type": "stream",
     "text": [
      "100%|██████████| 4166/4166 [15:14<00:00,  4.55frames/s]\n"
     ]
    },
    {
     "name": "stdout",
     "output_type": "stream",
     "text": [
      "Error extracting advanced features: Command requires more than the given 3 arguments: no value for argument \"Interpolation\".\n",
      "OK: toeic-0292-short-talk-142.wav\n",
      "Detected language: English\n"
     ]
    },
    {
     "name": "stderr",
     "output_type": "stream",
     "text": [
      "100%|██████████| 34798/34798 [23:31<00:00, 24.65frames/s] \n"
     ]
    },
    {
     "name": "stdout",
     "output_type": "stream",
     "text": [
      "Error extracting advanced features: Command requires more than the given 3 arguments: no value for argument \"Interpolation\".\n",
      "OK: ielts-listening-0112-cam13-test-4-part-4.wav\n",
      "Detected language: English\n"
     ]
    },
    {
     "name": "stderr",
     "output_type": "stream",
     "text": [
      "100%|██████████| 19824/19824 [15:55<00:00, 20.75frames/s] \n"
     ]
    },
    {
     "name": "stdout",
     "output_type": "stream",
     "text": [
      "Error extracting advanced features: Command requires more than the given 3 arguments: no value for argument \"Interpolation\".\n",
      "OK: short-stories-0183-184-australia---nature.wav\n",
      "Detected language: English\n"
     ]
    },
    {
     "name": "stderr",
     "output_type": "stream",
     "text": [
      "100%|██████████| 11415/11415 [00:36<00:00, 311.50frames/s]\n"
     ]
    },
    {
     "name": "stdout",
     "output_type": "stream",
     "text": [
      "Error extracting advanced features: Command requires more than the given 3 arguments: no value for argument \"Interpolation\".\n",
      "OK: short-stories-0103-103-the-birthday-gift.wav\n",
      "Detected language: English\n"
     ]
    },
    {
     "name": "stderr",
     "output_type": "stream",
     "text": [
      "100%|██████████| 2536/2536 [15:08<00:00,  2.79frames/s]\n"
     ]
    },
    {
     "name": "stdout",
     "output_type": "stream",
     "text": [
      "Error extracting advanced features: Command requires more than the given 3 arguments: no value for argument \"Interpolation\".\n",
      "OK: toeic-0397-short-talk-197.wav\n",
      "Detected language: English\n"
     ]
    },
    {
     "name": "stderr",
     "output_type": "stream",
     "text": [
      "100%|██████████| 3356/3356 [00:13<00:00, 246.83frames/s]\n"
     ]
    },
    {
     "name": "stdout",
     "output_type": "stream",
     "text": [
      "Error extracting advanced features: Command requires more than the given 3 arguments: no value for argument \"Interpolation\".\n",
      "OK: toeic-0456-short-talk-226.wav\n",
      "Detected language: English\n"
     ]
    },
    {
     "name": "stderr",
     "output_type": "stream",
     "text": [
      "100%|██████████| 31679/31679 [16:31<00:00, 31.95frames/s] \n"
     ]
    },
    {
     "name": "stdout",
     "output_type": "stream",
     "text": [
      "Error extracting advanced features: Command requires more than the given 3 arguments: no value for argument \"Interpolation\".\n",
      "OK: ielts-listening-0180-cam8-test-1-part-4.wav\n",
      "Detected language: English\n"
     ]
    },
    {
     "name": "stderr",
     "output_type": "stream",
     "text": [
      "100%|██████████| 4893/4893 [00:18<00:00, 271.52frames/s]\n"
     ]
    },
    {
     "name": "stdout",
     "output_type": "stream",
     "text": [
      "Error extracting advanced features: Command requires more than the given 3 arguments: no value for argument \"Interpolation\".\n",
      "OK: toeic-0058-short-talk-28.wav\n",
      "Detected language: English\n"
     ]
    },
    {
     "name": "stderr",
     "output_type": "stream",
     "text": [
      "100%|██████████| 4682/4682 [00:21<00:00, 221.37frames/s]\n"
     ]
    },
    {
     "name": "stdout",
     "output_type": "stream",
     "text": [
      "Error extracting advanced features: Command requires more than the given 3 arguments: no value for argument \"Interpolation\".\n",
      "OK: toeic-0475-short-talk-235.wav\n",
      "Detected language: English\n"
     ]
    },
    {
     "name": "stderr",
     "output_type": "stream",
     "text": [
      "100%|██████████| 5101/5101 [00:20<00:00, 249.32frames/s]\n"
     ]
    },
    {
     "name": "stdout",
     "output_type": "stream",
     "text": [
      "Error extracting advanced features: Command requires more than the given 3 arguments: no value for argument \"Interpolation\".\n",
      "OK: short-stories-0014-14-remembrance-day.wav\n",
      "Detected language: English\n"
     ]
    },
    {
     "name": "stderr",
     "output_type": "stream",
     "text": [
      "100%|██████████| 16259/16259 [11:35<00:00, 23.39frames/s] \n"
     ]
    },
    {
     "name": "stdout",
     "output_type": "stream",
     "text": [
      "Error extracting advanced features: Command requires more than the given 3 arguments: no value for argument \"Interpolation\".\n",
      "OK: short-stories-0142-143-my-sisters-visit-to-canada.wav\n",
      "Detected language: English\n"
     ]
    },
    {
     "name": "stderr",
     "output_type": "stream",
     "text": [
      "100%|██████████| 18972/18972 [16:00<00:00, 19.76frames/s] \n"
     ]
    },
    {
     "name": "stdout",
     "output_type": "stream",
     "text": [
      "Error extracting advanced features: Command requires more than the given 3 arguments: no value for argument \"Interpolation\".\n",
      "OK: short-stories-0241-242-walmart-stores.wav\n",
      "Detected language: English\n"
     ]
    },
    {
     "name": "stderr",
     "output_type": "stream",
     "text": [
      "100%|██████████| 3985/3985 [00:13<00:00, 296.33frames/s]\n"
     ]
    },
    {
     "name": "stdout",
     "output_type": "stream",
     "text": [
      "Error extracting advanced features: Command requires more than the given 3 arguments: no value for argument \"Interpolation\".\n",
      "OK: toeic-0233-short-talk-113.wav\n",
      "Detected language: English\n"
     ]
    },
    {
     "name": "stderr",
     "output_type": "stream",
     "text": [
      "100%|██████████| 28153/28153 [01:43<00:00, 272.68frames/s]\n"
     ]
    },
    {
     "name": "stdout",
     "output_type": "stream",
     "text": [
      "Error extracting advanced features: Command requires more than the given 3 arguments: no value for argument \"Interpolation\".\n",
      "OK: ielts-listening-0204-cam7-test-3-part-4.wav\n",
      "Detected language: English\n"
     ]
    },
    {
     "name": "stderr",
     "output_type": "stream",
     "text": [
      "100%|██████████| 19829/19829 [16:51<00:00, 19.60frames/s]\n"
     ]
    },
    {
     "name": "stdout",
     "output_type": "stream",
     "text": [
      "Error extracting advanced features: Command requires more than the given 3 arguments: no value for argument \"Interpolation\".\n",
      "OK: short-stories-0184-185-australia---people.wav\n",
      "Detected language: English\n"
     ]
    },
    {
     "name": "stderr",
     "output_type": "stream",
     "text": [
      "100%|██████████| 3915/3915 [00:13<00:00, 289.81frames/s]\n"
     ]
    },
    {
     "name": "stdout",
     "output_type": "stream",
     "text": [
      "Error extracting advanced features: Command requires more than the given 3 arguments: no value for argument \"Interpolation\".\n",
      "OK: toeic-0495-short-talk-245.wav\n",
      "Detected language: English\n"
     ]
    },
    {
     "name": "stderr",
     "output_type": "stream",
     "text": [
      "100%|██████████| 23946/23946 [01:44<00:00, 228.92frames/s]\n"
     ]
    },
    {
     "name": "stdout",
     "output_type": "stream",
     "text": [
      "Error extracting advanced features: Command requires more than the given 3 arguments: no value for argument \"Interpolation\".\n",
      "OK: short-stories-0257-260-australian-origins.wav\n",
      "Detected language: English\n"
     ]
    },
    {
     "name": "stderr",
     "output_type": "stream",
     "text": [
      "100%|██████████| 24702/24702 [16:52<00:00, 24.39frames/s] \n"
     ]
    },
    {
     "name": "stdout",
     "output_type": "stream",
     "text": [
      "Error extracting advanced features: Command requires more than the given 3 arguments: no value for argument \"Interpolation\".\n",
      "OK: short-stories-0287-290-trial-by-jury.wav\n",
      "Detected language: English\n"
     ]
    },
    {
     "name": "stderr",
     "output_type": "stream",
     "text": [
      "100%|██████████| 10020/10020 [00:36<00:00, 272.95frames/s]\n"
     ]
    },
    {
     "name": "stdout",
     "output_type": "stream",
     "text": [
      "Error extracting advanced features: Command requires more than the given 3 arguments: no value for argument \"Interpolation\".\n",
      "OK: short-stories-0049-49-questions-and-answers.wav\n",
      "Detected language: English\n"
     ]
    },
    {
     "name": "stderr",
     "output_type": "stream",
     "text": [
      "100%|██████████| 23685/23685 [06:21<00:00, 62.14frames/s] \n"
     ]
    },
    {
     "name": "stdout",
     "output_type": "stream",
     "text": [
      "Error extracting advanced features: Command requires more than the given 3 arguments: no value for argument \"Interpolation\".\n",
      "OK: ielts-listening-0244-cam4-test-1-part-4.wav\n",
      "Detected language: English\n"
     ]
    },
    {
     "name": "stderr",
     "output_type": "stream",
     "text": [
      "100%|██████████| 27927/27927 [31:21<00:00, 14.85frames/s]\n"
     ]
    },
    {
     "name": "stdout",
     "output_type": "stream",
     "text": [
      "Error extracting advanced features: Command requires more than the given 3 arguments: no value for argument \"Interpolation\".\n",
      "OK: ielts-listening-0066-cam15-test-1-part-2.wav\n",
      "Detected language: English\n"
     ]
    },
    {
     "name": "stderr",
     "output_type": "stream",
     "text": [
      "100%|██████████| 20997/20997 [01:05<00:00, 319.30frames/s]\n"
     ]
    },
    {
     "name": "stdout",
     "output_type": "stream",
     "text": [
      "Error extracting advanced features: Command requires more than the given 3 arguments: no value for argument \"Interpolation\".\n",
      "OK: short-stories-0268-271-henry-ford.wav\n",
      "Detected language: English\n"
     ]
    },
    {
     "name": "stderr",
     "output_type": "stream",
     "text": [
      "100%|██████████| 34140/34140 [18:12<00:00, 31.25frames/s] \n"
     ]
    },
    {
     "name": "stdout",
     "output_type": "stream",
     "text": [
      "Error extracting advanced features: Command requires more than the given 3 arguments: no value for argument \"Interpolation\".\n",
      "OK: ielts-listening-0128-cam12-test-4-part-4.wav\n",
      "Detected language: English\n"
     ]
    },
    {
     "name": "stderr",
     "output_type": "stream",
     "text": [
      "100%|██████████| 53787/53787 [09:59<00:00, 89.65frames/s] \n"
     ]
    },
    {
     "name": "stdout",
     "output_type": "stream",
     "text": [
      "Error extracting advanced features: Command requires more than the given 3 arguments: no value for argument \"Interpolation\".\n",
      "OK: Ds_paper_discussion.wav\n",
      "Detected language: English\n"
     ]
    },
    {
     "name": "stderr",
     "output_type": "stream",
     "text": [
      "100%|██████████| 19190/19190 [15:58<00:00, 20.01frames/s]\n"
     ]
    },
    {
     "name": "stdout",
     "output_type": "stream",
     "text": [
      "Error extracting advanced features: Command requires more than the given 3 arguments: no value for argument \"Interpolation\".\n",
      "OK: ielts-listening-0238-cam5-test-4-part-2.wav\n",
      "Detected language: English\n"
     ]
    },
    {
     "name": "stderr",
     "output_type": "stream",
     "text": [
      "100%|██████████| 8236/8236 [00:27<00:00, 302.82frames/s]\n"
     ]
    },
    {
     "name": "stdout",
     "output_type": "stream",
     "text": [
      "Error extracting advanced features: Command requires more than the given 3 arguments: no value for argument \"Interpolation\".\n",
      "OK: short-stories-0042-42-wild-animals.wav\n",
      "Detected language: English\n"
     ]
    },
    {
     "name": "stderr",
     "output_type": "stream",
     "text": [
      "100%|██████████| 4173/4173 [00:17<00:00, 234.72frames/s]\n"
     ]
    },
    {
     "name": "stdout",
     "output_type": "stream",
     "text": [
      "Error extracting advanced features: Command requires more than the given 3 arguments: no value for argument \"Interpolation\".\n",
      "OK: toeic-0272-short-talk-132.wav\n",
      "Detected language: English\n"
     ]
    },
    {
     "name": "stderr",
     "output_type": "stream",
     "text": [
      "100%|██████████| 22585/22585 [02:13<00:00, 169.44frames/s]\n"
     ]
    },
    {
     "name": "stdout",
     "output_type": "stream",
     "text": [
      "Error extracting advanced features: Command requires more than the given 3 arguments: no value for argument \"Interpolation\".\n",
      "OK: short-stories-0262-265-dr-norman-bethune.wav\n",
      "Detected language: English\n"
     ]
    },
    {
     "name": "stderr",
     "output_type": "stream",
     "text": [
      "100%|██████████| 30972/30972 [31:26<00:00, 16.41frames/s] \n"
     ]
    },
    {
     "name": "stdout",
     "output_type": "stream",
     "text": [
      "Error extracting advanced features: Command requires more than the given 3 arguments: no value for argument \"Interpolation\".\n",
      "OK: ielts-listening-0076-cam15-test-3-part-4.wav\n",
      "Detected language: English\n"
     ]
    },
    {
     "name": "stderr",
     "output_type": "stream",
     "text": [
      "100%|██████████| 28859/28859 [10:54<00:00, 44.10frames/s] \n"
     ]
    },
    {
     "name": "stdout",
     "output_type": "stream",
     "text": [
      "Error extracting advanced features: Command requires more than the given 3 arguments: no value for argument \"Interpolation\".\n",
      "OK: ielts-listening-0288-ielts-recent-actual-test-4-part-4.wav\n",
      "Detected language: English\n"
     ]
    },
    {
     "name": "stderr",
     "output_type": "stream",
     "text": [
      "100%|██████████| 35310/35310 [02:51<00:00, 205.62frames/s]\n"
     ]
    },
    {
     "name": "stdout",
     "output_type": "stream",
     "text": [
      "Error extracting advanced features: Command requires more than the given 3 arguments: no value for argument \"Interpolation\".\n",
      "OK: ielts-listening-0124-cam12-test-3-part-4.wav\n",
      "Detected language: Latin\n"
     ]
    },
    {
     "name": "stderr",
     "output_type": "stream",
     "text": [
      "100%|██████████| 6026/6026 [18:15<00:00,  5.50frames/s]\n"
     ]
    },
    {
     "name": "stdout",
     "output_type": "stream",
     "text": [
      "Error extracting advanced features: Command requires more than the given 3 arguments: no value for argument \"Interpolation\".\n",
      "OK: AUDIO-2025-04-03-21-02-44 2.wav\n",
      "Detected language: English\n"
     ]
    },
    {
     "name": "stderr",
     "output_type": "stream",
     "text": [
      "100%|██████████| 29590/29590 [16:57<00:00, 29.09frames/s] \n"
     ]
    },
    {
     "name": "stdout",
     "output_type": "stream",
     "text": [
      "Error extracting advanced features: Command requires more than the given 3 arguments: no value for argument \"Interpolation\".\n",
      "OK: ielts-listening-0036-cam17-test-1-part-4.wav\n",
      "Detected language: English\n"
     ]
    },
    {
     "name": "stderr",
     "output_type": "stream",
     "text": [
      "100%|██████████| 9594/9594 [00:39<00:00, 240.26frames/s]\n"
     ]
    },
    {
     "name": "stdout",
     "output_type": "stream",
     "text": [
      "Error extracting advanced features: Command requires more than the given 3 arguments: no value for argument \"Interpolation\".\n",
      "OK: short-stories-0046-46-fruit.wav\n",
      "Detected language: English\n"
     ]
    },
    {
     "name": "stderr",
     "output_type": "stream",
     "text": [
      "100%|██████████| 18614/18614 [16:55<00:00, 18.33frames/s] \n"
     ]
    },
    {
     "name": "stdout",
     "output_type": "stream",
     "text": [
      "Error extracting advanced features: Command requires more than the given 3 arguments: no value for argument \"Interpolation\".\n",
      "OK: short-stories-0168-169-the-vikings.wav\n",
      "Detected language: English\n"
     ]
    },
    {
     "name": "stderr",
     "output_type": "stream",
     "text": [
      "100%|██████████| 3107/3107 [00:13<00:00, 233.87frames/s]\n"
     ]
    },
    {
     "name": "stdout",
     "output_type": "stream",
     "text": [
      "Error extracting advanced features: Command requires more than the given 3 arguments: no value for argument \"Interpolation\".\n",
      "OK: toeic-0371-short-talk-181.wav\n",
      "Detected language: English\n"
     ]
    },
    {
     "name": "stderr",
     "output_type": "stream",
     "text": [
      "100%|██████████| 5045/5045 [00:12<00:00, 390.28frames/s]\n"
     ]
    },
    {
     "name": "stdout",
     "output_type": "stream",
     "text": [
      "Error extracting advanced features: Command requires more than the given 3 arguments: no value for argument \"Interpolation\".\n",
      "OK: AUDIO-2025-04-03-22-17-36.wav\n",
      "Detected language: English\n"
     ]
    },
    {
     "name": "stderr",
     "output_type": "stream",
     "text": [
      "100%|██████████| 20273/20273 [01:17<00:00, 262.39frames/s]\n"
     ]
    },
    {
     "name": "stdout",
     "output_type": "stream",
     "text": [
      "Error extracting advanced features: Command requires more than the given 3 arguments: no value for argument \"Interpolation\".\n",
      "OK: short-stories-0182-183-jazz.wav\n",
      "Detected language: English\n"
     ]
    },
    {
     "name": "stderr",
     "output_type": "stream",
     "text": [
      "100%|██████████| 4200/4200 [00:23<00:00, 180.62frames/s]\n"
     ]
    },
    {
     "name": "stdout",
     "output_type": "stream",
     "text": [
      "Error extracting advanced features: Command requires more than the given 3 arguments: no value for argument \"Interpolation\".\n",
      "OK: toeic-0251-short-talk-121.wav\n",
      "Detected language: English\n"
     ]
    },
    {
     "name": "stderr",
     "output_type": "stream",
     "text": [
      "100%|██████████| 5668/5668 [00:53<00:00, 105.41frames/s]\n"
     ]
    },
    {
     "name": "stdout",
     "output_type": "stream",
     "text": [
      "Error extracting advanced features: Command requires more than the given 3 arguments: no value for argument \"Interpolation\".\n",
      "OK: toeic-0516-short-talk-256.wav\n",
      "Detected language: English\n"
     ]
    },
    {
     "name": "stderr",
     "output_type": "stream",
     "text": [
      "100%|██████████| 10637/10637 [00:35<00:00, 298.52frames/s]\n"
     ]
    },
    {
     "name": "stdout",
     "output_type": "stream",
     "text": [
      "Error extracting advanced features: Command requires more than the given 3 arguments: no value for argument \"Interpolation\".\n",
      "OK: short-stories-0084-84-pretending.wav\n",
      "Detected language: English\n"
     ]
    },
    {
     "name": "stderr",
     "output_type": "stream",
     "text": [
      "100%|██████████| 7667/7667 [15:21<00:00,  8.32frames/s] \n"
     ]
    },
    {
     "name": "stdout",
     "output_type": "stream",
     "text": [
      "Error extracting advanced features: Command requires more than the given 3 arguments: no value for argument \"Interpolation\".\n",
      "OK: AUDIO-2025-04-03-22-17-34.wav\n",
      "Detected language: English\n"
     ]
    },
    {
     "name": "stderr",
     "output_type": "stream",
     "text": [
      "100%|██████████| 4143/4143 [00:14<00:00, 292.21frames/s]\n"
     ]
    },
    {
     "name": "stdout",
     "output_type": "stream",
     "text": [
      "Error extracting advanced features: Command requires more than the given 3 arguments: no value for argument \"Interpolation\".\n",
      "OK: toeic-0537-short-talk-267.wav\n",
      "Detected language: English\n"
     ]
    },
    {
     "name": "stderr",
     "output_type": "stream",
     "text": [
      "100%|██████████| 32843/32843 [04:15<00:00, 128.74frames/s]\n"
     ]
    },
    {
     "name": "stdout",
     "output_type": "stream",
     "text": [
      "Error extracting advanced features: Command requires more than the given 3 arguments: no value for argument \"Interpolation\".\n",
      "OK: ielts-listening-0320-ielts-recent-actual-test-32-part-4.wav\n",
      "Detected language: English\n"
     ]
    },
    {
     "name": "stderr",
     "output_type": "stream",
     "text": [
      "100%|██████████| 3483/3483 [00:14<00:00, 237.36frames/s]\n"
     ]
    },
    {
     "name": "stdout",
     "output_type": "stream",
     "text": [
      "Error extracting advanced features: Command requires more than the given 3 arguments: no value for argument \"Interpolation\".\n",
      "OK: toeic-0320-short-talk-160.wav\n",
      "Detected language: English\n"
     ]
    },
    {
     "name": "stderr",
     "output_type": "stream",
     "text": [
      "100%|██████████| 3766/3766 [00:13<00:00, 278.75frames/s]\n"
     ]
    },
    {
     "name": "stdout",
     "output_type": "stream",
     "text": [
      "Error extracting advanced features: Command requires more than the given 3 arguments: no value for argument \"Interpolation\".\n",
      "OK: toeic-0054-short-talk-24.wav\n",
      "Detected language: English\n"
     ]
    },
    {
     "name": "stderr",
     "output_type": "stream",
     "text": [
      "100%|██████████| 9780/9780 [00:32<00:00, 302.60frames/s]\n"
     ]
    },
    {
     "name": "stdout",
     "output_type": "stream",
     "text": [
      "Error extracting advanced features: Command requires more than the given 3 arguments: no value for argument \"Interpolation\".\n",
      "OK: short-stories-0082-82-hobbies.wav\n",
      "Detected language: English\n"
     ]
    },
    {
     "name": "stderr",
     "output_type": "stream",
     "text": [
      "100%|██████████| 9157/9157 [00:35<00:00, 256.86frames/s]\n"
     ]
    },
    {
     "name": "stdout",
     "output_type": "stream",
     "text": [
      "Error extracting advanced features: Command requires more than the given 3 arguments: no value for argument \"Interpolation\".\n",
      "OK: short-stories-0121-122-my-doll.wav\n",
      "Detected language: English\n"
     ]
    },
    {
     "name": "stderr",
     "output_type": "stream",
     "text": [
      "100%|██████████| 29454/29454 [01:28<00:00, 333.31frames/s]\n"
     ]
    },
    {
     "name": "stdout",
     "output_type": "stream",
     "text": [
      "Error extracting advanced features: Command requires more than the given 3 arguments: no value for argument \"Interpolation\".\n",
      "OK: ielts-listening-0002-cam19-test-1-part-2.wav\n",
      "Detected language: English\n"
     ]
    },
    {
     "name": "stderr",
     "output_type": "stream",
     "text": [
      "100%|██████████| 4114/4114 [00:14<00:00, 292.39frames/s]\n"
     ]
    },
    {
     "name": "stdout",
     "output_type": "stream",
     "text": [
      "Error extracting advanced features: Command requires more than the given 3 arguments: no value for argument \"Interpolation\".\n",
      "OK: toeic-0499-short-talk-249.wav\n",
      "Detected language: English\n"
     ]
    },
    {
     "name": "stderr",
     "output_type": "stream",
     "text": [
      "100%|██████████| 325/325 [00:04<00:00, 69.64frames/s]\n"
     ]
    },
    {
     "name": "stdout",
     "output_type": "stream",
     "text": [
      "Error extracting advanced features: Command requires more than the given 3 arguments: no value for argument \"Interpolation\".\n",
      "OK: Lecture 2 Audio.wav\n",
      "Detected language: English\n"
     ]
    },
    {
     "name": "stderr",
     "output_type": "stream",
     "text": [
      "100%|██████████| 13197/13197 [00:36<00:00, 357.82frames/s]\n"
     ]
    },
    {
     "name": "stdout",
     "output_type": "stream",
     "text": [
      "Error extracting advanced features: Command requires more than the given 3 arguments: no value for argument \"Interpolation\".\n",
      "OK: short-stories-0030-30-movies.wav\n",
      "Detected language: English\n"
     ]
    },
    {
     "name": "stderr",
     "output_type": "stream",
     "text": [
      "100%|██████████| 32446/32446 [01:36<00:00, 336.00frames/s]\n"
     ]
    },
    {
     "name": "stdout",
     "output_type": "stream",
     "text": [
      "Error extracting advanced features: Command requires more than the given 3 arguments: no value for argument \"Interpolation\".\n",
      "OK: ielts-listening-0160-cam10-test-4-part-4.wav\n",
      "Detected language: English\n"
     ]
    },
    {
     "name": "stderr",
     "output_type": "stream",
     "text": [
      "100%|██████████| 4200/4200 [00:14<00:00, 284.87frames/s]\n"
     ]
    },
    {
     "name": "stdout",
     "output_type": "stream",
     "text": [
      "Error extracting advanced features: Command requires more than the given 3 arguments: no value for argument \"Interpolation\".\n",
      "OK: toeic-0557-short-talk-277.wav\n",
      "Detected language: English\n"
     ]
    },
    {
     "name": "stderr",
     "output_type": "stream",
     "text": [
      "100%|██████████| 36800/36800 [01:42<00:00, 359.45frames/s]\n"
     ]
    },
    {
     "name": "stdout",
     "output_type": "stream",
     "text": [
      "Error extracting advanced features: Command requires more than the given 3 arguments: no value for argument \"Interpolation\".\n",
      "OK: ielts-listening-0056-cam16-test-2-part-4.wav\n",
      "Detected language: English\n"
     ]
    },
    {
     "name": "stderr",
     "output_type": "stream",
     "text": [
      "100%|██████████| 30767/30767 [01:37<00:00, 316.03frames/s]\n"
     ]
    },
    {
     "name": "stdout",
     "output_type": "stream",
     "text": [
      "Error extracting advanced features: Command requires more than the given 3 arguments: no value for argument \"Interpolation\".\n",
      "OK: ielts-listening-0012-cam19-test-3-part-4.wav\n",
      "Detected language: English\n"
     ]
    },
    {
     "name": "stderr",
     "output_type": "stream",
     "text": [
      "100%|██████████| 3871/3871 [00:14<00:00, 270.35frames/s]\n"
     ]
    },
    {
     "name": "stdout",
     "output_type": "stream",
     "text": [
      "Error extracting advanced features: Command requires more than the given 3 arguments: no value for argument \"Interpolation\".\n",
      "OK: toeic-0120-short-talk-60.wav\n",
      "Detected language: English\n"
     ]
    },
    {
     "name": "stderr",
     "output_type": "stream",
     "text": [
      "100%|██████████| 9367/9367 [00:30<00:00, 304.00frames/s]\n"
     ]
    },
    {
     "name": "stdout",
     "output_type": "stream",
     "text": [
      "Error extracting advanced features: Command requires more than the given 3 arguments: no value for argument \"Interpolation\".\n",
      "OK: short-stories-0060-60-the-office.wav\n",
      "Detected language: English\n"
     ]
    },
    {
     "name": "stderr",
     "output_type": "stream",
     "text": [
      "100%|██████████| 12588/12588 [00:36<00:00, 343.20frames/s]\n"
     ]
    },
    {
     "name": "stdout",
     "output_type": "stream",
     "text": [
      "Error extracting advanced features: Command requires more than the given 3 arguments: no value for argument \"Interpolation\".\n",
      "OK: short-stories-0111-111-superstitions.wav\n",
      "Detected language: English\n"
     ]
    },
    {
     "name": "stderr",
     "output_type": "stream",
     "text": [
      "100%|██████████| 7664/7664 [15:22<00:00,  8.31frames/s] \n"
     ]
    },
    {
     "name": "stdout",
     "output_type": "stream",
     "text": [
      "Error extracting advanced features: Command requires more than the given 3 arguments: no value for argument \"Interpolation\".\n",
      "OK: short-stories-0015-15-halloween-night.wav\n",
      "Detected language: English\n"
     ]
    },
    {
     "name": "stderr",
     "output_type": "stream",
     "text": [
      "100%|██████████| 3438/3438 [00:12<00:00, 269.57frames/s]\n"
     ]
    },
    {
     "name": "stdout",
     "output_type": "stream",
     "text": [
      "Error extracting advanced features: Command requires more than the given 3 arguments: no value for argument \"Interpolation\".\n",
      "OK: toeic-0340-short-talk-170.wav\n",
      "Detected language: English\n"
     ]
    },
    {
     "name": "stderr",
     "output_type": "stream",
     "text": [
      "100%|██████████| 20579/20579 [15:59<00:00, 21.45frames/s]\n"
     ]
    },
    {
     "name": "stdout",
     "output_type": "stream",
     "text": [
      "Error extracting advanced features: Command requires more than the given 3 arguments: no value for argument \"Interpolation\".\n",
      "OK: short-stories-0243-246-canadian-colleges-and-universities.wav\n",
      "Detected language: English\n"
     ]
    },
    {
     "name": "stderr",
     "output_type": "stream",
     "text": [
      "100%|██████████| 21190/21190 [17:04<00:00, 20.69frames/s] \n"
     ]
    },
    {
     "name": "stdout",
     "output_type": "stream",
     "text": [
      "Error extracting advanced features: Command requires more than the given 3 arguments: no value for argument \"Interpolation\".\n",
      "OK: short-stories-0199-200-charles-dickens.wav\n",
      "Detected language: English\n"
     ]
    },
    {
     "name": "stderr",
     "output_type": "stream",
     "text": [
      "100%|██████████| 6806/6806 [00:18<00:00, 376.67frames/s]\n"
     ]
    },
    {
     "name": "stdout",
     "output_type": "stream",
     "text": [
      "Error extracting advanced features: Command requires more than the given 3 arguments: no value for argument \"Interpolation\".\n",
      "OK: short-stories-0001-1-first-snowfall.wav\n",
      "Detected language: English\n"
     ]
    },
    {
     "name": "stderr",
     "output_type": "stream",
     "text": [
      "100%|██████████| 22999/22999 [16:11<00:00, 23.68frames/s]\n"
     ]
    },
    {
     "name": "stdout",
     "output_type": "stream",
     "text": [
      "Error extracting advanced features: Command requires more than the given 3 arguments: no value for argument \"Interpolation\".\n",
      "OK: short-stories-0281-285-the-story-of-anne-frank.wav\n",
      "Detected language: English\n"
     ]
    },
    {
     "name": "stderr",
     "output_type": "stream",
     "text": [
      "100%|██████████| 9315/9315 [15:31<00:00, 10.00frames/s] \n"
     ]
    },
    {
     "name": "stdout",
     "output_type": "stream",
     "text": [
      "Error extracting advanced features: Command requires more than the given 3 arguments: no value for argument \"Interpolation\".\n",
      "OK: short-stories-0118-119-the-future.wav\n",
      "Detected language: English\n"
     ]
    },
    {
     "name": "stderr",
     "output_type": "stream",
     "text": [
      "100%|██████████| 9524/9524 [00:29<00:00, 318.72frames/s]\n"
     ]
    },
    {
     "name": "stdout",
     "output_type": "stream",
     "text": [
      "Error extracting advanced features: Command requires more than the given 3 arguments: no value for argument \"Interpolation\".\n",
      "OK: short-stories-0105-105-if-i-could-fly.wav\n",
      "Detected language: English\n"
     ]
    },
    {
     "name": "stderr",
     "output_type": "stream",
     "text": [
      "100%|██████████| 17044/17044 [01:00<00:00, 282.41frames/s]\n"
     ]
    },
    {
     "name": "stdout",
     "output_type": "stream",
     "text": [
      "Error extracting advanced features: Command requires more than the given 3 arguments: no value for argument \"Interpolation\".\n",
      "OK: short-stories-0172-173-the-history-of-the-english-language.wav\n",
      "Detected language: English\n"
     ]
    },
    {
     "name": "stderr",
     "output_type": "stream",
     "text": [
      "100%|██████████| 10770/10770 [00:43<00:00, 249.98frames/s]\n"
     ]
    },
    {
     "name": "stdout",
     "output_type": "stream",
     "text": [
      "Error extracting advanced features: Command requires more than the given 3 arguments: no value for argument \"Interpolation\".\n",
      "OK: short-stories-0101-101-the-bedroom.wav\n",
      "Detected language: English\n"
     ]
    },
    {
     "name": "stderr",
     "output_type": "stream",
     "text": [
      "100%|██████████| 25090/25090 [02:17<00:00, 182.66frames/s]\n"
     ]
    },
    {
     "name": "stdout",
     "output_type": "stream",
     "text": [
      "Error extracting advanced features: Command requires more than the given 3 arguments: no value for argument \"Interpolation\".\n",
      "OK: short-stories-0218-220-come-to-the-fair.wav\n",
      "Detected language: English\n"
     ]
    },
    {
     "name": "stderr",
     "output_type": "stream",
     "text": [
      "100%|██████████| 25744/25744 [18:42<00:00, 22.94frames/s] \n"
     ]
    },
    {
     "name": "stdout",
     "output_type": "stream",
     "text": [
      "Error extracting advanced features: Command requires more than the given 3 arguments: no value for argument \"Interpolation\".\n",
      "OK: ielts-listening-0294-ielts-recent-actual-test-6-part-2.wav\n",
      "Detected language: English\n"
     ]
    },
    {
     "name": "stderr",
     "output_type": "stream",
     "text": [
      "100%|██████████| 18962/18962 [00:52<00:00, 363.44frames/s]\n"
     ]
    },
    {
     "name": "stdout",
     "output_type": "stream",
     "text": [
      "Error extracting advanced features: Command requires more than the given 3 arguments: no value for argument \"Interpolation\".\n",
      "OK: short-stories-0246-249-favorite-cookies.wav\n",
      "Detected language: English\n"
     ]
    },
    {
     "name": "stderr",
     "output_type": "stream",
     "text": [
      "100%|██████████| 3821/3821 [00:12<00:00, 296.72frames/s]\n"
     ]
    },
    {
     "name": "stdout",
     "output_type": "stream",
     "text": [
      "Error extracting advanced features: Command requires more than the given 3 arguments: no value for argument \"Interpolation\".\n",
      "OK: toeic-0438-short-talk-218.wav\n",
      "Detected language: English\n"
     ]
    },
    {
     "name": "stderr",
     "output_type": "stream",
     "text": [
      "100%|██████████| 3346/3346 [00:13<00:00, 245.69frames/s]\n"
     ]
    },
    {
     "name": "stdout",
     "output_type": "stream",
     "text": [
      "Error extracting advanced features: Command requires more than the given 3 arguments: no value for argument \"Interpolation\".\n",
      "OK: toeic-0060-short-talk-30.wav\n",
      "Detected language: English\n"
     ]
    },
    {
     "name": "stderr",
     "output_type": "stream",
     "text": [
      "100%|██████████| 3845/3845 [00:13<00:00, 294.75frames/s]\n"
     ]
    },
    {
     "name": "stdout",
     "output_type": "stream",
     "text": [
      "Error extracting advanced features: Command requires more than the given 3 arguments: no value for argument \"Interpolation\".\n",
      "OK: toeic-0311-short-talk-151.wav\n",
      "Detected language: English\n"
     ]
    },
    {
     "name": "stderr",
     "output_type": "stream",
     "text": [
      "100%|██████████| 36910/36910 [01:47<00:00, 344.53frames/s]\n"
     ]
    },
    {
     "name": "stdout",
     "output_type": "stream",
     "text": [
      "Error extracting advanced features: Command requires more than the given 3 arguments: no value for argument \"Interpolation\".\n",
      "OK: ielts-listening-0234-cam5-test-3-part-2.wav\n",
      "Detected language: English\n"
     ]
    },
    {
     "name": "stderr",
     "output_type": "stream",
     "text": [
      "100%|██████████| 24565/24565 [01:10<00:00, 348.10frames/s]\n"
     ]
    },
    {
     "name": "stdout",
     "output_type": "stream",
     "text": [
      "Error extracting advanced features: Command requires more than the given 3 arguments: no value for argument \"Interpolation\".\n",
      "OK: ielts-listening-0106-cam13-test-3-part-2.wav\n",
      "Detected language: English\n"
     ]
    },
    {
     "name": "stderr",
     "output_type": "stream",
     "text": [
      "100%|██████████| 29684/29684 [01:18<00:00, 380.51frames/s]\n"
     ]
    },
    {
     "name": "stdout",
     "output_type": "stream",
     "text": [
      "Error extracting advanced features: Command requires more than the given 3 arguments: no value for argument \"Interpolation\".\n",
      "OK: ielts-listening-0028-cam18-test-3-part-4.wav\n",
      "Detected language: English\n"
     ]
    },
    {
     "name": "stderr",
     "output_type": "stream",
     "text": [
      "100%|██████████| 27532/27532 [01:03<00:00, 436.77frames/s]\n"
     ]
    },
    {
     "name": "stdout",
     "output_type": "stream",
     "text": [
      "Error extracting advanced features: Command requires more than the given 3 arguments: no value for argument \"Interpolation\".\n",
      "OK: kavinda_hci_audio.wav\n",
      "Detected language: English\n"
     ]
    },
    {
     "name": "stderr",
     "output_type": "stream",
     "text": [
      "100%|██████████| 3824/3824 [00:13<00:00, 285.54frames/s]\n"
     ]
    },
    {
     "name": "stdout",
     "output_type": "stream",
     "text": [
      "Error extracting advanced features: Command requires more than the given 3 arguments: no value for argument \"Interpolation\".\n",
      "OK: toeic-0479-short-talk-239.wav\n",
      "Detected language: English\n"
     ]
    },
    {
     "name": "stderr",
     "output_type": "stream",
     "text": [
      "100%|██████████| 21991/21991 [01:00<00:00, 361.09frames/s]\n"
     ]
    },
    {
     "name": "stdout",
     "output_type": "stream",
     "text": [
      "Error extracting advanced features: Command requires more than the given 3 arguments: no value for argument \"Interpolation\".\n",
      "OK: ielts-listening-0208-cam7-test-4-part-4.wav\n",
      "Detected language: English\n"
     ]
    },
    {
     "name": "stderr",
     "output_type": "stream",
     "text": [
      "100%|██████████| 24173/24173 [01:09<00:00, 348.37frames/s]\n"
     ]
    },
    {
     "name": "stdout",
     "output_type": "stream",
     "text": [
      "Error extracting advanced features: Command requires more than the given 3 arguments: no value for argument \"Interpolation\".\n",
      "OK: ielts-listening-0206-cam7-test-4-part-2.wav\n",
      "Detected language: English\n"
     ]
    },
    {
     "name": "stderr",
     "output_type": "stream",
     "text": [
      "100%|██████████| 5296/5296 [00:13<00:00, 392.04frames/s]\n"
     ]
    },
    {
     "name": "stdout",
     "output_type": "stream",
     "text": [
      "Error extracting advanced features: Command requires more than the given 3 arguments: no value for argument \"Interpolation\".\n",
      "OK: AUDIO-2025-04-03-22-17-35.wav\n",
      "Detected language: English\n"
     ]
    },
    {
     "name": "stderr",
     "output_type": "stream",
     "text": [
      "100%|██████████| 10846/10846 [00:32<00:00, 334.73frames/s]\n"
     ]
    },
    {
     "name": "stdout",
     "output_type": "stream",
     "text": [
      "Error extracting advanced features: Command requires more than the given 3 arguments: no value for argument \"Interpolation\".\n",
      "OK: short-stories-0095-95-making-friends.wav\n",
      "Detected language: English\n"
     ]
    },
    {
     "name": "stderr",
     "output_type": "stream",
     "text": [
      "100%|██████████| 2212/2212 [00:06<00:00, 358.17frames/s]\n"
     ]
    },
    {
     "name": "stdout",
     "output_type": "stream",
     "text": [
      "Error extracting advanced features: Command requires more than the given 3 arguments: no value for argument \"Interpolation\".\n",
      "OK: AUDIO-2025-04-03-22-17-25.wav\n",
      "Detected language: English\n"
     ]
    },
    {
     "name": "stderr",
     "output_type": "stream",
     "text": [
      "100%|██████████| 4973/4973 [00:16<00:00, 296.64frames/s]\n"
     ]
    },
    {
     "name": "stdout",
     "output_type": "stream",
     "text": [
      "Error extracting advanced features: Command requires more than the given 3 arguments: no value for argument \"Interpolation\".\n",
      "OK: toeic-0583-short-talk-292.wav\n",
      "Detected language: English\n"
     ]
    },
    {
     "name": "stderr",
     "output_type": "stream",
     "text": [
      "100%|██████████| 3621/3621 [00:15<00:00, 230.16frames/s]\n"
     ]
    },
    {
     "name": "stdout",
     "output_type": "stream",
     "text": [
      "Error extracting advanced features: Command requires more than the given 3 arguments: no value for argument \"Interpolation\".\n",
      "OK: toeic-0213-short-talk-103.wav\n",
      "Detected language: English\n"
     ]
    },
    {
     "name": "stderr",
     "output_type": "stream",
     "text": [
      "100%|██████████| 6366/6366 [00:19<00:00, 325.87frames/s]\n"
     ]
    },
    {
     "name": "stdout",
     "output_type": "stream",
     "text": [
      "Error extracting advanced features: Command requires more than the given 3 arguments: no value for argument \"Interpolation\".\n",
      "OK: short-stories-0012-12-cleaning-up-leaves.wav\n",
      "Detected language: English\n"
     ]
    },
    {
     "name": "stderr",
     "output_type": "stream",
     "text": [
      "100%|██████████| 4608/4608 [00:13<00:00, 332.61frames/s]\n"
     ]
    },
    {
     "name": "stdout",
     "output_type": "stream",
     "text": [
      "Error extracting advanced features: Command requires more than the given 3 arguments: no value for argument \"Interpolation\".\n",
      "OK: toeic-0538-short-talk-268.wav\n",
      "Detected language: English\n"
     ]
    },
    {
     "name": "stderr",
     "output_type": "stream",
     "text": [
      "100%|██████████| 4412/4412 [00:14<00:00, 306.98frames/s]\n"
     ]
    },
    {
     "name": "stdout",
     "output_type": "stream",
     "text": [
      "Error extracting advanced features: Command requires more than the given 3 arguments: no value for argument \"Interpolation\".\n",
      "OK: toeic-0519-short-talk-259.wav\n",
      "Detected language: English\n"
     ]
    },
    {
     "name": "stderr",
     "output_type": "stream",
     "text": [
      "100%|██████████| 27836/27836 [01:17<00:00, 358.73frames/s]\n"
     ]
    },
    {
     "name": "stdout",
     "output_type": "stream",
     "text": [
      "Error extracting advanced features: Command requires more than the given 3 arguments: no value for argument \"Interpolation\".\n",
      "OK: ielts-listening-0058-cam16-test-3-part-2.wav\n",
      "Detected language: English\n"
     ]
    },
    {
     "name": "stderr",
     "output_type": "stream",
     "text": [
      "100%|██████████| 18152/18152 [00:53<00:00, 337.79frames/s]\n"
     ]
    },
    {
     "name": "stdout",
     "output_type": "stream",
     "text": [
      "Error extracting advanced features: Command requires more than the given 3 arguments: no value for argument \"Interpolation\".\n",
      "OK: short-stories-0265-268-gambling.wav\n",
      "Detected language: English\n"
     ]
    },
    {
     "name": "stderr",
     "output_type": "stream",
     "text": [
      "100%|██████████| 4814/4814 [00:13<00:00, 349.03frames/s]\n"
     ]
    },
    {
     "name": "stdout",
     "output_type": "stream",
     "text": [
      "Error extracting advanced features: Command requires more than the given 3 arguments: no value for argument \"Interpolation\".\n",
      "OK: toeic-0017-short-talk-7.wav\n",
      "Detected language: English\n"
     ]
    },
    {
     "name": "stderr",
     "output_type": "stream",
     "text": [
      "100%|██████████| 13372/13372 [00:37<00:00, 355.92frames/s]\n"
     ]
    },
    {
     "name": "stdout",
     "output_type": "stream",
     "text": [
      "Error extracting advanced features: Command requires more than the given 3 arguments: no value for argument \"Interpolation\".\n",
      "OK: short-stories-0163-164-a-ghost.wav\n",
      "Detected language: English\n"
     ]
    },
    {
     "name": "stderr",
     "output_type": "stream",
     "text": [
      "100%|██████████| 3968/3968 [00:13<00:00, 298.19frames/s]\n"
     ]
    },
    {
     "name": "stdout",
     "output_type": "stream",
     "text": [
      "Error extracting advanced features: Command requires more than the given 3 arguments: no value for argument \"Interpolation\".\n",
      "OK: toeic-0496-short-talk-246.wav\n",
      "Detected language: English\n"
     ]
    },
    {
     "name": "stderr",
     "output_type": "stream",
     "text": [
      "100%|██████████| 2336/2336 [00:06<00:00, 359.29frames/s]\n"
     ]
    },
    {
     "name": "stdout",
     "output_type": "stream",
     "text": [
      "Error extracting advanced features: Command requires more than the given 3 arguments: no value for argument \"Interpolation\".\n",
      "OK: kaveen_hci_audio_01.wav\n",
      "Detected language: English\n"
     ]
    },
    {
     "name": "stderr",
     "output_type": "stream",
     "text": [
      "100%|██████████| 32068/32068 [01:30<00:00, 353.15frames/s]\n"
     ]
    },
    {
     "name": "stdout",
     "output_type": "stream",
     "text": [
      "Error extracting advanced features: Command requires more than the given 3 arguments: no value for argument \"Interpolation\".\n",
      "OK: ielts-listening-0327-ielts-recent-actual-test-34-part-3.wav\n",
      "Detected language: English\n"
     ]
    },
    {
     "name": "stderr",
     "output_type": "stream",
     "text": [
      "100%|██████████| 16185/16185 [00:49<00:00, 327.11frames/s]\n"
     ]
    },
    {
     "name": "stdout",
     "output_type": "stream",
     "text": [
      "Error extracting advanced features: Command requires more than the given 3 arguments: no value for argument \"Interpolation\".\n",
      "OK: short-stories-0140-141-more-music.wav\n",
      "Detected language: English\n"
     ]
    },
    {
     "name": "stderr",
     "output_type": "stream",
     "text": [
      "100%|██████████| 20395/20395 [00:52<00:00, 389.84frames/s]\n"
     ]
    },
    {
     "name": "stdout",
     "output_type": "stream",
     "text": [
      "Error extracting advanced features: Command requires more than the given 3 arguments: no value for argument \"Interpolation\".\n",
      "OK: dileeka_heshani_interview.wav\n",
      "Detected language: English\n"
     ]
    },
    {
     "name": "stderr",
     "output_type": "stream",
     "text": [
      "100%|██████████| 8555/8555 [00:27<00:00, 311.89frames/s]\n"
     ]
    },
    {
     "name": "stdout",
     "output_type": "stream",
     "text": [
      "Error extracting advanced features: Command requires more than the given 3 arguments: no value for argument \"Interpolation\".\n",
      "OK: short-stories-0019-19-housework.wav\n",
      "Detected language: English\n"
     ]
    },
    {
     "name": "stderr",
     "output_type": "stream",
     "text": [
      "100%|██████████| 4785/4785 [00:14<00:00, 321.85frames/s]\n"
     ]
    },
    {
     "name": "stdout",
     "output_type": "stream",
     "text": [
      "Error extracting advanced features: Command requires more than the given 3 arguments: no value for argument \"Interpolation\".\n",
      "OK: toeic-0252-short-talk-122.wav\n",
      "Detected language: English\n"
     ]
    },
    {
     "name": "stderr",
     "output_type": "stream",
     "text": [
      "100%|██████████| 25513/25513 [01:17<00:00, 330.04frames/s]\n"
     ]
    },
    {
     "name": "stdout",
     "output_type": "stream",
     "text": [
      "Error extracting advanced features: Command requires more than the given 3 arguments: no value for argument \"Interpolation\".\n",
      "OK: short-stories-0269-272-john-chapman-american-pioneer.wav\n",
      "Detected language: English\n"
     ]
    },
    {
     "name": "stderr",
     "output_type": "stream",
     "text": [
      "100%|██████████| 3362/3362 [00:13<00:00, 255.18frames/s]\n"
     ]
    },
    {
     "name": "stdout",
     "output_type": "stream",
     "text": [
      "Error extracting advanced features: Command requires more than the given 3 arguments: no value for argument \"Interpolation\".\n",
      "OK: toeic-0372-short-talk-182.wav\n",
      "Detected language: English\n"
     ]
    },
    {
     "name": "stderr",
     "output_type": "stream",
     "text": [
      "100%|██████████| 4890/4890 [00:14<00:00, 328.55frames/s]\n"
     ]
    },
    {
     "name": "stdout",
     "output_type": "stream",
     "text": [
      "Error extracting advanced features: Command requires more than the given 3 arguments: no value for argument \"Interpolation\".\n",
      "OK: toeic-0558-short-talk-278.wav\n",
      "Detected language: English\n"
     ]
    },
    {
     "name": "stderr",
     "output_type": "stream",
     "text": [
      "100%|██████████| 10540/10540 [00:28<00:00, 376.31frames/s]\n"
     ]
    },
    {
     "name": "stdout",
     "output_type": "stream",
     "text": [
      "Error extracting advanced features: Command requires more than the given 3 arguments: no value for argument \"Interpolation\".\n",
      "OK: short-stories-0021-21-daily-schedule.wav\n",
      "Detected language: English\n"
     ]
    },
    {
     "name": "stderr",
     "output_type": "stream",
     "text": [
      "100%|██████████| 11499/11499 [00:32<00:00, 357.88frames/s]\n"
     ]
    },
    {
     "name": "stdout",
     "output_type": "stream",
     "text": [
      "Error extracting advanced features: Command requires more than the given 3 arguments: no value for argument \"Interpolation\".\n",
      "OK: short-stories-0070-70-vacation.wav\n",
      "Detected language: English\n"
     ]
    },
    {
     "name": "stderr",
     "output_type": "stream",
     "text": [
      "100%|██████████| 3850/3850 [00:13<00:00, 284.07frames/s]\n"
     ]
    },
    {
     "name": "stdout",
     "output_type": "stream",
     "text": [
      "Error extracting advanced features: Command requires more than the given 3 arguments: no value for argument \"Interpolation\".\n",
      "OK: toeic-0271-short-talk-131.wav\n",
      "Detected language: English\n"
     ]
    },
    {
     "name": "stderr",
     "output_type": "stream",
     "text": [
      "100%|██████████| 37992/37992 [01:54<00:00, 331.26frames/s]\n"
     ]
    },
    {
     "name": "stdout",
     "output_type": "stream",
     "text": [
      "Error extracting advanced features: Command requires more than the given 3 arguments: no value for argument \"Interpolation\".\n",
      "OK: ielts-listening-0314-ielts-recent-actual-test-31-part-2.wav\n",
      "Detected language: English\n"
     ]
    },
    {
     "name": "stderr",
     "output_type": "stream",
     "text": [
      "100%|██████████| 4313/4313 [00:13<00:00, 319.22frames/s]\n"
     ]
    },
    {
     "name": "stdout",
     "output_type": "stream",
     "text": [
      "Error extracting advanced features: Command requires more than the given 3 arguments: no value for argument \"Interpolation\".\n",
      "OK: toeic-0013-short-talk-3.wav\n",
      "Detected language: English\n"
     ]
    },
    {
     "name": "stderr",
     "output_type": "stream",
     "text": [
      "100%|██████████| 2231/2231 [00:06<00:00, 353.70frames/s]\n"
     ]
    },
    {
     "name": "stdout",
     "output_type": "stream",
     "text": [
      "Error extracting advanced features: Command requires more than the given 3 arguments: no value for argument \"Interpolation\".\n",
      "OK: AUDIO-2025-04-03-22-17-34 2.wav\n",
      "Detected language: English\n"
     ]
    },
    {
     "name": "stderr",
     "output_type": "stream",
     "text": [
      "100%|██████████| 4550/4550 [00:14<00:00, 317.07frames/s]\n"
     ]
    },
    {
     "name": "stdout",
     "output_type": "stream",
     "text": [
      "Error extracting advanced features: Command requires more than the given 3 arguments: no value for argument \"Interpolation\".\n",
      "OK: toeic-0437-short-talk-217.wav\n",
      "Detected language: English\n"
     ]
    },
    {
     "name": "stderr",
     "output_type": "stream",
     "text": [
      "100%|██████████| 10639/10639 [00:32<00:00, 323.49frames/s]\n"
     ]
    },
    {
     "name": "stdout",
     "output_type": "stream",
     "text": [
      "Error extracting advanced features: Command requires more than the given 3 arguments: no value for argument \"Interpolation\".\n",
      "OK: short-stories-0119-120-giving-a-speech.wav\n",
      "Detected language: English\n"
     ]
    },
    {
     "name": "stderr",
     "output_type": "stream",
     "text": [
      "100%|██████████| 10062/10062 [00:27<00:00, 371.15frames/s]\n"
     ]
    },
    {
     "name": "stdout",
     "output_type": "stream",
     "text": [
      "Error extracting advanced features: Command requires more than the given 3 arguments: no value for argument \"Interpolation\".\n",
      "OK: short-stories-0043-43-months.wav\n",
      "Detected language: English\n"
     ]
    },
    {
     "name": "stderr",
     "output_type": "stream",
     "text": [
      "100%|██████████| 28977/28977 [01:19<00:00, 363.15frames/s]\n"
     ]
    },
    {
     "name": "stdout",
     "output_type": "stream",
     "text": [
      "Error extracting advanced features: Command requires more than the given 3 arguments: no value for argument \"Interpolation\".\n",
      "OK: ielts-listening-0172-cam9-test-3-part-4.wav\n",
      "Detected language: English\n"
     ]
    },
    {
     "name": "stderr",
     "output_type": "stream",
     "text": [
      "100%|██████████| 4330/4330 [00:14<00:00, 294.49frames/s]\n"
     ]
    },
    {
     "name": "stdout",
     "output_type": "stream",
     "text": [
      "Error extracting advanced features: Command requires more than the given 3 arguments: no value for argument \"Interpolation\".\n",
      "OK: toeic-0220-short-talk-110.wav\n",
      "Detected language: English\n"
     ]
    },
    {
     "name": "stderr",
     "output_type": "stream",
     "text": [
      "100%|██████████| 3273/3273 [00:12<00:00, 258.75frames/s]\n"
     ]
    },
    {
     "name": "stdout",
     "output_type": "stream",
     "text": [
      "Error extracting advanced features: Command requires more than the given 3 arguments: no value for argument \"Interpolation\".\n",
      "OK: toeic-0291-short-talk-141.wav\n",
      "Detected language: English\n"
     ]
    },
    {
     "name": "stderr",
     "output_type": "stream",
     "text": [
      "100%|██████████| 5237/5237 [00:14<00:00, 363.73frames/s]\n"
     ]
    },
    {
     "name": "stdout",
     "output_type": "stream",
     "text": [
      "Error extracting advanced features: Command requires more than the given 3 arguments: no value for argument \"Interpolation\".\n",
      "OK: toeic-0059-short-talk-29.wav\n",
      "Detected language: English\n"
     ]
    },
    {
     "name": "stderr",
     "output_type": "stream",
     "text": [
      "100%|██████████| 17170/17170 [00:48<00:00, 352.51frames/s]\n"
     ]
    },
    {
     "name": "stdout",
     "output_type": "stream",
     "text": [
      "Error extracting advanced features: Command requires more than the given 3 arguments: no value for argument \"Interpolation\".\n",
      "OK: short-stories-0201-202-the-islands-of-the-caribbean.wav\n",
      "Detected language: English\n"
     ]
    },
    {
     "name": "stderr",
     "output_type": "stream",
     "text": [
      "100%|██████████| 3228/3228 [00:13<00:00, 242.23frames/s]\n"
     ]
    },
    {
     "name": "stdout",
     "output_type": "stream",
     "text": [
      "Error extracting advanced features: Command requires more than the given 3 arguments: no value for argument \"Interpolation\".\n",
      "OK: toeic-0414-short-talk-204.wav\n",
      "Detected language: English\n"
     ]
    },
    {
     "name": "stderr",
     "output_type": "stream",
     "text": [
      "100%|██████████| 3641/3641 [00:12<00:00, 281.43frames/s]\n"
     ]
    },
    {
     "name": "stdout",
     "output_type": "stream",
     "text": [
      "Error extracting advanced features: Command requires more than the given 3 arguments: no value for argument \"Interpolation\".\n",
      "OK: toeic-0476-short-talk-236.wav\n",
      "Detected language: English\n"
     ]
    },
    {
     "name": "stderr",
     "output_type": "stream",
     "text": [
      "100%|██████████| 15043/15043 [00:46<00:00, 323.03frames/s]\n"
     ]
    },
    {
     "name": "stdout",
     "output_type": "stream",
     "text": [
      "Error extracting advanced features: Command requires more than the given 3 arguments: no value for argument \"Interpolation\".\n",
      "OK: short-stories-0213-215-bjorn-borg.wav\n",
      "Detected language: English\n"
     ]
    },
    {
     "name": "stderr",
     "output_type": "stream",
     "text": [
      "100%|██████████| 25849/25849 [01:13<00:00, 352.72frames/s]\n"
     ]
    },
    {
     "name": "stdout",
     "output_type": "stream",
     "text": [
      "Error extracting advanced features: Command requires more than the given 3 arguments: no value for argument \"Interpolation\".\n",
      "OK: ielts-listening-0090-cam14-test-3-part-2.wav\n",
      "Detected language: English\n"
     ]
    },
    {
     "name": "stderr",
     "output_type": "stream",
     "text": [
      "100%|██████████| 12264/12264 [00:33<00:00, 366.38frames/s]\n"
     ]
    },
    {
     "name": "stdout",
     "output_type": "stream",
     "text": [
      "Error extracting advanced features: Command requires more than the given 3 arguments: no value for argument \"Interpolation\".\n",
      "OK: short-stories-0110-110-my-favorite-bedtime-story.wav\n",
      "Detected language: English\n"
     ]
    },
    {
     "name": "stderr",
     "output_type": "stream",
     "text": [
      "100%|██████████| 14828/14828 [00:39<00:00, 371.21frames/s]\n"
     ]
    },
    {
     "name": "stdout",
     "output_type": "stream",
     "text": [
      "Error extracting advanced features: Command requires more than the given 3 arguments: no value for argument \"Interpolation\".\n",
      "OK: ishara_hci_audio.wav\n",
      "Detected language: English\n"
     ]
    },
    {
     "name": "stderr",
     "output_type": "stream",
     "text": [
      "100%|██████████| 19717/19717 [00:57<00:00, 343.67frames/s]\n"
     ]
    },
    {
     "name": "stdout",
     "output_type": "stream",
     "text": [
      "Error extracting advanced features: Command requires more than the given 3 arguments: no value for argument \"Interpolation\".\n",
      "OK: short-stories-0229-231-plains-indians.wav\n",
      "Detected language: English\n"
     ]
    },
    {
     "name": "stderr",
     "output_type": "stream",
     "text": [
      "100%|██████████| 7175/7175 [00:23<00:00, 310.21frames/s]\n"
     ]
    },
    {
     "name": "stdout",
     "output_type": "stream",
     "text": [
      "Error extracting advanced features: Command requires more than the given 3 arguments: no value for argument \"Interpolation\".\n",
      "OK: short-stories-0062-62-manners.wav\n",
      "Detected language: English\n"
     ]
    },
    {
     "name": "stderr",
     "output_type": "stream",
     "text": [
      "100%|██████████| 3497/3497 [00:12<00:00, 278.72frames/s]\n"
     ]
    },
    {
     "name": "stdout",
     "output_type": "stream",
     "text": [
      "Error extracting advanced features: Command requires more than the given 3 arguments: no value for argument \"Interpolation\".\n",
      "OK: toeic-0455-short-talk-225.wav\n",
      "Detected language: English\n"
     ]
    },
    {
     "name": "stderr",
     "output_type": "stream",
     "text": [
      "100%|██████████| 2909/2909 [00:07<00:00, 380.44frames/s]\n"
     ]
    },
    {
     "name": "stdout",
     "output_type": "stream",
     "text": [
      "Error extracting advanced features: Command requires more than the given 3 arguments: no value for argument \"Interpolation\".\n",
      "OK: toeic-0394-short-talk-194.wav\n",
      "Detected language: English\n"
     ]
    },
    {
     "name": "stderr",
     "output_type": "stream",
     "text": [
      "100%|██████████| 18596/18596 [00:50<00:00, 370.66frames/s]\n"
     ]
    },
    {
     "name": "stdout",
     "output_type": "stream",
     "text": [
      "Error extracting advanced features: Command requires more than the given 3 arguments: no value for argument \"Interpolation\".\n",
      "OK: short-stories-0144-145-the-planets-of-our-solar-system.wav\n",
      "Detected language: English\n"
     ]
    },
    {
     "name": "stderr",
     "output_type": "stream",
     "text": [
      "100%|██████████| 48005/48005 [32:16<00:00, 24.79frames/s] \n"
     ]
    },
    {
     "name": "stdout",
     "output_type": "stream",
     "text": [
      "Error extracting advanced features: Command requires more than the given 3 arguments: no value for argument \"Interpolation\".\n",
      "OK: Power_English_Update.wav\n",
      "Detected language: English\n"
     ]
    },
    {
     "name": "stderr",
     "output_type": "stream",
     "text": [
      "100%|██████████| 10383/10383 [02:56<00:00, 58.74frames/s]\n"
     ]
    },
    {
     "name": "stdout",
     "output_type": "stream",
     "text": [
      "Error extracting advanced features: Command requires more than the given 3 arguments: no value for argument \"Interpolation\".\n",
      "OK: short-stories-0045-45-describing-things.wav\n",
      "Detected language: English\n"
     ]
    },
    {
     "name": "stderr",
     "output_type": "stream",
     "text": [
      "100%|██████████| 2792/2792 [00:08<00:00, 320.99frames/s]\n"
     ]
    },
    {
     "name": "stdout",
     "output_type": "stream",
     "text": [
      "Error extracting advanced features: Command requires more than the given 3 arguments: no value for argument \"Interpolation\".\n",
      "OK: toeic-0418-short-talk-208.wav\n",
      "Detected language: English\n"
     ]
    },
    {
     "name": "stderr",
     "output_type": "stream",
     "text": [
      "100%|██████████| 3383/3383 [00:12<00:00, 268.65frames/s]\n"
     ]
    },
    {
     "name": "stdout",
     "output_type": "stream",
     "text": [
      "Error extracting advanced features: Command requires more than the given 3 arguments: no value for argument \"Interpolation\".\n",
      "OK: toeic-0312-short-talk-152.wav\n",
      "Detected language: English\n"
     ]
    },
    {
     "name": "stderr",
     "output_type": "stream",
     "text": [
      "100%|██████████| 2416/2416 [00:08<00:00, 278.92frames/s]\n"
     ]
    },
    {
     "name": "stdout",
     "output_type": "stream",
     "text": [
      "Error extracting advanced features: Command requires more than the given 3 arguments: no value for argument \"Interpolation\".\n",
      "OK: toeic-0333-short-talk-163.wav\n",
      "Detected language: English\n"
     ]
    },
    {
     "name": "stderr",
     "output_type": "stream",
     "text": [
      "100%|██████████| 12133/12133 [15:36<00:00, 12.96frames/s]\n"
     ]
    },
    {
     "name": "stdout",
     "output_type": "stream",
     "text": [
      "Error extracting advanced features: Command requires more than the given 3 arguments: no value for argument \"Interpolation\".\n",
      "OK: short-stories-0157-158-being-a-good-citizen.wav\n",
      "Detected language: English\n"
     ]
    },
    {
     "name": "stderr",
     "output_type": "stream",
     "text": [
      "100%|██████████| 6705/6705 [00:19<00:00, 346.86frames/s]\n"
     ]
    },
    {
     "name": "stdout",
     "output_type": "stream",
     "text": [
      "Error extracting advanced features: Command requires more than the given 3 arguments: no value for argument \"Interpolation\".\n",
      "OK: AUDIO-2025-04-03-22-17-32.wav\n",
      "Detected language: English\n"
     ]
    },
    {
     "name": "stderr",
     "output_type": "stream",
     "text": [
      "100%|██████████| 5775/5775 [15:17<00:00,  6.30frames/s]\n"
     ]
    },
    {
     "name": "stdout",
     "output_type": "stream",
     "text": [
      "Error extracting advanced features: Command requires more than the given 3 arguments: no value for argument \"Interpolation\".\n",
      "OK: short-stories-0063-63-the-two-sexes.wav\n",
      "Detected language: English\n"
     ]
    },
    {
     "name": "stderr",
     "output_type": "stream",
     "text": [
      "100%|██████████| 36077/36077 [16:40<00:00, 36.06frames/s] \n"
     ]
    },
    {
     "name": "stdout",
     "output_type": "stream",
     "text": [
      "Error extracting advanced features: Command requires more than the given 3 arguments: no value for argument \"Interpolation\".\n",
      "OK: ielts-listening-0048-cam17-test-4-part-4.wav\n",
      "Detected language: English\n"
     ]
    },
    {
     "name": "stderr",
     "output_type": "stream",
     "text": [
      "100%|██████████| 32128/32128 [13:33<00:00, 39.51frames/s] \n"
     ]
    },
    {
     "name": "stdout",
     "output_type": "stream",
     "text": [
      "Error extracting advanced features: Command requires more than the given 3 arguments: no value for argument \"Interpolation\".\n",
      "OK: ielts-listening-0296-ielts-recent-actual-test-6-part-4.wav\n",
      "Detected language: English\n"
     ]
    },
    {
     "name": "stderr",
     "output_type": "stream",
     "text": [
      "100%|██████████| 3383/3383 [00:16<00:00, 208.10frames/s]\n"
     ]
    },
    {
     "name": "stdout",
     "output_type": "stream",
     "text": [
      "Error extracting advanced features: Command requires more than the given 3 arguments: no value for argument \"Interpolation\".\n",
      "OK: toeic-0051-short-talk-21.wav\n",
      "Detected language: English\n"
     ]
    },
    {
     "name": "stderr",
     "output_type": "stream",
     "text": [
      "100%|██████████| 10877/10877 [00:44<00:00, 243.72frames/s]\n"
     ]
    },
    {
     "name": "stdout",
     "output_type": "stream",
     "text": [
      "Error extracting advanced features: Command requires more than the given 3 arguments: no value for argument \"Interpolation\".\n",
      "OK: short-stories-0108-108-if-i-was-tiny.wav\n",
      "Detected language: English\n"
     ]
    },
    {
     "name": "stderr",
     "output_type": "stream",
     "text": [
      "100%|██████████| 32895/32895 [16:56<00:00, 32.37frames/s] \n"
     ]
    },
    {
     "name": "stdout",
     "output_type": "stream",
     "text": [
      "Error extracting advanced features: Command requires more than the given 3 arguments: no value for argument \"Interpolation\".\n",
      "OK: ielts-listening-0044-cam17-test-3-part-4.wav\n",
      "Detected language: English\n"
     ]
    },
    {
     "name": "stderr",
     "output_type": "stream",
     "text": [
      "100%|██████████| 3484/3484 [15:15<00:00,  3.81frames/s] \n"
     ]
    },
    {
     "name": "stdout",
     "output_type": "stream",
     "text": [
      "Error extracting advanced features: Command requires more than the given 3 arguments: no value for argument \"Interpolation\".\n",
      "OK: toeic-0459-short-talk-229.wav\n",
      "Detected language: English\n"
     ]
    },
    {
     "name": "stderr",
     "output_type": "stream",
     "text": [
      "100%|██████████| 18654/18654 [00:49<00:00, 373.49frames/s]\n"
     ]
    },
    {
     "name": "stdout",
     "output_type": "stream",
     "text": [
      "Error extracting advanced features: Command requires more than the given 3 arguments: no value for argument \"Interpolation\".\n",
      "OK: short-stories-0164-165-louis-pasteur.wav\n",
      "Detected language: English\n"
     ]
    },
    {
     "name": "stderr",
     "output_type": "stream",
     "text": [
      "100%|██████████| 3812/3812 [15:14<00:00,  4.17frames/s]\n"
     ]
    },
    {
     "name": "stdout",
     "output_type": "stream",
     "text": [
      "Error extracting advanced features: Command requires more than the given 3 arguments: no value for argument \"Interpolation\".\n",
      "OK: toeic-0353-short-talk-173.wav\n",
      "Detected language: English\n"
     ]
    },
    {
     "name": "stderr",
     "output_type": "stream",
     "text": [
      "100%|██████████| 2601/2601 [00:12<00:00, 212.25frames/s]\n"
     ]
    },
    {
     "name": "stdout",
     "output_type": "stream",
     "text": [
      "Error extracting advanced features: Command requires more than the given 3 arguments: no value for argument \"Interpolation\".\n",
      "OK: toeic-0398-short-talk-198.wav\n",
      "Detected language: English\n"
     ]
    },
    {
     "name": "stderr",
     "output_type": "stream",
     "text": [
      "100%|██████████| 9273/9273 [00:29<00:00, 319.65frames/s]\n"
     ]
    },
    {
     "name": "stdout",
     "output_type": "stream",
     "text": [
      "Error extracting advanced features: Command requires more than the given 3 arguments: no value for argument \"Interpolation\".\n",
      "OK: short-stories-0069-69-my-classroom.wav\n",
      "Detected language: English\n"
     ]
    },
    {
     "name": "stderr",
     "output_type": "stream",
     "text": [
      "100%|██████████| 24025/24025 [01:32<00:00, 258.99frames/s]\n"
     ]
    },
    {
     "name": "stdout",
     "output_type": "stream",
     "text": [
      "Error extracting advanced features: Command requires more than the given 3 arguments: no value for argument \"Interpolation\".\n",
      "OK: ielts-listening-0166-cam9-test-2-part-2.wav\n",
      "Detected language: English\n"
     ]
    },
    {
     "name": "stderr",
     "output_type": "stream",
     "text": [
      "100%|██████████| 18702/18702 [01:41<00:00, 184.85frames/s]\n"
     ]
    },
    {
     "name": "stdout",
     "output_type": "stream",
     "text": [
      "Error extracting advanced features: Command requires more than the given 3 arguments: no value for argument \"Interpolation\".\n",
      "OK: ielts-listening-0262-cam3-test-2-part-2.wav\n",
      "Detected language: English\n"
     ]
    },
    {
     "name": "stderr",
     "output_type": "stream",
     "text": [
      "100%|██████████| 25366/25366 [06:35<00:00, 64.13frames/s] \n"
     ]
    },
    {
     "name": "stdout",
     "output_type": "stream",
     "text": [
      "Error extracting advanced features: Command requires more than the given 3 arguments: no value for argument \"Interpolation\".\n",
      "OK: ielts-listening-0168-cam9-test-2-part-4.wav\n",
      "Detected language: English\n"
     ]
    },
    {
     "name": "stderr",
     "output_type": "stream",
     "text": [
      "100%|██████████| 19996/19996 [16:05<00:00, 20.71frames/s] \n"
     ]
    },
    {
     "name": "stdout",
     "output_type": "stream",
     "text": [
      "Error extracting advanced features: Command requires more than the given 3 arguments: no value for argument \"Interpolation\".\n",
      "OK: short-stories-0179-180-the-origin-of-canada-and-the-united-states.wav\n",
      "Detected language: English\n"
     ]
    },
    {
     "name": "stderr",
     "output_type": "stream",
     "text": [
      "100%|██████████| 8306/8306 [00:38<00:00, 213.73frames/s]\n"
     ]
    },
    {
     "name": "stdout",
     "output_type": "stream",
     "text": [
      "Error extracting advanced features: Command requires more than the given 3 arguments: no value for argument \"Interpolation\".\n",
      "OK: short-stories-0023-23-seasons.wav\n",
      "Detected language: English\n"
     ]
    },
    {
     "name": "stderr",
     "output_type": "stream",
     "text": [
      "100%|██████████| 25620/25620 [17:40<00:00, 24.16frames/s] \n"
     ]
    },
    {
     "name": "stdout",
     "output_type": "stream",
     "text": [
      "Error extracting advanced features: Command requires more than the given 3 arguments: no value for argument \"Interpolation\".\n",
      "OK: ielts-listening-0298-ielts-recent-actual-test-7-part-2.wav\n",
      "Detected language: English\n"
     ]
    },
    {
     "name": "stderr",
     "output_type": "stream",
     "text": [
      "100%|██████████| 5164/5164 [00:16<00:00, 311.80frames/s]\n"
     ]
    },
    {
     "name": "stdout",
     "output_type": "stream",
     "text": [
      "Error extracting advanced features: Command requires more than the given 3 arguments: no value for argument \"Interpolation\".\n",
      "OK: toeic-0100-short-talk-50.wav\n",
      "Detected language: English\n"
     ]
    },
    {
     "name": "stderr",
     "output_type": "stream",
     "text": [
      "100%|██████████| 24209/24209 [02:11<00:00, 183.53frames/s]\n"
     ]
    },
    {
     "name": "stdout",
     "output_type": "stream",
     "text": [
      "Error extracting advanced features: Command requires more than the given 3 arguments: no value for argument \"Interpolation\".\n",
      "OK: ielts-listening-0203-cam7-test-3-part-3.wav\n",
      "Detected language: English\n"
     ]
    },
    {
     "name": "stderr",
     "output_type": "stream",
     "text": [
      "100%|██████████| 14654/14654 [16:19<00:00, 14.97frames/s]\n"
     ]
    },
    {
     "name": "stdout",
     "output_type": "stream",
     "text": [
      "Error extracting advanced features: Command requires more than the given 3 arguments: no value for argument \"Interpolation\".\n",
      "OK: short-stories-0146-147-snow.wav\n",
      "Detected language: Welsh\n"
     ]
    },
    {
     "name": "stderr",
     "output_type": "stream",
     "text": [
      "100%|██████████| 258660/258660 [4:40:02<00:00, 15.39frames/s]  \n"
     ]
    },
    {
     "name": "stdout",
     "output_type": "stream",
     "text": [
      "Error extracting advanced features: Command requires more than the given 3 arguments: no value for argument \"Interpolation\".\n",
      "OK: Lecture 4 Audio.wav\n",
      "Detected language: English\n"
     ]
    },
    {
     "name": "stderr",
     "output_type": "stream",
     "text": [
      "100%|██████████| 23906/23906 [01:18<00:00, 304.71frames/s]\n"
     ]
    },
    {
     "name": "stdout",
     "output_type": "stream",
     "text": [
      "Error extracting advanced features: Command requires more than the given 3 arguments: no value for argument \"Interpolation\".\n",
      "OK: ielts-listening-0240-cam5-test-4-part-4.wav\n",
      "Detected language: English\n"
     ]
    },
    {
     "name": "stderr",
     "output_type": "stream",
     "text": [
      "100%|██████████| 23740/23740 [01:48<00:00, 219.13frames/s]\n"
     ]
    },
    {
     "name": "stdout",
     "output_type": "stream",
     "text": [
      "Error extracting advanced features: Command requires more than the given 3 arguments: no value for argument \"Interpolation\".\n",
      "OK: short-stories-0289-292-colonial-williamsburg.wav\n",
      "Detected language: English\n"
     ]
    },
    {
     "name": "stderr",
     "output_type": "stream",
     "text": [
      "100%|██████████| 18204/18204 [01:35<00:00, 190.69frames/s]\n"
     ]
    },
    {
     "name": "stdout",
     "output_type": "stream",
     "text": [
      "Error extracting advanced features: Command requires more than the given 3 arguments: no value for argument \"Interpolation\".\n",
      "OK: short-stories-0169-170-william-shakespeare.wav\n",
      "Detected language: English\n"
     ]
    },
    {
     "name": "stderr",
     "output_type": "stream",
     "text": [
      "100%|██████████| 21276/21276 [17:51<00:00, 19.85frames/s] \n"
     ]
    },
    {
     "name": "stdout",
     "output_type": "stream",
     "text": [
      "Error extracting advanced features: Command requires more than the given 3 arguments: no value for argument \"Interpolation\".\n",
      "OK: nethmini_audio.wav\n",
      "Detected language: English\n"
     ]
    },
    {
     "name": "stderr",
     "output_type": "stream",
     "text": [
      "100%|██████████| 5013/5013 [00:12<00:00, 388.33frames/s]\n"
     ]
    },
    {
     "name": "stdout",
     "output_type": "stream",
     "text": [
      "Error extracting advanced features: Command requires more than the given 3 arguments: no value for argument \"Interpolation\".\n",
      "OK: AUDIO-2025-04-03-22-17-36 2.wav\n",
      "Detected language: English\n"
     ]
    },
    {
     "name": "stderr",
     "output_type": "stream",
     "text": [
      "100%|██████████| 34340/34340 [01:57<00:00, 291.22frames/s]\n"
     ]
    },
    {
     "name": "stdout",
     "output_type": "stream",
     "text": [
      "Error extracting advanced features: Command requires more than the given 3 arguments: no value for argument \"Interpolation\".\n",
      "OK: ielts-listening-0156-cam10-test-3-part-4.wav\n",
      "Detected language: English\n"
     ]
    },
    {
     "name": "stderr",
     "output_type": "stream",
     "text": [
      "100%|██████████| 39580/39580 [06:02<00:00, 109.19frames/s]\n"
     ]
    },
    {
     "name": "stdout",
     "output_type": "stream",
     "text": [
      "Error extracting advanced features: Command requires more than the given 3 arguments: no value for argument \"Interpolation\".\n",
      "OK: ielts-listening-0116-cam12-test-1-part-4.wav\n",
      "Detected language: English\n"
     ]
    },
    {
     "name": "stderr",
     "output_type": "stream",
     "text": [
      "100%|██████████| 3790/3790 [00:13<00:00, 291.44frames/s]\n"
     ]
    },
    {
     "name": "stdout",
     "output_type": "stream",
     "text": [
      "Error extracting advanced features: Command requires more than the given 3 arguments: no value for argument \"Interpolation\".\n",
      "OK: toeic-0515-short-talk-255.wav\n",
      "Detected language: English\n"
     ]
    },
    {
     "name": "stderr",
     "output_type": "stream",
     "text": [
      "100%|██████████| 3782/3782 [00:13<00:00, 277.62frames/s]\n"
     ]
    },
    {
     "name": "stdout",
     "output_type": "stream",
     "text": [
      "Error extracting advanced features: Command requires more than the given 3 arguments: no value for argument \"Interpolation\".\n",
      "OK: toeic-0534-short-talk-264.wav\n",
      "Detected language: English\n"
     ]
    },
    {
     "name": "stderr",
     "output_type": "stream",
     "text": [
      "100%|██████████| 25449/25449 [01:18<00:00, 325.27frames/s]\n"
     ]
    },
    {
     "name": "stdout",
     "output_type": "stream",
     "text": [
      "Error extracting advanced features: Command requires more than the given 3 arguments: no value for argument \"Interpolation\".\n",
      "OK: ielts-listening-0194-cam7-test-1-part-2.wav\n",
      "Detected language: English\n"
     ]
    },
    {
     "name": "stderr",
     "output_type": "stream",
     "text": [
      "100%|██████████| 23144/23144 [01:11<00:00, 324.04frames/s]\n"
     ]
    },
    {
     "name": "stdout",
     "output_type": "stream",
     "text": [
      "Error extracting advanced features: Command requires more than the given 3 arguments: no value for argument \"Interpolation\".\n",
      "OK: short-stories-0251-254-potato-chips-and-corn-chips.wav\n",
      "Detected language: English\n"
     ]
    },
    {
     "name": "stderr",
     "output_type": "stream",
     "text": [
      "100%|██████████| 13312/13312 [00:36<00:00, 369.23frames/s]\n"
     ]
    },
    {
     "name": "stdout",
     "output_type": "stream",
     "text": [
      "Error extracting advanced features: Command requires more than the given 3 arguments: no value for argument \"Interpolation\".\n",
      "OK: short-stories-0150-151-easter.wav\n",
      "Detected language: English\n"
     ]
    },
    {
     "name": "stderr",
     "output_type": "stream",
     "text": [
      "100%|██████████| 24558/24558 [01:15<00:00, 325.32frames/s]\n"
     ]
    },
    {
     "name": "stdout",
     "output_type": "stream",
     "text": [
      "Error extracting advanced features: Command requires more than the given 3 arguments: no value for argument \"Interpolation\".\n",
      "OK: ielts-listening-0146-cam10-test-1-part-2.wav\n",
      "Detected language: English\n"
     ]
    },
    {
     "name": "stderr",
     "output_type": "stream",
     "text": [
      "100%|██████████| 7016/7016 [00:19<00:00, 353.45frames/s]\n"
     ]
    },
    {
     "name": "stdout",
     "output_type": "stream",
     "text": [
      "Error extracting advanced features: Command requires more than the given 3 arguments: no value for argument \"Interpolation\".\n",
      "OK: short-stories-0005-5-my-house.wav\n",
      "Detected language: English\n"
     ]
    },
    {
     "name": "stderr",
     "output_type": "stream",
     "text": [
      "100%|██████████| 3262/3262 [00:13<00:00, 239.43frames/s]\n"
     ]
    },
    {
     "name": "stdout",
     "output_type": "stream",
     "text": [
      "Error extracting advanced features: Command requires more than the given 3 arguments: no value for argument \"Interpolation\".\n",
      "OK: toeic-0055-short-talk-25.wav\n",
      "Detected language: English\n"
     ]
    },
    {
     "name": "stderr",
     "output_type": "stream",
     "text": [
      "100%|██████████| 30531/30531 [01:31<00:00, 334.15frames/s]\n"
     ]
    },
    {
     "name": "stdout",
     "output_type": "stream",
     "text": [
      "Error extracting advanced features: Command requires more than the given 3 arguments: no value for argument \"Interpolation\".\n",
      "OK: ielts-listening-0080-cam15-test-4-part-4.wav\n",
      "Detected language: English\n"
     ]
    },
    {
     "name": "stderr",
     "output_type": "stream",
     "text": [
      "100%|██████████| 4451/4451 [00:15<00:00, 284.43frames/s]\n"
     ]
    },
    {
     "name": "stdout",
     "output_type": "stream",
     "text": [
      "Error extracting advanced features: Command requires more than the given 3 arguments: no value for argument \"Interpolation\".\n",
      "OK: toeic-0554-short-talk-274.wav\n",
      "Detected language: English\n"
     ]
    },
    {
     "name": "stderr",
     "output_type": "stream",
     "text": [
      "100%|██████████| 28051/28051 [01:24<00:00, 333.77frames/s]\n"
     ]
    },
    {
     "name": "stdout",
     "output_type": "stream",
     "text": [
      "Error extracting advanced features: Command requires more than the given 3 arguments: no value for argument \"Interpolation\".\n",
      "OK: ielts-listening-0050-cam16-test-1-part-2.wav\n",
      "Detected language: English\n"
     ]
    },
    {
     "name": "stderr",
     "output_type": "stream",
     "text": [
      "100%|██████████| 6278/6278 [00:19<00:00, 321.22frames/s]\n"
     ]
    },
    {
     "name": "stdout",
     "output_type": "stream",
     "text": [
      "Error extracting advanced features: Command requires more than the given 3 arguments: no value for argument \"Interpolation\".\n",
      "OK: AUDIO-2025-04-03-22-17-33.wav\n",
      "Detected language: English\n"
     ]
    },
    {
     "name": "stderr",
     "output_type": "stream",
     "text": [
      "100%|██████████| 6402/6402 [00:20<00:00, 308.89frames/s]\n"
     ]
    },
    {
     "name": "stdout",
     "output_type": "stream",
     "text": [
      "Error extracting advanced features: Command requires more than the given 3 arguments: no value for argument \"Interpolation\".\n",
      "OK: sandali_hci_audio.wav\n",
      "✅ Dataset: 829 rows saved to enhanced_pause_features.csv\n",
      "\n",
      "🎉 Feature extraction complete! Ready for model training.\n",
      "\n",
      "📁 Next steps:\n",
      "  1. Run model_training.py to train the model\n",
      "  2. Use the trained model for real-time analysis\n",
      "  3. Generate personalized feedback and suggestions\n"
     ]
    }
   ],
   "source": [
    "# feature_extraction2.py - Enhanced Feature Extraction for Speech Pace Management\n",
    "import os, json, joblib, numpy as np, pandas as pd\n",
    "import librosa, whisper\n",
    "import parselmouth\n",
    "from parselmouth.praat import call\n",
    "from typing import List, Dict, Any, Tuple\n",
    "from dataclasses import dataclass\n",
    "import warnings\n",
    "warnings.filterwarnings('ignore')\n",
    "\n",
    "AUDIO_DIR = \"../WAVs\"\n",
    "MODEL_NAME = \"medium\"  # whisper\n",
    "CHUNK_SIZE = 30.0      # seconds for distribution bins\n",
    "\n",
    "# ---------- Industry-Standard Pause Values (Toastmasters/Presentations) ----------\n",
    "MICRO_PAUSE = 0.1      # Breathing, emphasis (0.1-0.3s)\n",
    "SHORT_PAUSE = 0.3      # Natural flow, comma pauses (0.3-1.0s)\n",
    "MED_PAUSE = 1.0        # Sentence breaks, transitions (1.0-2.5s)\n",
    "LONG_PAUSE = 2.5       # Paragraph breaks, audience engagement (2.5-5.0s)\n",
    "EXCESSIVE_PAUSE = 5.0  # Problematic, needs improvement (>5.0s)\n",
    "\n",
    "# Toastmasters Standards\n",
    "OPTIMAL_PAUSE_RATIO_MIN = 0.08   # 8% minimum\n",
    "OPTIMAL_PAUSE_RATIO_MAX = 0.12   # 12% maximum\n",
    "TRANSITION_PAUSE_MIN = 1.5        # 1.5s minimum for transitions\n",
    "TRANSITION_PAUSE_MAX = 2.0        # 2.0s maximum for transitions\n",
    "EMPHASIS_PAUSE_MIN = 0.5          # 0.5s minimum for emphasis\n",
    "EMPHASIS_PAUSE_MAX = 1.0          # 1.0s maximum for emphasis\n",
    "AUDIENCE_PAUSE_MIN = 2.0          # 2.0s minimum for audience processing\n",
    "AUDIENCE_PAUSE_MAX = 3.0          # 3.0s maximum for audience processing\n",
    "\n",
    "# ---------- Feature Lists ----------\n",
    "CORE_FEATURES = [\n",
    "    \"short_count\",\"med_count\",\"long_count\",\n",
    "    \"short_time\",\"med_time\",\"long_time\",\"total_pause_time\",\"pause_ratio\",\n",
    "    \"short_rate_pm\",\"med_rate_pm\",\"long_rate_pm\",\"all_rate_pm\",\n",
    "    \"pause_p50\",\"pause_p90\",\"pause_p95\",\"pause_std\",\"pause_min\",\"pause_max\",\n",
    "    \"max_long_streak\",\"seg_duration_std\",\"rhythm_outliers\",\n",
    "    \"wpm_mean\",\"wpm_std\",\"wpm_delta_mean\",\"wpm_delta_std\",\n",
    "    \"wpm_cv\",\"wpm_range\",\"gap_clustering\",\"wpm_acceleration\",\"wpm_jerk\",\n",
    "    \"pause_pattern_regularity\",\"speech_continuity\",\"pause_spacing_consistency\",\n",
    "    \"speaking_efficiency\",\"pause_efficiency\",\"rhythm_regularity\"\n",
    "]\n",
    "\n",
    "NOVEL_PAUSE_FEATURES = [\n",
    "    \"contextual_pause_score\",\"transition_pause_count\",\"emphasis_pause_count\",\n",
    "    \"optimal_transition_ratio\",\"optimal_emphasis_ratio\",\"pause_rhythm_consistency\",\n",
    "    \"golden_ratio_pauses\",\"pause_entropy\",\"pause_autocorrelation\",\n",
    "    \"cognitive_pause_score\",\"memory_retrieval_pauses\",\"confidence_score\",\n",
    "    \"optimal_cognitive_pause_ratio\",\"pause_fractal_dimension\",\"pause_spectral_density\",\n",
    "    \"pause_trend_analysis\",\"pause_volatility\",\"toastmasters_compliance_score\"\n",
    "]\n",
    "\n",
    "ADVANCED_FEATURES = [\n",
    "    \"spectral_centroid\",\"spectral_rolloff\",\"spectral_bandwidth\",\"zero_crossing_rate\",\"tempo\",\n",
    "    \"pitch_mean\",\"pitch_std\",\"pitch_min\",\"pitch_max\",\n",
    "    \"intensity_mean\",\"intensity_std\",\"intensity_min\",\"intensity_max\",\n",
    "    \"jitter_local\",\"jitter_rap\",\"jitter_ppq5\",\n",
    "    \"shimmer_local\",\"shimmer_apq3\",\"shimmer_apq5\",\"hnr_mean\",\n",
    "    \"f1_mean\",\"f2_mean\",\"f3_mean\"\n",
    "]\n",
    "\n",
    "MFCC_FEATURES = [f\"mfcc_{i}_mean\" for i in range(13)] + [f\"mfcc_{i}_std\" for i in range(13)]\n",
    "\n",
    "# ---------- Transcription ----------\n",
    "_whisper = whisper.load_model(MODEL_NAME)\n",
    "\n",
    "def transcribe_with_words(path: str):\n",
    "    res = _whisper.transcribe(path, word_timestamps=True, verbose=False)\n",
    "    segs = res.get(\"segments\", [])\n",
    "    # Normalize: ensure each segment has word list (can be absent rarely)\n",
    "    for s in segs:\n",
    "        if \"words\" not in s or s[\"words\"] is None:\n",
    "            # Approximate words by splitting text evenly across segment\n",
    "            txt = s.get(\"text\",\"\").strip()\n",
    "            if not txt:\n",
    "                s[\"words\"] = []\n",
    "            else:\n",
    "                words = [w for w in txt.split() if w.strip()]\n",
    "                if words:\n",
    "                    dur = s[\"end\"] - s[\"start\"]\n",
    "                    step = dur / len(words)\n",
    "                    s[\"words\"] = [{\"word\": w, \"start\": s[\"start\"] + i*step, \"end\": s[\"start\"] + (i+1)*step}\n",
    "                                  for i, w in enumerate(words)]\n",
    "                else:\n",
    "                    s[\"words\"] = []\n",
    "    return segs, res.get(\"text\",\"\")\n",
    "\n",
    "# ---------- Advanced Audio Feature Extraction ----------\n",
    "def extract_advanced_features(path: str) -> Dict[str, float]:\n",
    "    \"\"\"Extract advanced audio features using Parselmouth and Librosa\"\"\"\n",
    "    try:\n",
    "        # Load audio with librosa\n",
    "        y, sr = librosa.load(path, sr=16000)\n",
    "        \n",
    "        # MFCC features\n",
    "        mfcc = librosa.feature.mfcc(y=y, sr=sr, n_mfcc=13)\n",
    "        mfcc_mean = np.mean(mfcc, axis=1)\n",
    "        mfcc_std = np.std(mfcc, axis=1)\n",
    "        \n",
    "        # Spectral features\n",
    "        spectral_centroid = np.mean(librosa.feature.spectral_centroid(y=y, sr=sr))\n",
    "        spectral_rolloff = np.mean(librosa.feature.spectral_rolloff(y=y, sr=sr))\n",
    "        spectral_bandwidth = np.mean(librosa.feature.spectral_bandwidth(y=y, sr=sr))\n",
    "        \n",
    "        # Zero crossing rate\n",
    "        zcr = np.mean(librosa.feature.zero_crossing_rate(y))\n",
    "        \n",
    "        # Parselmouth features\n",
    "        sound = parselmouth.Sound(path)\n",
    "        \n",
    "        # Pitch features\n",
    "        pitch = sound.to_pitch()\n",
    "        pitch_mean = call(pitch, \"Get mean\", 0, 0, \"Hertz\")\n",
    "        pitch_std_dev = call(pitch, \"Get standard deviation\", 0, 0, \"Hertz\")\n",
    "        pitch_min = call(pitch, \"Get minimum\", 0, 0, \"Hertz\")\n",
    "        pitch_max = call(pitch, \"Get maximum\", 0, 0, \"Hertz\")\n",
    "        \n",
    "        # Intensity features\n",
    "        intensity = sound.to_intensity()\n",
    "        intensity_mean = call(intensity, \"Get mean\", 0, 0, \"dB\")\n",
    "        intensity_std = call(intensity, \"Get standard deviation\", 0, 0, \"dB\")\n",
    "        intensity_min = call(intensity, \"Get minimum\", 0, 0, \"dB\")\n",
    "        intensity_max = call(intensity, \"Get maximum\", 0, 0, \"dB\")\n",
    "        \n",
    "        # Voice Quality Features\n",
    "        point_process = call(sound, \"To PointProcess (periodic, cc)\", 75, 500)\n",
    "        jitter_local = call(point_process, \"Get jitter (local)\", 0, 0, 0.0001, 0.02, 1.3)\n",
    "        jitter_rap = call(point_process, \"Get jitter (rap)\", 0, 0, 0.0001, 0.02, 1.3)\n",
    "        jitter_ppq5 = call(point_process, \"Get jitter (ppq5)\", 0, 0, 0.0001, 0.02, 1.3)\n",
    "        shimmer_local = call([sound, point_process], \"Get shimmer (local)\", 0, 0, 0.0001, 0.02, 1.3, 1.6)\n",
    "        shimmer_apq3 = call([sound, point_process], \"Get shimmer (apq3)\", 0, 0, 0.0001, 0.02, 1.3, 1.6)\n",
    "        shimmer_apq5 = call([sound, point_process], \"Get shimmer (apq5)\", 0, 0, 0.0001, 0.02, 1.3, 1.6)\n",
    "        \n",
    "        # Harmonicity\n",
    "        hnr = call(sound, \"To Harmonicity (cc)\", 0.01, 75, 0.1, 1.0)\n",
    "        hnr_mean = call(hnr, \"Get mean\", 0, 0)\n",
    "        \n",
    "        # Formants\n",
    "        formant = sound.to_formant_burg()\n",
    "        f1_mean = call(formant, \"Get mean\", 1, 0, 0, \"hertz\")\n",
    "        f2_mean = call(formant, \"Get mean\", 2, 0, 0, \"hertz\")\n",
    "        f3_mean = call(formant, \"Get mean\", 3, 0, 0, \"hertz\")\n",
    "        \n",
    "        # Rhythm features\n",
    "        tempo, _ = librosa.beat.beat_track(y=y, sr=sr)\n",
    "        \n",
    "        features = {}\n",
    "        \n",
    "        # Add MFCC features\n",
    "        for i in range(13):\n",
    "            features[f\"mfcc_{i}_mean\"] = float(mfcc_mean[i])\n",
    "            features[f\"mfcc_{i}_std\"] = float(mfcc_std[i])\n",
    "        \n",
    "        # Add spectral features\n",
    "        features.update({\n",
    "            \"spectral_centroid\": float(spectral_centroid),\n",
    "            \"spectral_rolloff\": float(spectral_rolloff),\n",
    "            \"spectral_bandwidth\": float(spectral_bandwidth),\n",
    "            \"zero_crossing_rate\": float(zcr),\n",
    "            \"tempo\": float(tempo)\n",
    "        })\n",
    "        \n",
    "        # Add pitch features\n",
    "        features.update({\n",
    "            \"pitch_mean\": float(pitch_mean),\n",
    "            \"pitch_std\": float(pitch_std_dev),\n",
    "            \"pitch_min\": float(pitch_min),\n",
    "            \"pitch_max\": float(pitch_max)\n",
    "        })\n",
    "        \n",
    "        # Add intensity features\n",
    "        features.update({\n",
    "            \"intensity_mean\": float(intensity_mean),\n",
    "            \"intensity_std\": float(intensity_std),\n",
    "            \"intensity_min\": float(intensity_min),\n",
    "            \"intensity_max\": float(intensity_max)\n",
    "        })\n",
    "        \n",
    "        # Add voice quality features\n",
    "        features.update({\n",
    "            \"jitter_local\": float(jitter_local),\n",
    "            \"jitter_rap\": float(jitter_rap),\n",
    "            \"jitter_ppq5\": float(jitter_ppq5),\n",
    "            \"shimmer_local\": float(shimmer_local),\n",
    "            \"shimmer_apq3\": float(shimmer_apq3),\n",
    "            \"shimmer_apq5\": float(shimmer_apq5),\n",
    "            \"hnr_mean\": float(hnr_mean)\n",
    "        })\n",
    "        \n",
    "        # Add formant features\n",
    "        features.update({\n",
    "            \"f1_mean\": float(f1_mean),\n",
    "            \"f2_mean\": float(f2_mean),\n",
    "            \"f3_mean\": float(f3_mean)\n",
    "        })\n",
    "        \n",
    "        return features\n",
    "        \n",
    "    except Exception as e:\n",
    "        print(f\"Error extracting advanced features: {e}\")\n",
    "        # Return default values if extraction fails\n",
    "        default_features = {}\n",
    "        for i in range(13):\n",
    "            default_features[f\"mfcc_{i}_mean\"] = 0.0\n",
    "            default_features[f\"mfcc_{i}_std\"] = 0.0\n",
    "        \n",
    "        default_features.update({\n",
    "            \"spectral_centroid\": 0.0, \"spectral_rolloff\": 0.0, \"spectral_bandwidth\": 0.0,\n",
    "            \"zero_crossing_rate\": 0.0, \"tempo\": 0.0, \"pitch_mean\": 0.0, \"pitch_std\": 0.0,\n",
    "            \"pitch_min\": 0.0, \"pitch_max\": 0.0, \"intensity_mean\": 0.0, \"intensity_std\": 0.0,\n",
    "            \"intensity_min\": 0.0, \"intensity_max\": 0.0, \"jitter_local\": 0.0, \"jitter_rap\": 0.0,\n",
    "            \"jitter_ppq5\": 0.0, \"shimmer_local\": 0.0, \"shimmer_apq3\": 0.0, \"shimmer_apq5\": 0.0,\n",
    "            \"hnr_mean\": 0.0, \"f1_mean\": 0.0, \"f2_mean\": 0.0, \"f3_mean\": 0.0\n",
    "        })\n",
    "        return default_features\n",
    "\n",
    "# ---------- Enhanced Pause extraction ----------\n",
    "def extract_word_gaps(segments: List[Dict[str,Any]]) -> List[Tuple[float,float,float]]:\n",
    "    \"\"\"\n",
    "    Returns list of (gap_start, gap_end, gap_dur) across the entire file\n",
    "    computed between end of previous word and start of next word.\n",
    "    Falls back to segment boundaries when needed.\n",
    "    \"\"\"\n",
    "    words = []\n",
    "    for s in segments:\n",
    "        for w in s.get(\"words\", []):\n",
    "            if w and isinstance(w.get(\"start\"), (int,float)) and isinstance(w.get(\"end\"), (int,float)):\n",
    "                words.append((w[\"start\"], w[\"end\"]))\n",
    "    words.sort(key=lambda x: x[0])\n",
    "\n",
    "    gaps = []\n",
    "    if words:\n",
    "        prev_end = words[0][1]\n",
    "        for (ws, we) in words[1:]:\n",
    "            gap = ws - prev_end\n",
    "            if gap >= MICRO_PAUSE:\n",
    "                gaps.append((prev_end, ws, gap))\n",
    "            prev_end = max(prev_end, we)\n",
    "    else:\n",
    "        # fallback to segments\n",
    "        prev_end = None\n",
    "        for s in segments:\n",
    "            if prev_end is not None:\n",
    "                g = s[\"start\"] - prev_end\n",
    "                if g >= MICRO_PAUSE:\n",
    "                    gaps.append((prev_end, s[\"start\"], g))\n",
    "            prev_end = s[\"end\"]\n",
    "    return gaps\n",
    "\n",
    "def bin_long_pause_distribution(gaps: List[Tuple[float,float,float]], total_dur: float, chunk_size: float = CHUNK_SIZE):\n",
    "    n = int(np.ceil(total_dur / chunk_size))\n",
    "    dist = np.zeros(n, dtype=float)\n",
    "    for (gs, ge, gd) in gaps:\n",
    "        if gd > MED_PAUSE:  # long only\n",
    "            idx = int(gs // chunk_size)\n",
    "            if 0 <= idx < n:\n",
    "                dist[idx] += gd\n",
    "    return dist.tolist()\n",
    "\n",
    "# ---------- Enhanced Feature engineering ----------\n",
    "def pause_features_for_file(path: str) -> Dict[str, Any]:\n",
    "    y, sr = librosa.load(path, sr=16000)\n",
    "    total_dur = librosa.get_duration(y=y, sr=sr)\n",
    "\n",
    "    segments, _ = transcribe_with_words(path)\n",
    "    gaps = extract_word_gaps(segments)\n",
    "    \n",
    "    # Extract advanced features\n",
    "    advanced_features = extract_advanced_features(path)\n",
    "\n",
    "    short = [g for (_,_,g) in gaps if MICRO_PAUSE <= g <= SHORT_PAUSE]\n",
    "    med   = [g for (_,_,g) in gaps if SHORT_PAUSE < g <= MED_PAUSE]\n",
    "    longg = [g for (_,_,g) in gaps if g > MED_PAUSE]\n",
    "\n",
    "    # speaking segments for pace/rhythm (using whisper segments)\n",
    "    wpm_bins, seg_durs = [], []\n",
    "    for s in segments:\n",
    "        dur = max(1e-9, s[\"end\"] - s[\"start\"])\n",
    "        word_count = sum(1 for w in s.get(\"words\", []) if w.get(\"word\",\"\").strip())\n",
    "        wpm_bins.append(60.0 * word_count / dur)\n",
    "        seg_durs.append(dur)\n",
    "\n",
    "    # deltas\n",
    "    wpm_bins = np.array(wpm_bins) if len(wpm_bins) else np.array([0.0])\n",
    "    wpm_delta = np.diff(wpm_bins) if len(wpm_bins) > 1 else np.array([0.0])\n",
    "    seg_durs = np.array(seg_durs) if len(seg_durs) else np.array([0.0])\n",
    "\n",
    "    short_time, med_time, long_time = sum(short), sum(med), sum(longg)\n",
    "    total_pause_time = short_time + med_time + long_time\n",
    "    pause_ratio = (total_pause_time / total_dur) if total_dur > 0 else 0.0\n",
    "\n",
    "    # rates per minute\n",
    "    dur_min = max(1e-9, total_dur / 60.0)\n",
    "    short_rate_pm = len(short) / dur_min\n",
    "    med_rate_pm   = len(med)   / dur_min\n",
    "    long_rate_pm  = len(longg) / dur_min\n",
    "    all_rate_pm   = (len(short) + len(med) + len(longg)) / dur_min\n",
    "\n",
    "    # Enhanced statistics\n",
    "    def safe_stats(arr):\n",
    "        if len(arr) == 0:\n",
    "            return 0.0, 0.0, 0.0, 0.0, 0.0, 0.0\n",
    "        a = np.array(arr)\n",
    "        return (float(np.median(a)), float(np.percentile(a,90)), float(np.percentile(a,95)), \n",
    "                float(np.std(a)), float(np.min(a)), float(np.max(a)))\n",
    "\n",
    "    p50, p90, p95, pause_std, pause_min, pause_max = safe_stats([g for (_,_,g) in gaps])\n",
    "\n",
    "    # run-length of long pauses\n",
    "    long_streak = 0\n",
    "    max_long_streak = 0\n",
    "    for (_,_,g) in gaps:\n",
    "        if g > MED_PAUSE:\n",
    "            long_streak += 1\n",
    "            max_long_streak = max(max_long_streak, long_streak)\n",
    "        else:\n",
    "            long_streak = 0\n",
    "\n",
    "    # Enhanced rhythm analysis\n",
    "    seg_std = float(np.std(seg_durs)) if len(seg_durs) > 1 else 0.0\n",
    "    rhythm_outliers = int(np.sum(np.abs(seg_durs - seg_durs.mean()) > 1.5 * (seg_std if seg_std>0 else 1)))\n",
    "    \n",
    "    # Pace consistency metrics\n",
    "    wpm_mean = float(wpm_bins.mean())\n",
    "    wpm_std  = float(wpm_bins.std())\n",
    "    wpm_delta_mean = float(wpm_delta.mean()) if wpm_delta.size > 0 else 0.0\n",
    "    wpm_delta_std  = float(wpm_delta.std())  if wpm_delta.size > 0 else 0.0\n",
    "    \n",
    "    # Additional pace management features\n",
    "    wpm_cv = (wpm_std / wpm_mean) if wpm_mean > 0 else 0.0  # Coefficient of variation\n",
    "    wpm_range = float(wpm_bins.max() - wpm_bins.min()) if len(wpm_bins) > 0 else 0.0\n",
    "    \n",
    "    # Pause clustering analysis\n",
    "    if len(gaps) > 1:\n",
    "        gap_intervals = [gaps[i+1][0] - gaps[i][1] for i in range(len(gaps)-1)]\n",
    "        gap_clustering = np.std(gap_intervals) if gap_intervals else 0.0\n",
    "    else:\n",
    "        gap_clustering = 0.0\n",
    "    \n",
    "    # Advanced pace stability metrics\n",
    "    wpm_acceleration = np.mean(np.diff(wpm_delta)) if len(wpm_delta) > 1 else 0.0\n",
    "    wpm_jerk = np.mean(np.abs(np.diff(wpm_delta))) if len(wpm_delta) > 1 else 0.0\n",
    "    \n",
    "    # Pause pattern analysis\n",
    "    pause_pattern_regularity = 1.0 / (1.0 + gap_clustering) if gap_clustering > 0 else 1.0\n",
    "    \n",
    "    # Speech flow metrics\n",
    "    speech_continuity = 1.0 - (len(gaps) / max(1, len(segments)))\n",
    "    pause_spacing_consistency = 1.0 / (1.0 + np.std([g[2] for g in gaps])) if len(gaps) > 1 else 1.0\n",
    "    \n",
    "    # Speaking efficiency metrics\n",
    "    speaking_efficiency = (total_dur - total_pause_time) / total_dur if total_dur > 0 else 0.0\n",
    "    pause_efficiency = total_pause_time / len(gaps) if len(gaps) > 0 else 0.0\n",
    "    \n",
    "    # Rhythm regularity\n",
    "    rhythm_regularity = 1.0 / (1.0 + seg_std) if seg_std > 0 else 1.0\n",
    "    \n",
    "    # ---------- NOVEL PAUSE ANALYSIS FEATURES ----------\n",
    "    \n",
    "    # 1. 🎭 Contextual Pause Analysis\n",
    "    def analyze_pause_context(gaps, segments):\n",
    "        \"\"\"Analyze pauses based on surrounding content context\"\"\"\n",
    "        contextual_scores = []\n",
    "        transition_pauses = []\n",
    "        emphasis_pauses = []\n",
    "        \n",
    "        for gap_start, gap_end, gap_dur in gaps:\n",
    "            # Find segments before and after pause\n",
    "            prev_seg = None\n",
    "            next_seg = None\n",
    "            \n",
    "            for seg in segments:\n",
    "                if abs(seg[\"end\"] - gap_start) < 0.1:  # Pause starts after this segment\n",
    "                    prev_seg = seg\n",
    "                if abs(seg[\"start\"] - gap_end) < 0.1:  # Pause ends before this segment\n",
    "                    next_seg = seg\n",
    "                    break\n",
    "            \n",
    "            # Contextual scoring\n",
    "            score = 0.0\n",
    "            \n",
    "            # Transition pause detection (between different topics)\n",
    "            if prev_seg and next_seg:\n",
    "                prev_text = prev_seg.get(\"text\", \"\").lower()\n",
    "                next_text = next_seg.get(\"text\", \"\").lower()\n",
    "                \n",
    "                # Check for topic transitions (simple heuristics)\n",
    "                transition_indicators = [\"however\", \"but\", \"on the other hand\", \"meanwhile\", \n",
    "                                      \"furthermore\", \"additionally\", \"in conclusion\", \"finally\"]\n",
    "                \n",
    "                is_transition = any(indicator in prev_text or indicator in next_text \n",
    "                                   for indicator in transition_indicators)\n",
    "                \n",
    "                if is_transition and TRANSITION_PAUSE_MIN <= gap_dur <= TRANSITION_PAUSE_MAX:\n",
    "                    score += 2.0  # Good transition pause\n",
    "                    transition_pauses.append(gap_dur)\n",
    "                elif gap_dur > TRANSITION_PAUSE_MAX:\n",
    "                    score += 1.0  # Transition pause too long\n",
    "                else:\n",
    "                    score += 0.5  # Regular pause\n",
    "            \n",
    "            # Emphasis pause detection\n",
    "            if EMPHASIS_PAUSE_MIN <= gap_dur <= EMPHASIS_PAUSE_MAX:\n",
    "                score += 1.5  # Good emphasis pause\n",
    "                emphasis_pauses.append(gap_dur)\n",
    "            \n",
    "            # Audience processing pause\n",
    "            if AUDIENCE_PAUSE_MIN <= gap_dur <= AUDIENCE_PAUSE_MAX:\n",
    "                score += 1.0  # Good audience pause\n",
    "            \n",
    "            # Excessive pause penalty\n",
    "            if gap_dur > EXCESSIVE_PAUSE:\n",
    "                score -= 2.0  # Heavy penalty for excessive pauses\n",
    "            \n",
    "            contextual_scores.append(score)\n",
    "        \n",
    "        return {\n",
    "            \"contextual_pause_score\": np.mean(contextual_scores) if contextual_scores else 0.0,\n",
    "            \"transition_pause_count\": len(transition_pauses),\n",
    "            \"emphasis_pause_count\": len(emphasis_pauses),\n",
    "            \"optimal_transition_ratio\": len([g for g in transition_pauses if TRANSITION_PAUSE_MIN <= g <= TRANSITION_PAUSE_MAX]) / max(1, len(transition_pauses)),\n",
    "            \"optimal_emphasis_ratio\": len([g for g in emphasis_pauses if EMPHASIS_PAUSE_MIN <= g <= EMPHASIS_PAUSE_MAX]) / max(1, len(emphasis_pauses))\n",
    "        }\n",
    "    \n",
    "    # 2. 🎵 Rhythm Pattern Analysis\n",
    "    def analyze_pause_rhythm(gaps, total_dur):\n",
    "        \"\"\"Analyze pause rhythm patterns and consistency\"\"\"\n",
    "        if len(gaps) < 2:\n",
    "            return {\n",
    "                \"pause_rhythm_consistency\": 1.0,\n",
    "                \"golden_ratio_pauses\": 0.0,\n",
    "                \"pause_entropy\": 0.0,\n",
    "                \"pause_autocorrelation\": 0.0\n",
    "            }\n",
    "        \n",
    "        # Pause intervals (time between pauses)\n",
    "        pause_intervals = [gaps[i+1][0] - gaps[i][1] for i in range(len(gaps)-1)]\n",
    "        \n",
    "        # Rhythm consistency (regularity of pause spacing)\n",
    "        rhythm_consistency = 1.0 / (1.0 + np.std(pause_intervals)) if pause_intervals else 1.0\n",
    "        \n",
    "        # Golden ratio pauses (pauses that follow natural speech rhythms)\n",
    "        # Golden ratio ≈ 1.618, we look for pauses that are roughly 1.618x longer than average\n",
    "        avg_pause_dur = np.mean([g[2] for g in gaps])\n",
    "        golden_ratio_target = avg_pause_dur * 1.618\n",
    "        golden_ratio_pauses = sum(1 for g in gaps if 0.8 * golden_ratio_target <= g[2] <= 1.2 * golden_ratio_target)\n",
    "        golden_ratio_ratio = golden_ratio_pauses / len(gaps)\n",
    "        \n",
    "        # Pause entropy (measure of randomness vs. intentionality)\n",
    "        pause_durations = [g[2] for g in gaps]\n",
    "        if len(set(pause_durations)) > 1:\n",
    "            # Calculate entropy using histogram\n",
    "            hist, _ = np.histogram(pause_durations, bins=min(10, len(pause_durations)))\n",
    "            hist = hist[hist > 0]  # Remove zero bins\n",
    "            prob = hist / hist.sum()\n",
    "            entropy = -np.sum(prob * np.log2(prob))\n",
    "            max_entropy = np.log2(len(prob))\n",
    "            normalized_entropy = entropy / max_entropy if max_entropy > 0 else 0.0\n",
    "        else:\n",
    "            normalized_entropy = 0.0\n",
    "        \n",
    "        # Pause autocorrelation (detect repeating patterns)\n",
    "        if len(pause_durations) > 3:\n",
    "            # Simple autocorrelation at lag 1\n",
    "            autocorr = np.corrcoef(pause_durations[:-1], pause_durations[1:])[0, 1]\n",
    "            autocorr = 0.0 if np.isnan(autocorr) else abs(autocorr)\n",
    "        else:\n",
    "            autocorr = 0.0\n",
    "        \n",
    "        return {\n",
    "            \"pause_rhythm_consistency\": float(rhythm_consistency),\n",
    "            \"golden_ratio_pauses\": float(golden_ratio_ratio),\n",
    "            \"pause_entropy\": float(normalized_entropy),\n",
    "            \"pause_autocorrelation\": float(autocorr)\n",
    "        }\n",
    "    \n",
    "    # 3. 🧠 Cognitive Load Indicators\n",
    "    def analyze_cognitive_load(gaps, segments):\n",
    "        \"\"\"Analyze pauses that suggest cognitive load or thinking\"\"\"\n",
    "        cognitive_pauses = []\n",
    "        memory_retrieval_pauses = []\n",
    "        confidence_indicators = []\n",
    "        \n",
    "        for gap_start, gap_end, gap_dur in gaps:\n",
    "            # Find surrounding segments for context\n",
    "            prev_seg = None\n",
    "            next_seg = None\n",
    "            \n",
    "            for seg in segments:\n",
    "                if abs(seg[\"end\"] - gap_start) < 0.1:\n",
    "                    prev_seg = seg\n",
    "                if abs(seg[\"start\"] - gap_end) < 0.1:\n",
    "                    next_seg = seg\n",
    "                    break\n",
    "            \n",
    "            # Cognitive load indicators\n",
    "            if prev_seg and next_seg:\n",
    "                prev_text = prev_seg.get(\"text\", \"\").lower()\n",
    "                next_text = next_seg.get(\"text\", \"\").lower()\n",
    "                \n",
    "                # Memory retrieval pauses (longer pauses after complex sentences)\n",
    "                complex_indicators = [\"because\", \"therefore\", \"consequently\", \"as a result\", \n",
    "                                   \"in addition\", \"furthermore\", \"moreover\"]\n",
    "                \n",
    "                is_complex = any(indicator in prev_text for indicator in complex_indicators)\n",
    "                if is_complex and gap_dur > 1.5:\n",
    "                    memory_retrieval_pauses.append(gap_dur)\n",
    "                \n",
    "                # Confidence indicators (hesitation vs. intentional pauses)\n",
    "                hesitation_indicators = [\"um\", \"uh\", \"er\", \"ah\", \"like\", \"you know\"]\n",
    "                has_hesitation = any(indicator in prev_text or indicator in next_text \n",
    "                                   for indicator in hesitation_indicators)\n",
    "                \n",
    "                if has_hesitation:\n",
    "                    confidence_indicators.append(1.0 if gap_dur < 1.0 else 0.5)\n",
    "                else:\n",
    "                    confidence_indicators.append(1.0)\n",
    "                \n",
    "                # Cognitive load based on pause duration\n",
    "                if 1.0 <= gap_dur <= 3.0:  # Optimal thinking pause\n",
    "                    cognitive_pauses.append(1.0)\n",
    "                elif gap_dur > 3.0:  # Too long, might indicate struggle\n",
    "                    cognitive_pauses.append(0.5)\n",
    "                else:  # Too short for complex thinking\n",
    "                    cognitive_pauses.append(0.0)\n",
    "        \n",
    "        return {\n",
    "            \"cognitive_pause_score\": np.mean(cognitive_pauses) if cognitive_pauses else 0.0,\n",
    "            \"memory_retrieval_pauses\": len(memory_retrieval_pauses),\n",
    "            \"confidence_score\": np.mean(confidence_indicators) if confidence_indicators else 1.0,\n",
    "            \"optimal_cognitive_pause_ratio\": len([g for g in cognitive_pauses if g >= 0.8]) / max(1, len(cognitive_pauses))\n",
    "        }\n",
    "    \n",
    "    # 4. 📊 Advanced Statistical Features\n",
    "    def calculate_advanced_statistics(gaps, total_dur):\n",
    "        \"\"\"Calculate advanced statistical features for pause analysis\"\"\"\n",
    "        if len(gaps) < 2:\n",
    "            return {\n",
    "                \"pause_fractal_dimension\": 0.0,\n",
    "                \"pause_spectral_density\": 0.0,\n",
    "                \"pause_trend_analysis\": 0.0,\n",
    "                \"pause_volatility\": 0.0\n",
    "            }\n",
    "        \n",
    "        pause_durations = [g[2] for g in gaps]\n",
    "        pause_timings = [g[0] for g in gaps]  # When pauses occur\n",
    "        \n",
    "        # Pause volatility (rate of change in pause durations)\n",
    "        if len(pause_durations) > 1:\n",
    "            volatility = np.std(np.diff(pause_durations))\n",
    "        else:\n",
    "            volatility = 0.0\n",
    "        \n",
    "        # Pause trend analysis (are pauses getting longer/shorter over time?)\n",
    "        if len(pause_durations) > 2:\n",
    "            # Linear trend\n",
    "            x = np.arange(len(pause_durations))\n",
    "            coeffs = np.polyfit(x, pause_durations, 1)\n",
    "            trend_slope = coeffs[0]\n",
    "            trend_strength = abs(trend_slope) / (np.std(pause_durations) + 1e-6)\n",
    "        else:\n",
    "            trend_strength = 0.0\n",
    "        \n",
    "        # Pause spectral density (frequency domain analysis)\n",
    "        if len(pause_durations) > 4:\n",
    "            # Simple FFT-based spectral density\n",
    "            fft_vals = np.fft.fft(pause_durations)\n",
    "            spectral_density = np.mean(np.abs(fft_vals[1:len(fft_vals)//2]))\n",
    "        else:\n",
    "            spectral_density = 0.0\n",
    "        \n",
    "        # Fractal dimension approximation (self-similarity across time scales)\n",
    "        if len(pause_durations) > 8:\n",
    "            # Box-counting dimension approximation\n",
    "            scales = [1, 2, 4, 8]\n",
    "            counts = []\n",
    "            \n",
    "            for scale in scales:\n",
    "                if len(pause_durations) >= scale:\n",
    "                    # Resample at different scales\n",
    "                    resampled = [np.mean(pause_durations[i:i+scale]) \n",
    "                               for i in range(0, len(pause_durations), scale)]\n",
    "                    counts.append(len(set(np.round(np.array(resampled), 1))))\n",
    "                else:\n",
    "                    counts.append(1)\n",
    "            \n",
    "            # Calculate fractal dimension\n",
    "            if len(counts) > 1 and counts[0] > 0:\n",
    "                log_counts = np.log(counts)\n",
    "                log_scales = np.log(scales[:len(counts)])\n",
    "                if len(log_counts) > 1:\n",
    "                    fractal_dim = -np.polyfit(log_scales, log_counts, 1)[0]\n",
    "                else:\n",
    "                    fractal_dim = 0.0\n",
    "            else:\n",
    "                fractal_dim = 0.0\n",
    "        else:\n",
    "            fractal_dim = 0.0\n",
    "        \n",
    "        return {\n",
    "            \"pause_fractal_dimension\": float(fractal_dim),\n",
    "            \"pause_spectral_density\": float(spectral_density),\n",
    "            \"pause_trend_analysis\": float(trend_strength),\n",
    "            \"pause_volatility\": float(volatility)\n",
    "        }\n",
    "    \n",
    "    # Apply novel analysis functions\n",
    "    contextual_features = analyze_pause_context(gaps, segments)\n",
    "    rhythm_features = analyze_pause_rhythm(gaps, total_dur)\n",
    "    cognitive_features = analyze_cognitive_load(gaps, segments)\n",
    "    advanced_stats = calculate_advanced_statistics(gaps, total_dur)\n",
    "    \n",
    "    # Toastmasters compliance scoring\n",
    "    toastmasters_compliance = {\n",
    "        \"pause_ratio_compliance\": 1.0 if OPTIMAL_PAUSE_RATIO_MIN <= pause_ratio <= OPTIMAL_PAUSE_RATIO_MAX else 0.0,\n",
    "        \"transition_pause_compliance\": contextual_features[\"optimal_transition_ratio\"],\n",
    "        \"emphasis_pause_compliance\": contextual_features[\"optimal_emphasis_ratio\"],\n",
    "        \"overall_compliance_score\": 0.0\n",
    "    }\n",
    "    \n",
    "    # Calculate overall compliance score\n",
    "    compliance_scores = [\n",
    "        toastmasters_compliance[\"pause_ratio_compliance\"],\n",
    "        toastmasters_compliance[\"transition_pause_compliance\"],\n",
    "        toastmasters_compliance[\"emphasis_pause_compliance\"]\n",
    "    ]\n",
    "    toastmasters_compliance[\"overall_compliance_score\"] = np.mean(compliance_scores)\n",
    "    \n",
    "    long_dist = bin_long_pause_distribution(gaps, total_dur, CHUNK_SIZE)\n",
    "\n",
    "    # Combine all features\n",
    "    feats = {\n",
    "        \"total_duration\": total_dur,\n",
    "        \"short_count\": len(short), \"med_count\": len(med), \"long_count\": len(longg),\n",
    "        \"short_time\": short_time, \"med_time\": med_time, \"long_time\": long_time,\n",
    "        \"total_pause_time\": total_pause_time, \"pause_ratio\": pause_ratio,\n",
    "        \"short_rate_pm\": short_rate_pm, \"med_rate_pm\": med_rate_pm,\n",
    "        \"long_rate_pm\": long_rate_pm, \"all_rate_pm\": all_rate_pm,\n",
    "        \"pause_p50\": p50, \"pause_p90\": p90, \"pause_p95\": p95, \"pause_std\": pause_std,\n",
    "        \"pause_min\": pause_min, \"pause_max\": pause_max,\n",
    "        \"max_long_streak\": max_long_streak,\n",
    "        \"seg_duration_std\": seg_std, \"rhythm_outliers\": rhythm_outliers,\n",
    "        \"wpm_mean\": wpm_mean, \"wpm_std\": wpm_std,\n",
    "        \"wpm_delta_mean\": wpm_delta_mean, \"wpm_delta_std\": wpm_delta_std,\n",
    "        \"wpm_cv\": wpm_cv, \"wpm_range\": wpm_range,\n",
    "        \"gap_clustering\": gap_clustering,\n",
    "        \"wpm_acceleration\": wpm_acceleration, \"wpm_jerk\": wpm_jerk,\n",
    "        \"pause_pattern_regularity\": pause_pattern_regularity,\n",
    "        \"speech_continuity\": speech_continuity, \"pause_spacing_consistency\": pause_spacing_consistency,\n",
    "        \"speaking_efficiency\": speaking_efficiency,\n",
    "        \"pause_efficiency\": pause_efficiency,\n",
    "        \"rhythm_regularity\": rhythm_regularity,\n",
    "        \"long_pause_distribution\": long_dist,\n",
    "        \"contextual_pause_score\": contextual_features[\"contextual_pause_score\"],\n",
    "        \"transition_pause_count\": contextual_features[\"transition_pause_count\"],\n",
    "        \"emphasis_pause_count\": contextual_features[\"emphasis_pause_count\"],\n",
    "        \"optimal_transition_ratio\": contextual_features[\"optimal_transition_ratio\"],\n",
    "        \"optimal_emphasis_ratio\": contextual_features[\"optimal_emphasis_ratio\"],\n",
    "        \"pause_rhythm_consistency\": rhythm_features[\"pause_rhythm_consistency\"],\n",
    "        \"golden_ratio_pauses\": rhythm_features[\"golden_ratio_pauses\"],\n",
    "        \"pause_entropy\": rhythm_features[\"pause_entropy\"],\n",
    "        \"pause_autocorrelation\": rhythm_features[\"pause_autocorrelation\"],\n",
    "        \"cognitive_pause_score\": cognitive_features[\"cognitive_pause_score\"],\n",
    "        \"memory_retrieval_pauses\": cognitive_features[\"memory_retrieval_pauses\"],\n",
    "        \"confidence_score\": cognitive_features[\"confidence_score\"],\n",
    "        \"optimal_cognitive_pause_ratio\": cognitive_features[\"optimal_cognitive_pause_ratio\"],\n",
    "        \"pause_fractal_dimension\": advanced_stats[\"pause_fractal_dimension\"],\n",
    "        \"pause_spectral_density\": advanced_stats[\"pause_spectral_density\"],\n",
    "        \"pause_trend_analysis\": advanced_stats[\"pause_trend_analysis\"],\n",
    "        \"pause_volatility\": advanced_stats[\"pause_volatility\"],\n",
    "        \"toastmasters_compliance_score\": toastmasters_compliance[\"overall_compliance_score\"]\n",
    "    }\n",
    "    \n",
    "    # Add advanced features\n",
    "    feats.update(advanced_features)\n",
    "    \n",
    "    return feats\n",
    "\n",
    "# ---------- Enhanced labeling system ----------\n",
    "def auto_label(row: pd.Series) -> str:\n",
    "    \"\"\"Enhanced labeling system using Toastmasters standards and novel pause analysis\"\"\"\n",
    "    \n",
    "    # Toastmasters compliance scoring\n",
    "    toastmasters_score = row.get(\"toastmasters_compliance_score\", 0.0)\n",
    "    \n",
    "    # Pause management quality using industry standards\n",
    "    if (row[\"pause_ratio\"] > 0.15 or row[\"long_count\"] > 6 or \n",
    "        row.get(\"contextual_pause_score\", 0.0) < -0.5):\n",
    "        return \"poor_pause_control\"\n",
    "    elif (row[\"pause_ratio\"] > 0.12 or row[\"long_count\"] > 4 or \n",
    "          row.get(\"contextual_pause_score\", 0.0) < 0.0):\n",
    "        return \"needs_pause_improvement\"\n",
    "    \n",
    "    # Pace consistency and stability\n",
    "    if (row[\"wpm_cv\"] > 0.4 or row[\"wpm_delta_std\"] > 8 or \n",
    "        row[\"seg_duration_std\"] > 2.5 or row[\"wpm_jerk\"] > 10):\n",
    "        return \"inconsistent_pace\"\n",
    "    elif (row[\"wpm_cv\"] > 0.25 or row[\"wpm_delta_std\"] > 5 or \n",
    "          row[\"wpm_jerk\"] > 5):\n",
    "        return \"moderate_pace_consistency\"\n",
    "    \n",
    "    # Rhythm and flow quality using novel features\n",
    "    rhythm_score = row.get(\"pause_rhythm_consistency\", 1.0)\n",
    "    golden_ratio_score = row.get(\"golden_ratio_pauses\", 0.0)\n",
    "    \n",
    "    if (row[\"rhythm_outliers\"] >= 6 or rhythm_score < 0.3 or\n",
    "        row[\"speech_continuity\"] < 0.6 or golden_ratio_score < 0.2):\n",
    "        return \"poor_rhythm\"\n",
    "    elif (row[\"rhythm_outliers\"] >= 3 or rhythm_score < 0.5 or\n",
    "          row[\"speech_continuity\"] < 0.8 or golden_ratio_score < 0.4):\n",
    "        return \"moderate_rhythm\"\n",
    "    \n",
    "    # Cognitive load and confidence analysis\n",
    "    cognitive_score = row.get(\"cognitive_pause_score\", 0.0)\n",
    "    confidence_score = row.get(\"confidence_score\", 1.0)\n",
    "    \n",
    "    if (cognitive_score < 0.3 or confidence_score < 0.6 or\n",
    "        row.get(\"optimal_cognitive_pause_ratio\", 1.0) < 0.5):\n",
    "        return \"cognitive_load_issues\"\n",
    "    \n",
    "    # Overall speaking quality and efficiency\n",
    "    if (row[\"speaking_efficiency\"] < 0.7 or row[\"pause_efficiency\"] > 3.0 or\n",
    "        row[\"pause_spacing_consistency\"] < 0.5):\n",
    "        return \"needs_overall_improvement\"\n",
    "    \n",
    "    # Toastmasters excellence\n",
    "    if (toastmasters_score >= 0.8 and row[\"pause_ratio\"] >= 0.08 and \n",
    "        row[\"pause_ratio\"] <= 0.12 and row.get(\"optimal_transition_ratio\", 0.0) >= 0.7):\n",
    "        return \"toastmasters_excellent\"\n",
    "    \n",
    "    return \"good_pace_control\"\n",
    "\n",
    "# ---------- Dataset build ----------\n",
    "def build_dataset(audio_dir=AUDIO_DIR) -> pd.DataFrame:\n",
    "    rows = []\n",
    "    for f in os.listdir(audio_dir):\n",
    "        if not f.lower().endswith(\".wav\"):\n",
    "            continue\n",
    "        path = os.path.join(audio_dir, f)\n",
    "        try:\n",
    "            feats = pause_features_for_file(path)\n",
    "            feats[\"filename\"] = f\n",
    "            rows.append(feats)\n",
    "            print(f\"OK: {f}\")\n",
    "        except Exception as e:\n",
    "            print(f\"FAIL {f}: {e}\")\n",
    "    df = pd.DataFrame(rows)\n",
    "\n",
    "    # explode distribution into columns\n",
    "    max_bins = max((len(x) for x in df[\"long_pause_distribution\"]), default=0)\n",
    "    for i in range(max_bins):\n",
    "        df[f\"long_dist_{i}\"] = df[\"long_pause_distribution\"].apply(lambda v: v[i] if i < len(v) else 0.0)\n",
    "    df.drop(columns=[\"long_pause_distribution\"], inplace=True)\n",
    "\n",
    "    # auto labels\n",
    "    df[\"label\"] = df.apply(auto_label, axis=1)\n",
    "    return df\n",
    "\n",
    "if __name__ == \"__main__\":\n",
    "    print(\"🚀 Enhanced Speech Pace Management - Feature Extraction\")\n",
    "    print(\"=\" * 60)\n",
    "    \n",
    "    # Build dataset\n",
    "    print(\"📊 Building enhanced dataset...\")\n",
    "    df = build_dataset(AUDIO_DIR)\n",
    "    df.to_csv(\"enhanced_pause_features.csv\", index=False)\n",
    "    print(f\"✅ Dataset: {len(df)} rows saved to enhanced_pause_features.csv\")\n",
    "    \n",
    "    print(\"\\n🎉 Feature extraction complete! Ready for model training.\")\n",
    "    print(\"\\n📁 Next steps:\")\n",
    "    print(\"  1. Run model_training.py to train the model\")\n",
    "    print(\"  2. Use the trained model for real-time analysis\")\n",
    "    print(\"  3. Generate personalized feedback and suggestions\")\n",
    "\n",
    "# ---------- Enhanced Inference + Suggestions ----------\n",
    "@dataclass\n",
    "class EnhancedPrediction:\n",
    "    label: str\n",
    "    probs: Dict[str,float]\n",
    "    suggestions: List[str]\n",
    "    features: Dict[str,float]\n",
    "    confidence: float\n",
    "    improvement_areas: List[str]\n",
    "\n",
    "def suggest_from_features(f: Dict[str, Any]) -> List[str]:\n",
    "    \"\"\"Enhanced suggestion system using Toastmasters standards and novel pause analysis\"\"\"\n",
    "    tips = []\n",
    "    \n",
    "    # Toastmasters compliance suggestions\n",
    "    toastmasters_score = f.get(\"toastmasters_compliance_score\", 0.0)\n",
    "    if toastmasters_score < 0.6:\n",
    "        tips.append(\"🏆 TOASTMASTERS: Focus on industry-standard pause management (8-12% pause ratio).\")\n",
    "    elif toastmasters_score < 0.8:\n",
    "        tips.append(\"🏆 TOASTMASTERS: Good progress! Aim for 8-12% pause ratio with optimal transition timing.\")\n",
    "    \n",
    "    # Pause management suggestions using industry standards\n",
    "    if f[\"pause_ratio\"] > 0.15:\n",
    "        tips.append(\"🚨 CRITICAL: Reduce total pause time significantly. Target pause ratio 8-12% (Toastmasters standard).\")\n",
    "    elif f[\"pause_ratio\"] > 0.12:\n",
    "        tips.append(\"⚠️  Reduce pause time. Aim for 8-12% pause ratio for natural flow (Toastmasters standard).\")\n",
    "    elif f[\"pause_ratio\"] < 0.08:\n",
    "        tips.append(\"💡 Consider adding more strategic pauses. Optimal range is 8-12% for audience engagement.\")\n",
    "    \n",
    "    if f[\"long_count\"] > 6:\n",
    "        tips.append(\"🚨 CRITICAL: Too many long pauses. Limit to <4 long pauses per presentation.\")\n",
    "    elif f[\"long_count\"] > 4:\n",
    "        tips.append(\"⚠️  Reduce long pauses. Use transitions or signposting to avoid gaps.\")\n",
    "    \n",
    "    # Contextual pause analysis suggestions\n",
    "    contextual_score = f.get(\"contextual_pause_score\", 0.0)\n",
    "    if contextual_score < 0.0:\n",
    "        tips.append(\"🎭 CONTEXT: Improve pause context. Use 1.5-2.0s for transitions, 0.5-1.0s for emphasis.\")\n",
    "    \n",
    "    transition_ratio = f.get(\"optimal_transition_ratio\", 1.0)\n",
    "    if transition_ratio < 0.6:\n",
    "        tips.append(\"🔄 TRANSITIONS: Improve transition pauses. Target 1.5-2.0s between topics for clarity.\")\n",
    "    \n",
    "    emphasis_ratio = f.get(\"optimal_emphasis_ratio\", 1.0)\n",
    "    if emphasis_ratio < 0.6:\n",
    "        tips.append(\"💪 EMPHASIS: Use 0.5-1.0s pauses for key points to enhance audience retention.\")\n",
    "    \n",
    "    # Rhythm pattern suggestions\n",
    "    rhythm_consistency = f.get(\"pause_rhythm_consistency\", 1.0)\n",
    "    if rhythm_consistency < 0.4:\n",
    "        tips.append(\"🎵 RHYTHM: Work on consistent pause timing. Practice with metronome for rhythm consistency.\")\n",
    "    \n",
    "    golden_ratio = f.get(\"golden_ratio_pauses\", 0.0)\n",
    "    if golden_ratio < 0.3:\n",
    "        tips.append(\"✨ GOLDEN RATIO: Incorporate natural speech rhythms. Some pauses should be 1.618x longer than average.\")\n",
    "    \n",
    "    # Cognitive load suggestions\n",
    "    cognitive_score = f.get(\"cognitive_pause_score\", 0.0)\n",
    "    if cognitive_score < 0.4:\n",
    "        tips.append(\"🧠 COGNITIVE: Optimize thinking pauses. Use 1.0-3.0s pauses for complex concepts.\")\n",
    "    \n",
    "    confidence_score = f.get(\"confidence_score\", 1.0)\n",
    "    if confidence_score < 0.7:\n",
    "        tips.append(\"💪 CONFIDENCE: Reduce hesitation. Practice content to minimize thinking pauses during delivery.\")\n",
    "    \n",
    "    # Advanced statistical suggestions\n",
    "    pause_entropy = f.get(\"pause_entropy\", 0.0)\n",
    "    if pause_entropy > 0.8:\n",
    "        tips.append(\"📊 PATTERN: Pauses are too random. Develop more intentional, structured pause patterns.\")\n",
    "    \n",
    "    pause_volatility = f.get(\"pause_volatility\", 0.0)\n",
    "    if pause_volatility > 2.0:\n",
    "        tips.append(\"📈 STABILITY: Pause durations vary too much. Aim for consistent pause lengths within categories.\")\n",
    "    \n",
    "    # Pace consistency suggestions\n",
    "    if f[\"wpm_cv\"] > 0.4:\n",
    "        tips.append(\"🚨 CRITICAL: Very inconsistent pace. Practice with metronome at steady WPM.\")\n",
    "    elif f[\"wpm_cv\"] > 0.25:\n",
    "        tips.append(\"⚠️  Pace varies too much. Aim for ±15% WPM variation.\")\n",
    "    \n",
    "    if f[\"wpm_delta_std\"] > 8:\n",
    "        tips.append(\"🚨 CRITICAL: Sudden pace changes. Practice smooth transitions between sections.\")\n",
    "    elif f[\"wpm_delta_std\"] > 5:\n",
    "        tips.append(\"⚠️  Pace changes too abruptly. Smooth out transitions.\")\n",
    "    \n",
    "    # Advanced pace stability\n",
    "    if f.get(\"wpm_jerk\", 0) > 10:\n",
    "        tips.append(\"🚨 CRITICAL: Very jerky pace changes. Practice gradual speed adjustments.\")\n",
    "    elif f.get(\"wpm_jerk\", 0) > 5:\n",
    "        tips.append(\"⚠️  Pace changes are jerky. Smooth out acceleration and deceleration.\")\n",
    "    \n",
    "    # Rhythm and flow suggestions\n",
    "    if f[\"rhythm_outliers\"] >= 6:\n",
    "        tips.append(\"🚨 CRITICAL: Inconsistent rhythm. Practice consistent segment lengths.\")\n",
    "    elif f[\"rhythm_outliers\"] >= 3:\n",
    "        tips.append(\"⚠️  Rhythm needs work. Aim for consistent speech segment durations.\")\n",
    "    \n",
    "    if f.get(\"speech_continuity\", 1.0) < 0.6:\n",
    "        tips.append(\"🚨 CRITICAL: Speech is too fragmented. Reduce unnecessary pauses between thoughts.\")\n",
    "    elif f.get(\"speech_continuity\", 1.0) < 0.8:\n",
    "        tips.append(\"⚠️  Speech flow could be smoother. Connect related ideas more seamlessly.\")\n",
    "    \n",
    "    # Speaking efficiency\n",
    "    if f[\"speaking_efficiency\"] < 0.7:\n",
    "        tips.append(\"⚠️  Low speaking efficiency. Reduce unnecessary pauses and filler words.\")\n",
    "    \n",
    "    if f[\"pause_efficiency\"] > 3.0:\n",
    "        tips.append(\"⚠️  Pauses are too long. Target 0.5-2.0 second pauses for natural flow.\")\n",
    "    \n",
    "    # Advanced feature suggestions\n",
    "    if f.get(\"jitter_local\", 0) > 0.02:\n",
    "        tips.append(\"💡 Voice stability: Reduce vocal jitter for clearer speech.\")\n",
    "    \n",
    "    if f.get(\"shimmer_local\", 0) > 0.1:\n",
    "        tips.append(\"💡 Voice quality: Work on consistent vocal intensity.\")\n",
    "    \n",
    "    if f.get(\"pitch_std\", 0) > 50:\n",
    "        tips.append(\"💡 Pitch control: Maintain more consistent pitch throughout presentation.\")\n",
    "    \n",
    "    if not tips:\n",
    "        tips.append(\"✅ Excellent pace control! Maintain consistent phrasing and intentional 0.5-1.0s pauses.\")\n",
    "    \n",
    "    return tips\n",
    "\n",
    "# ---------- ENHANCED SUGGESTION GENERATION SYSTEM ----------\n",
    "def generate_actionable_suggestions(features: Dict[str, Any]) -> Dict[str, Any]:\n",
    "    \"\"\"Generate comprehensive, actionable suggestions for speech improvement\"\"\"\n",
    "    \n",
    "    suggestions = {\n",
    "        \"critical_issues\": [],\n",
    "        \"major_improvements\": [],\n",
    "        \"minor_refinements\": [],\n",
    "        \"practice_exercises\": [],\n",
    "        \"immediate_actions\": [],\n",
    "        \"long_term_goals\": [],\n",
    "        \"toastmasters_tips\": [],\n",
    "        \"confidence_builders\": []\n",
    "    }\n",
    "    \n",
    "    # 🚨 CRITICAL ISSUES (Immediate attention required)\n",
    "    if features.get(\"pause_ratio\", 0) > 0.15:\n",
    "        suggestions[\"critical_issues\"].append({\n",
    "            \"issue\": \"Excessive pause time\",\n",
    "            \"current\": f\"{features['pause_ratio']:.1%}\",\n",
    "            \"target\": \"8-12%\",\n",
    "            \"action\": \"Reduce unnecessary pauses by 30-40%\",\n",
    "            \"impact\": \"High - affects audience engagement and professional image\"\n",
    "        })\n",
    "    \n",
    "    if features.get(\"wpm_cv\", 0) > 0.4:\n",
    "        suggestions[\"critical_issues\"].append({\n",
    "            \"issue\": \"Very inconsistent pace\",\n",
    "            \"current\": f\"{features.get('wpm_cv', 0):.2f}\",\n",
    "            \"target\": \"<0.25\",\n",
    "            \"action\": \"Practice with metronome at steady WPM for 15 minutes daily\",\n",
    "            \"impact\": \"High - makes speech hard to follow\"\n",
    "        })\n",
    "    \n",
    "    if features.get(\"long_count\", 0) > 6:\n",
    "        suggestions[\"critical_issues\"].append({\n",
    "            \"issue\": \"Too many long pauses\",\n",
    "            \"current\": f\"{features.get('long_count', 0)}\",\n",
    "            \"target\": \"<4\",\n",
    "            \"action\": \"Use transition phrases and signposting to bridge gaps\",\n",
    "            \"impact\": \"High - creates awkward silences\"\n",
    "        })\n",
    "    \n",
    "    # ⚠️ MAJOR IMPROVEMENTS (Significant impact)\n",
    "    if features.get(\"contextual_pause_score\", 0) < 0.0:\n",
    "        suggestions[\"major_improvements\"].append({\n",
    "            \"issue\": \"Poor pause context\",\n",
    "            \"current\": f\"{features.get('contextual_pause_score', 0):.2f}\",\n",
    "            \"target\": \">0.5\",\n",
    "            \"action\": \"Study pause timing in professional speeches (TED Talks, Toastmasters)\",\n",
    "            \"impact\": \"Medium - affects speech effectiveness\"\n",
    "        })\n",
    "    \n",
    "    if features.get(\"pause_rhythm_consistency\", 1.0) < 0.5:\n",
    "        suggestions[\"major_improvements\"].append({\n",
    "            \"issue\": \"Inconsistent pause rhythm\",\n",
    "            \"current\": f\"{features.get('pause_rhythm_consistency', 1.0):.2f}\",\n",
    "            \"target\": \">0.7\",\n",
    "            \"action\": \"Practice with rhythmic patterns: short-short-long, short-long-short\",\n",
    "            \"impact\": \"Medium - affects speech flow\"\n",
    "        })\n",
    "    \n",
    "    # 💡 MINOR REFINEMENTS (Polish and enhancement)\n",
    "    if features.get(\"golden_ratio_pauses\", 0.0) < 0.3:\n",
    "        suggestions[\"minor_refinements\"].append({\n",
    "            \"issue\": \"Missing natural speech rhythms\",\n",
    "            \"current\": f\"{features.get('golden_ratio_pauses', 0.0):.1%}\",\n",
    "            \"target\": \">30%\",\n",
    "            \"action\": \"Incorporate 1.618x longer pauses at key moments\",\n",
    "            \"impact\": \"Low - enhances naturalness\"\n",
    "        })\n",
    "    \n",
    "    if features.get(\"pause_entropy\", 0.0) > 0.8:\n",
    "        suggestions[\"minor_refinements\"].append({\n",
    "            \"issue\": \"Too random pause patterns\",\n",
    "            \"current\": f\"{features.get('pause_entropy', 0.0):.2f}\",\n",
    "            \"target\": \"<0.6\",\n",
    "            \"action\": \"Create intentional pause patterns: emphasis, transition, breathing\",\n",
    "            \"impact\": \"Low - improves predictability\"\n",
    "        })\n",
    "    \n",
    "    # 🏋️ PRACTICE EXERCISES (Specific training)\n",
    "    if features.get(\"wpm_jerk\", 0) > 5:\n",
    "        suggestions[\"practice_exercises\"].append({\n",
    "            \"exercise\": \"Smooth Pace Transitions\",\n",
    "            \"duration\": \"10 minutes daily\",\n",
    "            \"method\": \"Read text starting at 120 WPM, gradually increase to 150 WPM over 30 seconds, then decrease back\",\n",
    "            \"goal\": \"Eliminate sudden speed changes\",\n",
    "            \"frequency\": \"Daily for 2 weeks\"\n",
    "        })\n",
    "    \n",
    "    if features.get(\"rhythm_outliers\", 0) >= 3:\n",
    "        suggestions[\"practice_exercises\"].append({\n",
    "            \"exercise\": \"Consistent Segment Timing\",\n",
    "            \"duration\": \"15 minutes daily\",\n",
    "            \"method\": \"Practice speaking in 10-second segments with consistent timing\",\n",
    "            \"goal\": \"Reduce timing variations\",\n",
    "            \"frequency\": \"Daily for 3 weeks\"\n",
    "        })\n",
    "    \n",
    "    # ⚡ IMMEDIATE ACTIONS (Can do today)\n",
    "    suggestions[\"immediate_actions\"].extend([\n",
    "        {\n",
    "            \"action\": \"Record yourself speaking for 2 minutes\",\n",
    "            \"focus\": \"Pause timing and rhythm\",\n",
    "            \"time_required\": \"5 minutes\",\n",
    "            \"expected_outcome\": \"Baseline measurement\"\n",
    "        },\n",
    "        {\n",
    "            \"action\": \"Practice 3 transition phrases\",\n",
    "            \"focus\": \"Smooth topic changes\",\n",
    "            \"time_required\": \"10 minutes\",\n",
    "            \"expected_outcome\": \"Better flow between ideas\"\n",
    "        }\n",
    "    ])\n",
    "    \n",
    "    # 🎯 LONG-TERM GOALS (3-6 months)\n",
    "    suggestions[\"long_term_goals\"].extend([\n",
    "        {\n",
    "            \"goal\": \"Achieve Toastmasters compliance\",\n",
    "            \"target_score\": \">0.8\",\n",
    "            \"timeline\": \"3 months\",\n",
    "            \"milestones\": [\"Week 4: 0.6\", \"Week 8: 0.7\", \"Week 12: 0.8\"]\n",
    "        },\n",
    "        {\n",
    "            \"goal\": \"Master pause patterns\",\n",
    "            \"target_consistency\": \">0.8\",\n",
    "            \"timeline\": \"6 months\",\n",
    "            \"milestones\": [\"Month 2: Basic patterns\", \"Month 4: Advanced rhythms\", \"Month 6: Mastery\"]\n",
    "        }\n",
    "    ])\n",
    "    \n",
    "    # 🏆 TOASTMASTERS SPECIFIC TIPS\n",
    "    toastmasters_score = features.get(\"toastmasters_compliance_score\", 0.0)\n",
    "    if toastmasters_score < 0.6:\n",
    "        suggestions[\"toastmasters_tips\"].extend([\n",
    "            \"Join a local Toastmasters club for structured practice\",\n",
    "            \"Use the Competent Communicator manual for systematic improvement\",\n",
    "            \"Practice Table Topics to improve spontaneous speaking\",\n",
    "            \"Record and analyze your speeches monthly\"\n",
    "        ])\n",
    "    elif toastmasters_score < 0.8:\n",
    "        suggestions[\"toastmasters_tips\"].extend([\n",
    "            \"Work on Advanced Communication Series projects\",\n",
    "            \"Focus on vocal variety and body language\",\n",
    "            \"Practice with different speech types (informative, persuasive, entertaining)\",\n",
    "            \"Seek feedback from experienced Toastmasters\"\n",
    "        ])\n",
    "    \n",
    "    # 💪 CONFIDENCE BUILDERS\n",
    "    if features.get(\"confidence_score\", 1.0) < 0.8:\n",
    "        suggestions[\"confidence_builders\"].extend([\n",
    "            \"Practice in front of a mirror to build comfort\",\n",
    "            \"Start with familiar topics to reduce anxiety\",\n",
    "            \"Use power poses before speaking\",\n",
    "            \"Focus on breathing exercises to calm nerves\"\n",
    "        ])\n",
    "    \n",
    "    return suggestions\n",
    "\n",
    "def generate_personalized_feedback(features: Dict[str, Any]) -> str:\n",
    "    \"\"\"Generate personalized, actionable feedback based on analysis results\"\"\"\n",
    "    \n",
    "    suggestions = generate_actionable_suggestions(features)\n",
    "    \n",
    "    feedback = \"🎯 PERSONALIZED SPEECH IMPROVEMENT PLAN\\n\"\n",
    "    feedback += \"=\" * 50 + \"\\n\\n\"\n",
    "    \n",
    "    # Overall Assessment\n",
    "    toastmasters_score = features.get(\"toastmasters_compliance_score\", 0.0)\n",
    "    if toastmasters_score >= 0.8:\n",
    "        feedback += \"🏆 EXCELLENT! You're meeting Toastmasters standards.\\n\"\n",
    "    elif toastmasters_score >= 0.6:\n",
    "        feedback += \"👍 GOOD! You're on the right track with room for improvement.\\n\"\n",
    "    else:\n",
    "        feedback += \"📈 NEEDS WORK! Focus on fundamental improvements first.\\n\"\n",
    "    \n",
    "    feedback += f\"Current Toastmasters Score: {toastmasters_score:.1%}\\n\\n\"\n",
    "    \n",
    "    # Critical Issues\n",
    "    if suggestions[\"critical_issues\"]:\n",
    "        feedback += \"🚨 CRITICAL ISSUES (Address Immediately):\\n\"\n",
    "        for issue in suggestions[\"critical_issues\"]:\n",
    "            feedback += f\"• {issue['issue']}: {issue['current']} → {issue['target']}\\n\"\n",
    "            feedback += f\"  Action: {issue['action']}\\n\"\n",
    "            feedback += f\"  Impact: {issue['impact']}\\n\\n\"\n",
    "    \n",
    "    # Major Improvements\n",
    "    if suggestions[\"major_improvements\"]:\n",
    "        feedback += \"⚠️ MAJOR IMPROVEMENTS (Focus This Week):\\n\"\n",
    "        for improvement in suggestions[\"major_improvements\"]:\n",
    "            feedback += f\"• {improvement['issue']}: {improvement['current']} → {improvement['target']}\\n\"\n",
    "            feedback += f\"  Action: {improvement['action']}\\n\"\n",
    "            feedback += f\"  Impact: {improvement['impact']}\\n\\n\"\n",
    "    \n",
    "    # Practice Exercises\n",
    "    if suggestions[\"practice_exercises\"]:\n",
    "        feedback += \"🏋️ PRACTICE EXERCISES:\\n\"\n",
    "        for exercise in suggestions[\"practice_exercises\"]:\n",
    "            feedback += f\"• {exercise['exercise']}\\n\"\n",
    "            feedback += f\"  Duration: {exercise['duration']}\\n\"\n",
    "            feedback += f\"  Method: {exercise['method']}\\n\"\n",
    "            feedback += f\"  Goal: {exercise['goal']}\\n\"\n",
    "            feedback += f\"  Frequency: {exercise['frequency']}\\n\\n\"\n",
    "    \n",
    "    # Immediate Actions\n",
    "    if suggestions[\"immediate_actions\"]:\n",
    "        feedback += \"⚡ IMMEDIATE ACTIONS (Do Today):\\n\"\n",
    "        for action in suggestions[\"immediate_actions\"]:\n",
    "            feedback += f\"• {action['action']}\\n\"\n",
    "            feedback += f\"  Focus: {action['focus']}\\n\"\n",
    "            feedback += f\"  Time: {action['time_required']}\\n\"\n",
    "            feedback += f\"  Outcome: {action['expected_outcome']}\\n\\n\"\n",
    "    \n",
    "    # Long-term Goals\n",
    "    if suggestions[\"long_term_goals\"]:\n",
    "        feedback += \"🎯 LONG-TERM GOALS (3-6 Months):\\n\"\n",
    "        for goal in suggestions[\"long_term_goals\"]:\n",
    "            feedback += f\"• {goal['goal']}\\n\"\n",
    "            feedback += f\"  Target: {goal['target_score']}\\n\"\n",
    "            feedback += f\"  Timeline: {goal['timeline']}\\n\"\n",
    "            feedback += f\"  Milestones: {' → '.join(goal['milestones'])}\\n\\n\"\n",
    "    \n",
    "    # Toastmasters Tips\n",
    "    if suggestions[\"toastmasters_tips\"]:\n",
    "        feedback += \"🏆 TOASTMASTERS TIPS:\\n\"\n",
    "        for tip in suggestions[\"toastmasters_tips\"]:\n",
    "            feedback += f\"• {tip}\\n\"\n",
    "        feedback += \"\\n\"\n",
    "    \n",
    "    # Confidence Builders\n",
    "    if suggestions[\"confidence_builders\"]:\n",
    "        feedback += \"💪 CONFIDENCE BUILDERS:\\n\"\n",
    "        for builder in suggestions[\"confidence_builders\"]:\n",
    "            feedback += f\"• {builder}\\n\"\n",
    "        feedback += \"\\n\"\n",
    "    \n",
    "    # Progress Tracking\n",
    "    feedback += \"📊 PROGRESS TRACKING:\\n\"\n",
    "    feedback += \"• Record your speech weekly and compare metrics\\n\"\n",
    "    feedback += \"• Focus on 1-2 improvements at a time\\n\"\n",
    "    feedback += \"• Celebrate small wins to maintain motivation\\n\"\n",
    "    feedback += \"• Reassess every 2 weeks to track improvement\\n\\n\"\n",
    "    \n",
    "    feedback += \"🎉 Remember: Every great speaker started somewhere. Focus on progress, not perfection!\"\n",
    "    \n",
    "    return feedback\n",
    "\n",
    "def identify_improvement_areas(f: Dict[str, Any]) -> List[str]:\n",
    "    \"\"\"Identify specific areas that need improvement\"\"\"\n",
    "    areas = []\n",
    "    \n",
    "    if f[\"pause_ratio\"] > 0.10:\n",
    "        areas.append(\"Pause Management\")\n",
    "    if f[\"wpm_cv\"] > 0.25:\n",
    "        areas.append(\"Pace Consistency\")\n",
    "    if f.get(\"wpm_jerk\", 0) > 5:\n",
    "        areas.append(\"Pace Stability\")\n",
    "    if f[\"rhythm_outliers\"] >= 3:\n",
    "        areas.append(\"Rhythm Control\")\n",
    "    if f.get(\"speech_continuity\", 1.0) < 0.8:\n",
    "        areas.append(\"Speech Flow\")\n",
    "    if f.get(\"pause_pattern_regularity\", 1.0) < 0.6:\n",
    "        areas.append(\"Pause Patterns\")\n",
    "    if f[\"speaking_efficiency\"] < 0.8:\n",
    "        areas.append(\"Speaking Efficiency\")\n",
    "    if f.get(\"jitter_local\", 0) > 0.02:\n",
    "        areas.append(\"Voice Stability\")\n",
    "    if f.get(\"pitch_std\", 0) > 50:\n",
    "        areas.append(\"Pitch Control\")\n",
    "    \n",
    "    return areas if areas else [\"All areas performing well\"]\n",
    "\n",
    "def predict_file(path: str, model_path=\"enhanced_pause_model.joblib\", cfg_path=\"enhanced_pause_features.json\") -> EnhancedPrediction:\n",
    "    \"\"\"Enhanced prediction with confidence and improvement areas\"\"\"\n",
    "    try:\n",
    "        pipe = joblib.load(model_path)\n",
    "    except:\n",
    "        print(\"Model not found. Please train the model first.\")\n",
    "        return None\n",
    "        \n",
    "    with open(cfg_path, \"r\") as f:\n",
    "        meta = json.load(f)\n",
    "    X_cols = meta[\"feature_order\"]\n",
    "\n",
    "    feats = pause_features_for_file(path)\n",
    "    # add dist columns\n",
    "    n_bins = len(feats[\"long_pause_distribution\"])\n",
    "    for i in range(n_bins):\n",
    "        feats[f\"long_dist_{i}\"] = feats[\"long_pause_distribution\"][i]\n",
    "    # ensure every expected feature exists\n",
    "    for c in X_cols:\n",
    "        if c not in feats:\n",
    "            feats[c] = 0.0\n",
    "\n",
    "    x = np.array([feats[c] for c in X_cols]).reshape(1, -1)\n",
    "    proba = pipe.predict_proba(x)[0]\n",
    "    label = pipe.classes_[np.argmax(proba)]\n",
    "    confidence = float(np.max(proba))\n",
    "    probs = {cls: float(p) for cls, p in zip(pipe.classes_, proba)}\n",
    "    \n",
    "    tips = suggest_from_features(feats)\n",
    "    improvement_areas = identify_improvement_areas(feats)\n",
    "    \n",
    "    return EnhancedPrediction(\n",
    "        label=label, \n",
    "        probs=probs, \n",
    "        suggestions=tips, \n",
    "        features=feats,\n",
    "        confidence=confidence,\n",
    "        improvement_areas=improvement_areas\n",
    "    )\n",
    "\n",
    "# ---------- Real-time feedback system ----------\n",
    "def generate_real_time_feedback(prediction: EnhancedPrediction) -> str:\n",
    "    \"\"\"Generate real-time feedback for presenters using enhanced suggestion system\"\"\"\n",
    "    \n",
    "    # Generate comprehensive suggestions\n",
    "    suggestions = generate_actionable_suggestions(prediction.features)\n",
    "    \n",
    "    feedback = f\"🎯 SPEECH PACE ANALYSIS - REAL-TIME FEEDBACK\\n\"\n",
    "    feedback += f\"Overall Assessment: {prediction.label.replace('_', ' ').title()}\\n\"\n",
    "    feedback += f\"Confidence: {prediction.confidence:.1%}\\n\\n\"\n",
    "    \n",
    "    # Toastmasters Compliance\n",
    "    toastmasters_score = prediction.features.get(\"toastmasters_compliance_score\", 0.0)\n",
    "    feedback += f\"🏆 TOASTMASTERS COMPLIANCE: {toastmasters_score:.1%}\\n\"\n",
    "    if toastmasters_score >= 0.8:\n",
    "        feedback += \"Status: EXCELLENT - Meeting industry standards! 🎉\\n\"\n",
    "    elif toastmasters_score >= 0.6:\n",
    "        feedback += \"Status: GOOD - On track with room for improvement 👍\\n\"\n",
    "    else:\n",
    "        feedback += \"Status: NEEDS WORK - Focus on fundamentals 📈\\n\"\n",
    "    feedback += \"\\n\"\n",
    "    \n",
    "    # Key Metrics Summary\n",
    "    feedback += \"📊 KEY METRICS:\\n\"\n",
    "    f = prediction.features\n",
    "    \n",
    "    # Core metrics with targets\n",
    "    feedback += f\"• Pause Ratio: {f['pause_ratio']:.1%} (Target: 8-12%) \"\n",
    "    if 0.08 <= f['pause_ratio'] <= 0.12:\n",
    "        feedback += \"✅\"\n",
    "    elif f['pause_ratio'] > 0.15:\n",
    "        feedback += \"🚨\"\n",
    "    else:\n",
    "        feedback += \"⚠️\"\n",
    "    feedback += \"\\n\"\n",
    "    \n",
    "    feedback += f\"• Long Pauses: {f['long_count']} (Target: <4) \"\n",
    "    if f['long_count'] < 4:\n",
    "        feedback += \"✅\"\n",
    "    elif f['long_count'] > 6:\n",
    "        feedback += \"🚨\"\n",
    "    else:\n",
    "        feedback += \"⚠️\"\n",
    "    feedback += \"\\n\"\n",
    "    \n",
    "    feedback += f\"• Pace Consistency: {1-f['wpm_cv']:.1%} (Target: >75%) \"\n",
    "    if 1-f['wpm_cv'] > 0.75:\n",
    "        feedback += \"✅\"\n",
    "    elif 1-f['wpm_cv'] < 0.6:\n",
    "        feedback += \"🚨\"\n",
    "    else:\n",
    "        feedback += \"⚠️\"\n",
    "    feedback += \"\\n\"\n",
    "    \n",
    "    feedback += f\"• Speech Flow: {f.get('speech_continuity', 1.0):.1%} (Target: >80%) \"\n",
    "    if f.get('speech_continuity', 1.0) > 0.8:\n",
    "        feedback += \"✅\"\n",
    "    elif f.get('speech_continuity', 1.0) < 0.6:\n",
    "        feedback += \"🚨\"\n",
    "    else:\n",
    "        feedback += \"⚠️\"\n",
    "    feedback += \"\\n\"\n",
    "    \n",
    "    # Novel features\n",
    "    if 'contextual_pause_score' in f:\n",
    "        feedback += f\"• Contextual Pause Score: {f['contextual_pause_score']:.2f} (Target: >0.5) \"\n",
    "        if f['contextual_pause_score'] > 0.5:\n",
    "            feedback += \"✅\"\n",
    "        elif f['contextual_pause_score'] < 0.0:\n",
    "            feedback += \"🚨\"\n",
    "        else:\n",
    "            feedback += \"⚠️\"\n",
    "        feedback += \"\\n\"\n",
    "    \n",
    "    if 'pause_rhythm_consistency' in f:\n",
    "        feedback += f\"• Rhythm Consistency: {f['pause_rhythm_consistency']:.1%} (Target: >70%) \"\n",
    "        if f['pause_rhythm_consistency'] > 0.7:\n",
    "            feedback += \"✅\"\n",
    "        elif f['pause_rhythm_consistency'] < 0.4:\n",
    "            feedback += \"🚨\"\n",
    "        else:\n",
    "            feedback += \"⚠️\"\n",
    "        feedback += \"\\n\"\n",
    "    \n",
    "    feedback += \"\\n\"\n",
    "    \n",
    "    # Priority-based suggestions\n",
    "    if suggestions[\"critical_issues\"]:\n",
    "        feedback += \"🚨 IMMEDIATE ACTIONS NEEDED:\\n\"\n",
    "        for issue in suggestions[\"critical_issues\"][:2]:  # Show top 2 critical issues\n",
    "            feedback += f\"• {issue['issue']}: {issue['action']}\\n\"\n",
    "        feedback += \"\\n\"\n",
    "    \n",
    "    if suggestions[\"major_improvements\"]:\n",
    "        feedback += \"⚠️ THIS WEEK'S FOCUS:\\n\"\n",
    "        for improvement in suggestions[\"major_improvements\"][:2]:  # Show top 2 improvements\n",
    "            feedback += f\"• {improvement['issue']}: {improvement['action']}\\n\"\n",
    "        feedback += \"\\n\"\n",
    "    \n",
    "    if suggestions[\"immediate_actions\"]:\n",
    "        feedback += \"⚡ DO TODAY:\\n\"\n",
    "        for action in suggestions[\"immediate_actions\"][:2]:  # Show top 2 immediate actions\n",
    "            feedback += f\"• {action['action']} ({action['time_required']})\\n\"\n",
    "        feedback += \"\\n\"\n",
    "    \n",
    "    # Quick wins\n",
    "    feedback += \"💡 QUICK WINS:\\n\"\n",
    "    if f.get('contextual_pause_score', 0) < 0.0:\n",
    "        feedback += \"• Practice 1.5-2.0s pauses between topics\\n\"\n",
    "    if f.get('emphasis_pause_count', 0) < 3:\n",
    "        feedback += \"• Add 0.5-1.0s pauses for key points\\n\"\n",
    "    if f.get('pause_rhythm_consistency', 1.0) < 0.6:\n",
    "        feedback += \"• Use consistent timing patterns\\n\"\n",
    "    \n",
    "    feedback += \"\\n\"\n",
    "    feedback += \"📱 For detailed improvement plan, check the full analysis report.\\n\"\n",
    "    feedback += \"🔄 Re-record in 1 week to track progress!\"\n",
    "    \n",
    "    return feedback\n",
    "\n",
    "def generate_comprehensive_report(features: Dict[str, Any]) -> str:\n",
    "    \"\"\"Generate a comprehensive report with all suggestions and analysis\"\"\"\n",
    "    \n",
    "    # Get personalized feedback\n",
    "    personalized_feedback = generate_personalized_feedback(features)\n",
    "    \n",
    "    # Add technical analysis\n",
    "    report = personalized_feedback + \"\\n\\n\"\n",
    "    report += \"🔬 TECHNICAL ANALYSIS DETAILS\\n\"\n",
    "    report += \"=\" * 50 + \"\\n\\n\"\n",
    "    \n",
    "    # Advanced metrics\n",
    "    report += \"📊 ADVANCED METRICS:\\n\"\n",
    "    report += f\"• WPM Coefficient of Variation: {features.get('wpm_cv', 0):.3f}\\n\"\n",
    "    report += f\"• WPM Delta Standard Deviation: {features.get('wpm_delta_std', 0):.2f}\\n\"\n",
    "    report += f\"• WPM Jerk (Acceleration Changes): {features.get('wpm_jerk', 0):.2f}\\n\"\n",
    "    report += f\"• Rhythm Outliers: {features.get('rhythm_outliers', 0)}\\n\"\n",
    "    report += f\"• Speaking Efficiency: {features.get('speaking_efficiency', 0):.1%}\\n\"\n",
    "    report += f\"• Pause Efficiency: {features.get('pause_efficiency', 0):.2f}s\\n\\n\"\n",
    "    \n",
    "    # Novel features analysis\n",
    "    if 'contextual_pause_score' in features:\n",
    "        report += \"🎭 CONTEXTUAL ANALYSIS:\\n\"\n",
    "        report += f\"• Contextual Pause Score: {features['contextual_pause_score']:.3f}\\n\"\n",
    "        report += f\"• Transition Pauses: {features.get('transition_pause_count', 0)}\\n\"\n",
    "        report += f\"• Emphasis Pauses: {features.get('emphasis_pause_count', 0)}\\n\"\n",
    "        report += f\"• Optimal Transition Ratio: {features.get('optimal_transition_ratio', 0):.1%}\\n\"\n",
    "        report += f\"• Optimal Emphasis Ratio: {features.get('optimal_emphasis_ratio', 0):.1%}\\n\\n\"\n",
    "    \n",
    "    if 'pause_rhythm_consistency' in features:\n",
    "        report += \"🎵 RHYTHM ANALYSIS:\\n\"\n",
    "        report += f\"• Rhythm Consistency: {features['pause_rhythm_consistency']:.3f}\\n\"\n",
    "        report += f\"• Golden Ratio Pauses: {features.get('golden_ratio_pauses', 0):.1%}\\n\"\n",
    "        report += f\"• Pause Entropy: {features.get('pause_entropy', 0):.3f}\\n\"\n",
    "        report += f\"• Pause Autocorrelation: {features.get('pause_autocorrelation', 0):.3f}\\n\\n\"\n",
    "    \n",
    "    if 'cognitive_pause_score' in features:\n",
    "        report += \"🧠 COGNITIVE ANALYSIS:\\n\"\n",
    "        report += f\"• Cognitive Pause Score: {features['cognitive_pause_score']:.3f}\\n\"\n",
    "        report += f\"• Memory Retrieval Pauses: {features.get('memory_retrieval_pauses', 0)}\\n\"\n",
    "        report += f\"• Confidence Score: {features.get('confidence_score', 0):.3f}\\n\"\n",
    "        report += f\"• Optimal Cognitive Pause Ratio: {features.get('optimal_cognitive_pause_ratio', 0):.1%}\\n\\n\"\n",
    "    \n",
    "    if 'pause_fractal_dimension' in features:\n",
    "        report += \"📊 STATISTICAL ANALYSIS:\\n\"\n",
    "        report += f\"• Fractal Dimension: {features.get('pause_fractal_dimension', 0):.3f}\\n\"\n",
    "        report += f\"• Spectral Density: {features.get('pause_spectral_density', 0):.3f}\\n\"\n",
    "        report += f\"• Trend Analysis: {features.get('pause_trend_analysis', 0):.3f}\\n\"\n",
    "        report += f\"• Pause Volatility: {features.get('pause_volatility', 0):.3f}\\n\\n\"\n",
    "    \n",
    "    # Voice quality metrics\n",
    "    report += \"🎤 VOICE QUALITY METRICS:\\n\"\n",
    "    report += f\"• Pitch Standard Deviation: {features.get('pitch_std', 0):.1f} Hz\\n\"\n",
    "    report += f\"• Jitter (Local): {features.get('jitter_local', 0):.4f}\\n\"\n",
    "    report += f\"• Shimmer (Local): {features.get('shimmer_local', 0):.3f}\\n\"\n",
    "    report += f\"• Harmonic-to-Noise Ratio: {features.get('hnr_mean', 0):.2f}\\n\\n\"\n",
    "    \n",
    "    # Recommendations summary\n",
    "    report += \"🎯 RECOMMENDATIONS SUMMARY:\\n\"\n",
    "    report += \"=\" * 50 + \"\\n\"\n",
    "    \n",
    "    suggestions = generate_actionable_suggestions(features)\n",
    "    \n",
    "    if suggestions[\"critical_issues\"]:\n",
    "        report += f\"🚨 Critical Issues: {len(suggestions['critical_issues'])} (Address immediately)\\n\"\n",
    "    if suggestions[\"major_improvements\"]:\n",
    "        report += f\"⚠️ Major Improvements: {len(suggestions['major_improvements'])} (Focus this week)\\n\"\n",
    "    if suggestions[\"minor_refinements\"]:\n",
    "        report += f\"💡 Minor Refinements: {len(suggestions['minor_refinements'])} (Polish and enhance)\\n\"\n",
    "    if suggestions[\"practice_exercises\"]:\n",
    "        report += f\"🏋️ Practice Exercises: {len(suggestions['practice_exercises'])} (Daily training)\\n\"\n",
    "    \n",
    "    report += \"\\n\"\n",
    "    report += \"📈 EXPECTED IMPROVEMENT TIMELINE:\\n\"\n",
    "    report += \"• Week 1-2: Address critical issues\\n\"\n",
    "    report += \"• Week 3-4: Implement major improvements\\n\"\n",
    "    report += \"• Month 2-3: Focus on refinements\\n\"\n",
    "    report += \"• Month 4-6: Master advanced techniques\\n\\n\"\n",
    "    \n",
    "    report += \"🎉 Keep practicing and recording to track your progress!\"\n",
    "    \n",
    "    return report\n"
   ]
  }
 ],
 "metadata": {
  "kernelspec": {
   "display_name": "Python 3",
   "language": "python",
   "name": "python3"
  },
  "language_info": {
   "codemirror_mode": {
    "name": "ipython",
    "version": 3
   },
   "file_extension": ".py",
   "mimetype": "text/x-python",
   "name": "python",
   "nbconvert_exporter": "python",
   "pygments_lexer": "ipython3",
   "version": "3.9.6"
  }
 },
 "nbformat": 4,
 "nbformat_minor": 5
}
